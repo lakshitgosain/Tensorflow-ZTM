{
  "nbformat": 4,
  "nbformat_minor": 0,
  "metadata": {
    "colab": {
      "provenance": [],
      "gpuType": "T4",
      "authorship_tag": "ABX9TyNze430x9QoZ+QePs4TvGQN",
      "include_colab_link": true
    },
    "kernelspec": {
      "name": "python3",
      "display_name": "Python 3"
    },
    "language_info": {
      "name": "python"
    },
    "accelerator": "GPU"
  },
  "cells": [
    {
      "cell_type": "markdown",
      "metadata": {
        "id": "view-in-github",
        "colab_type": "text"
      },
      "source": [
        "<a href=\"https://colab.research.google.com/github/lakshitgosain/Tensorflow-ZTM/blob/main/Milestone_Project_2_Skimlit.ipynb\" target=\"_parent\"><img src=\"https://colab.research.google.com/assets/colab-badge.svg\" alt=\"Open In Colab\"/></a>"
      ]
    },
    {
      "cell_type": "markdown",
      "source": [
        "# Skimlit\n",
        "\n",
        "The purpose is to build a NLP Model to read medicatl abstracts easier\n"
      ],
      "metadata": {
        "id": "CKP8rK-46aDw"
      }
    },
    {
      "cell_type": "code",
      "source": [
        "!nvidia-smi"
      ],
      "metadata": {
        "colab": {
          "base_uri": "https://localhost:8080/"
        },
        "id": "r9Dn-ZhORaqS",
        "outputId": "4e692a25-1df1-4860-e86e-4c0f99138f37"
      },
      "execution_count": 1,
      "outputs": [
        {
          "output_type": "stream",
          "name": "stdout",
          "text": [
            "/bin/bash: nvidia-smi: command not found\n"
          ]
        }
      ]
    },
    {
      "cell_type": "markdown",
      "source": [
        "## Get Data\n",
        "We need to get the data from github"
      ],
      "metadata": {
        "id": "yliqtkOLhGtC"
      }
    },
    {
      "cell_type": "code",
      "source": [
        "!git clone https://github.com/Franck-Dernoncourt/pubmed-rct.git\n",
        "!ls pubmed-rct"
      ],
      "metadata": {
        "colab": {
          "base_uri": "https://localhost:8080/"
        },
        "id": "Kdh5aX1NhuZo",
        "outputId": "8a15d2ae-52a1-482d-bad0-6c236305aa2b"
      },
      "execution_count": 2,
      "outputs": [
        {
          "output_type": "stream",
          "name": "stdout",
          "text": [
            "Cloning into 'pubmed-rct'...\n",
            "remote: Enumerating objects: 33, done.\u001b[K\n",
            "remote: Counting objects: 100% (8/8), done.\u001b[K\n",
            "remote: Compressing objects: 100% (3/3), done.\u001b[K\n",
            "remote: Total 33 (delta 5), reused 5 (delta 5), pack-reused 25\u001b[K\n",
            "Unpacking objects: 100% (33/33), 177.08 MiB | 10.09 MiB/s, done.\n",
            "PubMed_200k_RCT\n",
            "PubMed_200k_RCT_numbers_replaced_with_at_sign\n",
            "PubMed_20k_RCT\n",
            "PubMed_20k_RCT_numbers_replaced_with_at_sign\n",
            "README.md\n"
          ]
        }
      ]
    },
    {
      "cell_type": "code",
      "source": [
        "# Check what files are in the pubmed_20K dataset\n",
        "\n",
        "!ls pubmed-rct/PubMed_20k_RCT_numbers_replaced_with_at_sign/"
      ],
      "metadata": {
        "colab": {
          "base_uri": "https://localhost:8080/"
        },
        "id": "UQksm595h0Rm",
        "outputId": "e57db853-41f8-41de-ec96-f82571621840"
      },
      "execution_count": 3,
      "outputs": [
        {
          "output_type": "stream",
          "name": "stdout",
          "text": [
            "dev.txt  test.txt  train.txt\n"
          ]
        }
      ]
    },
    {
      "cell_type": "code",
      "source": [
        "#Start our experiments using the 20k dataset with numbers replaced by \"@\" sign.\n",
        "data_dir=\"/content/pubmed-rct/PubMed_20k_RCT_numbers_replaced_with_at_sign/\""
      ],
      "metadata": {
        "id": "CYsLhjlFiPb1"
      },
      "execution_count": 4,
      "outputs": []
    },
    {
      "cell_type": "code",
      "source": [
        "import os\n",
        "filenames=[data_dir + filename for filename in os.listdir(data_dir)]"
      ],
      "metadata": {
        "id": "l4bye0_2jbcF"
      },
      "execution_count": 5,
      "outputs": []
    },
    {
      "cell_type": "code",
      "source": [
        "filenames"
      ],
      "metadata": {
        "colab": {
          "base_uri": "https://localhost:8080/"
        },
        "id": "dF-zt1yYjhhU",
        "outputId": "b3e03dd4-5bfc-47c1-d2c9-6df788b8175d"
      },
      "execution_count": 6,
      "outputs": [
        {
          "output_type": "execute_result",
          "data": {
            "text/plain": [
              "['/content/pubmed-rct/PubMed_20k_RCT_numbers_replaced_with_at_sign/dev.txt',\n",
              " '/content/pubmed-rct/PubMed_20k_RCT_numbers_replaced_with_at_sign/train.txt',\n",
              " '/content/pubmed-rct/PubMed_20k_RCT_numbers_replaced_with_at_sign/test.txt']"
            ]
          },
          "metadata": {},
          "execution_count": 6
        }
      ]
    },
    {
      "cell_type": "markdown",
      "source": [
        "## Preprocess data\n",
        "\n",
        "beome one with the data....We need to visualize\n",
        "\n",
        "Let's write a function to read in all the lines of a target text file"
      ],
      "metadata": {
        "id": "88geBIxcjjXI"
      }
    },
    {
      "cell_type": "code",
      "source": [
        "#Function to read the lines of a document\n",
        "def get_lines(filename):\n",
        "\n",
        "  \"\"\"\n",
        "  Reads filename ( text file name )and returns the lines of text as a list\n",
        "\n",
        "  Args:\n",
        "    filename: a string containing the target filepath\n",
        "  Returns:\n",
        "    A list of strings with one string per line from the target filename\n",
        "  \"\"\"\n",
        "  with open(filename, \"r\") as f:\n",
        "    lines=f.readlines()\n",
        "    return lines\n",
        "\n",
        ""
      ],
      "metadata": {
        "id": "KcD5YzX77QyE"
      },
      "execution_count": 7,
      "outputs": []
    },
    {
      "cell_type": "code",
      "source": [
        "#let's read in the training lines\n",
        "train_lines=get_lines(data_dir+\"train.txt\")"
      ],
      "metadata": {
        "id": "6LW2dI2B8BNv"
      },
      "execution_count": 8,
      "outputs": []
    },
    {
      "cell_type": "code",
      "source": [
        "train_lines[:20]"
      ],
      "metadata": {
        "colab": {
          "base_uri": "https://localhost:8080/"
        },
        "id": "aP5Cyl2y8L2l",
        "outputId": "2dfeb92e-f1bb-42ea-a58e-ed9be318599d"
      },
      "execution_count": 9,
      "outputs": [
        {
          "output_type": "execute_result",
          "data": {
            "text/plain": [
              "['###24293578\\n',\n",
              " 'OBJECTIVE\\tTo investigate the efficacy of @ weeks of daily low-dose oral prednisolone in improving pain , mobility , and systemic low-grade inflammation in the short term and whether the effect would be sustained at @ weeks in older adults with moderate to severe knee osteoarthritis ( OA ) .\\n',\n",
              " 'METHODS\\tA total of @ patients with primary knee OA were randomized @:@ ; @ received @ mg/day of prednisolone and @ received placebo for @ weeks .\\n',\n",
              " 'METHODS\\tOutcome measures included pain reduction and improvement in function scores and systemic inflammation markers .\\n',\n",
              " 'METHODS\\tPain was assessed using the visual analog pain scale ( @-@ mm ) .\\n',\n",
              " 'METHODS\\tSecondary outcome measures included the Western Ontario and McMaster Universities Osteoarthritis Index scores , patient global assessment ( PGA ) of the severity of knee OA , and @-min walk distance ( @MWD ) .\\n',\n",
              " 'METHODS\\tSerum levels of interleukin @ ( IL-@ ) , IL-@ , tumor necrosis factor ( TNF ) - , and high-sensitivity C-reactive protein ( hsCRP ) were measured .\\n',\n",
              " 'RESULTS\\tThere was a clinically relevant reduction in the intervention group compared to the placebo group for knee pain , physical function , PGA , and @MWD at @ weeks .\\n',\n",
              " 'RESULTS\\tThe mean difference between treatment arms ( @ % CI ) was @ ( @-@ @ ) , p < @ ; @ ( @-@ @ ) , p < @ ; @ ( @-@ @ ) , p < @ ; and @ ( @-@ @ ) , p < @ , respectively .\\n',\n",
              " 'RESULTS\\tFurther , there was a clinically relevant reduction in the serum levels of IL-@ , IL-@ , TNF - , and hsCRP at @ weeks in the intervention group when compared to the placebo group .\\n',\n",
              " 'RESULTS\\tThese differences remained significant at @ weeks .\\n',\n",
              " 'RESULTS\\tThe Outcome Measures in Rheumatology Clinical Trials-Osteoarthritis Research Society International responder rate was @ % in the intervention group and @ % in the placebo group ( p < @ ) .\\n',\n",
              " 'CONCLUSIONS\\tLow-dose oral prednisolone had both a short-term and a longer sustained effect resulting in less knee pain , better physical function , and attenuation of systemic inflammation in older patients with knee OA ( ClinicalTrials.gov identifier NCT@ ) .\\n',\n",
              " '\\n',\n",
              " '###24854809\\n',\n",
              " 'BACKGROUND\\tEmotional eating is associated with overeating and the development of obesity .\\n',\n",
              " 'BACKGROUND\\tYet , empirical evidence for individual ( trait ) differences in emotional eating and cognitive mechanisms that contribute to eating during sad mood remain equivocal .\\n',\n",
              " 'OBJECTIVE\\tThe aim of this study was to test if attention bias for food moderates the effect of self-reported emotional eating during sad mood ( vs neutral mood ) on actual food intake .\\n',\n",
              " 'OBJECTIVE\\tIt was expected that emotional eating is predictive of elevated attention for food and higher food intake after an experimentally induced sad mood and that attentional maintenance on food predicts food intake during a sad versus a neutral mood .\\n',\n",
              " 'METHODS\\tParticipants ( N = @ ) were randomly assigned to one of the two experimental mood induction conditions ( sad/neutral ) .\\n']"
            ]
          },
          "metadata": {},
          "execution_count": 9
        }
      ]
    },
    {
      "cell_type": "code",
      "source": [
        "len(train_lines)"
      ],
      "metadata": {
        "colab": {
          "base_uri": "https://localhost:8080/"
        },
        "id": "qLheutw78Ri8",
        "outputId": "9e6da456-7537-459e-c2f8-5f90301ea860"
      },
      "execution_count": 10,
      "outputs": [
        {
          "output_type": "execute_result",
          "data": {
            "text/plain": [
              "210040"
            ]
          },
          "metadata": {},
          "execution_count": 10
        }
      ]
    },
    {
      "cell_type": "markdown",
      "source": [
        "Let's think about how we want the data to look\n",
        "\n",
        "How can we the data be best represented\n",
        "```\n",
        "[{'line_number': 0,\n",
        "    'target' : BACKGROUND,\n",
        "    'text':\"Emotional Eating...\"\n",
        "    'total_lines':11}]\n",
        "```"
      ],
      "metadata": {
        "id": "7alxO82b8o1Y"
      }
    },
    {
      "cell_type": "code",
      "source": [
        "def preprocess_text_with_line_numbers(filename):\n",
        "  \"\"\"\n",
        "  Returns a list of dictinaries of abstract line data\n",
        "\n",
        "  Takes in filename, read it's contens and sorts through each line,\n",
        "  extracting things like target label, the text of the sentence, how many sentences are in the current abstract, etc\n",
        "  \"\"\"\n",
        "  input_lines=get_lines(filename)# Get all lines fro filename\n",
        "  abstract_lines=\"\" #Create an empty abstract\n",
        "  abstract_samples=[]# Create an empty list of abstracts\n",
        "\n",
        "  #Loop through each line in target file\n",
        "  for line in input_lines:\n",
        "    #print(line)\n",
        "    if line.startswith(\"###\"): #Check the line is an ID line...the abstract is starting\n",
        "      abstract_id=line\n",
        "      abstract_lines=\"\" #Reset the abstract string if the line is ID Line\n",
        "    elif line.isspace(): #Check if the line is a new line\n",
        "      abstract_line_split=abstract_lines.splitlines()\n",
        "\n",
        "\n",
        "      #iterate each line in a single abstract and keep count of which line we are on\n",
        "      for abstract_line_number, abstract_line in enumerate(abstract_line_split):\n",
        "        line_data={}\n",
        "        target_text_split=abstract_line.split(\"\\t\")# Split the target label from the text\n",
        "\n",
        "        line_data['target']=target_text_split[0]\n",
        "        line_data['text']=target_text_split[1].lower()\n",
        "        line_data['line_number']=abstract_line_number\n",
        "        line_data['total_lines']=len(abstract_line_split)-1# How many total lines are there in target abstract\n",
        "        abstract_samples.append(line_data)\n",
        "\n",
        "    else: #if the above conditions aren't fulfilled, the lines containes a labelled sentence\n",
        "      abstract_lines+=line\n",
        "\n",
        "  return abstract_samples\n"
      ],
      "metadata": {
        "id": "mnfP5y6i86Di"
      },
      "execution_count": 11,
      "outputs": []
    },
    {
      "cell_type": "code",
      "source": [
        "%%time\n",
        "train_samples=preprocess_text_with_line_numbers(data_dir+\"train.txt\")\n",
        "val_samples=preprocess_text_with_line_numbers(data_dir+\"dev.txt\")\n",
        "test_samples=preprocess_text_with_line_numbers(data_dir+\"test.txt\")\n",
        "len(train_samples), len(val_samples), len(test_samples)"
      ],
      "metadata": {
        "colab": {
          "base_uri": "https://localhost:8080/"
        },
        "id": "0IqX3Af-EK35",
        "outputId": "8a787122-e1e5-4672-f597-e3336900680b"
      },
      "execution_count": 12,
      "outputs": [
        {
          "output_type": "stream",
          "name": "stdout",
          "text": [
            "CPU times: user 383 ms, sys: 108 ms, total: 491 ms\n",
            "Wall time: 496 ms\n"
          ]
        },
        {
          "output_type": "execute_result",
          "data": {
            "text/plain": [
              "(180040, 30212, 30135)"
            ]
          },
          "metadata": {},
          "execution_count": 12
        }
      ]
    },
    {
      "cell_type": "code",
      "source": [
        "#Check the first abstract of our training data\n",
        "train_samples[:20]"
      ],
      "metadata": {
        "colab": {
          "base_uri": "https://localhost:8080/"
        },
        "id": "YQteqlcYEVnv",
        "outputId": "576dbfd4-2f6c-4773-a165-34c477d349d6"
      },
      "execution_count": 13,
      "outputs": [
        {
          "output_type": "execute_result",
          "data": {
            "text/plain": [
              "[{'target': 'OBJECTIVE',\n",
              "  'text': 'to investigate the efficacy of @ weeks of daily low-dose oral prednisolone in improving pain , mobility , and systemic low-grade inflammation in the short term and whether the effect would be sustained at @ weeks in older adults with moderate to severe knee osteoarthritis ( oa ) .',\n",
              "  'line_number': 0,\n",
              "  'total_lines': 11},\n",
              " {'target': 'METHODS',\n",
              "  'text': 'a total of @ patients with primary knee oa were randomized @:@ ; @ received @ mg/day of prednisolone and @ received placebo for @ weeks .',\n",
              "  'line_number': 1,\n",
              "  'total_lines': 11},\n",
              " {'target': 'METHODS',\n",
              "  'text': 'outcome measures included pain reduction and improvement in function scores and systemic inflammation markers .',\n",
              "  'line_number': 2,\n",
              "  'total_lines': 11},\n",
              " {'target': 'METHODS',\n",
              "  'text': 'pain was assessed using the visual analog pain scale ( @-@ mm ) .',\n",
              "  'line_number': 3,\n",
              "  'total_lines': 11},\n",
              " {'target': 'METHODS',\n",
              "  'text': 'secondary outcome measures included the western ontario and mcmaster universities osteoarthritis index scores , patient global assessment ( pga ) of the severity of knee oa , and @-min walk distance ( @mwd ) .',\n",
              "  'line_number': 4,\n",
              "  'total_lines': 11},\n",
              " {'target': 'METHODS',\n",
              "  'text': 'serum levels of interleukin @ ( il-@ ) , il-@ , tumor necrosis factor ( tnf ) - , and high-sensitivity c-reactive protein ( hscrp ) were measured .',\n",
              "  'line_number': 5,\n",
              "  'total_lines': 11},\n",
              " {'target': 'RESULTS',\n",
              "  'text': 'there was a clinically relevant reduction in the intervention group compared to the placebo group for knee pain , physical function , pga , and @mwd at @ weeks .',\n",
              "  'line_number': 6,\n",
              "  'total_lines': 11},\n",
              " {'target': 'RESULTS',\n",
              "  'text': 'the mean difference between treatment arms ( @ % ci ) was @ ( @-@ @ ) , p < @ ; @ ( @-@ @ ) , p < @ ; @ ( @-@ @ ) , p < @ ; and @ ( @-@ @ ) , p < @ , respectively .',\n",
              "  'line_number': 7,\n",
              "  'total_lines': 11},\n",
              " {'target': 'RESULTS',\n",
              "  'text': 'further , there was a clinically relevant reduction in the serum levels of il-@ , il-@ , tnf - , and hscrp at @ weeks in the intervention group when compared to the placebo group .',\n",
              "  'line_number': 8,\n",
              "  'total_lines': 11},\n",
              " {'target': 'RESULTS',\n",
              "  'text': 'these differences remained significant at @ weeks .',\n",
              "  'line_number': 9,\n",
              "  'total_lines': 11},\n",
              " {'target': 'RESULTS',\n",
              "  'text': 'the outcome measures in rheumatology clinical trials-osteoarthritis research society international responder rate was @ % in the intervention group and @ % in the placebo group ( p < @ ) .',\n",
              "  'line_number': 10,\n",
              "  'total_lines': 11},\n",
              " {'target': 'CONCLUSIONS',\n",
              "  'text': 'low-dose oral prednisolone had both a short-term and a longer sustained effect resulting in less knee pain , better physical function , and attenuation of systemic inflammation in older patients with knee oa ( clinicaltrials.gov identifier nct@ ) .',\n",
              "  'line_number': 11,\n",
              "  'total_lines': 11},\n",
              " {'target': 'BACKGROUND',\n",
              "  'text': 'emotional eating is associated with overeating and the development of obesity .',\n",
              "  'line_number': 0,\n",
              "  'total_lines': 10},\n",
              " {'target': 'BACKGROUND',\n",
              "  'text': 'yet , empirical evidence for individual ( trait ) differences in emotional eating and cognitive mechanisms that contribute to eating during sad mood remain equivocal .',\n",
              "  'line_number': 1,\n",
              "  'total_lines': 10},\n",
              " {'target': 'OBJECTIVE',\n",
              "  'text': 'the aim of this study was to test if attention bias for food moderates the effect of self-reported emotional eating during sad mood ( vs neutral mood ) on actual food intake .',\n",
              "  'line_number': 2,\n",
              "  'total_lines': 10},\n",
              " {'target': 'OBJECTIVE',\n",
              "  'text': 'it was expected that emotional eating is predictive of elevated attention for food and higher food intake after an experimentally induced sad mood and that attentional maintenance on food predicts food intake during a sad versus a neutral mood .',\n",
              "  'line_number': 3,\n",
              "  'total_lines': 10},\n",
              " {'target': 'METHODS',\n",
              "  'text': 'participants ( n = @ ) were randomly assigned to one of the two experimental mood induction conditions ( sad/neutral ) .',\n",
              "  'line_number': 4,\n",
              "  'total_lines': 10},\n",
              " {'target': 'METHODS',\n",
              "  'text': 'attentional biases for high caloric foods were measured by eye tracking during a visual probe task with pictorial food and neutral stimuli .',\n",
              "  'line_number': 5,\n",
              "  'total_lines': 10},\n",
              " {'target': 'METHODS',\n",
              "  'text': 'self-reported emotional eating was assessed with the dutch eating behavior questionnaire ( debq ) and ad libitum food intake was tested by a disguised food offer .',\n",
              "  'line_number': 6,\n",
              "  'total_lines': 10},\n",
              " {'target': 'RESULTS',\n",
              "  'text': 'hierarchical multivariate regression modeling showed that self-reported emotional eating did not account for changes in attention allocation for food or food intake in either condition .',\n",
              "  'line_number': 7,\n",
              "  'total_lines': 10}]"
            ]
          },
          "metadata": {},
          "execution_count": 13
        }
      ]
    },
    {
      "cell_type": "markdown",
      "source": [
        "Now that our data is in the format of list of dicts, how about we turn it into dataframe to further visualize it\n"
      ],
      "metadata": {
        "id": "JrefwZgLFWgf"
      }
    },
    {
      "cell_type": "code",
      "source": [
        "import pandas as pd\n",
        "train_df=pd.DataFrame(train_samples)\n",
        "val_df=pd.DataFrame(val_samples)\n",
        "test_df=pd.DataFrame(test_samples)"
      ],
      "metadata": {
        "id": "UgrAnUGjKwsE"
      },
      "execution_count": 14,
      "outputs": []
    },
    {
      "cell_type": "code",
      "source": [
        "train_df"
      ],
      "metadata": {
        "colab": {
          "base_uri": "https://localhost:8080/",
          "height": 641
        },
        "id": "qdI5H_GJK9k8",
        "outputId": "935aafbd-1498-4ba7-f465-e24a53b9f56e"
      },
      "execution_count": 15,
      "outputs": [
        {
          "output_type": "execute_result",
          "data": {
            "text/plain": [
              "             target                                               text  \\\n",
              "0         OBJECTIVE  to investigate the efficacy of @ weeks of dail...   \n",
              "1           METHODS  a total of @ patients with primary knee oa wer...   \n",
              "2           METHODS  outcome measures included pain reduction and i...   \n",
              "3           METHODS  pain was assessed using the visual analog pain...   \n",
              "4           METHODS  secondary outcome measures included the wester...   \n",
              "...             ...                                                ...   \n",
              "180035      RESULTS  for the absolute change in percent atheroma vo...   \n",
              "180036      RESULTS  for pav , a significantly greater percentage o...   \n",
              "180037      RESULTS  both strategies had acceptable side effect pro...   \n",
              "180038  CONCLUSIONS  compared with standard statin monotherapy , th...   \n",
              "180039  CONCLUSIONS  ( plaque regression with cholesterol absorptio...   \n",
              "\n",
              "        line_number  total_lines  \n",
              "0                 0           11  \n",
              "1                 1           11  \n",
              "2                 2           11  \n",
              "3                 3           11  \n",
              "4                 4           11  \n",
              "...             ...          ...  \n",
              "180035            7           11  \n",
              "180036            8           11  \n",
              "180037            9           11  \n",
              "180038           10           11  \n",
              "180039           11           11  \n",
              "\n",
              "[180040 rows x 4 columns]"
            ],
            "text/html": [
              "\n",
              "  <div id=\"df-c1345bfe-b17e-4bb1-97f6-94dcc00e361d\">\n",
              "    <div class=\"colab-df-container\">\n",
              "      <div>\n",
              "<style scoped>\n",
              "    .dataframe tbody tr th:only-of-type {\n",
              "        vertical-align: middle;\n",
              "    }\n",
              "\n",
              "    .dataframe tbody tr th {\n",
              "        vertical-align: top;\n",
              "    }\n",
              "\n",
              "    .dataframe thead th {\n",
              "        text-align: right;\n",
              "    }\n",
              "</style>\n",
              "<table border=\"1\" class=\"dataframe\">\n",
              "  <thead>\n",
              "    <tr style=\"text-align: right;\">\n",
              "      <th></th>\n",
              "      <th>target</th>\n",
              "      <th>text</th>\n",
              "      <th>line_number</th>\n",
              "      <th>total_lines</th>\n",
              "    </tr>\n",
              "  </thead>\n",
              "  <tbody>\n",
              "    <tr>\n",
              "      <th>0</th>\n",
              "      <td>OBJECTIVE</td>\n",
              "      <td>to investigate the efficacy of @ weeks of dail...</td>\n",
              "      <td>0</td>\n",
              "      <td>11</td>\n",
              "    </tr>\n",
              "    <tr>\n",
              "      <th>1</th>\n",
              "      <td>METHODS</td>\n",
              "      <td>a total of @ patients with primary knee oa wer...</td>\n",
              "      <td>1</td>\n",
              "      <td>11</td>\n",
              "    </tr>\n",
              "    <tr>\n",
              "      <th>2</th>\n",
              "      <td>METHODS</td>\n",
              "      <td>outcome measures included pain reduction and i...</td>\n",
              "      <td>2</td>\n",
              "      <td>11</td>\n",
              "    </tr>\n",
              "    <tr>\n",
              "      <th>3</th>\n",
              "      <td>METHODS</td>\n",
              "      <td>pain was assessed using the visual analog pain...</td>\n",
              "      <td>3</td>\n",
              "      <td>11</td>\n",
              "    </tr>\n",
              "    <tr>\n",
              "      <th>4</th>\n",
              "      <td>METHODS</td>\n",
              "      <td>secondary outcome measures included the wester...</td>\n",
              "      <td>4</td>\n",
              "      <td>11</td>\n",
              "    </tr>\n",
              "    <tr>\n",
              "      <th>...</th>\n",
              "      <td>...</td>\n",
              "      <td>...</td>\n",
              "      <td>...</td>\n",
              "      <td>...</td>\n",
              "    </tr>\n",
              "    <tr>\n",
              "      <th>180035</th>\n",
              "      <td>RESULTS</td>\n",
              "      <td>for the absolute change in percent atheroma vo...</td>\n",
              "      <td>7</td>\n",
              "      <td>11</td>\n",
              "    </tr>\n",
              "    <tr>\n",
              "      <th>180036</th>\n",
              "      <td>RESULTS</td>\n",
              "      <td>for pav , a significantly greater percentage o...</td>\n",
              "      <td>8</td>\n",
              "      <td>11</td>\n",
              "    </tr>\n",
              "    <tr>\n",
              "      <th>180037</th>\n",
              "      <td>RESULTS</td>\n",
              "      <td>both strategies had acceptable side effect pro...</td>\n",
              "      <td>9</td>\n",
              "      <td>11</td>\n",
              "    </tr>\n",
              "    <tr>\n",
              "      <th>180038</th>\n",
              "      <td>CONCLUSIONS</td>\n",
              "      <td>compared with standard statin monotherapy , th...</td>\n",
              "      <td>10</td>\n",
              "      <td>11</td>\n",
              "    </tr>\n",
              "    <tr>\n",
              "      <th>180039</th>\n",
              "      <td>CONCLUSIONS</td>\n",
              "      <td>( plaque regression with cholesterol absorptio...</td>\n",
              "      <td>11</td>\n",
              "      <td>11</td>\n",
              "    </tr>\n",
              "  </tbody>\n",
              "</table>\n",
              "<p>180040 rows × 4 columns</p>\n",
              "</div>\n",
              "      <button class=\"colab-df-convert\" onclick=\"convertToInteractive('df-c1345bfe-b17e-4bb1-97f6-94dcc00e361d')\"\n",
              "              title=\"Convert this dataframe to an interactive table.\"\n",
              "              style=\"display:none;\">\n",
              "        \n",
              "  <svg xmlns=\"http://www.w3.org/2000/svg\" height=\"24px\"viewBox=\"0 0 24 24\"\n",
              "       width=\"24px\">\n",
              "    <path d=\"M0 0h24v24H0V0z\" fill=\"none\"/>\n",
              "    <path d=\"M18.56 5.44l.94 2.06.94-2.06 2.06-.94-2.06-.94-.94-2.06-.94 2.06-2.06.94zm-11 1L8.5 8.5l.94-2.06 2.06-.94-2.06-.94L8.5 2.5l-.94 2.06-2.06.94zm10 10l.94 2.06.94-2.06 2.06-.94-2.06-.94-.94-2.06-.94 2.06-2.06.94z\"/><path d=\"M17.41 7.96l-1.37-1.37c-.4-.4-.92-.59-1.43-.59-.52 0-1.04.2-1.43.59L10.3 9.45l-7.72 7.72c-.78.78-.78 2.05 0 2.83L4 21.41c.39.39.9.59 1.41.59.51 0 1.02-.2 1.41-.59l7.78-7.78 2.81-2.81c.8-.78.8-2.07 0-2.86zM5.41 20L4 18.59l7.72-7.72 1.47 1.35L5.41 20z\"/>\n",
              "  </svg>\n",
              "      </button>\n",
              "      \n",
              "  <style>\n",
              "    .colab-df-container {\n",
              "      display:flex;\n",
              "      flex-wrap:wrap;\n",
              "      gap: 12px;\n",
              "    }\n",
              "\n",
              "    .colab-df-convert {\n",
              "      background-color: #E8F0FE;\n",
              "      border: none;\n",
              "      border-radius: 50%;\n",
              "      cursor: pointer;\n",
              "      display: none;\n",
              "      fill: #1967D2;\n",
              "      height: 32px;\n",
              "      padding: 0 0 0 0;\n",
              "      width: 32px;\n",
              "    }\n",
              "\n",
              "    .colab-df-convert:hover {\n",
              "      background-color: #E2EBFA;\n",
              "      box-shadow: 0px 1px 2px rgba(60, 64, 67, 0.3), 0px 1px 3px 1px rgba(60, 64, 67, 0.15);\n",
              "      fill: #174EA6;\n",
              "    }\n",
              "\n",
              "    [theme=dark] .colab-df-convert {\n",
              "      background-color: #3B4455;\n",
              "      fill: #D2E3FC;\n",
              "    }\n",
              "\n",
              "    [theme=dark] .colab-df-convert:hover {\n",
              "      background-color: #434B5C;\n",
              "      box-shadow: 0px 1px 3px 1px rgba(0, 0, 0, 0.15);\n",
              "      filter: drop-shadow(0px 1px 2px rgba(0, 0, 0, 0.3));\n",
              "      fill: #FFFFFF;\n",
              "    }\n",
              "  </style>\n",
              "\n",
              "      <script>\n",
              "        const buttonEl =\n",
              "          document.querySelector('#df-c1345bfe-b17e-4bb1-97f6-94dcc00e361d button.colab-df-convert');\n",
              "        buttonEl.style.display =\n",
              "          google.colab.kernel.accessAllowed ? 'block' : 'none';\n",
              "\n",
              "        async function convertToInteractive(key) {\n",
              "          const element = document.querySelector('#df-c1345bfe-b17e-4bb1-97f6-94dcc00e361d');\n",
              "          const dataTable =\n",
              "            await google.colab.kernel.invokeFunction('convertToInteractive',\n",
              "                                                     [key], {});\n",
              "          if (!dataTable) return;\n",
              "\n",
              "          const docLinkHtml = 'Like what you see? Visit the ' +\n",
              "            '<a target=\"_blank\" href=https://colab.research.google.com/notebooks/data_table.ipynb>data table notebook</a>'\n",
              "            + ' to learn more about interactive tables.';\n",
              "          element.innerHTML = '';\n",
              "          dataTable['output_type'] = 'display_data';\n",
              "          await google.colab.output.renderOutput(dataTable, element);\n",
              "          const docLink = document.createElement('div');\n",
              "          docLink.innerHTML = docLinkHtml;\n",
              "          element.appendChild(docLink);\n",
              "        }\n",
              "      </script>\n",
              "    </div>\n",
              "  </div>\n",
              "  "
            ]
          },
          "metadata": {},
          "execution_count": 15
        }
      ]
    },
    {
      "cell_type": "code",
      "source": [
        "#What is the spread of labels\n",
        "train_df.target.value_counts()"
      ],
      "metadata": {
        "colab": {
          "base_uri": "https://localhost:8080/"
        },
        "id": "p4MdFYeiLByo",
        "outputId": "6539254f-e64d-45a9-d51d-65ad0755f668"
      },
      "execution_count": 16,
      "outputs": [
        {
          "output_type": "execute_result",
          "data": {
            "text/plain": [
              "METHODS        59353\n",
              "RESULTS        57953\n",
              "CONCLUSIONS    27168\n",
              "BACKGROUND     21727\n",
              "OBJECTIVE      13839\n",
              "Name: target, dtype: int64"
            ]
          },
          "metadata": {},
          "execution_count": 16
        }
      ]
    },
    {
      "cell_type": "code",
      "source": [
        "#Let's check the length of different lines\n",
        "train_df.total_lines.plot.hist();"
      ],
      "metadata": {
        "colab": {
          "base_uri": "https://localhost:8080/",
          "height": 431
        },
        "id": "ay-Y_9xJLRVj",
        "outputId": "c0373c78-fe25-4a7e-a1ac-9a98153c6959"
      },
      "execution_count": 17,
      "outputs": [
        {
          "output_type": "display_data",
          "data": {
            "text/plain": [
              "<Figure size 640x480 with 1 Axes>"
            ],
            "image/png": "[encoded data removed]"
          },
          "metadata": {}
        }
      ]
    },
    {
      "cell_type": "markdown",
      "source": [
        "### Get the list of sentences so that we can work with just the text"
      ],
      "metadata": {
        "id": "xTRglbouLqmV"
      }
    },
    {
      "cell_type": "code",
      "source": [
        "#Convert abstract text lines into list\n",
        "train_sentences=train_df['text'].tolist()\n",
        "val_sentences=val_df['text'].tolist()\n",
        "test_sentences=test_df['text'].tolist()\n",
        "len(train_sentences), len(val_sentences), len(test_sentences)"
      ],
      "metadata": {
        "colab": {
          "base_uri": "https://localhost:8080/"
        },
        "id": "bG5AYb49L1Mn",
        "outputId": "128f94b8-1226-4852-c70f-5e16d695670f"
      },
      "execution_count": 18,
      "outputs": [
        {
          "output_type": "execute_result",
          "data": {
            "text/plain": [
              "(180040, 30212, 30135)"
            ]
          },
          "metadata": {},
          "execution_count": 18
        }
      ]
    },
    {
      "cell_type": "code",
      "source": [
        "train_sentences[:10]"
      ],
      "metadata": {
        "colab": {
          "base_uri": "https://localhost:8080/"
        },
        "id": "cqMxJYzaMExG",
        "outputId": "ea28c4af-15be-4c66-9deb-bb196d134d56"
      },
      "execution_count": 19,
      "outputs": [
        {
          "output_type": "execute_result",
          "data": {
            "text/plain": [
              "['to investigate the efficacy of @ weeks of daily low-dose oral prednisolone in improving pain , mobility , and systemic low-grade inflammation in the short term and whether the effect would be sustained at @ weeks in older adults with moderate to severe knee osteoarthritis ( oa ) .',\n",
              " 'a total of @ patients with primary knee oa were randomized @:@ ; @ received @ mg/day of prednisolone and @ received placebo for @ weeks .',\n",
              " 'outcome measures included pain reduction and improvement in function scores and systemic inflammation markers .',\n",
              " 'pain was assessed using the visual analog pain scale ( @-@ mm ) .',\n",
              " 'secondary outcome measures included the western ontario and mcmaster universities osteoarthritis index scores , patient global assessment ( pga ) of the severity of knee oa , and @-min walk distance ( @mwd ) .',\n",
              " 'serum levels of interleukin @ ( il-@ ) , il-@ , tumor necrosis factor ( tnf ) - , and high-sensitivity c-reactive protein ( hscrp ) were measured .',\n",
              " 'there was a clinically relevant reduction in the intervention group compared to the placebo group for knee pain , physical function , pga , and @mwd at @ weeks .',\n",
              " 'the mean difference between treatment arms ( @ % ci ) was @ ( @-@ @ ) , p < @ ; @ ( @-@ @ ) , p < @ ; @ ( @-@ @ ) , p < @ ; and @ ( @-@ @ ) , p < @ , respectively .',\n",
              " 'further , there was a clinically relevant reduction in the serum levels of il-@ , il-@ , tnf - , and hscrp at @ weeks in the intervention group when compared to the placebo group .',\n",
              " 'these differences remained significant at @ weeks .']"
            ]
          },
          "metadata": {},
          "execution_count": 19
        }
      ]
    },
    {
      "cell_type": "markdown",
      "source": [
        "## Make numeric labels (ML required Numeric labels)\n",
        "\n"
      ],
      "metadata": {
        "id": "llzUXew9MGbP"
      }
    },
    {
      "cell_type": "code",
      "source": [
        "#One hot encoding labels\n",
        "from sklearn.preprocessing import OneHotEncoder\n",
        "\n",
        "one_hot_encoder=OneHotEncoder(sparse=False)"
      ],
      "metadata": {
        "id": "U3hUU0H9w55t"
      },
      "execution_count": 21,
      "outputs": []
    },
    {
      "cell_type": "code",
      "source": [
        "train_labels_one_hot=one_hot_encoder.fit_transform(train_df['target'].to_numpy().reshape(-1,1))"
      ],
      "metadata": {
        "id": "QFJDeoPLxHi6",
        "outputId": "f42d468f-bc78-414d-d087-3e57f29eab2a",
        "colab": {
          "base_uri": "https://localhost:8080/"
        }
      },
      "execution_count": 22,
      "outputs": [
        {
          "output_type": "stream",
          "name": "stderr",
          "text": [
            "/usr/local/lib/python3.10/dist-packages/sklearn/preprocessing/_encoders.py:868: FutureWarning: `sparse` was renamed to `sparse_output` in version 1.2 and will be removed in 1.4. `sparse_output` is ignored unless you leave `sparse` to its default value.\n",
            "  warnings.warn(\n"
          ]
        }
      ]
    },
    {
      "cell_type": "code",
      "source": [
        "import tensorflow as tf\n",
        "tf.constant(train_labels_one_hot)"
      ],
      "metadata": {
        "id": "YshK5VhBxyin",
        "outputId": "e6894c8f-68a4-452e-a977-7dd638d58440",
        "colab": {
          "base_uri": "https://localhost:8080/"
        }
      },
      "execution_count": 23,
      "outputs": [
        {
          "output_type": "execute_result",
          "data": {
            "text/plain": [
              "<tf.Tensor: shape=(180040, 5), dtype=float64, numpy=\n",
              "array([[0., 0., 0., 1., 0.],\n",
              "       [0., 0., 1., 0., 0.],\n",
              "       [0., 0., 1., 0., 0.],\n",
              "       ...,\n",
              "       [0., 0., 0., 0., 1.],\n",
              "       [0., 1., 0., 0., 0.],\n",
              "       [0., 1., 0., 0., 0.]])>"
            ]
          },
          "metadata": {},
          "execution_count": 23
        }
      ]
    },
    {
      "cell_type": "code",
      "source": [
        "val_labels_one_hot=one_hot_encoder.transform(val_df['target'].to_numpy().reshape(-1,1))\n",
        "test_labels_one_hot=one_hot_encoder.transform(test_df['target'].to_numpy().reshape(-1,1))"
      ],
      "metadata": {
        "id": "3f8bSPtcx4fI"
      },
      "execution_count": 25,
      "outputs": []
    },
    {
      "cell_type": "markdown",
      "source": [
        "Extract labels(\"target colums \") and encode them into integer_op_not_supported"
      ],
      "metadata": {
        "id": "YfSmdsjkyRLi"
      }
    },
    {
      "cell_type": "code",
      "source": [
        "from sklearn.preprocessing import LabelEncoder\n",
        "label_encoder=LabelEncoder()\n",
        "train_labels_encoded=label_encoder.fit_transform(train_df['target'].to_numpy())\n",
        "test_labels_encoded=label_encoder.transform(test_df['target'].to_numpy())\n",
        "val_labels_encoded=label_encoder.transform(val_df['target'].to_numpy())"
      ],
      "metadata": {
        "id": "NU_rDajkyhJj"
      },
      "execution_count": 26,
      "outputs": []
    },
    {
      "cell_type": "code",
      "source": [
        "train_labels_encoded"
      ],
      "metadata": {
        "id": "hmzqvvxRy6i8",
        "outputId": "5842ad65-a900-4af8-8160-001877104613",
        "colab": {
          "base_uri": "https://localhost:8080/"
        }
      },
      "execution_count": 27,
      "outputs": [
        {
          "output_type": "execute_result",
          "data": {
            "text/plain": [
              "array([3, 2, 2, ..., 4, 1, 1])"
            ]
          },
          "metadata": {},
          "execution_count": 27
        }
      ]
    },
    {
      "cell_type": "code",
      "source": [
        "#Get class names and number of classes from LabelEncoder instance\n",
        "num_classes=len(label_encoder.classes_)\n",
        "class_names=label_encoder.classes_\n",
        "num_classes, class_names"
      ],
      "metadata": {
        "id": "XLtKExuty8Dz",
        "outputId": "9051c3f6-1b8f-49a7-c9ba-25caa177dc73",
        "colab": {
          "base_uri": "https://localhost:8080/"
        }
      },
      "execution_count": 28,
      "outputs": [
        {
          "output_type": "execute_result",
          "data": {
            "text/plain": [
              "(5,\n",
              " array(['BACKGROUND', 'CONCLUSIONS', 'METHODS', 'OBJECTIVE', 'RESULTS'],\n",
              "       dtype=object))"
            ]
          },
          "metadata": {},
          "execution_count": 28
        }
      ]
    },
    {
      "cell_type": "markdown",
      "source": [
        "## Starting a seties of modelling experiments\n",
        "\n",
        "We'll be trying out a bunch of different models to see which one works best...starting with the baseline.\n",
        "Tf-IDF multinomial naive bayes classifier"
      ],
      "metadata": {
        "id": "OW49_SszzJIw"
      }
    },
    {
      "cell_type": "markdown",
      "source": [
        "### Model 0: Baseline\n"
      ],
      "metadata": {
        "id": "uNkk1-rw1yuE"
      }
    },
    {
      "cell_type": "code",
      "source": [
        "from sklearn.feature_extraction.text import TfidfVectorizer\n",
        "from sklearn.naive_bayes import MultinomialNB\n",
        "from sklearn.pipeline import Pipeline\n",
        "\n",
        "model_0=Pipeline([\n",
        "    (\"tf-idf\", TfidfVectorizer()),\n",
        "    (\"classifier\", MultinomialNB())\n",
        "])\n",
        "\n",
        "#Fit the pipeline to the training data\n",
        "model_0.fit(X=train_sentences,\n",
        "            y=train_labels_encoded)"
      ],
      "metadata": {
        "id": "TYblWCPj120k",
        "outputId": "4fe2a154-6323-4f11-bf1a-cee1f6581d71",
        "colab": {
          "base_uri": "https://localhost:8080/",
          "height": 124
        }
      },
      "execution_count": 32,
      "outputs": [
        {
          "output_type": "execute_result",
          "data": {
            "text/plain": [
              "Pipeline(steps=[('tf-idf', TfidfVectorizer()), ('classifier', MultinomialNB())])"
            ],
            "text/html": [
              "<style>#sk-container-id-1 {color: black;background-color: white;}#sk-container-id-1 pre{padding: 0;}#sk-container-id-1 div.sk-toggleable {background-color: white;}#sk-container-id-1 label.sk-toggleable__label {cursor: pointer;display: block;width: 100%;margin-bottom: 0;padding: 0.3em;box-sizing: border-box;text-align: center;}#sk-container-id-1 label.sk-toggleable__label-arrow:before {content: \"▸\";float: left;margin-right: 0.25em;color: #696969;}#sk-container-id-1 label.sk-toggleable__label-arrow:hover:before {color: black;}#sk-container-id-1 div.sk-estimator:hover label.sk-toggleable__label-arrow:before {color: black;}#sk-container-id-1 div.sk-toggleable__content {max-height: 0;max-width: 0;overflow: hidden;text-align: left;background-color: #f0f8ff;}#sk-container-id-1 div.sk-toggleable__content pre {margin: 0.2em;color: black;border-radius: 0.25em;background-color: #f0f8ff;}#sk-container-id-1 input.sk-toggleable__control:checked~div.sk-toggleable__content {max-height: 200px;max-width: 100%;overflow: auto;}#sk-container-id-1 input.sk-toggleable__control:checked~label.sk-toggleable__label-arrow:before {content: \"▾\";}#sk-container-id-1 div.sk-estimator input.sk-toggleable__control:checked~label.sk-toggleable__label {background-color: #d4ebff;}#sk-container-id-1 div.sk-label input.sk-toggleable__control:checked~label.sk-toggleable__label {background-color: #d4ebff;}#sk-container-id-1 input.sk-hidden--visually {border: 0;clip: rect(1px 1px 1px 1px);clip: rect(1px, 1px, 1px, 1px);height: 1px;margin: -1px;overflow: hidden;padding: 0;position: absolute;width: 1px;}#sk-container-id-1 div.sk-estimator {font-family: monospace;background-color: #f0f8ff;border: 1px dotted black;border-radius: 0.25em;box-sizing: border-box;margin-bottom: 0.5em;}#sk-container-id-1 div.sk-estimator:hover {background-color: #d4ebff;}#sk-container-id-1 div.sk-parallel-item::after {content: \"\";width: 100%;border-bottom: 1px solid gray;flex-grow: 1;}#sk-container-id-1 div.sk-label:hover label.sk-toggleable__label {background-color: #d4ebff;}#sk-container-id-1 div.sk-serial::before {content: \"\";position: absolute;border-left: 1px solid gray;box-sizing: border-box;top: 0;bottom: 0;left: 50%;z-index: 0;}#sk-container-id-1 div.sk-serial {display: flex;flex-direction: column;align-items: center;background-color: white;padding-right: 0.2em;padding-left: 0.2em;position: relative;}#sk-container-id-1 div.sk-item {position: relative;z-index: 1;}#sk-container-id-1 div.sk-parallel {display: flex;align-items: stretch;justify-content: center;background-color: white;position: relative;}#sk-container-id-1 div.sk-item::before, #sk-container-id-1 div.sk-parallel-item::before {content: \"\";position: absolute;border-left: 1px solid gray;box-sizing: border-box;top: 0;bottom: 0;left: 50%;z-index: -1;}#sk-container-id-1 div.sk-parallel-item {display: flex;flex-direction: column;z-index: 1;position: relative;background-color: white;}#sk-container-id-1 div.sk-parallel-item:first-child::after {align-self: flex-end;width: 50%;}#sk-container-id-1 div.sk-parallel-item:last-child::after {align-self: flex-start;width: 50%;}#sk-container-id-1 div.sk-parallel-item:only-child::after {width: 0;}#sk-container-id-1 div.sk-dashed-wrapped {border: 1px dashed gray;margin: 0 0.4em 0.5em 0.4em;box-sizing: border-box;padding-bottom: 0.4em;background-color: white;}#sk-container-id-1 div.sk-label label {font-family: monospace;font-weight: bold;display: inline-block;line-height: 1.2em;}#sk-container-id-1 div.sk-label-container {text-align: center;}#sk-container-id-1 div.sk-container {/* jupyter's `normalize.less` sets `[hidden] { display: none; }` but bootstrap.min.css set `[hidden] { display: none !important; }` so we also need the `!important` here to be able to override the default hidden behavior on the sphinx rendered scikit-learn.org. See: https://github.com/scikit-learn/scikit-learn/issues/21755 */display: inline-block !important;position: relative;}#sk-container-id-1 div.sk-text-repr-fallback {display: none;}</style><div id=\"sk-container-id-1\" class=\"sk-top-container\"><div class=\"sk-text-repr-fallback\"><pre>Pipeline(steps=[(&#x27;tf-idf&#x27;, TfidfVectorizer()), (&#x27;classifier&#x27;, MultinomialNB())])</pre><b>In a Jupyter environment, please rerun this cell to show the HTML representation or trust the notebook. <br />On GitHub, the HTML representation is unable to render, please try loading this page with nbviewer.org.</b></div><div class=\"sk-container\" hidden><div class=\"sk-item sk-dashed-wrapped\"><div class=\"sk-label-container\"><div class=\"sk-label sk-toggleable\"><input class=\"sk-toggleable__control sk-hidden--visually\" id=\"sk-estimator-id-1\" type=\"checkbox\" ><label for=\"sk-estimator-id-1\" class=\"sk-toggleable__label sk-toggleable__label-arrow\">Pipeline</label><div class=\"sk-toggleable__content\"><pre>Pipeline(steps=[(&#x27;tf-idf&#x27;, TfidfVectorizer()), (&#x27;classifier&#x27;, MultinomialNB())])</pre></div></div></div><div class=\"sk-serial\"><div class=\"sk-item\"><div class=\"sk-estimator sk-toggleable\"><input class=\"sk-toggleable__control sk-hidden--visually\" id=\"sk-estimator-id-2\" type=\"checkbox\" ><label for=\"sk-estimator-id-2\" class=\"sk-toggleable__label sk-toggleable__label-arrow\">TfidfVectorizer</label><div class=\"sk-toggleable__content\"><pre>TfidfVectorizer()</pre></div></div></div><div class=\"sk-item\"><div class=\"sk-estimator sk-toggleable\"><input class=\"sk-toggleable__control sk-hidden--visually\" id=\"sk-estimator-id-3\" type=\"checkbox\" ><label for=\"sk-estimator-id-3\" class=\"sk-toggleable__label sk-toggleable__label-arrow\">MultinomialNB</label><div class=\"sk-toggleable__content\"><pre>MultinomialNB()</pre></div></div></div></div></div></div></div>"
            ]
          },
          "metadata": {},
          "execution_count": 32
        }
      ]
    },
    {
      "cell_type": "code",
      "source": [
        "#Evaluate baseline model on validation dataset\n",
        "model_0.score(X=val_sentences,\n",
        "                 y=val_labels_encoded)"
      ],
      "metadata": {
        "id": "wsMH77Gv2kTK",
        "outputId": "798859f4-e87c-4903-d0e9-143245abb435",
        "colab": {
          "base_uri": "https://localhost:8080/"
        }
      },
      "execution_count": 33,
      "outputs": [
        {
          "output_type": "execute_result",
          "data": {
            "text/plain": [
              "0.7218323844829869"
            ]
          },
          "metadata": {},
          "execution_count": 33
        }
      ]
    },
    {
      "cell_type": "code",
      "source": [
        "# Make some predictions using the baseline model\n",
        "baseline_preds=model_0.predict(val_sentences)\n",
        "baseline_preds"
      ],
      "metadata": {
        "id": "MSCh_qAn24e_",
        "outputId": "8d577099-4344-4523-c0c0-782015acad59",
        "colab": {
          "base_uri": "https://localhost:8080/"
        }
      },
      "execution_count": 34,
      "outputs": [
        {
          "output_type": "execute_result",
          "data": {
            "text/plain": [
              "array([4, 1, 3, ..., 4, 4, 1])"
            ]
          },
          "metadata": {},
          "execution_count": 34
        }
      ]
    },
    {
      "cell_type": "code",
      "source": [
        "val_labels_encoded"
      ],
      "metadata": {
        "id": "tgga-I7j3ClD",
        "outputId": "acd447d4-405e-46ba-f54e-20097670fa86",
        "colab": {
          "base_uri": "https://localhost:8080/"
        }
      },
      "execution_count": 35,
      "outputs": [
        {
          "output_type": "execute_result",
          "data": {
            "text/plain": [
              "array([0, 0, 3, ..., 4, 1, 1])"
            ]
          },
          "metadata": {},
          "execution_count": 35
        }
      ]
    },
    {
      "cell_type": "code",
      "source": [
        "### Download the helper FUnction Script\n",
        "\n",
        "!wget https://raw.githubusercontent.com/mrdbourke/tensorflow-deep-learning/main/extras/helper_functions.py"
      ],
      "metadata": {
        "id": "x5V9dD673E1y",
        "outputId": "2bad5355-f90c-4b1b-a913-c19fbed7566f",
        "colab": {
          "base_uri": "https://localhost:8080/"
        }
      },
      "execution_count": 36,
      "outputs": [
        {
          "output_type": "stream",
          "name": "stdout",
          "text": [
            "--2023-06-19 18:15:03--  https://raw.githubusercontent.com/mrdbourke/tensorflow-deep-learning/main/extras/helper_functions.py\n",
            "Resolving raw.githubusercontent.com (raw.githubusercontent.com)... 185.199.108.133, 185.199.109.133, 185.199.110.133, ...\n",
            "Connecting to raw.githubusercontent.com (raw.githubusercontent.com)|185.199.108.133|:443... connected.\n",
            "HTTP request sent, awaiting response... 200 OK\n",
            "Length: 10246 (10K) [text/plain]\n",
            "Saving to: ‘helper_functions.py’\n",
            "\n",
            "\rhelper_functions.py   0%[                    ]       0  --.-KB/s               \rhelper_functions.py 100%[===================>]  10.01K  --.-KB/s    in 0s      \n",
            "\n",
            "2023-06-19 18:15:03 (56.5 MB/s) - ‘helper_functions.py’ saved [10246/10246]\n",
            "\n"
          ]
        }
      ]
    },
    {
      "cell_type": "code",
      "source": [
        "# Import calculate_results helper function\n",
        "from helper_functions import calculate_results"
      ],
      "metadata": {
        "id": "ED4TXbDE3gXr"
      },
      "execution_count": 37,
      "outputs": []
    },
    {
      "cell_type": "code",
      "source": [
        "# Calculate baseline results\n",
        "baseline_results = calculate_results(y_true=val_labels_encoded,\n",
        "                                     y_pred=baseline_preds)\n",
        "baseline_results"
      ],
      "metadata": {
        "id": "2uPX-Z8V3i0w",
        "outputId": "e7f0db54-0eca-4805-d176-5a187f50af37",
        "colab": {
          "base_uri": "https://localhost:8080/"
        }
      },
      "execution_count": 38,
      "outputs": [
        {
          "output_type": "execute_result",
          "data": {
            "text/plain": [
              "{'accuracy': 72.1832384482987,\n",
              " 'precision': 0.7186466952323352,\n",
              " 'recall': 0.7218323844829869,\n",
              " 'f1': 0.6989250353450294}"
            ]
          },
          "metadata": {},
          "execution_count": 38
        }
      ]
    },
    {
      "cell_type": "markdown",
      "source": [
        "## Preparing the text for the Deep Learning Model\n",
        "\n",
        "Before we start building deep models, we need to create vectorization and embedding layers"
      ],
      "metadata": {
        "id": "0J6_KTS_3kxa"
      }
    },
    {
      "cell_type": "code",
      "source": [
        "import numpy as np\n",
        "import tensorflow as tf\n",
        "from tensorflow.keras import layers"
      ],
      "metadata": {
        "id": "CUGrEQJv4yaD"
      },
      "execution_count": 40,
      "outputs": []
    },
    {
      "cell_type": "code",
      "source": [
        "#How long is each sentence on average\n",
        "\n",
        "sent_lens=[len(sentence.split()) for sentence in train_sentences]"
      ],
      "metadata": {
        "id": "PXgAkD-g5CfJ"
      },
      "execution_count": 42,
      "outputs": []
    },
    {
      "cell_type": "code",
      "source": [
        "avg_sent_len=np.mean(sent_lens)\n",
        "sent_lens, avg_sent_len"
      ],
      "metadata": {
        "id": "EeOnUqu15W1h",
        "outputId": "576db492-5e68-44c6-c827-2a9d231f5276",
        "colab": {
          "base_uri": "https://localhost:8080/"
        }
      },
      "execution_count": 45,
      "outputs": [
        {
          "output_type": "execute_result",
          "data": {
            "text/plain": [
              "([49,\n",
              "  27,\n",
              "  15,\n",
              "  14,\n",
              "  35,\n",
              "  29,\n",
              "  30,\n",
              "  55,\n",
              "  36,\n",
              "  8,\n",
              "  32,\n",
              "  39,\n",
              "  12,\n",
              "  26,\n",
              "  33,\n",
              "  40,\n",
              "  22,\n",
              "  23,\n",
              "  27,\n",
              "  26,\n",
              "  27,\n",
              "  34,\n",
              "  41,\n",
              "  18,\n",
              "  9,\n",
              "  23,\n",
              "  59,\n",
              "  16,\n",
              "  18,\n",
              "  22,\n",
              "  17,\n",
              "  51,\n",
              "  8,\n",
              "  17,\n",
              "  16,\n",
              "  5,\n",
              "  21,\n",
              "  4,\n",
              "  42,\n",
              "  50,\n",
              "  11,\n",
              "  19,\n",
              "  20,\n",
              "  29,\n",
              "  36,\n",
              "  44,\n",
              "  39,\n",
              "  25,\n",
              "  19,\n",
              "  24,\n",
              "  19,\n",
              "  14,\n",
              "  11,\n",
              "  18,\n",
              "  16,\n",
              "  26,\n",
              "  16,\n",
              "  18,\n",
              "  38,\n",
              "  28,\n",
              "  21,\n",
              "  18,\n",
              "  22,\n",
              "  9,\n",
              "  37,\n",
              "  6,\n",
              "  32,\n",
              "  21,\n",
              "  26,\n",
              "  25,\n",
              "  18,\n",
              "  21,\n",
              "  20,\n",
              "  12,\n",
              "  26,\n",
              "  16,\n",
              "  23,\n",
              "  19,\n",
              "  16,\n",
              "  39,\n",
              "  19,\n",
              "  14,\n",
              "  37,\n",
              "  34,\n",
              "  15,\n",
              "  47,\n",
              "  26,\n",
              "  87,\n",
              "  17,\n",
              "  29,\n",
              "  31,\n",
              "  13,\n",
              "  37,\n",
              "  28,\n",
              "  35,\n",
              "  60,\n",
              "  64,\n",
              "  66,\n",
              "  8,\n",
              "  12,\n",
              "  17,\n",
              "  40,\n",
              "  43,\n",
              "  37,\n",
              "  47,\n",
              "  6,\n",
              "  40,\n",
              "  64,\n",
              "  20,\n",
              "  32,\n",
              "  53,\n",
              "  16,\n",
              "  30,\n",
              "  54,\n",
              "  51,\n",
              "  19,\n",
              "  28,\n",
              "  32,\n",
              "  36,\n",
              "  40,\n",
              "  13,\n",
              "  25,\n",
              "  30,\n",
              "  23,\n",
              "  17,\n",
              "  15,\n",
              "  20,\n",
              "  50,\n",
              "  12,\n",
              "  16,\n",
              "  27,\n",
              "  24,\n",
              "  10,\n",
              "  24,\n",
              "  5,\n",
              "  14,\n",
              "  19,\n",
              "  32,\n",
              "  13,\n",
              "  21,\n",
              "  23,\n",
              "  10,\n",
              "  11,\n",
              "  17,\n",
              "  12,\n",
              "  21,\n",
              "  21,\n",
              "  15,\n",
              "  17,\n",
              "  21,\n",
              "  18,\n",
              "  40,\n",
              "  33,\n",
              "  21,\n",
              "  41,\n",
              "  21,\n",
              "  13,\n",
              "  29,\n",
              "  28,\n",
              "  13,\n",
              "  44,\n",
              "  20,\n",
              "  31,\n",
              "  8,\n",
              "  29,\n",
              "  13,\n",
              "  116,\n",
              "  27,\n",
              "  26,\n",
              "  32,\n",
              "  34,\n",
              "  17,\n",
              "  23,\n",
              "  20,\n",
              "  29,\n",
              "  11,\n",
              "  7,\n",
              "  17,\n",
              "  31,\n",
              "  43,\n",
              "  36,\n",
              "  17,\n",
              "  31,\n",
              "  17,\n",
              "  42,\n",
              "  18,\n",
              "  39,\n",
              "  29,\n",
              "  30,\n",
              "  24,\n",
              "  81,\n",
              "  19,\n",
              "  19,\n",
              "  33,\n",
              "  22,\n",
              "  11,\n",
              "  55,\n",
              "  11,\n",
              "  14,\n",
              "  28,\n",
              "  42,\n",
              "  34,\n",
              "  44,\n",
              "  15,\n",
              "  22,\n",
              "  44,\n",
              "  34,\n",
              "  29,\n",
              "  14,\n",
              "  54,\n",
              "  33,\n",
              "  80,\n",
              "  38,\n",
              "  15,\n",
              "  19,\n",
              "  30,\n",
              "  51,\n",
              "  20,\n",
              "  57,\n",
              "  13,\n",
              "  34,\n",
              "  34,\n",
              "  29,\n",
              "  22,\n",
              "  15,\n",
              "  23,\n",
              "  32,\n",
              "  11,\n",
              "  12,\n",
              "  17,\n",
              "  15,\n",
              "  4,\n",
              "  7,\n",
              "  38,\n",
              "  14,\n",
              "  10,\n",
              "  6,\n",
              "  26,\n",
              "  15,\n",
              "  60,\n",
              "  22,\n",
              "  12,\n",
              "  27,\n",
              "  16,\n",
              "  11,\n",
              "  23,\n",
              "  8,\n",
              "  17,\n",
              "  7,\n",
              "  27,\n",
              "  27,\n",
              "  35,\n",
              "  34,\n",
              "  8,\n",
              "  22,\n",
              "  27,\n",
              "  38,\n",
              "  23,\n",
              "  21,\n",
              "  16,\n",
              "  4,\n",
              "  2,\n",
              "  37,\n",
              "  20,\n",
              "  25,\n",
              "  36,\n",
              "  19,\n",
              "  26,\n",
              "  31,\n",
              "  28,\n",
              "  20,\n",
              "  21,\n",
              "  15,\n",
              "  10,\n",
              "  2,\n",
              "  43,\n",
              "  18,\n",
              "  49,\n",
              "  24,\n",
              "  19,\n",
              "  36,\n",
              "  24,\n",
              "  28,\n",
              "  37,\n",
              "  26,\n",
              "  17,\n",
              "  25,\n",
              "  57,\n",
              "  20,\n",
              "  9,\n",
              "  16,\n",
              "  10,\n",
              "  11,\n",
              "  87,\n",
              "  41,\n",
              "  45,\n",
              "  44,\n",
              "  15,\n",
              "  11,\n",
              "  17,\n",
              "  11,\n",
              "  5,\n",
              "  6,\n",
              "  31,\n",
              "  31,\n",
              "  20,\n",
              "  16,\n",
              "  13,\n",
              "  24,\n",
              "  37,\n",
              "  14,\n",
              "  28,\n",
              "  17,\n",
              "  19,\n",
              "  27,\n",
              "  17,\n",
              "  25,\n",
              "  15,\n",
              "  16,\n",
              "  21,\n",
              "  25,\n",
              "  23,\n",
              "  23,\n",
              "  7,\n",
              "  16,\n",
              "  21,\n",
              "  13,\n",
              "  33,\n",
              "  34,\n",
              "  11,\n",
              "  46,\n",
              "  52,\n",
              "  24,\n",
              "  8,\n",
              "  16,\n",
              "  22,\n",
              "  20,\n",
              "  13,\n",
              "  25,\n",
              "  30,\n",
              "  13,\n",
              "  9,\n",
              "  16,\n",
              "  22,\n",
              "  39,\n",
              "  15,\n",
              "  15,\n",
              "  24,\n",
              "  25,\n",
              "  20,\n",
              "  35,\n",
              "  26,\n",
              "  24,\n",
              "  27,\n",
              "  29,\n",
              "  30,\n",
              "  10,\n",
              "  23,\n",
              "  22,\n",
              "  35,\n",
              "  60,\n",
              "  34,\n",
              "  15,\n",
              "  11,\n",
              "  30,\n",
              "  50,\n",
              "  18,\n",
              "  73,\n",
              "  8,\n",
              "  13,\n",
              "  25,\n",
              "  14,\n",
              "  14,\n",
              "  7,\n",
              "  46,\n",
              "  13,\n",
              "  20,\n",
              "  22,\n",
              "  30,\n",
              "  21,\n",
              "  22,\n",
              "  17,\n",
              "  30,\n",
              "  10,\n",
              "  17,\n",
              "  45,\n",
              "  20,\n",
              "  14,\n",
              "  9,\n",
              "  23,\n",
              "  14,\n",
              "  12,\n",
              "  26,\n",
              "  14,\n",
              "  27,\n",
              "  15,\n",
              "  33,\n",
              "  16,\n",
              "  12,\n",
              "  15,\n",
              "  22,\n",
              "  15,\n",
              "  30,\n",
              "  36,\n",
              "  30,\n",
              "  19,\n",
              "  30,\n",
              "  21,\n",
              "  37,\n",
              "  23,\n",
              "  29,\n",
              "  17,\n",
              "  60,\n",
              "  15,\n",
              "  23,\n",
              "  45,\n",
              "  29,\n",
              "  20,\n",
              "  22,\n",
              "  7,\n",
              "  17,\n",
              "  18,\n",
              "  19,\n",
              "  19,\n",
              "  12,\n",
              "  18,\n",
              "  15,\n",
              "  29,\n",
              "  22,\n",
              "  21,\n",
              "  18,\n",
              "  11,\n",
              "  14,\n",
              "  75,\n",
              "  38,\n",
              "  43,\n",
              "  25,\n",
              "  10,\n",
              "  12,\n",
              "  25,\n",
              "  12,\n",
              "  23,\n",
              "  36,\n",
              "  59,\n",
              "  7,\n",
              "  120,\n",
              "  17,\n",
              "  43,\n",
              "  9,\n",
              "  37,\n",
              "  42,\n",
              "  15,\n",
              "  17,\n",
              "  26,\n",
              "  35,\n",
              "  17,\n",
              "  30,\n",
              "  19,\n",
              "  23,\n",
              "  44,\n",
              "  12,\n",
              "  25,\n",
              "  11,\n",
              "  25,\n",
              "  38,\n",
              "  26,\n",
              "  56,\n",
              "  42,\n",
              "  25,\n",
              "  38,\n",
              "  22,\n",
              "  19,\n",
              "  11,\n",
              "  11,\n",
              "  27,\n",
              "  34,\n",
              "  20,\n",
              "  24,\n",
              "  10,\n",
              "  30,\n",
              "  27,\n",
              "  30,\n",
              "  4,\n",
              "  2,\n",
              "  4,\n",
              "  21,\n",
              "  33,\n",
              "  33,\n",
              "  12,\n",
              "  35,\n",
              "  22,\n",
              "  8,\n",
              "  18,\n",
              "  10,\n",
              "  10,\n",
              "  6,\n",
              "  15,\n",
              "  78,\n",
              "  15,\n",
              "  32,\n",
              "  27,\n",
              "  6,\n",
              "  27,\n",
              "  45,\n",
              "  16,\n",
              "  33,\n",
              "  46,\n",
              "  18,\n",
              "  17,\n",
              "  14,\n",
              "  27,\n",
              "  23,\n",
              "  13,\n",
              "  22,\n",
              "  21,\n",
              "  11,\n",
              "  20,\n",
              "  27,\n",
              "  26,\n",
              "  43,\n",
              "  17,\n",
              "  11,\n",
              "  15,\n",
              "  30,\n",
              "  17,\n",
              "  32,\n",
              "  87,\n",
              "  18,\n",
              "  20,\n",
              "  23,\n",
              "  25,\n",
              "  12,\n",
              "  22,\n",
              "  22,\n",
              "  28,\n",
              "  52,\n",
              "  29,\n",
              "  23,\n",
              "  30,\n",
              "  67,\n",
              "  47,\n",
              "  25,\n",
              "  19,\n",
              "  32,\n",
              "  35,\n",
              "  35,\n",
              "  26,\n",
              "  27,\n",
              "  27,\n",
              "  19,\n",
              "  13,\n",
              "  27,\n",
              "  27,\n",
              "  26,\n",
              "  33,\n",
              "  22,\n",
              "  40,\n",
              "  25,\n",
              "  17,\n",
              "  9,\n",
              "  8,\n",
              "  38,\n",
              "  49,\n",
              "  30,\n",
              "  59,\n",
              "  54,\n",
              "  24,\n",
              "  26,\n",
              "  13,\n",
              "  22,\n",
              "  23,\n",
              "  53,\n",
              "  14,\n",
              "  78,\n",
              "  34,\n",
              "  40,\n",
              "  52,\n",
              "  26,\n",
              "  43,\n",
              "  16,\n",
              "  19,\n",
              "  27,\n",
              "  14,\n",
              "  21,\n",
              "  30,\n",
              "  8,\n",
              "  40,\n",
              "  19,\n",
              "  13,\n",
              "  19,\n",
              "  34,\n",
              "  8,\n",
              "  23,\n",
              "  32,\n",
              "  9,\n",
              "  37,\n",
              "  15,\n",
              "  85,\n",
              "  36,\n",
              "  45,\n",
              "  62,\n",
              "  111,\n",
              "  111,\n",
              "  65,\n",
              "  25,\n",
              "  22,\n",
              "  32,\n",
              "  14,\n",
              "  51,\n",
              "  47,\n",
              "  17,\n",
              "  42,\n",
              "  16,\n",
              "  10,\n",
              "  19,\n",
              "  33,\n",
              "  20,\n",
              "  24,\n",
              "  24,\n",
              "  28,\n",
              "  42,\n",
              "  23,\n",
              "  23,\n",
              "  20,\n",
              "  20,\n",
              "  21,\n",
              "  16,\n",
              "  35,\n",
              "  10,\n",
              "  30,\n",
              "  11,\n",
              "  14,\n",
              "  17,\n",
              "  36,\n",
              "  26,\n",
              "  30,\n",
              "  32,\n",
              "  6,\n",
              "  13,\n",
              "  26,\n",
              "  48,\n",
              "  42,\n",
              "  23,\n",
              "  32,\n",
              "  25,\n",
              "  14,\n",
              "  34,\n",
              "  42,\n",
              "  14,\n",
              "  20,\n",
              "  35,\n",
              "  25,\n",
              "  6,\n",
              "  22,\n",
              "  26,\n",
              "  55,\n",
              "  28,\n",
              "  16,\n",
              "  30,\n",
              "  45,\n",
              "  12,\n",
              "  70,\n",
              "  21,\n",
              "  23,\n",
              "  5,\n",
              "  24,\n",
              "  53,\n",
              "  16,\n",
              "  14,\n",
              "  59,\n",
              "  37,\n",
              "  25,\n",
              "  29,\n",
              "  16,\n",
              "  7,\n",
              "  23,\n",
              "  18,\n",
              "  19,\n",
              "  20,\n",
              "  23,\n",
              "  42,\n",
              "  33,\n",
              "  34,\n",
              "  21,\n",
              "  24,\n",
              "  18,\n",
              "  14,\n",
              "  27,\n",
              "  57,\n",
              "  12,\n",
              "  54,\n",
              "  39,\n",
              "  38,\n",
              "  51,\n",
              "  36,\n",
              "  23,\n",
              "  31,\n",
              "  63,\n",
              "  13,\n",
              "  23,\n",
              "  22,\n",
              "  19,\n",
              "  11,\n",
              "  18,\n",
              "  21,\n",
              "  30,\n",
              "  14,\n",
              "  13,\n",
              "  12,\n",
              "  18,\n",
              "  9,\n",
              "  17,\n",
              "  27,\n",
              "  16,\n",
              "  38,\n",
              "  10,\n",
              "  13,\n",
              "  17,\n",
              "  14,\n",
              "  13,\n",
              "  25,\n",
              "  10,\n",
              "  20,\n",
              "  24,\n",
              "  32,\n",
              "  28,\n",
              "  62,\n",
              "  35,\n",
              "  42,\n",
              "  20,\n",
              "  16,\n",
              "  12,\n",
              "  28,\n",
              "  23,\n",
              "  19,\n",
              "  21,\n",
              "  34,\n",
              "  26,\n",
              "  14,\n",
              "  12,\n",
              "  9,\n",
              "  18,\n",
              "  19,\n",
              "  21,\n",
              "  45,\n",
              "  16,\n",
              "  24,\n",
              "  70,\n",
              "  32,\n",
              "  33,\n",
              "  29,\n",
              "  28,\n",
              "  32,\n",
              "  24,\n",
              "  26,\n",
              "  37,\n",
              "  30,\n",
              "  16,\n",
              "  20,\n",
              "  15,\n",
              "  29,\n",
              "  10,\n",
              "  35,\n",
              "  15,\n",
              "  16,\n",
              "  25,\n",
              "  38,\n",
              "  20,\n",
              "  30,\n",
              "  22,\n",
              "  44,\n",
              "  64,\n",
              "  40,\n",
              "  87,\n",
              "  7,\n",
              "  27,\n",
              "  11,\n",
              "  16,\n",
              "  30,\n",
              "  20,\n",
              "  18,\n",
              "  43,\n",
              "  13,\n",
              "  59,\n",
              "  38,\n",
              "  29,\n",
              "  34,\n",
              "  33,\n",
              "  4,\n",
              "  28,\n",
              "  21,\n",
              "  3,\n",
              "  18,\n",
              "  29,\n",
              "  23,\n",
              "  28,\n",
              "  18,\n",
              "  18,\n",
              "  14,\n",
              "  20,\n",
              "  30,\n",
              "  7,\n",
              "  14,\n",
              "  3,\n",
              "  39,\n",
              "  20,\n",
              "  21,\n",
              "  35,\n",
              "  10,\n",
              "  22,\n",
              "  21,\n",
              "  19,\n",
              "  36,\n",
              "  39,\n",
              "  2,\n",
              "  22,\n",
              "  24,\n",
              "  26,\n",
              "  11,\n",
              "  8,\n",
              "  53,\n",
              "  41,\n",
              "  34,\n",
              "  27,\n",
              "  38,\n",
              "  32,\n",
              "  44,\n",
              "  32,\n",
              "  34,\n",
              "  48,\n",
              "  36,\n",
              "  36,\n",
              "  37,\n",
              "  12,\n",
              "  22,\n",
              "  22,\n",
              "  13,\n",
              "  16,\n",
              "  12,\n",
              "  14,\n",
              "  12,\n",
              "  26,\n",
              "  22,\n",
              "  30,\n",
              "  24,\n",
              "  24,\n",
              "  30,\n",
              "  46,\n",
              "  27,\n",
              "  27,\n",
              "  27,\n",
              "  28,\n",
              "  37,\n",
              "  34,\n",
              "  14,\n",
              "  21,\n",
              "  39,\n",
              "  16,\n",
              "  26,\n",
              "  21,\n",
              "  8,\n",
              "  24,\n",
              "  26,\n",
              "  8,\n",
              "  81,\n",
              "  36,\n",
              "  12,\n",
              "  19,\n",
              "  21,\n",
              "  19,\n",
              "  43,\n",
              "  19,\n",
              "  14,\n",
              "  35,\n",
              "  21,\n",
              "  21,\n",
              "  42,\n",
              "  38,\n",
              "  34,\n",
              "  27,\n",
              "  21,\n",
              "  32,\n",
              "  25,\n",
              "  28,\n",
              "  23,\n",
              "  31,\n",
              "  48,\n",
              "  84,\n",
              "  19,\n",
              "  22,\n",
              "  22,\n",
              "  33,\n",
              "  24,\n",
              "  30,\n",
              "  15,\n",
              "  24,\n",
              "  27,\n",
              "  11,\n",
              "  19,\n",
              "  18,\n",
              "  21,\n",
              "  55,\n",
              "  50,\n",
              "  32,\n",
              "  40,\n",
              "  40,\n",
              "  17,\n",
              "  17,\n",
              "  20,\n",
              "  50,\n",
              "  6,\n",
              "  12,\n",
              "  26,\n",
              "  20,\n",
              "  17,\n",
              "  8,\n",
              "  11,\n",
              "  14,\n",
              "  39,\n",
              "  47,\n",
              "  34,\n",
              "  32,\n",
              "  22,\n",
              "  41,\n",
              "  77,\n",
              "  27,\n",
              "  26,\n",
              "  8,\n",
              "  10,\n",
              "  34,\n",
              "  28,\n",
              "  27,\n",
              "  30,\n",
              "  32,\n",
              "  32,\n",
              "  65,\n",
              "  25,\n",
              "  18,\n",
              "  14,\n",
              "  37,\n",
              "  9,\n",
              "  76,\n",
              "  12,\n",
              "  22,\n",
              "  35,\n",
              "  23,\n",
              "  8,\n",
              "  19,\n",
              "  19,\n",
              "  17,\n",
              "  11,\n",
              "  33,\n",
              "  8,\n",
              "  11,\n",
              "  15,\n",
              "  24,\n",
              "  27,\n",
              "  6,\n",
              "  16,\n",
              "  59,\n",
              "  34,\n",
              "  24,\n",
              "  10,\n",
              "  37,\n",
              "  51,\n",
              "  11,\n",
              "  12,\n",
              "  22,\n",
              "  19,\n",
              "  15,\n",
              "  19,\n",
              "  23,\n",
              "  13,\n",
              "  25,\n",
              "  9,\n",
              "  29,\n",
              "  16,\n",
              "  7,\n",
              "  29,\n",
              "  24,\n",
              "  25,\n",
              "  22,\n",
              "  20,\n",
              "  14,\n",
              "  33,\n",
              "  11,\n",
              "  11,\n",
              "  21,\n",
              "  18,\n",
              "  50,\n",
              "  35,\n",
              "  22,\n",
              "  34,\n",
              "  63,\n",
              "  23,\n",
              "  53,\n",
              "  19,\n",
              "  12,\n",
              "  15,\n",
              "  17,\n",
              "  ...],\n",
              " 26.338269273494777)"
            ]
          },
          "metadata": {},
          "execution_count": 45
        }
      ]
    },
    {
      "cell_type": "code",
      "source": [
        "#What does the distribution look like\n",
        "import matplotlib.pyplot as plt\n",
        "plt.hist(sent_lens, bins=25);"
      ],
      "metadata": {
        "id": "pz2QK6g55dFp",
        "outputId": "e3085847-7b36-4933-f144-bb53b7034ca5",
        "colab": {
          "base_uri": "https://localhost:8080/",
          "height": 430
        }
      },
      "execution_count": 51,
      "outputs": [
        {
          "output_type": "display_data",
          "data": {
            "text/plain": [
              "<Figure size 640x480 with 1 Axes>"
            ],
            "image/png": "[encoded data removed]"
          },
          "metadata": {}
        }
      ]
    },
    {
      "cell_type": "code",
      "source": [
        "# How long of a sentence length covers 95& of example?\n",
        "output_seq_len=int(np.percentile(sent_lens, 95))\n",
        "output_seq_len"
      ],
      "metadata": {
        "id": "zmRZoWUA5-Iv",
        "outputId": "1e840b14-9320-4bbc-be59-3024ef9356cc",
        "colab": {
          "base_uri": "https://localhost:8080/"
        }
      },
      "execution_count": 53,
      "outputs": [
        {
          "output_type": "execute_result",
          "data": {
            "text/plain": [
              "55"
            ]
          },
          "metadata": {},
          "execution_count": 53
        }
      ]
    },
    {
      "cell_type": "code",
      "source": [
        "max(sent_lens)"
      ],
      "metadata": {
        "id": "s02URMPS6weI",
        "outputId": "4e035294-5c7a-4ac8-e388-bb2f9bb2d4ea",
        "colab": {
          "base_uri": "https://localhost:8080/"
        }
      },
      "execution_count": 55,
      "outputs": [
        {
          "output_type": "execute_result",
          "data": {
            "text/plain": [
              "296"
            ]
          },
          "metadata": {},
          "execution_count": 55
        }
      ]
    },
    {
      "cell_type": "code",
      "source": [],
      "metadata": {
        "id": "LBoyX7vv6-TF"
      },
      "execution_count": null,
      "outputs": []
    }
  ]
}