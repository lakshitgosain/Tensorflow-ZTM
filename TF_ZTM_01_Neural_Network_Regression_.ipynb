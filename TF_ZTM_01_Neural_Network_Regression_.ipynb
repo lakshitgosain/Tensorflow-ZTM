{
  "nbformat": 4,
  "nbformat_minor": 0,
  "metadata": {
    "colab": {
      "provenance": [],
      "authorship_tag": "ABX9TyP/ZXp2z9FfjkqFkNU50V66",
      "include_colab_link": true
    },
    "kernelspec": {
      "name": "python3",
      "display_name": "Python 3"
    },
    "language_info": {
      "name": "python"
    }
  },
  "cells": [
    {
      "cell_type": "markdown",
      "metadata": {
        "id": "view-in-github",
        "colab_type": "text"
      },
      "source": [
        "<a href=\"https://colab.research.google.com/github/lakshitgosain/Tensorflow-ZTM/blob/main/TF_ZTM_01_Neural_Network_Regression_.ipynb\" target=\"_parent\"><img src=\"https://colab.research.google.com/assets/colab-badge.svg\" alt=\"Open In Colab\"/></a>"
      ]
    },
    {
      "cell_type": "markdown",
      "source": [
        "## Typical architecture of a regresison neural network\n",
        "\n",
        "The word *typical* is on purpose.\n",
        "\n",
        "Why?\n",
        "\n",
        "Because there are many different ways (actually, there's almost an infinite number of ways) to write neural networks.\n",
        "\n",
        "But the following is a generic setup for ingesting a collection of numbers, finding patterns in them and then outputing some kind of target number.\n",
        "\n",
        "Yes, the previous sentence is vague but we'll see this in action shortly.\n",
        "\n",
        "| **Hyperparameter** | **Typical value** |\n",
        "| --- | --- |\n",
        "| Input layer shape | Same shape as number of features (e.g. 3 for # bedrooms, # bathrooms, # car spaces in housing price prediction) |\n",
        "| Hidden layer(s) | Problem specific, minimum = 1, maximum = unlimited |\n",
        "| Neurons per hidden layer | Problem specific, generally 10 to 100 |\n",
        "| Output layer shape | Same shape as desired prediction shape (e.g. 1 for house price) |\n",
        "| Hidden activation | Usually [ReLU](https://www.kaggle.com/dansbecker/rectified-linear-units-relu-in-deep-learning) (rectified linear unit) |\n",
        "| Output activation | None, ReLU, logistic/tanh |\n",
        "| Loss function | [MSE](https://en.wikipedia.org/wiki/Mean_squared_error) (mean square error) or [MAE](https://en.wikipedia.org/wiki/Mean_absolute_error) (mean absolute error)/Huber (combination of MAE/MSE) if outliers |\n",
        "| Optimizer | [SGD](https://www.tensorflow.org/api_docs/python/tf/keras/optimizers/SGD) (stochastic gradient descent), [Adam](https://www.tensorflow.org/api_docs/python/tf/keras/optimizers/Adam) |\n",
        "\n",
        "***Table 1:*** *Typical architecture of a regression network.* ***Source:*** *Adapted from page 293 of [Hands-On Machine Learning with Scikit-Learn, Keras & TensorFlow Book by Aurélien Géron](https://www.oreilly.com/library/view/hands-on-machine-learning/9781492032632/)*\n",
        "\n",
        "Again, if you're new to neural networks and deep learning in general, much of the above table won't make sense. But don't worry, we'll be getting hands-on with all of it soon.\n",
        "\n",
        "> 🔑 **Note:** A **hyperparameter** in machine learning is something a data analyst or developer can set themselves, where as a **parameter** usually describes something a model learns on its own (a value not explicitly set by an analyst).\n",
        "\n",
        "Okay, enough talk, let's get started writing code.\n",
        "\n",
        "To use TensorFlow, we'll import it as the common alias `tf` (short for TensorFlow)."
      ],
      "metadata": {
        "id": "CKP8rK-46aDw"
      }
    },
    {
      "cell_type": "code",
      "source": [
        "\n",
        "import tensorflow as tf\n",
        "print(tf.__version__)"
      ],
      "metadata": {
        "colab": {
          "base_uri": "https://localhost:8080/"
        },
        "id": "xf3FcsmOoG-e",
        "outputId": "e9cbf842-1342-4fee-9aff-64d227db6e6b"
      },
      "execution_count": null,
      "outputs": [
        {
          "output_type": "stream",
          "name": "stdout",
          "text": [
            "2.11.0\n"
          ]
        }
      ]
    },
    {
      "cell_type": "markdown",
      "source": [
        "##Creating data to view and Fit"
      ],
      "metadata": {
        "id": "u42SDHJhwspp"
      }
    },
    {
      "cell_type": "code",
      "source": [
        "import numpy as np\n",
        "import matplotlib.pyplot as plt"
      ],
      "metadata": {
        "id": "SMs8Rfo6w8xX"
      },
      "execution_count": null,
      "outputs": []
    },
    {
      "cell_type": "code",
      "source": [
        "#Create Features\n",
        "\n",
        "X = np.array([-7.0, -4.0, -1.0, 2.0, 5.0, 8.0, 11.0, 14.0])\n",
        "\n",
        "# Create labels\n",
        "y = np.array([3.0, 6.0, 9.0, 12.0, 15.0, 18.0, 21.0, 24.0])"
      ],
      "metadata": {
        "id": "oS_P43HIxA3r"
      },
      "execution_count": null,
      "outputs": []
    },
    {
      "cell_type": "code",
      "source": [
        "plt.scatter(X,y);"
      ],
      "metadata": {
        "colab": {
          "base_uri": "https://localhost:8080/",
          "height": 269
        },
        "id": "FmktkLOrxIiH",
        "outputId": "7ab7dab8-f575-49e6-85c5-b63b7cad9836"
      },
      "execution_count": null,
      "outputs": [
        {
          "output_type": "display_data",
          "data": {
            "text/plain": [
              "<Figure size 432x288 with 1 Axes>"
            ],
            "image/png": "[encoded data removed]"
          },
          "metadata": {
            "needs_background": "light"
          }
        }
      ]
    },
    {
      "cell_type": "code",
      "source": [
        "y==X+10"
      ],
      "metadata": {
        "colab": {
          "base_uri": "https://localhost:8080/"
        },
        "id": "KljIET_ExKZw",
        "outputId": "d5adda2f-a9f8-419f-f66e-27759b557498"
      },
      "execution_count": null,
      "outputs": [
        {
          "output_type": "execute_result",
          "data": {
            "text/plain": [
              "array([ True,  True,  True,  True,  True,  True,  True,  True])"
            ]
          },
          "metadata": {},
          "execution_count": 5
        }
      ]
    },
    {
      "cell_type": "markdown",
      "source": [
        "###Input shapes\n"
      ],
      "metadata": {
        "id": "irg3om5mxhhU"
      }
    },
    {
      "cell_type": "code",
      "source": [
        "#Create tensors for our housing price prediction problem\n",
        "house_info=tf.constant(['bedroom','bathroom','garage'])\n",
        "house_price=tf.constant([939700])\n",
        "house_info.shape, house_price.shape"
      ],
      "metadata": {
        "colab": {
          "base_uri": "https://localhost:8080/"
        },
        "id": "qUljUFsTx0gF",
        "outputId": "1665781e-5f33-49fb-ec19-f2d183951137"
      },
      "execution_count": null,
      "outputs": [
        {
          "output_type": "execute_result",
          "data": {
            "text/plain": [
              "(TensorShape([3]), TensorShape([1]))"
            ]
          },
          "metadata": {},
          "execution_count": 6
        }
      ]
    },
    {
      "cell_type": "code",
      "source": [
        "input_shape=X.shape\n",
        "output_shape=y.shape\n",
        "input_shape, output_shape"
      ],
      "metadata": {
        "colab": {
          "base_uri": "https://localhost:8080/"
        },
        "id": "9GBXw9wqyJWT",
        "outputId": "4a72efbf-60d4-484c-8fa1-0707914e9f8a"
      },
      "execution_count": null,
      "outputs": [
        {
          "output_type": "execute_result",
          "data": {
            "text/plain": [
              "((8,), (8,))"
            ]
          },
          "metadata": {},
          "execution_count": 7
        }
      ]
    },
    {
      "cell_type": "code",
      "source": [
        "#Turn our Numpy array into tenors\n",
        "X=tf.constant(X)\n",
        "y=tf.constant(y)\n",
        "X,y"
      ],
      "metadata": {
        "colab": {
          "base_uri": "https://localhost:8080/"
        },
        "id": "3Egp6dZlyRTI",
        "outputId": "9a8bf76a-6267-44ba-d8df-36f391daa754"
      },
      "execution_count": null,
      "outputs": [
        {
          "output_type": "execute_result",
          "data": {
            "text/plain": [
              "(<tf.Tensor: shape=(8,), dtype=float64, numpy=array([-7., -4., -1.,  2.,  5.,  8., 11., 14.])>,\n",
              " <tf.Tensor: shape=(8,), dtype=float64, numpy=array([ 3.,  6.,  9., 12., 15., 18., 21., 24.])>)"
            ]
          },
          "metadata": {},
          "execution_count": 8
        }
      ]
    },
    {
      "cell_type": "code",
      "source": [
        "input_shape=X[0].shape\n",
        "output_shape=y[0].shape\n",
        "input_shape, output_shape"
      ],
      "metadata": {
        "colab": {
          "base_uri": "https://localhost:8080/"
        },
        "id": "N-0w9FsJlYHB",
        "outputId": "15a95145-b21a-4f23-fede-43d173eb1585"
      },
      "execution_count": null,
      "outputs": [
        {
          "output_type": "execute_result",
          "data": {
            "text/plain": [
              "(TensorShape([]), TensorShape([]))"
            ]
          },
          "metadata": {},
          "execution_count": 9
        }
      ]
    },
    {
      "cell_type": "code",
      "source": [
        "plt.scatter(X,y)"
      ],
      "metadata": {
        "colab": {
          "base_uri": "https://localhost:8080/",
          "height": 286
        },
        "id": "aB3xSr7plf3h",
        "outputId": "a1fdfa25-0353-4bfd-b6c4-c9228e7f070d"
      },
      "execution_count": null,
      "outputs": [
        {
          "output_type": "execute_result",
          "data": {
            "text/plain": [
              "<matplotlib.collections.PathCollection at 0x7f3d8100bcd0>"
            ]
          },
          "metadata": {},
          "execution_count": 10
        },
        {
          "output_type": "display_data",
          "data": {
            "text/plain": [
              "<Figure size 432x288 with 1 Axes>"
            ],
            "image/png": "[encoded data removed]"
          },
          "metadata": {
            "needs_background": "light"
          }
        }
      ]
    },
    {
      "cell_type": "markdown",
      "source": [
        "## Steps in Modelling with Tensorflow\n",
        "\n",
        "1. **Creating a model** - define the nput layer, output layer, as well as the hidden layers of a deep learning model\n",
        "2. **Compiling a model**- define the loss function (in other words, the function which tells our model how to improve the patterns it's learning) and evaluation metrics (what we can use to interpret the performance of our model).\n",
        "3. **Fitting the model-** letting the model try to find patterns between X & y (features and labels)\n",
        "\n",
        "Get the data ready->build otr pick a pretraiuned model(to suit your problem) -> Fit the model to the data and make a prediction -> Evaluate the model -> Improve through experimentation -> save and reload your trained model.\n"
      ],
      "metadata": {
        "id": "tk0231SIlzDR"
      }
    },
    {
      "cell_type": "code",
      "source": [
        "#another way of creating the layers.  \n",
        "model=tf.keras.Sequential\n",
        "model.add(tf.keras.layers.Dense(1))\n",
        "model.add(tf.keras.layers.Dense(1))"
      ],
      "metadata": {
        "id": "09oMo7MGpjWt",
        "outputId": "4d9e8554-969d-4ede-82ef-3cc101e6df27",
        "colab": {
          "base_uri": "https://localhost:8080/",
          "height": 363
        }
      },
      "execution_count": null,
      "outputs": [
        {
          "output_type": "error",
          "ename": "TypeError",
          "evalue": "ignored",
          "traceback": [
            "\u001b[0;31m---------------------------------------------------------------------------\u001b[0m",
            "\u001b[0;31mTypeError\u001b[0m                                 Traceback (most recent call last)",
            "\u001b[0;32m<ipython-input-11-93f035faf21c>\u001b[0m in \u001b[0;36m<module>\u001b[0;34m\u001b[0m\n\u001b[1;32m      1\u001b[0m \u001b[0;31m#another way of creating the layers.\u001b[0m\u001b[0;34m\u001b[0m\u001b[0;34m\u001b[0m\u001b[0m\n\u001b[1;32m      2\u001b[0m \u001b[0mmodel\u001b[0m\u001b[0;34m=\u001b[0m\u001b[0mtf\u001b[0m\u001b[0;34m.\u001b[0m\u001b[0mkeras\u001b[0m\u001b[0;34m.\u001b[0m\u001b[0mSequential\u001b[0m\u001b[0;34m\u001b[0m\u001b[0;34m\u001b[0m\u001b[0m\n\u001b[0;32m----> 3\u001b[0;31m \u001b[0mmodel\u001b[0m\u001b[0;34m.\u001b[0m\u001b[0madd\u001b[0m\u001b[0;34m(\u001b[0m\u001b[0mtf\u001b[0m\u001b[0;34m.\u001b[0m\u001b[0mkeras\u001b[0m\u001b[0;34m.\u001b[0m\u001b[0mlayers\u001b[0m\u001b[0;34m.\u001b[0m\u001b[0mDense\u001b[0m\u001b[0;34m(\u001b[0m\u001b[0;36m1\u001b[0m\u001b[0;34m)\u001b[0m\u001b[0;34m)\u001b[0m\u001b[0;34m\u001b[0m\u001b[0;34m\u001b[0m\u001b[0m\n\u001b[0m\u001b[1;32m      4\u001b[0m \u001b[0mmodel\u001b[0m\u001b[0;34m.\u001b[0m\u001b[0madd\u001b[0m\u001b[0;34m(\u001b[0m\u001b[0mtf\u001b[0m\u001b[0;34m.\u001b[0m\u001b[0mkeras\u001b[0m\u001b[0;34m.\u001b[0m\u001b[0mlayers\u001b[0m\u001b[0;34m.\u001b[0m\u001b[0mDense\u001b[0m\u001b[0;34m(\u001b[0m\u001b[0;36m1\u001b[0m\u001b[0;34m)\u001b[0m\u001b[0;34m)\u001b[0m\u001b[0;34m\u001b[0m\u001b[0;34m\u001b[0m\u001b[0m\n",
            "\u001b[0;32m/usr/local/lib/python3.9/dist-packages/tensorflow/python/trackable/base.py\u001b[0m in \u001b[0;36m_method_wrapper\u001b[0;34m(self, *args, **kwargs)\u001b[0m\n\u001b[1;32m    203\u001b[0m     \u001b[0mself\u001b[0m\u001b[0;34m.\u001b[0m\u001b[0m_self_setattr_tracking\u001b[0m \u001b[0;34m=\u001b[0m \u001b[0;32mFalse\u001b[0m  \u001b[0;31m# pylint: disable=protected-access\u001b[0m\u001b[0;34m\u001b[0m\u001b[0;34m\u001b[0m\u001b[0m\n\u001b[1;32m    204\u001b[0m     \u001b[0;32mtry\u001b[0m\u001b[0;34m:\u001b[0m\u001b[0;34m\u001b[0m\u001b[0;34m\u001b[0m\u001b[0m\n\u001b[0;32m--> 205\u001b[0;31m       \u001b[0mresult\u001b[0m \u001b[0;34m=\u001b[0m \u001b[0mmethod\u001b[0m\u001b[0;34m(\u001b[0m\u001b[0mself\u001b[0m\u001b[0;34m,\u001b[0m \u001b[0;34m*\u001b[0m\u001b[0margs\u001b[0m\u001b[0;34m,\u001b[0m \u001b[0;34m**\u001b[0m\u001b[0mkwargs\u001b[0m\u001b[0;34m)\u001b[0m\u001b[0;34m\u001b[0m\u001b[0;34m\u001b[0m\u001b[0m\n\u001b[0m\u001b[1;32m    206\u001b[0m     \u001b[0;32mfinally\u001b[0m\u001b[0;34m:\u001b[0m\u001b[0;34m\u001b[0m\u001b[0;34m\u001b[0m\u001b[0m\n\u001b[1;32m    207\u001b[0m       \u001b[0mself\u001b[0m\u001b[0;34m.\u001b[0m\u001b[0m_self_setattr_tracking\u001b[0m \u001b[0;34m=\u001b[0m \u001b[0mprevious_value\u001b[0m  \u001b[0;31m# pylint: disable=protected-access\u001b[0m\u001b[0;34m\u001b[0m\u001b[0;34m\u001b[0m\u001b[0m\n",
            "\u001b[0;32m/usr/local/lib/python3.9/dist-packages/keras/utils/traceback_utils.py\u001b[0m in \u001b[0;36merror_handler\u001b[0;34m(*args, **kwargs)\u001b[0m\n\u001b[1;32m     68\u001b[0m             \u001b[0;31m# To get the full stack trace, call:\u001b[0m\u001b[0;34m\u001b[0m\u001b[0;34m\u001b[0m\u001b[0m\n\u001b[1;32m     69\u001b[0m             \u001b[0;31m# `tf.debugging.disable_traceback_filtering()`\u001b[0m\u001b[0;34m\u001b[0m\u001b[0;34m\u001b[0m\u001b[0m\n\u001b[0;32m---> 70\u001b[0;31m             \u001b[0;32mraise\u001b[0m \u001b[0me\u001b[0m\u001b[0;34m.\u001b[0m\u001b[0mwith_traceback\u001b[0m\u001b[0;34m(\u001b[0m\u001b[0mfiltered_tb\u001b[0m\u001b[0;34m)\u001b[0m \u001b[0;32mfrom\u001b[0m \u001b[0;32mNone\u001b[0m\u001b[0;34m\u001b[0m\u001b[0;34m\u001b[0m\u001b[0m\n\u001b[0m\u001b[1;32m     71\u001b[0m         \u001b[0;32mfinally\u001b[0m\u001b[0;34m:\u001b[0m\u001b[0;34m\u001b[0m\u001b[0;34m\u001b[0m\u001b[0m\n\u001b[1;32m     72\u001b[0m             \u001b[0;32mdel\u001b[0m \u001b[0mfiltered_tb\u001b[0m\u001b[0;34m\u001b[0m\u001b[0;34m\u001b[0m\u001b[0m\n",
            "\u001b[0;32m/usr/local/lib/python3.9/dist-packages/keras/utils/traceback_utils.py\u001b[0m in \u001b[0;36merror_handler\u001b[0;34m(*args, **kwargs)\u001b[0m\n\u001b[1;32m     63\u001b[0m         \u001b[0mfiltered_tb\u001b[0m \u001b[0;34m=\u001b[0m \u001b[0;32mNone\u001b[0m\u001b[0;34m\u001b[0m\u001b[0;34m\u001b[0m\u001b[0m\n\u001b[1;32m     64\u001b[0m         \u001b[0;32mtry\u001b[0m\u001b[0;34m:\u001b[0m\u001b[0;34m\u001b[0m\u001b[0;34m\u001b[0m\u001b[0m\n\u001b[0;32m---> 65\u001b[0;31m             \u001b[0;32mreturn\u001b[0m \u001b[0mfn\u001b[0m\u001b[0;34m(\u001b[0m\u001b[0;34m*\u001b[0m\u001b[0margs\u001b[0m\u001b[0;34m,\u001b[0m \u001b[0;34m**\u001b[0m\u001b[0mkwargs\u001b[0m\u001b[0;34m)\u001b[0m\u001b[0;34m\u001b[0m\u001b[0;34m\u001b[0m\u001b[0m\n\u001b[0m\u001b[1;32m     66\u001b[0m         \u001b[0;32mexcept\u001b[0m \u001b[0mException\u001b[0m \u001b[0;32mas\u001b[0m \u001b[0me\u001b[0m\u001b[0;34m:\u001b[0m\u001b[0;34m\u001b[0m\u001b[0;34m\u001b[0m\u001b[0m\n\u001b[1;32m     67\u001b[0m             \u001b[0mfiltered_tb\u001b[0m \u001b[0;34m=\u001b[0m \u001b[0m_process_traceback_frames\u001b[0m\u001b[0;34m(\u001b[0m\u001b[0me\u001b[0m\u001b[0;34m.\u001b[0m\u001b[0m__traceback__\u001b[0m\u001b[0;34m)\u001b[0m\u001b[0;34m\u001b[0m\u001b[0;34m\u001b[0m\u001b[0m\n",
            "\u001b[0;31mTypeError\u001b[0m: add() missing 1 required positional argument: 'layer'"
          ]
        }
      ]
    },
    {
      "cell_type": "code",
      "source": [
        "#Creating the model using sequential APIs\n",
        "tf.random.set_seed(42)\n",
        "\n",
        "#1. Create a model using the sequentiual API\n",
        "model=tf.keras.Sequential([\n",
        "    tf.keras.layers.Dense(1)\n",
        "])\n",
        "\n",
        "#2.Compile the model\n",
        "model.compile(loss=tf.keras.losses.mae,\n",
        "              optimizer=tf.keras.optimizers.SGD(),\n",
        "              metrics=['mae'])\n",
        "\n",
        "#3. Fit the model\n",
        "#model.fit(X,y,epochs=5)\n",
        "#for tf version 2.7+, we need to use the below for fitting the model\n",
        "model.fit(tf.expand_dims(X,axis=-1),y,epochs=5);"
      ],
      "metadata": {
        "colab": {
          "base_uri": "https://localhost:8080/"
        },
        "id": "9LqpqUBLmVbe",
        "outputId": "84a9c225-1424-4bfc-e763-b68e6fe1bb25"
      },
      "execution_count": null,
      "outputs": [
        {
          "output_type": "stream",
          "name": "stdout",
          "text": [
            "Epoch 1/5\n",
            "1/1 [==============================] - 1s 1s/step - loss: 21.2632 - mae: 21.2632\n",
            "Epoch 2/5\n",
            "1/1 [==============================] - 0s 25ms/step - loss: 20.8701 - mae: 20.8701\n",
            "Epoch 3/5\n",
            "1/1 [==============================] - 0s 13ms/step - loss: 20.4974 - mae: 20.4974\n",
            "Epoch 4/5\n",
            "1/1 [==============================] - 0s 11ms/step - loss: 20.2161 - mae: 20.2161\n",
            "Epoch 5/5\n",
            "1/1 [==============================] - 0s 14ms/step - loss: 19.9349 - mae: 19.9349\n"
          ]
        }
      ]
    },
    {
      "cell_type": "code",
      "source": [
        "#Check out X and y\n",
        "X,y"
      ],
      "metadata": {
        "colab": {
          "base_uri": "https://localhost:8080/"
        },
        "id": "fw-3-pQMn5td",
        "outputId": "dfcaf590-2491-44c0-f8a3-8966e7afd463"
      },
      "execution_count": null,
      "outputs": [
        {
          "output_type": "execute_result",
          "data": {
            "text/plain": [
              "(<tf.Tensor: shape=(8,), dtype=float64, numpy=array([-7., -4., -1.,  2.,  5.,  8., 11., 14.])>,\n",
              " <tf.Tensor: shape=(8,), dtype=float64, numpy=array([ 3.,  6.,  9., 12., 15., 18., 21., 24.])>)"
            ]
          },
          "metadata": {},
          "execution_count": 13
        }
      ]
    },
    {
      "cell_type": "code",
      "source": [
        "#Try and make a predictio using a model\n",
        "y_pred=model.predict([17.0])"
      ],
      "metadata": {
        "colab": {
          "base_uri": "https://localhost:8080/"
        },
        "id": "7DoUB6gLrLWp",
        "outputId": "ab96cd20-f7f2-43f8-8efc-cd819726a8a8"
      },
      "execution_count": null,
      "outputs": [
        {
          "output_type": "stream",
          "name": "stdout",
          "text": [
            "1/1 [==============================] - 0s 182ms/step\n"
          ]
        }
      ]
    },
    {
      "cell_type": "code",
      "source": [
        "y_pred+16"
      ],
      "metadata": {
        "colab": {
          "base_uri": "https://localhost:8080/"
        },
        "id": "UA5vLSx1rQ0l",
        "outputId": "61f04a32-3dd3-4468-c507-2fd7364d1192"
      },
      "execution_count": null,
      "outputs": [
        {
          "output_type": "execute_result",
          "data": {
            "text/plain": [
              "array([[-6.40102]], dtype=float32)"
            ]
          },
          "metadata": {},
          "execution_count": 15
        }
      ]
    },
    {
      "cell_type": "markdown",
      "source": [
        "### Improving our model\n",
        "We can improve our model by altering the steps we used to create our model.\n",
        "\n",
        "1. Creating a model -  here, we might add more layers, increase the number of hidden units within each of the hidden layers, change the activation function of the layer.\n",
        "\n",
        "2. Compiling the model - here we might change the optimization function or perhaps the learning rate of the optimization function\n",
        "\n",
        "3. Fitting the model - here we might fir a model for more epochs(leave it training for longer) or on more data (give the model more examples to learn from)"
      ],
      "metadata": {
        "id": "0xqY5OP1rgCS"
      }
    },
    {
      "cell_type": "code",
      "source": [
        "#Create the bigger model\n",
        "model=tf.keras.Sequential([\n",
        "    tf.keras.layers.Dense(100,activation='relu'),\n",
        "    tf.keras.layers.Dense(100,activation='relu'),\n",
        "    tf.keras.layers.Dense(100,activation='relu'),\n",
        "    tf.keras.layers.Dense(1)\n",
        "])\n",
        "\n",
        "#Compile the model\n",
        "model.compile(loss=tf.keras.losses.mae,\n",
        "              optimizer=tf.keras.optimizers.Adam(learning_rate=0.0001),\n",
        "              metrics=['mae'])\n",
        "\n",
        "#Fit the model\n",
        "model.fit(tf.expand_dims(X,axis=-1),y,epochs=100)\n",
        "#model.fit(X,y,epochs=100)"
      ],
      "metadata": {
        "colab": {
          "base_uri": "https://localhost:8080/"
        },
        "id": "kX6nvu2WrvrC",
        "outputId": "2b598837-acb8-480e-955c-e22accccdfaf"
      },
      "execution_count": null,
      "outputs": [
        {
          "output_type": "stream",
          "name": "stdout",
          "text": [
            "Epoch 1/100\n",
            "1/1 [==============================] - 3s 3s/step - loss: 13.4312 - mae: 13.4312\n",
            "Epoch 2/100\n",
            "1/1 [==============================] - 0s 60ms/step - loss: 13.3924 - mae: 13.3924\n",
            "Epoch 3/100\n",
            "1/1 [==============================] - 0s 39ms/step - loss: 13.3542 - mae: 13.3542\n",
            "Epoch 4/100\n",
            "1/1 [==============================] - 0s 42ms/step - loss: 13.3161 - mae: 13.3161\n",
            "Epoch 5/100\n",
            "1/1 [==============================] - 0s 34ms/step - loss: 13.2785 - mae: 13.2785\n",
            "Epoch 6/100\n",
            "1/1 [==============================] - 0s 45ms/step - loss: 13.2407 - mae: 13.2407\n",
            "Epoch 7/100\n",
            "1/1 [==============================] - 0s 24ms/step - loss: 13.2026 - mae: 13.2026\n",
            "Epoch 8/100\n",
            "1/1 [==============================] - 0s 36ms/step - loss: 13.1646 - mae: 13.1646\n",
            "Epoch 9/100\n",
            "1/1 [==============================] - 0s 24ms/step - loss: 13.1268 - mae: 13.1268\n",
            "Epoch 10/100\n",
            "1/1 [==============================] - 0s 26ms/step - loss: 13.0889 - mae: 13.0889\n",
            "Epoch 11/100\n",
            "1/1 [==============================] - 0s 25ms/step - loss: 13.0509 - mae: 13.0509\n",
            "Epoch 12/100\n",
            "1/1 [==============================] - 0s 30ms/step - loss: 13.0131 - mae: 13.0131\n",
            "Epoch 13/100\n",
            "1/1 [==============================] - 0s 31ms/step - loss: 12.9757 - mae: 12.9757\n",
            "Epoch 14/100\n",
            "1/1 [==============================] - 0s 26ms/step - loss: 12.9381 - mae: 12.9381\n",
            "Epoch 15/100\n",
            "1/1 [==============================] - 0s 24ms/step - loss: 12.9000 - mae: 12.9000\n",
            "Epoch 16/100\n",
            "1/1 [==============================] - 0s 27ms/step - loss: 12.8630 - mae: 12.8630\n",
            "Epoch 17/100\n",
            "1/1 [==============================] - 0s 24ms/step - loss: 12.8258 - mae: 12.8258\n",
            "Epoch 18/100\n",
            "1/1 [==============================] - 0s 24ms/step - loss: 12.7883 - mae: 12.7883\n",
            "Epoch 19/100\n",
            "1/1 [==============================] - 0s 24ms/step - loss: 12.7508 - mae: 12.7508\n",
            "Epoch 20/100\n",
            "1/1 [==============================] - 0s 26ms/step - loss: 12.7132 - mae: 12.7132\n",
            "Epoch 21/100\n",
            "1/1 [==============================] - 0s 25ms/step - loss: 12.6756 - mae: 12.6756\n",
            "Epoch 22/100\n",
            "1/1 [==============================] - 0s 18ms/step - loss: 12.6395 - mae: 12.6395\n",
            "Epoch 23/100\n",
            "1/1 [==============================] - 0s 18ms/step - loss: 12.6034 - mae: 12.6034\n",
            "Epoch 24/100\n",
            "1/1 [==============================] - 0s 22ms/step - loss: 12.5672 - mae: 12.5672\n",
            "Epoch 25/100\n",
            "1/1 [==============================] - 0s 42ms/step - loss: 12.5320 - mae: 12.5320\n",
            "Epoch 26/100\n",
            "1/1 [==============================] - 0s 26ms/step - loss: 12.4968 - mae: 12.4968\n",
            "Epoch 27/100\n",
            "1/1 [==============================] - 0s 27ms/step - loss: 12.4615 - mae: 12.4615\n",
            "Epoch 28/100\n",
            "1/1 [==============================] - 0s 22ms/step - loss: 12.4260 - mae: 12.4260\n",
            "Epoch 29/100\n",
            "1/1 [==============================] - 0s 59ms/step - loss: 12.3906 - mae: 12.3906\n",
            "Epoch 30/100\n",
            "1/1 [==============================] - 0s 59ms/step - loss: 12.3563 - mae: 12.3563\n",
            "Epoch 31/100\n",
            "1/1 [==============================] - 0s 28ms/step - loss: 12.3218 - mae: 12.3218\n",
            "Epoch 32/100\n",
            "1/1 [==============================] - 0s 42ms/step - loss: 12.2870 - mae: 12.2870\n",
            "Epoch 33/100\n",
            "1/1 [==============================] - 0s 23ms/step - loss: 12.2519 - mae: 12.2519\n",
            "Epoch 34/100\n",
            "1/1 [==============================] - 0s 20ms/step - loss: 12.2162 - mae: 12.2162\n",
            "Epoch 35/100\n",
            "1/1 [==============================] - 0s 25ms/step - loss: 12.1802 - mae: 12.1802\n",
            "Epoch 36/100\n",
            "1/1 [==============================] - 0s 59ms/step - loss: 12.1440 - mae: 12.1440\n",
            "Epoch 37/100\n",
            "1/1 [==============================] - 0s 59ms/step - loss: 12.1083 - mae: 12.1083\n",
            "Epoch 38/100\n",
            "1/1 [==============================] - 0s 44ms/step - loss: 12.0723 - mae: 12.0723\n",
            "Epoch 39/100\n",
            "1/1 [==============================] - 0s 27ms/step - loss: 12.0361 - mae: 12.0361\n",
            "Epoch 40/100\n",
            "1/1 [==============================] - 0s 20ms/step - loss: 11.9999 - mae: 11.9999\n",
            "Epoch 41/100\n",
            "1/1 [==============================] - 0s 28ms/step - loss: 11.9634 - mae: 11.9634\n",
            "Epoch 42/100\n",
            "1/1 [==============================] - 0s 35ms/step - loss: 11.9266 - mae: 11.9266\n",
            "Epoch 43/100\n",
            "1/1 [==============================] - 0s 37ms/step - loss: 11.8895 - mae: 11.8895\n",
            "Epoch 44/100\n",
            "1/1 [==============================] - 0s 34ms/step - loss: 11.8520 - mae: 11.8520\n",
            "Epoch 45/100\n",
            "1/1 [==============================] - 0s 34ms/step - loss: 11.8142 - mae: 11.8142\n",
            "Epoch 46/100\n",
            "1/1 [==============================] - 0s 36ms/step - loss: 11.7762 - mae: 11.7762\n",
            "Epoch 47/100\n",
            "1/1 [==============================] - 0s 28ms/step - loss: 11.7381 - mae: 11.7381\n",
            "Epoch 48/100\n",
            "1/1 [==============================] - 0s 23ms/step - loss: 11.6998 - mae: 11.6998\n",
            "Epoch 49/100\n",
            "1/1 [==============================] - 0s 34ms/step - loss: 11.6612 - mae: 11.6612\n",
            "Epoch 50/100\n",
            "1/1 [==============================] - 0s 30ms/step - loss: 11.6220 - mae: 11.6220\n",
            "Epoch 51/100\n",
            "1/1 [==============================] - 0s 33ms/step - loss: 11.5815 - mae: 11.5815\n",
            "Epoch 52/100\n",
            "1/1 [==============================] - 0s 27ms/step - loss: 11.5401 - mae: 11.5401\n",
            "Epoch 53/100\n",
            "1/1 [==============================] - 0s 39ms/step - loss: 11.4982 - mae: 11.4982\n",
            "Epoch 54/100\n",
            "1/1 [==============================] - 0s 61ms/step - loss: 11.4557 - mae: 11.4557\n",
            "Epoch 55/100\n",
            "1/1 [==============================] - 0s 35ms/step - loss: 11.4127 - mae: 11.4127\n",
            "Epoch 56/100\n",
            "1/1 [==============================] - 0s 31ms/step - loss: 11.3691 - mae: 11.3691\n",
            "Epoch 57/100\n",
            "1/1 [==============================] - 0s 55ms/step - loss: 11.3249 - mae: 11.3249\n",
            "Epoch 58/100\n",
            "1/1 [==============================] - 0s 45ms/step - loss: 11.2799 - mae: 11.2799\n",
            "Epoch 59/100\n",
            "1/1 [==============================] - 0s 50ms/step - loss: 11.2345 - mae: 11.2345\n",
            "Epoch 60/100\n",
            "1/1 [==============================] - 0s 31ms/step - loss: 11.1890 - mae: 11.1890\n",
            "Epoch 61/100\n",
            "1/1 [==============================] - 0s 27ms/step - loss: 11.1428 - mae: 11.1428\n",
            "Epoch 62/100\n",
            "1/1 [==============================] - 0s 28ms/step - loss: 11.0956 - mae: 11.0956\n",
            "Epoch 63/100\n",
            "1/1 [==============================] - 0s 28ms/step - loss: 11.0479 - mae: 11.0479\n",
            "Epoch 64/100\n",
            "1/1 [==============================] - 0s 27ms/step - loss: 10.9997 - mae: 10.9997\n",
            "Epoch 65/100\n",
            "1/1 [==============================] - 0s 29ms/step - loss: 10.9510 - mae: 10.9510\n",
            "Epoch 66/100\n",
            "1/1 [==============================] - 0s 23ms/step - loss: 10.9019 - mae: 10.9019\n",
            "Epoch 67/100\n",
            "1/1 [==============================] - 0s 37ms/step - loss: 10.8524 - mae: 10.8524\n",
            "Epoch 68/100\n",
            "1/1 [==============================] - 0s 41ms/step - loss: 10.8025 - mae: 10.8025\n",
            "Epoch 69/100\n",
            "1/1 [==============================] - 0s 28ms/step - loss: 10.7523 - mae: 10.7523\n",
            "Epoch 70/100\n",
            "1/1 [==============================] - 0s 15ms/step - loss: 10.7016 - mae: 10.7016\n",
            "Epoch 71/100\n",
            "1/1 [==============================] - 0s 42ms/step - loss: 10.6507 - mae: 10.6507\n",
            "Epoch 72/100\n",
            "1/1 [==============================] - 0s 42ms/step - loss: 10.6036 - mae: 10.6036\n",
            "Epoch 73/100\n",
            "1/1 [==============================] - 0s 28ms/step - loss: 10.5649 - mae: 10.5649\n",
            "Epoch 74/100\n",
            "1/1 [==============================] - 0s 25ms/step - loss: 10.5259 - mae: 10.5259\n",
            "Epoch 75/100\n",
            "1/1 [==============================] - 0s 34ms/step - loss: 10.4865 - mae: 10.4865\n",
            "Epoch 76/100\n",
            "1/1 [==============================] - 0s 41ms/step - loss: 10.4466 - mae: 10.4466\n",
            "Epoch 77/100\n",
            "1/1 [==============================] - 0s 43ms/step - loss: 10.4065 - mae: 10.4065\n",
            "Epoch 78/100\n",
            "1/1 [==============================] - 0s 35ms/step - loss: 10.3662 - mae: 10.3662\n",
            "Epoch 79/100\n",
            "1/1 [==============================] - 0s 46ms/step - loss: 10.3259 - mae: 10.3259\n",
            "Epoch 80/100\n",
            "1/1 [==============================] - 0s 25ms/step - loss: 10.2853 - mae: 10.2853\n",
            "Epoch 81/100\n",
            "1/1 [==============================] - 0s 32ms/step - loss: 10.2444 - mae: 10.2444\n",
            "Epoch 82/100\n",
            "1/1 [==============================] - 0s 28ms/step - loss: 10.2033 - mae: 10.2033\n",
            "Epoch 83/100\n",
            "1/1 [==============================] - 0s 32ms/step - loss: 10.1619 - mae: 10.1619\n",
            "Epoch 84/100\n",
            "1/1 [==============================] - 0s 27ms/step - loss: 10.1201 - mae: 10.1201\n",
            "Epoch 85/100\n",
            "1/1 [==============================] - 0s 27ms/step - loss: 10.0779 - mae: 10.0779\n",
            "Epoch 86/100\n",
            "1/1 [==============================] - 0s 34ms/step - loss: 10.0358 - mae: 10.0358\n",
            "Epoch 87/100\n",
            "1/1 [==============================] - 0s 25ms/step - loss: 9.9935 - mae: 9.9935\n",
            "Epoch 88/100\n",
            "1/1 [==============================] - 0s 37ms/step - loss: 9.9510 - mae: 9.9510\n",
            "Epoch 89/100\n",
            "1/1 [==============================] - 0s 37ms/step - loss: 9.9080 - mae: 9.9080\n",
            "Epoch 90/100\n",
            "1/1 [==============================] - 0s 27ms/step - loss: 9.8647 - mae: 9.8647\n",
            "Epoch 91/100\n",
            "1/1 [==============================] - 0s 47ms/step - loss: 9.8211 - mae: 9.8211\n",
            "Epoch 92/100\n",
            "1/1 [==============================] - 0s 43ms/step - loss: 9.7771 - mae: 9.7771\n",
            "Epoch 93/100\n",
            "1/1 [==============================] - 0s 46ms/step - loss: 9.7327 - mae: 9.7327\n",
            "Epoch 94/100\n",
            "1/1 [==============================] - 0s 27ms/step - loss: 9.6879 - mae: 9.6879\n",
            "Epoch 95/100\n",
            "1/1 [==============================] - 0s 37ms/step - loss: 9.6426 - mae: 9.6426\n",
            "Epoch 96/100\n",
            "1/1 [==============================] - 0s 59ms/step - loss: 9.5969 - mae: 9.5969\n",
            "Epoch 97/100\n",
            "1/1 [==============================] - 0s 30ms/step - loss: 9.5507 - mae: 9.5507\n",
            "Epoch 98/100\n",
            "1/1 [==============================] - 0s 66ms/step - loss: 9.5040 - mae: 9.5040\n",
            "Epoch 99/100\n",
            "1/1 [==============================] - 0s 28ms/step - loss: 9.4564 - mae: 9.4564\n",
            "Epoch 100/100\n",
            "1/1 [==============================] - 0s 14ms/step - loss: 9.4083 - mae: 9.4083\n"
          ]
        },
        {
          "output_type": "execute_result",
          "data": {
            "text/plain": [
              "<keras.callbacks.History at 0x7f3d885f9040>"
            ]
          },
          "metadata": {},
          "execution_count": 16
        }
      ]
    },
    {
      "cell_type": "code",
      "source": [
        "model.predict([17.0])"
      ],
      "metadata": {
        "colab": {
          "base_uri": "https://localhost:8080/"
        },
        "id": "AvOvythcxdFy",
        "outputId": "35247590-4649-45d4-d127-53279426017d"
      },
      "execution_count": null,
      "outputs": [
        {
          "output_type": "stream",
          "name": "stdout",
          "text": [
            "1/1 [==============================] - 1s 872ms/step\n"
          ]
        },
        {
          "output_type": "execute_result",
          "data": {
            "text/plain": [
              "array([[11.689178]], dtype=float32)"
            ]
          },
          "metadata": {},
          "execution_count": 17
        }
      ]
    },
    {
      "cell_type": "markdown",
      "source": [
        "### Another attempt"
      ],
      "metadata": {
        "id": "zzP4dEBtyYrY"
      }
    },
    {
      "cell_type": "code",
      "source": [
        "#Create the bigger model\n",
        "model=tf.keras.Sequential([\n",
        "    tf.keras.layers.Dense(100,activation='relu'),\n",
        "    tf.keras.layers.Dense(100,activation='relu'),\n",
        "    tf.keras.layers.Dense(100,activation='relu'),\n",
        "    tf.keras.layers.Dense(1)\n",
        "])\n",
        "\n",
        "#Compile the model\n",
        "model.compile(loss=tf.keras.losses.mae,\n",
        "              optimizer=tf.keras.optimizers.Adam(learning_rate=0.001),\n",
        "              metrics=['mae'])\n",
        "\n",
        "#Fit the model\n",
        "model.fit(tf.expand_dims(X,axis=-1),y,epochs=100)\n",
        "#model.fit(X,y,epochs=100)"
      ],
      "metadata": {
        "colab": {
          "base_uri": "https://localhost:8080/"
        },
        "id": "mOg4z6fYzPt3",
        "outputId": "107aacab-0d88-4390-c72f-99cb09af5d23"
      },
      "execution_count": null,
      "outputs": [
        {
          "output_type": "stream",
          "name": "stdout",
          "text": [
            "Epoch 1/100\n",
            "1/1 [==============================] - 4s 4s/step - loss: 13.5983 - mae: 13.5983\n",
            "Epoch 2/100\n",
            "1/1 [==============================] - 0s 24ms/step - loss: 13.1843 - mae: 13.1843\n",
            "Epoch 3/100\n",
            "1/1 [==============================] - 0s 55ms/step - loss: 12.7869 - mae: 12.7869\n",
            "Epoch 4/100\n",
            "1/1 [==============================] - 0s 17ms/step - loss: 12.4364 - mae: 12.4364\n",
            "Epoch 5/100\n",
            "1/1 [==============================] - 0s 41ms/step - loss: 12.1172 - mae: 12.1172\n",
            "Epoch 6/100\n",
            "1/1 [==============================] - 0s 19ms/step - loss: 11.8059 - mae: 11.8059\n",
            "Epoch 7/100\n",
            "1/1 [==============================] - 0s 18ms/step - loss: 11.4799 - mae: 11.4799\n",
            "Epoch 8/100\n",
            "1/1 [==============================] - 0s 20ms/step - loss: 11.1622 - mae: 11.1622\n",
            "Epoch 9/100\n",
            "1/1 [==============================] - 0s 34ms/step - loss: 10.9035 - mae: 10.9035\n",
            "Epoch 10/100\n",
            "1/1 [==============================] - 0s 23ms/step - loss: 10.6730 - mae: 10.6730\n",
            "Epoch 11/100\n",
            "1/1 [==============================] - 0s 22ms/step - loss: 10.4252 - mae: 10.4252\n",
            "Epoch 12/100\n",
            "1/1 [==============================] - 0s 31ms/step - loss: 10.1594 - mae: 10.1594\n",
            "Epoch 13/100\n",
            "1/1 [==============================] - 0s 38ms/step - loss: 9.8691 - mae: 9.8691\n",
            "Epoch 14/100\n",
            "1/1 [==============================] - 0s 31ms/step - loss: 9.5573 - mae: 9.5573\n",
            "Epoch 15/100\n",
            "1/1 [==============================] - 0s 36ms/step - loss: 9.2249 - mae: 9.2249\n",
            "Epoch 16/100\n",
            "1/1 [==============================] - 0s 37ms/step - loss: 8.8725 - mae: 8.8725\n",
            "Epoch 17/100\n",
            "1/1 [==============================] - 0s 22ms/step - loss: 8.4971 - mae: 8.4971\n",
            "Epoch 18/100\n",
            "1/1 [==============================] - 0s 28ms/step - loss: 8.0916 - mae: 8.0916\n",
            "Epoch 19/100\n",
            "1/1 [==============================] - 0s 28ms/step - loss: 7.6558 - mae: 7.6558\n",
            "Epoch 20/100\n",
            "1/1 [==============================] - 0s 54ms/step - loss: 7.1888 - mae: 7.1888\n",
            "Epoch 21/100\n",
            "1/1 [==============================] - 0s 25ms/step - loss: 6.6895 - mae: 6.6895\n",
            "Epoch 22/100\n",
            "1/1 [==============================] - 0s 39ms/step - loss: 6.1539 - mae: 6.1539\n",
            "Epoch 23/100\n",
            "1/1 [==============================] - 0s 44ms/step - loss: 5.5805 - mae: 5.5805\n",
            "Epoch 24/100\n",
            "1/1 [==============================] - 0s 27ms/step - loss: 4.9662 - mae: 4.9662\n",
            "Epoch 25/100\n",
            "1/1 [==============================] - 0s 43ms/step - loss: 4.3060 - mae: 4.3060\n",
            "Epoch 26/100\n",
            "1/1 [==============================] - 0s 28ms/step - loss: 4.0050 - mae: 4.0050\n",
            "Epoch 27/100\n",
            "1/1 [==============================] - 0s 35ms/step - loss: 3.9748 - mae: 3.9748\n",
            "Epoch 28/100\n",
            "1/1 [==============================] - 0s 29ms/step - loss: 4.1172 - mae: 4.1172\n",
            "Epoch 29/100\n",
            "1/1 [==============================] - 0s 28ms/step - loss: 4.2405 - mae: 4.2405\n",
            "Epoch 30/100\n",
            "1/1 [==============================] - 0s 19ms/step - loss: 4.5246 - mae: 4.5246\n",
            "Epoch 31/100\n",
            "1/1 [==============================] - 0s 42ms/step - loss: 4.7259 - mae: 4.7259\n",
            "Epoch 32/100\n",
            "1/1 [==============================] - 0s 34ms/step - loss: 4.8353 - mae: 4.8353\n",
            "Epoch 33/100\n",
            "1/1 [==============================] - 0s 33ms/step - loss: 4.8644 - mae: 4.8644\n",
            "Epoch 34/100\n",
            "1/1 [==============================] - 0s 33ms/step - loss: 4.8225 - mae: 4.8225\n",
            "Epoch 35/100\n",
            "1/1 [==============================] - 0s 41ms/step - loss: 4.7205 - mae: 4.7205\n",
            "Epoch 36/100\n",
            "1/1 [==============================] - 0s 29ms/step - loss: 4.5678 - mae: 4.5678\n",
            "Epoch 37/100\n",
            "1/1 [==============================] - 0s 45ms/step - loss: 4.3748 - mae: 4.3748\n",
            "Epoch 38/100\n",
            "1/1 [==============================] - 0s 42ms/step - loss: 4.1498 - mae: 4.1498\n",
            "Epoch 39/100\n",
            "1/1 [==============================] - 0s 40ms/step - loss: 4.0483 - mae: 4.0483\n",
            "Epoch 40/100\n",
            "1/1 [==============================] - 0s 42ms/step - loss: 3.9524 - mae: 3.9524\n",
            "Epoch 41/100\n",
            "1/1 [==============================] - 0s 24ms/step - loss: 3.8599 - mae: 3.8599\n",
            "Epoch 42/100\n",
            "1/1 [==============================] - 0s 32ms/step - loss: 3.7708 - mae: 3.7708\n",
            "Epoch 43/100\n",
            "1/1 [==============================] - 0s 22ms/step - loss: 3.7753 - mae: 3.7753\n",
            "Epoch 44/100\n",
            "1/1 [==============================] - 0s 54ms/step - loss: 3.8435 - mae: 3.8435\n",
            "Epoch 45/100\n",
            "1/1 [==============================] - 0s 32ms/step - loss: 3.8928 - mae: 3.8928\n",
            "Epoch 46/100\n",
            "1/1 [==============================] - 0s 48ms/step - loss: 3.9266 - mae: 3.9266\n",
            "Epoch 47/100\n",
            "1/1 [==============================] - 0s 13ms/step - loss: 3.9609 - mae: 3.9609\n",
            "Epoch 48/100\n",
            "1/1 [==============================] - 0s 27ms/step - loss: 3.9619 - mae: 3.9619\n",
            "Epoch 49/100\n",
            "1/1 [==============================] - 0s 41ms/step - loss: 3.9532 - mae: 3.9532\n",
            "Epoch 50/100\n",
            "1/1 [==============================] - 0s 32ms/step - loss: 3.9424 - mae: 3.9424\n",
            "Epoch 51/100\n",
            "1/1 [==============================] - 0s 18ms/step - loss: 3.9213 - mae: 3.9213\n",
            "Epoch 52/100\n",
            "1/1 [==============================] - 0s 23ms/step - loss: 3.8903 - mae: 3.8903\n",
            "Epoch 53/100\n",
            "1/1 [==============================] - 0s 19ms/step - loss: 3.8500 - mae: 3.8500\n",
            "Epoch 54/100\n",
            "1/1 [==============================] - 0s 20ms/step - loss: 3.8005 - mae: 3.8005\n",
            "Epoch 55/100\n",
            "1/1 [==============================] - 0s 25ms/step - loss: 3.7427 - mae: 3.7427\n",
            "Epoch 56/100\n",
            "1/1 [==============================] - 0s 21ms/step - loss: 3.6760 - mae: 3.6760\n",
            "Epoch 57/100\n",
            "1/1 [==============================] - 0s 21ms/step - loss: 3.6277 - mae: 3.6277\n",
            "Epoch 58/100\n",
            "1/1 [==============================] - 0s 20ms/step - loss: 3.6531 - mae: 3.6531\n",
            "Epoch 59/100\n",
            "1/1 [==============================] - 0s 22ms/step - loss: 3.6682 - mae: 3.6682\n",
            "Epoch 60/100\n",
            "1/1 [==============================] - 0s 22ms/step - loss: 3.6734 - mae: 3.6734\n",
            "Epoch 61/100\n",
            "1/1 [==============================] - 0s 20ms/step - loss: 3.6698 - mae: 3.6698\n",
            "Epoch 62/100\n",
            "1/1 [==============================] - 0s 19ms/step - loss: 3.6595 - mae: 3.6595\n",
            "Epoch 63/100\n",
            "1/1 [==============================] - 0s 23ms/step - loss: 3.6418 - mae: 3.6418\n",
            "Epoch 64/100\n",
            "1/1 [==============================] - 0s 25ms/step - loss: 3.6357 - mae: 3.6357\n",
            "Epoch 65/100\n",
            "1/1 [==============================] - 0s 38ms/step - loss: 3.5980 - mae: 3.5980\n",
            "Epoch 66/100\n",
            "1/1 [==============================] - 0s 27ms/step - loss: 3.5683 - mae: 3.5683\n",
            "Epoch 67/100\n",
            "1/1 [==============================] - 0s 38ms/step - loss: 3.5389 - mae: 3.5389\n",
            "Epoch 68/100\n",
            "1/1 [==============================] - 0s 34ms/step - loss: 3.5138 - mae: 3.5138\n",
            "Epoch 69/100\n",
            "1/1 [==============================] - 0s 35ms/step - loss: 3.5285 - mae: 3.5285\n",
            "Epoch 70/100\n",
            "1/1 [==============================] - 0s 50ms/step - loss: 3.5257 - mae: 3.5257\n",
            "Epoch 71/100\n",
            "1/1 [==============================] - 0s 57ms/step - loss: 3.5068 - mae: 3.5068\n",
            "Epoch 72/100\n",
            "1/1 [==============================] - 0s 49ms/step - loss: 3.4730 - mae: 3.4730\n",
            "Epoch 73/100\n",
            "1/1 [==============================] - 0s 43ms/step - loss: 3.4842 - mae: 3.4842\n",
            "Epoch 74/100\n",
            "1/1 [==============================] - 0s 38ms/step - loss: 3.4855 - mae: 3.4855\n",
            "Epoch 75/100\n",
            "1/1 [==============================] - 0s 37ms/step - loss: 3.4764 - mae: 3.4764\n",
            "Epoch 76/100\n",
            "1/1 [==============================] - 0s 29ms/step - loss: 3.4606 - mae: 3.4606\n",
            "Epoch 77/100\n",
            "1/1 [==============================] - 0s 42ms/step - loss: 3.4369 - mae: 3.4369\n",
            "Epoch 78/100\n",
            "1/1 [==============================] - 0s 30ms/step - loss: 3.4060 - mae: 3.4060\n",
            "Epoch 79/100\n",
            "1/1 [==============================] - 0s 43ms/step - loss: 3.3679 - mae: 3.3679\n",
            "Epoch 80/100\n",
            "1/1 [==============================] - 0s 60ms/step - loss: 3.3728 - mae: 3.3728\n",
            "Epoch 81/100\n",
            "1/1 [==============================] - 0s 31ms/step - loss: 3.3893 - mae: 3.3893\n",
            "Epoch 82/100\n",
            "1/1 [==============================] - 0s 35ms/step - loss: 3.3555 - mae: 3.3555\n",
            "Epoch 83/100\n",
            "1/1 [==============================] - 0s 33ms/step - loss: 3.3180 - mae: 3.3180\n",
            "Epoch 84/100\n",
            "1/1 [==============================] - 0s 24ms/step - loss: 3.3050 - mae: 3.3050\n",
            "Epoch 85/100\n",
            "1/1 [==============================] - 0s 25ms/step - loss: 3.3088 - mae: 3.3088\n",
            "Epoch 86/100\n",
            "1/1 [==============================] - 0s 50ms/step - loss: 3.3026 - mae: 3.3026\n",
            "Epoch 87/100\n",
            "1/1 [==============================] - 0s 57ms/step - loss: 3.2871 - mae: 3.2871\n",
            "Epoch 88/100\n",
            "1/1 [==============================] - 0s 41ms/step - loss: 3.2626 - mae: 3.2626\n",
            "Epoch 89/100\n",
            "1/1 [==============================] - 0s 33ms/step - loss: 3.2298 - mae: 3.2298\n",
            "Epoch 90/100\n",
            "1/1 [==============================] - 0s 37ms/step - loss: 3.2190 - mae: 3.2190\n",
            "Epoch 91/100\n",
            "1/1 [==============================] - 0s 58ms/step - loss: 3.2060 - mae: 3.2060\n",
            "Epoch 92/100\n",
            "1/1 [==============================] - 0s 44ms/step - loss: 3.1706 - mae: 3.1706\n",
            "Epoch 93/100\n",
            "1/1 [==============================] - 0s 45ms/step - loss: 3.1401 - mae: 3.1401\n",
            "Epoch 94/100\n",
            "1/1 [==============================] - 0s 37ms/step - loss: 3.1268 - mae: 3.1268\n",
            "Epoch 95/100\n",
            "1/1 [==============================] - 0s 48ms/step - loss: 3.1019 - mae: 3.1019\n",
            "Epoch 96/100\n",
            "1/1 [==============================] - 0s 62ms/step - loss: 3.0681 - mae: 3.0681\n",
            "Epoch 97/100\n",
            "1/1 [==============================] - 0s 55ms/step - loss: 3.0331 - mae: 3.0331\n",
            "Epoch 98/100\n",
            "1/1 [==============================] - 0s 14ms/step - loss: 2.9981 - mae: 2.9981\n",
            "Epoch 99/100\n",
            "1/1 [==============================] - 0s 17ms/step - loss: 2.9818 - mae: 2.9818\n",
            "Epoch 100/100\n",
            "1/1 [==============================] - 0s 39ms/step - loss: 2.9606 - mae: 2.9606\n"
          ]
        },
        {
          "output_type": "execute_result",
          "data": {
            "text/plain": [
              "<keras.callbacks.History at 0x7f3d8167f6a0>"
            ]
          },
          "metadata": {},
          "execution_count": 18
        }
      ]
    },
    {
      "cell_type": "code",
      "source": [
        "model.predict([17.0])"
      ],
      "metadata": {
        "colab": {
          "base_uri": "https://localhost:8080/"
        },
        "id": "q-n-JBoJzP_V",
        "outputId": "a743ff71-0d3d-4fff-81b2-271497ddb438"
      },
      "execution_count": null,
      "outputs": [
        {
          "output_type": "stream",
          "name": "stdout",
          "text": [
            "1/1 [==============================] - 0s 197ms/step\n"
          ]
        },
        {
          "output_type": "execute_result",
          "data": {
            "text/plain": [
              "array([[31.51409]], dtype=float32)"
            ]
          },
          "metadata": {},
          "execution_count": 19
        }
      ]
    },
    {
      "cell_type": "markdown",
      "source": [
        "### Another attempt to improve the model"
      ],
      "metadata": {
        "id": "ZP9q6GzxzViF"
      }
    },
    {
      "cell_type": "code",
      "source": [
        "#Create the bigger model\n",
        "model=tf.keras.Sequential([\n",
        "    tf.keras.layers.Dense(100,activation='relu'),\n",
        "    tf.keras.layers.Dense(100,activation='relu'),\n",
        "    tf.keras.layers.Dense(100,activation='relu'),\n",
        "    tf.keras.layers.Dense(1)\n",
        "])\n",
        "\n",
        "#Compile the model\n",
        "model.compile(loss=tf.keras.losses.mae,\n",
        "              optimizer=tf.keras.optimizers.Adam(learning_rate=0.0001),\n",
        "              metrics=['mae'])\n",
        "\n",
        "#Fit the model\n",
        "model.fit(tf.expand_dims(X,axis=-1),y,epochs=300)\n",
        "#model.fit(X,y,epochs=100)"
      ],
      "metadata": {
        "colab": {
          "base_uri": "https://localhost:8080/"
        },
        "id": "u1jrPIe5zect",
        "outputId": "586d84a1-b946-4a62-b3b8-f6f5924ae529"
      },
      "execution_count": null,
      "outputs": [
        {
          "output_type": "stream",
          "name": "stdout",
          "text": [
            "Epoch 1/300\n",
            "1/1 [==============================] - 5s 5s/step - loss: 13.1318 - mae: 13.1318\n",
            "Epoch 2/300\n",
            "1/1 [==============================] - 0s 21ms/step - loss: 13.0847 - mae: 13.0847\n",
            "Epoch 3/300\n",
            "1/1 [==============================] - 0s 29ms/step - loss: 13.0386 - mae: 13.0386\n",
            "Epoch 4/300\n",
            "1/1 [==============================] - 0s 13ms/step - loss: 12.9926 - mae: 12.9926\n",
            "Epoch 5/300\n",
            "1/1 [==============================] - 0s 15ms/step - loss: 12.9465 - mae: 12.9465\n",
            "Epoch 6/300\n",
            "1/1 [==============================] - 0s 22ms/step - loss: 12.8995 - mae: 12.8995\n",
            "Epoch 7/300\n",
            "1/1 [==============================] - 0s 26ms/step - loss: 12.8521 - mae: 12.8521\n",
            "Epoch 8/300\n",
            "1/1 [==============================] - 0s 28ms/step - loss: 12.8046 - mae: 12.8046\n",
            "Epoch 9/300\n",
            "1/1 [==============================] - 0s 17ms/step - loss: 12.7569 - mae: 12.7569\n",
            "Epoch 10/300\n",
            "1/1 [==============================] - 0s 18ms/step - loss: 12.7090 - mae: 12.7090\n",
            "Epoch 11/300\n",
            "1/1 [==============================] - 0s 20ms/step - loss: 12.6609 - mae: 12.6609\n",
            "Epoch 12/300\n",
            "1/1 [==============================] - 0s 41ms/step - loss: 12.6128 - mae: 12.6128\n",
            "Epoch 13/300\n",
            "1/1 [==============================] - 0s 42ms/step - loss: 12.5647 - mae: 12.5647\n",
            "Epoch 14/300\n",
            "1/1 [==============================] - 0s 27ms/step - loss: 12.5182 - mae: 12.5182\n",
            "Epoch 15/300\n",
            "1/1 [==============================] - 0s 36ms/step - loss: 12.4721 - mae: 12.4721\n",
            "Epoch 16/300\n",
            "1/1 [==============================] - 0s 25ms/step - loss: 12.4257 - mae: 12.4257\n",
            "Epoch 17/300\n",
            "1/1 [==============================] - 0s 28ms/step - loss: 12.3796 - mae: 12.3796\n",
            "Epoch 18/300\n",
            "1/1 [==============================] - 0s 34ms/step - loss: 12.3334 - mae: 12.3334\n",
            "Epoch 19/300\n",
            "1/1 [==============================] - 0s 34ms/step - loss: 12.2871 - mae: 12.2871\n",
            "Epoch 20/300\n",
            "1/1 [==============================] - 0s 23ms/step - loss: 12.2405 - mae: 12.2405\n",
            "Epoch 21/300\n",
            "1/1 [==============================] - 0s 54ms/step - loss: 12.1936 - mae: 12.1936\n",
            "Epoch 22/300\n",
            "1/1 [==============================] - 0s 26ms/step - loss: 12.1464 - mae: 12.1464\n",
            "Epoch 23/300\n",
            "1/1 [==============================] - 0s 41ms/step - loss: 12.0991 - mae: 12.0991\n",
            "Epoch 24/300\n",
            "1/1 [==============================] - 0s 38ms/step - loss: 12.0519 - mae: 12.0519\n",
            "Epoch 25/300\n",
            "1/1 [==============================] - 0s 15ms/step - loss: 12.0047 - mae: 12.0047\n",
            "Epoch 26/300\n",
            "1/1 [==============================] - 0s 15ms/step - loss: 11.9587 - mae: 11.9587\n",
            "Epoch 27/300\n",
            "1/1 [==============================] - 0s 17ms/step - loss: 11.9122 - mae: 11.9122\n",
            "Epoch 28/300\n",
            "1/1 [==============================] - 0s 14ms/step - loss: 11.8654 - mae: 11.8654\n",
            "Epoch 29/300\n",
            "1/1 [==============================] - 0s 14ms/step - loss: 11.8182 - mae: 11.8182\n",
            "Epoch 30/300\n",
            "1/1 [==============================] - 0s 17ms/step - loss: 11.7708 - mae: 11.7708\n",
            "Epoch 31/300\n",
            "1/1 [==============================] - 0s 47ms/step - loss: 11.7230 - mae: 11.7230\n",
            "Epoch 32/300\n",
            "1/1 [==============================] - 0s 53ms/step - loss: 11.6748 - mae: 11.6748\n",
            "Epoch 33/300\n",
            "1/1 [==============================] - 0s 51ms/step - loss: 11.6264 - mae: 11.6264\n",
            "Epoch 34/300\n",
            "1/1 [==============================] - 0s 28ms/step - loss: 11.5777 - mae: 11.5777\n",
            "Epoch 35/300\n",
            "1/1 [==============================] - 0s 35ms/step - loss: 11.5287 - mae: 11.5287\n",
            "Epoch 36/300\n",
            "1/1 [==============================] - 0s 25ms/step - loss: 11.4801 - mae: 11.4801\n",
            "Epoch 37/300\n",
            "1/1 [==============================] - 0s 16ms/step - loss: 11.4315 - mae: 11.4315\n",
            "Epoch 38/300\n",
            "1/1 [==============================] - 0s 17ms/step - loss: 11.3829 - mae: 11.3829\n",
            "Epoch 39/300\n",
            "1/1 [==============================] - 0s 29ms/step - loss: 11.3341 - mae: 11.3341\n",
            "Epoch 40/300\n",
            "1/1 [==============================] - 0s 23ms/step - loss: 11.2849 - mae: 11.2849\n",
            "Epoch 41/300\n",
            "1/1 [==============================] - 0s 23ms/step - loss: 11.2354 - mae: 11.2354\n",
            "Epoch 42/300\n",
            "1/1 [==============================] - 0s 32ms/step - loss: 11.1859 - mae: 11.1859\n",
            "Epoch 43/300\n",
            "1/1 [==============================] - 0s 16ms/step - loss: 11.1362 - mae: 11.1362\n",
            "Epoch 44/300\n",
            "1/1 [==============================] - 0s 26ms/step - loss: 11.0868 - mae: 11.0868\n",
            "Epoch 45/300\n",
            "1/1 [==============================] - 0s 29ms/step - loss: 11.0371 - mae: 11.0371\n",
            "Epoch 46/300\n",
            "1/1 [==============================] - 0s 33ms/step - loss: 10.9869 - mae: 10.9869\n",
            "Epoch 47/300\n",
            "1/1 [==============================] - 0s 22ms/step - loss: 10.9365 - mae: 10.9365\n",
            "Epoch 48/300\n",
            "1/1 [==============================] - 0s 31ms/step - loss: 10.8858 - mae: 10.8858\n",
            "Epoch 49/300\n",
            "1/1 [==============================] - 0s 31ms/step - loss: 10.8349 - mae: 10.8349\n",
            "Epoch 50/300\n",
            "1/1 [==============================] - 0s 46ms/step - loss: 10.7835 - mae: 10.7835\n",
            "Epoch 51/300\n",
            "1/1 [==============================] - 0s 24ms/step - loss: 10.7319 - mae: 10.7319\n",
            "Epoch 52/300\n",
            "1/1 [==============================] - 0s 30ms/step - loss: 10.6805 - mae: 10.6805\n",
            "Epoch 53/300\n",
            "1/1 [==============================] - 0s 36ms/step - loss: 10.6282 - mae: 10.6282\n",
            "Epoch 54/300\n",
            "1/1 [==============================] - 0s 34ms/step - loss: 10.5752 - mae: 10.5752\n",
            "Epoch 55/300\n",
            "1/1 [==============================] - 0s 25ms/step - loss: 10.5212 - mae: 10.5212\n",
            "Epoch 56/300\n",
            "1/1 [==============================] - 0s 37ms/step - loss: 10.4739 - mae: 10.4739\n",
            "Epoch 57/300\n",
            "1/1 [==============================] - 0s 30ms/step - loss: 10.4308 - mae: 10.4308\n",
            "Epoch 58/300\n",
            "1/1 [==============================] - 0s 27ms/step - loss: 10.3871 - mae: 10.3871\n",
            "Epoch 59/300\n",
            "1/1 [==============================] - 0s 35ms/step - loss: 10.3429 - mae: 10.3429\n",
            "Epoch 60/300\n",
            "1/1 [==============================] - 0s 42ms/step - loss: 10.2982 - mae: 10.2982\n",
            "Epoch 61/300\n",
            "1/1 [==============================] - 0s 36ms/step - loss: 10.2526 - mae: 10.2526\n",
            "Epoch 62/300\n",
            "1/1 [==============================] - 0s 33ms/step - loss: 10.2064 - mae: 10.2064\n",
            "Epoch 63/300\n",
            "1/1 [==============================] - 0s 38ms/step - loss: 10.1598 - mae: 10.1598\n",
            "Epoch 64/300\n",
            "1/1 [==============================] - 0s 33ms/step - loss: 10.1127 - mae: 10.1127\n",
            "Epoch 65/300\n",
            "1/1 [==============================] - 0s 28ms/step - loss: 10.0654 - mae: 10.0654\n",
            "Epoch 66/300\n",
            "1/1 [==============================] - 0s 22ms/step - loss: 10.0180 - mae: 10.0180\n",
            "Epoch 67/300\n",
            "1/1 [==============================] - 0s 48ms/step - loss: 9.9702 - mae: 9.9702\n",
            "Epoch 68/300\n",
            "1/1 [==============================] - 0s 60ms/step - loss: 9.9216 - mae: 9.9216\n",
            "Epoch 69/300\n",
            "1/1 [==============================] - 0s 38ms/step - loss: 9.8723 - mae: 9.8723\n",
            "Epoch 70/300\n",
            "1/1 [==============================] - 0s 57ms/step - loss: 9.8225 - mae: 9.8225\n",
            "Epoch 71/300\n",
            "1/1 [==============================] - 0s 31ms/step - loss: 9.7723 - mae: 9.7723\n",
            "Epoch 72/300\n",
            "1/1 [==============================] - 0s 25ms/step - loss: 9.7210 - mae: 9.7210\n",
            "Epoch 73/300\n",
            "1/1 [==============================] - 0s 30ms/step - loss: 9.6691 - mae: 9.6691\n",
            "Epoch 74/300\n",
            "1/1 [==============================] - 0s 21ms/step - loss: 9.6168 - mae: 9.6168\n",
            "Epoch 75/300\n",
            "1/1 [==============================] - 0s 37ms/step - loss: 9.5639 - mae: 9.5639\n",
            "Epoch 76/300\n",
            "1/1 [==============================] - 0s 23ms/step - loss: 9.5106 - mae: 9.5106\n",
            "Epoch 77/300\n",
            "1/1 [==============================] - 0s 20ms/step - loss: 9.4568 - mae: 9.4568\n",
            "Epoch 78/300\n",
            "1/1 [==============================] - 0s 27ms/step - loss: 9.4026 - mae: 9.4026\n",
            "Epoch 79/300\n",
            "1/1 [==============================] - 0s 87ms/step - loss: 9.3477 - mae: 9.3477\n",
            "Epoch 80/300\n",
            "1/1 [==============================] - 0s 52ms/step - loss: 9.2922 - mae: 9.2922\n",
            "Epoch 81/300\n",
            "1/1 [==============================] - 0s 52ms/step - loss: 9.2363 - mae: 9.2363\n",
            "Epoch 82/300\n",
            "1/1 [==============================] - 0s 44ms/step - loss: 9.1800 - mae: 9.1800\n",
            "Epoch 83/300\n",
            "1/1 [==============================] - 0s 24ms/step - loss: 9.1243 - mae: 9.1243\n",
            "Epoch 84/300\n",
            "1/1 [==============================] - 0s 27ms/step - loss: 9.0680 - mae: 9.0680\n",
            "Epoch 85/300\n",
            "1/1 [==============================] - 0s 35ms/step - loss: 9.0109 - mae: 9.0109\n",
            "Epoch 86/300\n",
            "1/1 [==============================] - 0s 30ms/step - loss: 8.9535 - mae: 8.9535\n",
            "Epoch 87/300\n",
            "1/1 [==============================] - 0s 60ms/step - loss: 8.8960 - mae: 8.8960\n",
            "Epoch 88/300\n",
            "1/1 [==============================] - 0s 38ms/step - loss: 8.8390 - mae: 8.8390\n",
            "Epoch 89/300\n",
            "1/1 [==============================] - 0s 25ms/step - loss: 8.7813 - mae: 8.7813\n",
            "Epoch 90/300\n",
            "1/1 [==============================] - 0s 26ms/step - loss: 8.7230 - mae: 8.7230\n",
            "Epoch 91/300\n",
            "1/1 [==============================] - 0s 26ms/step - loss: 8.6639 - mae: 8.6639\n",
            "Epoch 92/300\n",
            "1/1 [==============================] - 0s 42ms/step - loss: 8.6040 - mae: 8.6040\n",
            "Epoch 93/300\n",
            "1/1 [==============================] - 0s 35ms/step - loss: 8.5437 - mae: 8.5437\n",
            "Epoch 94/300\n",
            "1/1 [==============================] - 0s 36ms/step - loss: 8.4827 - mae: 8.4827\n",
            "Epoch 95/300\n",
            "1/1 [==============================] - 0s 44ms/step - loss: 8.4210 - mae: 8.4210\n",
            "Epoch 96/300\n",
            "1/1 [==============================] - 0s 43ms/step - loss: 8.3588 - mae: 8.3588\n",
            "Epoch 97/300\n",
            "1/1 [==============================] - 0s 23ms/step - loss: 8.2960 - mae: 8.2960\n",
            "Epoch 98/300\n",
            "1/1 [==============================] - 0s 24ms/step - loss: 8.2325 - mae: 8.2325\n",
            "Epoch 99/300\n",
            "1/1 [==============================] - 0s 33ms/step - loss: 8.1684 - mae: 8.1684\n",
            "Epoch 100/300\n",
            "1/1 [==============================] - 0s 21ms/step - loss: 8.1040 - mae: 8.1040\n",
            "Epoch 101/300\n",
            "1/1 [==============================] - 0s 41ms/step - loss: 8.0394 - mae: 8.0394\n",
            "Epoch 102/300\n",
            "1/1 [==============================] - 0s 21ms/step - loss: 7.9742 - mae: 7.9742\n",
            "Epoch 103/300\n",
            "1/1 [==============================] - 0s 22ms/step - loss: 7.9083 - mae: 7.9083\n",
            "Epoch 104/300\n",
            "1/1 [==============================] - 0s 32ms/step - loss: 7.8416 - mae: 7.8416\n",
            "Epoch 105/300\n",
            "1/1 [==============================] - 0s 26ms/step - loss: 7.7741 - mae: 7.7741\n",
            "Epoch 106/300\n",
            "1/1 [==============================] - 0s 25ms/step - loss: 7.7058 - mae: 7.7058\n",
            "Epoch 107/300\n",
            "1/1 [==============================] - 0s 27ms/step - loss: 7.6367 - mae: 7.6367\n",
            "Epoch 108/300\n",
            "1/1 [==============================] - 0s 53ms/step - loss: 7.5669 - mae: 7.5669\n",
            "Epoch 109/300\n",
            "1/1 [==============================] - 0s 33ms/step - loss: 7.4963 - mae: 7.4963\n",
            "Epoch 110/300\n",
            "1/1 [==============================] - 0s 62ms/step - loss: 7.4249 - mae: 7.4249\n",
            "Epoch 111/300\n",
            "1/1 [==============================] - 0s 28ms/step - loss: 7.3530 - mae: 7.3530\n",
            "Epoch 112/300\n",
            "1/1 [==============================] - 0s 32ms/step - loss: 7.2802 - mae: 7.2802\n",
            "Epoch 113/300\n",
            "1/1 [==============================] - 0s 21ms/step - loss: 7.2068 - mae: 7.2068\n",
            "Epoch 114/300\n",
            "1/1 [==============================] - 0s 24ms/step - loss: 7.1331 - mae: 7.1331\n",
            "Epoch 115/300\n",
            "1/1 [==============================] - 0s 23ms/step - loss: 7.0592 - mae: 7.0592\n",
            "Epoch 116/300\n",
            "1/1 [==============================] - 0s 25ms/step - loss: 6.9844 - mae: 6.9844\n",
            "Epoch 117/300\n",
            "1/1 [==============================] - 0s 26ms/step - loss: 6.9086 - mae: 6.9086\n",
            "Epoch 118/300\n",
            "1/1 [==============================] - 0s 26ms/step - loss: 6.8318 - mae: 6.8318\n",
            "Epoch 119/300\n",
            "1/1 [==============================] - 0s 36ms/step - loss: 6.7545 - mae: 6.7545\n",
            "Epoch 120/300\n",
            "1/1 [==============================] - 0s 25ms/step - loss: 6.6765 - mae: 6.6765\n",
            "Epoch 121/300\n",
            "1/1 [==============================] - 0s 29ms/step - loss: 6.5978 - mae: 6.5978\n",
            "Epoch 122/300\n",
            "1/1 [==============================] - 0s 30ms/step - loss: 6.5182 - mae: 6.5182\n",
            "Epoch 123/300\n",
            "1/1 [==============================] - 0s 28ms/step - loss: 6.4377 - mae: 6.4377\n",
            "Epoch 124/300\n",
            "1/1 [==============================] - 0s 30ms/step - loss: 6.3563 - mae: 6.3563\n",
            "Epoch 125/300\n",
            "1/1 [==============================] - 0s 29ms/step - loss: 6.2747 - mae: 6.2747\n",
            "Epoch 126/300\n",
            "1/1 [==============================] - 0s 47ms/step - loss: 6.1923 - mae: 6.1923\n",
            "Epoch 127/300\n",
            "1/1 [==============================] - 0s 38ms/step - loss: 6.1089 - mae: 6.1089\n",
            "Epoch 128/300\n",
            "1/1 [==============================] - 0s 34ms/step - loss: 6.0245 - mae: 6.0245\n",
            "Epoch 129/300\n",
            "1/1 [==============================] - 0s 32ms/step - loss: 5.9391 - mae: 5.9391\n",
            "Epoch 130/300\n",
            "1/1 [==============================] - 0s 23ms/step - loss: 5.8529 - mae: 5.8529\n",
            "Epoch 131/300\n",
            "1/1 [==============================] - 0s 28ms/step - loss: 5.7658 - mae: 5.7658\n",
            "Epoch 132/300\n",
            "1/1 [==============================] - 0s 59ms/step - loss: 5.6775 - mae: 5.6775\n",
            "Epoch 133/300\n",
            "1/1 [==============================] - 0s 19ms/step - loss: 5.5884 - mae: 5.5884\n",
            "Epoch 134/300\n",
            "1/1 [==============================] - 0s 44ms/step - loss: 5.4985 - mae: 5.4985\n",
            "Epoch 135/300\n",
            "1/1 [==============================] - 0s 17ms/step - loss: 5.4077 - mae: 5.4077\n",
            "Epoch 136/300\n",
            "1/1 [==============================] - 0s 40ms/step - loss: 5.3159 - mae: 5.3159\n",
            "Epoch 137/300\n",
            "1/1 [==============================] - 0s 26ms/step - loss: 5.2233 - mae: 5.2233\n",
            "Epoch 138/300\n",
            "1/1 [==============================] - 0s 34ms/step - loss: 5.1297 - mae: 5.1297\n",
            "Epoch 139/300\n",
            "1/1 [==============================] - 0s 17ms/step - loss: 5.0351 - mae: 5.0351\n",
            "Epoch 140/300\n",
            "1/1 [==============================] - 0s 36ms/step - loss: 4.9396 - mae: 4.9396\n",
            "Epoch 141/300\n",
            "1/1 [==============================] - 0s 33ms/step - loss: 4.8434 - mae: 4.8434\n",
            "Epoch 142/300\n",
            "1/1 [==============================] - 0s 34ms/step - loss: 4.7460 - mae: 4.7460\n",
            "Epoch 143/300\n",
            "1/1 [==============================] - 0s 26ms/step - loss: 4.6474 - mae: 4.6474\n",
            "Epoch 144/300\n",
            "1/1 [==============================] - 0s 37ms/step - loss: 4.5479 - mae: 4.5479\n",
            "Epoch 145/300\n",
            "1/1 [==============================] - 0s 53ms/step - loss: 4.4473 - mae: 4.4473\n",
            "Epoch 146/300\n",
            "1/1 [==============================] - 0s 26ms/step - loss: 4.3457 - mae: 4.3457\n",
            "Epoch 147/300\n",
            "1/1 [==============================] - 0s 20ms/step - loss: 4.2430 - mae: 4.2430\n",
            "Epoch 148/300\n",
            "1/1 [==============================] - 0s 19ms/step - loss: 4.1577 - mae: 4.1577\n",
            "Epoch 149/300\n",
            "1/1 [==============================] - 0s 22ms/step - loss: 4.1270 - mae: 4.1270\n",
            "Epoch 150/300\n",
            "1/1 [==============================] - 0s 18ms/step - loss: 4.0980 - mae: 4.0980\n",
            "Epoch 151/300\n",
            "1/1 [==============================] - 0s 24ms/step - loss: 4.0704 - mae: 4.0704\n",
            "Epoch 152/300\n",
            "1/1 [==============================] - 0s 17ms/step - loss: 4.0441 - mae: 4.0441\n",
            "Epoch 153/300\n",
            "1/1 [==============================] - 0s 28ms/step - loss: 4.0187 - mae: 4.0187\n",
            "Epoch 154/300\n",
            "1/1 [==============================] - 0s 21ms/step - loss: 3.9946 - mae: 3.9946\n",
            "Epoch 155/300\n",
            "1/1 [==============================] - 0s 27ms/step - loss: 3.9713 - mae: 3.9713\n",
            "Epoch 156/300\n",
            "1/1 [==============================] - 0s 25ms/step - loss: 3.9489 - mae: 3.9489\n",
            "Epoch 157/300\n",
            "1/1 [==============================] - 0s 25ms/step - loss: 3.9272 - mae: 3.9272\n",
            "Epoch 158/300\n",
            "1/1 [==============================] - 0s 21ms/step - loss: 3.9061 - mae: 3.9061\n",
            "Epoch 159/300\n",
            "1/1 [==============================] - 0s 20ms/step - loss: 3.8856 - mae: 3.8856\n",
            "Epoch 160/300\n",
            "1/1 [==============================] - 0s 20ms/step - loss: 3.8656 - mae: 3.8656\n",
            "Epoch 161/300\n",
            "1/1 [==============================] - 0s 23ms/step - loss: 3.8762 - mae: 3.8762\n",
            "Epoch 162/300\n",
            "1/1 [==============================] - 0s 34ms/step - loss: 3.8870 - mae: 3.8870\n",
            "Epoch 163/300\n",
            "1/1 [==============================] - 0s 33ms/step - loss: 3.8958 - mae: 3.8958\n",
            "Epoch 164/300\n",
            "1/1 [==============================] - 0s 25ms/step - loss: 3.9027 - mae: 3.9027\n",
            "Epoch 165/300\n",
            "1/1 [==============================] - 0s 14ms/step - loss: 3.9079 - mae: 3.9079\n",
            "Epoch 166/300\n",
            "1/1 [==============================] - 0s 46ms/step - loss: 3.9115 - mae: 3.9115\n",
            "Epoch 167/300\n",
            "1/1 [==============================] - 0s 20ms/step - loss: 3.9138 - mae: 3.9138\n",
            "Epoch 168/300\n",
            "1/1 [==============================] - 0s 34ms/step - loss: 3.9149 - mae: 3.9149\n",
            "Epoch 169/300\n",
            "1/1 [==============================] - 0s 27ms/step - loss: 3.9147 - mae: 3.9147\n",
            "Epoch 170/300\n",
            "1/1 [==============================] - 0s 21ms/step - loss: 3.9136 - mae: 3.9136\n",
            "Epoch 171/300\n",
            "1/1 [==============================] - 0s 14ms/step - loss: 3.9115 - mae: 3.9115\n",
            "Epoch 172/300\n",
            "1/1 [==============================] - 0s 13ms/step - loss: 3.9086 - mae: 3.9086\n",
            "Epoch 173/300\n",
            "1/1 [==============================] - 0s 15ms/step - loss: 3.9048 - mae: 3.9048\n",
            "Epoch 174/300\n",
            "1/1 [==============================] - 0s 14ms/step - loss: 3.9004 - mae: 3.9004\n",
            "Epoch 175/300\n",
            "1/1 [==============================] - 0s 23ms/step - loss: 3.8955 - mae: 3.8955\n",
            "Epoch 176/300\n",
            "1/1 [==============================] - 0s 16ms/step - loss: 3.8900 - mae: 3.8900\n",
            "Epoch 177/300\n",
            "1/1 [==============================] - 0s 13ms/step - loss: 3.8840 - mae: 3.8840\n",
            "Epoch 178/300\n",
            "1/1 [==============================] - 0s 13ms/step - loss: 3.8776 - mae: 3.8776\n",
            "Epoch 179/300\n",
            "1/1 [==============================] - 0s 35ms/step - loss: 3.8712 - mae: 3.8712\n",
            "Epoch 180/300\n",
            "1/1 [==============================] - 0s 19ms/step - loss: 3.8642 - mae: 3.8642\n",
            "Epoch 181/300\n",
            "1/1 [==============================] - 0s 24ms/step - loss: 3.8569 - mae: 3.8569\n",
            "Epoch 182/300\n",
            "1/1 [==============================] - 0s 38ms/step - loss: 3.8493 - mae: 3.8493\n",
            "Epoch 183/300\n",
            "1/1 [==============================] - 0s 19ms/step - loss: 3.8414 - mae: 3.8414\n",
            "Epoch 184/300\n",
            "1/1 [==============================] - 0s 13ms/step - loss: 3.8373 - mae: 3.8373\n",
            "Epoch 185/300\n",
            "1/1 [==============================] - 0s 52ms/step - loss: 3.8424 - mae: 3.8424\n",
            "Epoch 186/300\n",
            "1/1 [==============================] - 0s 25ms/step - loss: 3.8454 - mae: 3.8454\n",
            "Epoch 187/300\n",
            "1/1 [==============================] - 0s 29ms/step - loss: 3.8465 - mae: 3.8465\n",
            "Epoch 188/300\n",
            "1/1 [==============================] - 0s 22ms/step - loss: 3.8459 - mae: 3.8459\n",
            "Epoch 189/300\n",
            "1/1 [==============================] - 0s 24ms/step - loss: 3.8437 - mae: 3.8437\n",
            "Epoch 190/300\n",
            "1/1 [==============================] - 0s 28ms/step - loss: 3.8400 - mae: 3.8400\n",
            "Epoch 191/300\n",
            "1/1 [==============================] - 0s 29ms/step - loss: 3.8349 - mae: 3.8349\n",
            "Epoch 192/300\n",
            "1/1 [==============================] - 0s 23ms/step - loss: 3.8288 - mae: 3.8288\n",
            "Epoch 193/300\n",
            "1/1 [==============================] - 0s 19ms/step - loss: 3.8236 - mae: 3.8236\n",
            "Epoch 194/300\n",
            "1/1 [==============================] - 0s 22ms/step - loss: 3.8255 - mae: 3.8255\n",
            "Epoch 195/300\n",
            "1/1 [==============================] - 0s 28ms/step - loss: 3.8261 - mae: 3.8261\n",
            "Epoch 196/300\n",
            "1/1 [==============================] - 0s 41ms/step - loss: 3.8257 - mae: 3.8257\n",
            "Epoch 197/300\n",
            "1/1 [==============================] - 0s 39ms/step - loss: 3.8242 - mae: 3.8242\n",
            "Epoch 198/300\n",
            "1/1 [==============================] - 0s 19ms/step - loss: 3.8218 - mae: 3.8218\n",
            "Epoch 199/300\n",
            "1/1 [==============================] - 0s 20ms/step - loss: 3.8186 - mae: 3.8186\n",
            "Epoch 200/300\n",
            "1/1 [==============================] - 0s 27ms/step - loss: 3.8147 - mae: 3.8147\n",
            "Epoch 201/300\n",
            "1/1 [==============================] - 0s 43ms/step - loss: 3.8152 - mae: 3.8152\n",
            "Epoch 202/300\n",
            "1/1 [==============================] - 0s 26ms/step - loss: 3.8183 - mae: 3.8183\n",
            "Epoch 203/300\n",
            "1/1 [==============================] - 0s 34ms/step - loss: 3.8176 - mae: 3.8176\n",
            "Epoch 204/300\n",
            "1/1 [==============================] - 0s 25ms/step - loss: 3.8141 - mae: 3.8141\n",
            "Epoch 205/300\n",
            "1/1 [==============================] - 0s 38ms/step - loss: 3.8109 - mae: 3.8109\n",
            "Epoch 206/300\n",
            "1/1 [==============================] - 0s 21ms/step - loss: 3.8108 - mae: 3.8108\n",
            "Epoch 207/300\n",
            "1/1 [==============================] - 0s 29ms/step - loss: 3.8120 - mae: 3.8120\n",
            "Epoch 208/300\n",
            "1/1 [==============================] - 0s 46ms/step - loss: 3.8120 - mae: 3.8120\n",
            "Epoch 209/300\n",
            "1/1 [==============================] - 0s 57ms/step - loss: 3.8108 - mae: 3.8108\n",
            "Epoch 210/300\n",
            "1/1 [==============================] - 0s 29ms/step - loss: 3.8086 - mae: 3.8086\n",
            "Epoch 211/300\n",
            "1/1 [==============================] - 0s 30ms/step - loss: 3.8056 - mae: 3.8056\n",
            "Epoch 212/300\n",
            "1/1 [==============================] - 0s 23ms/step - loss: 3.8051 - mae: 3.8051\n",
            "Epoch 213/300\n",
            "1/1 [==============================] - 0s 36ms/step - loss: 3.8056 - mae: 3.8056\n",
            "Epoch 214/300\n",
            "1/1 [==============================] - 0s 22ms/step - loss: 3.8048 - mae: 3.8048\n",
            "Epoch 215/300\n",
            "1/1 [==============================] - 0s 23ms/step - loss: 3.8018 - mae: 3.8018\n",
            "Epoch 216/300\n",
            "1/1 [==============================] - 0s 26ms/step - loss: 3.8009 - mae: 3.8009\n",
            "Epoch 217/300\n",
            "1/1 [==============================] - 0s 23ms/step - loss: 3.8014 - mae: 3.8014\n",
            "Epoch 218/300\n",
            "1/1 [==============================] - 0s 25ms/step - loss: 3.8007 - mae: 3.8007\n",
            "Epoch 219/300\n",
            "1/1 [==============================] - 0s 52ms/step - loss: 3.7990 - mae: 3.7990\n",
            "Epoch 220/300\n",
            "1/1 [==============================] - 0s 53ms/step - loss: 3.7971 - mae: 3.7971\n",
            "Epoch 221/300\n",
            "1/1 [==============================] - 0s 28ms/step - loss: 3.7976 - mae: 3.7976\n",
            "Epoch 222/300\n",
            "1/1 [==============================] - 0s 31ms/step - loss: 3.7980 - mae: 3.7980\n",
            "Epoch 223/300\n",
            "1/1 [==============================] - 0s 20ms/step - loss: 3.7967 - mae: 3.7967\n",
            "Epoch 224/300\n",
            "1/1 [==============================] - 0s 19ms/step - loss: 3.7937 - mae: 3.7937\n",
            "Epoch 225/300\n",
            "1/1 [==============================] - 0s 36ms/step - loss: 3.7947 - mae: 3.7947\n",
            "Epoch 226/300\n",
            "1/1 [==============================] - 0s 40ms/step - loss: 3.7952 - mae: 3.7952\n",
            "Epoch 227/300\n",
            "1/1 [==============================] - 0s 40ms/step - loss: 3.7947 - mae: 3.7947\n",
            "Epoch 228/300\n",
            "1/1 [==============================] - 0s 24ms/step - loss: 3.7930 - mae: 3.7930\n",
            "Epoch 229/300\n",
            "1/1 [==============================] - 0s 25ms/step - loss: 3.7917 - mae: 3.7917\n",
            "Epoch 230/300\n",
            "1/1 [==============================] - 0s 20ms/step - loss: 3.7876 - mae: 3.7876\n",
            "Epoch 231/300\n",
            "1/1 [==============================] - 0s 47ms/step - loss: 3.7906 - mae: 3.7906\n",
            "Epoch 232/300\n",
            "1/1 [==============================] - 0s 36ms/step - loss: 3.7916 - mae: 3.7916\n",
            "Epoch 233/300\n",
            "1/1 [==============================] - 0s 22ms/step - loss: 3.7906 - mae: 3.7906\n",
            "Epoch 234/300\n",
            "1/1 [==============================] - 0s 24ms/step - loss: 3.7878 - mae: 3.7878\n",
            "Epoch 235/300\n",
            "1/1 [==============================] - 0s 24ms/step - loss: 3.7836 - mae: 3.7836\n",
            "Epoch 236/300\n",
            "1/1 [==============================] - 0s 42ms/step - loss: 3.7855 - mae: 3.7855\n",
            "Epoch 237/300\n",
            "1/1 [==============================] - 0s 42ms/step - loss: 3.7872 - mae: 3.7872\n",
            "Epoch 238/300\n",
            "1/1 [==============================] - 0s 28ms/step - loss: 3.7876 - mae: 3.7876\n",
            "Epoch 239/300\n",
            "1/1 [==============================] - 0s 25ms/step - loss: 3.7867 - mae: 3.7867\n",
            "Epoch 240/300\n",
            "1/1 [==============================] - 0s 35ms/step - loss: 3.7847 - mae: 3.7847\n",
            "Epoch 241/300\n",
            "1/1 [==============================] - 0s 34ms/step - loss: 3.7817 - mae: 3.7817\n",
            "Epoch 242/300\n",
            "1/1 [==============================] - 0s 33ms/step - loss: 3.7778 - mae: 3.7778\n",
            "Epoch 243/300\n",
            "1/1 [==============================] - 0s 34ms/step - loss: 3.7797 - mae: 3.7797\n",
            "Epoch 244/300\n",
            "1/1 [==============================] - 0s 48ms/step - loss: 3.7820 - mae: 3.7820\n",
            "Epoch 245/300\n",
            "1/1 [==============================] - 0s 21ms/step - loss: 3.7806 - mae: 3.7806\n",
            "Epoch 246/300\n",
            "1/1 [==============================] - 0s 34ms/step - loss: 3.7784 - mae: 3.7784\n",
            "Epoch 247/300\n",
            "1/1 [==============================] - 0s 30ms/step - loss: 3.7745 - mae: 3.7745\n",
            "Epoch 248/300\n",
            "1/1 [==============================] - 0s 29ms/step - loss: 3.7738 - mae: 3.7738\n",
            "Epoch 249/300\n",
            "1/1 [==============================] - 0s 36ms/step - loss: 3.7749 - mae: 3.7749\n",
            "Epoch 250/300\n",
            "1/1 [==============================] - 0s 20ms/step - loss: 3.7748 - mae: 3.7748\n",
            "Epoch 251/300\n",
            "1/1 [==============================] - 0s 23ms/step - loss: 3.7735 - mae: 3.7735\n",
            "Epoch 252/300\n",
            "1/1 [==============================] - 0s 24ms/step - loss: 3.7717 - mae: 3.7717\n",
            "Epoch 253/300\n",
            "1/1 [==============================] - 0s 19ms/step - loss: 3.7690 - mae: 3.7690\n",
            "Epoch 254/300\n",
            "1/1 [==============================] - 0s 17ms/step - loss: 3.7682 - mae: 3.7682\n",
            "Epoch 255/300\n",
            "1/1 [==============================] - 0s 20ms/step - loss: 3.7690 - mae: 3.7690\n",
            "Epoch 256/300\n",
            "1/1 [==============================] - 0s 24ms/step - loss: 3.7677 - mae: 3.7677\n",
            "Epoch 257/300\n",
            "1/1 [==============================] - 0s 46ms/step - loss: 3.7647 - mae: 3.7647\n",
            "Epoch 258/300\n",
            "1/1 [==============================] - 0s 21ms/step - loss: 3.7647 - mae: 3.7647\n",
            "Epoch 259/300\n",
            "1/1 [==============================] - 0s 30ms/step - loss: 3.7650 - mae: 3.7650\n",
            "Epoch 260/300\n",
            "1/1 [==============================] - 0s 32ms/step - loss: 3.7647 - mae: 3.7647\n",
            "Epoch 261/300\n",
            "1/1 [==============================] - 0s 36ms/step - loss: 3.7633 - mae: 3.7633\n",
            "Epoch 262/300\n",
            "1/1 [==============================] - 0s 34ms/step - loss: 3.7609 - mae: 3.7609\n",
            "Epoch 263/300\n",
            "1/1 [==============================] - 0s 24ms/step - loss: 3.7598 - mae: 3.7598\n",
            "Epoch 264/300\n",
            "1/1 [==============================] - 0s 19ms/step - loss: 3.7600 - mae: 3.7600\n",
            "Epoch 265/300\n",
            "1/1 [==============================] - 0s 30ms/step - loss: 3.7583 - mae: 3.7583\n",
            "Epoch 266/300\n",
            "1/1 [==============================] - 0s 20ms/step - loss: 3.7558 - mae: 3.7558\n",
            "Epoch 267/300\n",
            "1/1 [==============================] - 0s 23ms/step - loss: 3.7564 - mae: 3.7564\n",
            "Epoch 268/300\n",
            "1/1 [==============================] - 0s 23ms/step - loss: 3.7543 - mae: 3.7543\n",
            "Epoch 269/300\n",
            "1/1 [==============================] - 0s 23ms/step - loss: 3.7538 - mae: 3.7538\n",
            "Epoch 270/300\n",
            "1/1 [==============================] - 0s 21ms/step - loss: 3.7528 - mae: 3.7528\n",
            "Epoch 271/300\n",
            "1/1 [==============================] - 0s 18ms/step - loss: 3.7521 - mae: 3.7521\n",
            "Epoch 272/300\n",
            "1/1 [==============================] - 0s 22ms/step - loss: 3.7514 - mae: 3.7514\n",
            "Epoch 273/300\n",
            "1/1 [==============================] - 0s 21ms/step - loss: 3.7496 - mae: 3.7496\n",
            "Epoch 274/300\n",
            "1/1 [==============================] - 0s 16ms/step - loss: 3.7505 - mae: 3.7505\n",
            "Epoch 275/300\n",
            "1/1 [==============================] - 0s 19ms/step - loss: 3.7492 - mae: 3.7492\n",
            "Epoch 276/300\n",
            "1/1 [==============================] - 0s 15ms/step - loss: 3.7467 - mae: 3.7467\n",
            "Epoch 277/300\n",
            "1/1 [==============================] - 0s 14ms/step - loss: 3.7483 - mae: 3.7483\n",
            "Epoch 278/300\n",
            "1/1 [==============================] - 0s 39ms/step - loss: 3.7487 - mae: 3.7487\n",
            "Epoch 279/300\n",
            "1/1 [==============================] - 0s 11ms/step - loss: 3.7478 - mae: 3.7478\n",
            "Epoch 280/300\n",
            "1/1 [==============================] - 0s 27ms/step - loss: 3.7458 - mae: 3.7458\n",
            "Epoch 281/300\n",
            "1/1 [==============================] - 0s 23ms/step - loss: 3.7426 - mae: 3.7426\n",
            "Epoch 282/300\n",
            "1/1 [==============================] - 0s 44ms/step - loss: 3.7438 - mae: 3.7438\n",
            "Epoch 283/300\n",
            "1/1 [==============================] - 0s 23ms/step - loss: 3.7434 - mae: 3.7434\n",
            "Epoch 284/300\n",
            "1/1 [==============================] - 0s 18ms/step - loss: 3.7419 - mae: 3.7419\n",
            "Epoch 285/300\n",
            "1/1 [==============================] - 0s 18ms/step - loss: 3.7384 - mae: 3.7384\n",
            "Epoch 286/300\n",
            "1/1 [==============================] - 0s 16ms/step - loss: 3.7387 - mae: 3.7387\n",
            "Epoch 287/300\n",
            "1/1 [==============================] - 0s 20ms/step - loss: 3.7386 - mae: 3.7386\n",
            "Epoch 288/300\n",
            "1/1 [==============================] - 0s 43ms/step - loss: 3.7369 - mae: 3.7369\n",
            "Epoch 289/300\n",
            "1/1 [==============================] - 0s 25ms/step - loss: 3.7347 - mae: 3.7347\n",
            "Epoch 290/300\n",
            "1/1 [==============================] - 0s 23ms/step - loss: 3.7336 - mae: 3.7336\n",
            "Epoch 291/300\n",
            "1/1 [==============================] - 0s 22ms/step - loss: 3.7289 - mae: 3.7289\n",
            "Epoch 292/300\n",
            "1/1 [==============================] - 0s 33ms/step - loss: 3.7288 - mae: 3.7288\n",
            "Epoch 293/300\n",
            "1/1 [==============================] - 0s 42ms/step - loss: 3.7294 - mae: 3.7294\n",
            "Epoch 294/300\n",
            "1/1 [==============================] - 0s 35ms/step - loss: 3.7275 - mae: 3.7275\n",
            "Epoch 295/300\n",
            "1/1 [==============================] - 0s 57ms/step - loss: 3.7269 - mae: 3.7269\n",
            "Epoch 296/300\n",
            "1/1 [==============================] - 0s 43ms/step - loss: 3.7272 - mae: 3.7272\n",
            "Epoch 297/300\n",
            "1/1 [==============================] - 0s 19ms/step - loss: 3.7258 - mae: 3.7258\n",
            "Epoch 298/300\n",
            "1/1 [==============================] - 0s 20ms/step - loss: 3.7231 - mae: 3.7231\n",
            "Epoch 299/300\n",
            "1/1 [==============================] - 0s 17ms/step - loss: 3.7249 - mae: 3.7249\n",
            "Epoch 300/300\n",
            "1/1 [==============================] - 0s 27ms/step - loss: 3.7249 - mae: 3.7249\n"
          ]
        },
        {
          "output_type": "execute_result",
          "data": {
            "text/plain": [
              "<keras.callbacks.History at 0x7f3d80ccc880>"
            ]
          },
          "metadata": {},
          "execution_count": 20
        }
      ]
    },
    {
      "cell_type": "code",
      "source": [
        "model.predict([17.0])"
      ],
      "metadata": {
        "colab": {
          "base_uri": "https://localhost:8080/"
        },
        "id": "GV5roSHizfeV",
        "outputId": "e903a096-cbce-4b43-d366-08cfa3465a42"
      },
      "execution_count": null,
      "outputs": [
        {
          "output_type": "stream",
          "name": "stdout",
          "text": [
            "1/1 [==============================] - 0s 88ms/step\n"
          ]
        },
        {
          "output_type": "execute_result",
          "data": {
            "text/plain": [
              "array([[32.006405]], dtype=float32)"
            ]
          },
          "metadata": {},
          "execution_count": 21
        }
      ]
    },
    {
      "cell_type": "markdown",
      "source": [
        "## Evaluating our Model\n",
        "\n",
        "When it comes to evaluating the model, there are 3 words...Visualize,Visualize,Visualize\n",
        "\n",
        "It's good idea to Visualize:\n",
        "1. The data - what data are we working with? what does it look like?\n",
        "2. The model itself- What dos our model look like\n",
        "3. The training of the model - How does a moedl perform while it learns\n",
        "4. the prediction of the model- how do the predictions of the model line up with the ground truth\n",
        "\n"
      ],
      "metadata": {
        "id": "UdMosSXxznBr"
      }
    },
    {
      "cell_type": "code",
      "source": [
        "X=tf.range(-100,100,4)\n",
        "X\n",
        "y=X+10\n",
        "X,y"
      ],
      "metadata": {
        "colab": {
          "base_uri": "https://localhost:8080/"
        },
        "id": "gB9rSWrq3LxQ",
        "outputId": "f2ed0df6-098b-4e51-d2ba-c3606e1abdb3"
      },
      "execution_count": null,
      "outputs": [
        {
          "output_type": "execute_result",
          "data": {
            "text/plain": [
              "(<tf.Tensor: shape=(50,), dtype=int32, numpy=\n",
              " array([-100,  -96,  -92,  -88,  -84,  -80,  -76,  -72,  -68,  -64,  -60,\n",
              "         -56,  -52,  -48,  -44,  -40,  -36,  -32,  -28,  -24,  -20,  -16,\n",
              "         -12,   -8,   -4,    0,    4,    8,   12,   16,   20,   24,   28,\n",
              "          32,   36,   40,   44,   48,   52,   56,   60,   64,   68,   72,\n",
              "          76,   80,   84,   88,   92,   96], dtype=int32)>,\n",
              " <tf.Tensor: shape=(50,), dtype=int32, numpy=\n",
              " array([-90, -86, -82, -78, -74, -70, -66, -62, -58, -54, -50, -46, -42,\n",
              "        -38, -34, -30, -26, -22, -18, -14, -10,  -6,  -2,   2,   6,  10,\n",
              "         14,  18,  22,  26,  30,  34,  38,  42,  46,  50,  54,  58,  62,\n",
              "         66,  70,  74,  78,  82,  86,  90,  94,  98, 102, 106], dtype=int32)>)"
            ]
          },
          "metadata": {},
          "execution_count": 22
        }
      ]
    },
    {
      "cell_type": "code",
      "source": [
        "#Visualize th data\n",
        "import matplotlib.pyplot as plt\n",
        "plt.plot(X,y);"
      ],
      "metadata": {
        "colab": {
          "base_uri": "https://localhost:8080/",
          "height": 265
        },
        "id": "pyS4DDiO4cBO",
        "outputId": "5f9a03d5-81de-41ba-e177-14939789e09c"
      },
      "execution_count": null,
      "outputs": [
        {
          "output_type": "display_data",
          "data": {
            "text/plain": [
              "<Figure size 432x288 with 1 Axes>"
            ],
            "image/png": "[encoded data removed]"
          },
          "metadata": {
            "needs_background": "light"
          }
        }
      ]
    },
    {
      "cell_type": "code",
      "source": [
        "plt.scatter(X,y);"
      ],
      "metadata": {
        "colab": {
          "base_uri": "https://localhost:8080/",
          "height": 265
        },
        "id": "c9LvsexU4mAt",
        "outputId": "eca77a80-8f75-4e44-f614-413118111a17"
      },
      "execution_count": null,
      "outputs": [
        {
          "output_type": "display_data",
          "data": {
            "text/plain": [
              "<Figure size 432x288 with 1 Axes>"
            ],
            "image/png": "[encoded data removed]"
          },
          "metadata": {
            "needs_background": "light"
          }
        }
      ]
    },
    {
      "cell_type": "markdown",
      "source": [
        "### the 3 sets...train, test and validation\n",
        "\n"
      ],
      "metadata": {
        "id": "9aeBCATB4qEG"
      }
    },
    {
      "cell_type": "code",
      "source": [
        "#Check the length of how many samples we have\n",
        "len(X)\n"
      ],
      "metadata": {
        "colab": {
          "base_uri": "https://localhost:8080/"
        },
        "id": "1awTEjzw44g8",
        "outputId": "b1362a23-8950-48a4-ead2-ac193d6a0da0"
      },
      "execution_count": null,
      "outputs": [
        {
          "output_type": "execute_result",
          "data": {
            "text/plain": [
              "50"
            ]
          },
          "metadata": {},
          "execution_count": 25
        }
      ]
    },
    {
      "cell_type": "code",
      "source": [
        "#Split the data into train and test sets\n",
        "X_train=X[:40]\n",
        "X_test=X[40:]\n",
        "y_train=y[:40]\n",
        "y_test=y[40:]"
      ],
      "metadata": {
        "id": "us9lIYPK6d2X"
      },
      "execution_count": null,
      "outputs": []
    },
    {
      "cell_type": "code",
      "source": [
        "#Visualize training and test sets\n",
        "plt.figure(figsize=(10,7))\n",
        "plt.scatter(X_train,y_train, c='b', label='Training Data')\n",
        "plt.scatter(X_test,y_test,c='g',label='Test Data')\n",
        "plt.legend()\n",
        "plt.show();"
      ],
      "metadata": {
        "colab": {
          "base_uri": "https://localhost:8080/",
          "height": 428
        },
        "id": "cMXXnC2d6rw4",
        "outputId": "834b92a1-9361-404d-dd6e-0acdc9214095"
      },
      "execution_count": null,
      "outputs": [
        {
          "output_type": "display_data",
          "data": {
            "text/plain": [
              "<Figure size 720x504 with 1 Axes>"
            ],
            "image/png": "[encoded data removed]"
          },
          "metadata": {
            "needs_background": "light"
          }
        }
      ]
    },
    {
      "cell_type": "code",
      "source": [
        "#Let's have a look at how to build a neural network for the problem\n",
        "\n",
        "#1. Create a model\n",
        "model=tf.keras.Sequential([\n",
        "    tf.keras.layers.Dense(1)\n",
        "])\n",
        "\n",
        "#Comile the model\n",
        "model.compile(loss=tf.keras.losses.mae,\n",
        "              optimizer=tf.keras.optimizers.SGD(),\n",
        "              metrics=['mae'])\n",
        "\n",
        "\n",
        "#model.fit(tf.expand_dims(X_train,axis=-1),y_train,epochs=5)"
      ],
      "metadata": {
        "id": "gQMF_Ys48QPf"
      },
      "execution_count": null,
      "outputs": []
    },
    {
      "cell_type": "code",
      "source": [
        "model.summary()"
      ],
      "metadata": {
        "colab": {
          "base_uri": "https://localhost:8080/",
          "height": 305
        },
        "id": "L0lR05K_DWDv",
        "outputId": "47570a7b-97d6-46e1-f95a-deb6a6ab7b15"
      },
      "execution_count": null,
      "outputs": [
        {
          "output_type": "error",
          "ename": "ValueError",
          "evalue": "ignored",
          "traceback": [
            "\u001b[0;31m---------------------------------------------------------------------------\u001b[0m",
            "\u001b[0;31mValueError\u001b[0m                                Traceback (most recent call last)",
            "\u001b[0;32m<ipython-input-29-5f15418b3570>\u001b[0m in \u001b[0;36m<module>\u001b[0;34m\u001b[0m\n\u001b[0;32m----> 1\u001b[0;31m \u001b[0mmodel\u001b[0m\u001b[0;34m.\u001b[0m\u001b[0msummary\u001b[0m\u001b[0;34m(\u001b[0m\u001b[0;34m)\u001b[0m\u001b[0;34m\u001b[0m\u001b[0;34m\u001b[0m\u001b[0m\n\u001b[0m",
            "\u001b[0;32m/usr/local/lib/python3.9/dist-packages/keras/engine/training.py\u001b[0m in \u001b[0;36msummary\u001b[0;34m(self, line_length, positions, print_fn, expand_nested, show_trainable, layer_range)\u001b[0m\n\u001b[1;32m   3290\u001b[0m         \"\"\"\n\u001b[1;32m   3291\u001b[0m         \u001b[0;32mif\u001b[0m \u001b[0;32mnot\u001b[0m \u001b[0mself\u001b[0m\u001b[0;34m.\u001b[0m\u001b[0mbuilt\u001b[0m\u001b[0;34m:\u001b[0m\u001b[0;34m\u001b[0m\u001b[0;34m\u001b[0m\u001b[0m\n\u001b[0;32m-> 3292\u001b[0;31m             raise ValueError(\n\u001b[0m\u001b[1;32m   3293\u001b[0m                 \u001b[0;34m\"This model has not yet been built. \"\u001b[0m\u001b[0;34m\u001b[0m\u001b[0;34m\u001b[0m\u001b[0m\n\u001b[1;32m   3294\u001b[0m                 \u001b[0;34m\"Build the model first by calling `build()` or by calling \"\u001b[0m\u001b[0;34m\u001b[0m\u001b[0;34m\u001b[0m\u001b[0m\n",
            "\u001b[0;31mValueError\u001b[0m: This model has not yet been built. Build the model first by calling `build()` or by calling the model on a batch of data."
          ]
        }
      ]
    },
    {
      "cell_type": "code",
      "source": [
        "#Let's create a model that builds automatically by defining the input_shape in the firt layer\n",
        "tf.random.set_seed(42)\n",
        "model=tf.keras.Sequential([tf.keras.layers.Dense(1,input_shape=[1])])\n",
        "\n",
        "#2. Compile the model\n",
        "model.compile(loss=tf.keras.losses.mae,\n",
        "              optimizer=tf.keras.optimizers.SGD(),\n",
        "              metrics=['mae'])"
      ],
      "metadata": {
        "id": "iZcdq7UpCb6P"
      },
      "execution_count": null,
      "outputs": []
    },
    {
      "cell_type": "code",
      "source": [
        "model.summary()"
      ],
      "metadata": {
        "colab": {
          "base_uri": "https://localhost:8080/"
        },
        "id": "CoLjSbwsDHlg",
        "outputId": "d4c25fd7-dbab-46eb-cd5b-342aaeccb54d"
      },
      "execution_count": null,
      "outputs": [
        {
          "output_type": "stream",
          "name": "stdout",
          "text": [
            "Model: \"sequential_5\"\n",
            "_________________________________________________________________\n",
            " Layer (type)                Output Shape              Param #   \n",
            "=================================================================\n",
            " dense_15 (Dense)            (None, 1)                 2         \n",
            "                                                                 \n",
            "=================================================================\n",
            "Total params: 2\n",
            "Trainable params: 2\n",
            "Non-trainable params: 0\n",
            "_________________________________________________________________\n"
          ]
        }
      ]
    },
    {
      "cell_type": "markdown",
      "source": [
        "### \n",
        "* Total Params - total number of parameters in the model\n",
        "* Trainable params- these are the parameters (patterns) model can update as it learns\n",
        "* Non-trainiable params- there are the parameters that are not updated while training(this is typically when you bring in already learnt patterns or parameters from other models during transfer learning)\n",
        "\n",
        "Look for what are the trainable parameters. Check out MIT's intro to deep learning video\n",
        "\n",
        "Try to play around with the no. of units of neural networks and see how it affects the no. of parameters"
      ],
      "metadata": {
        "id": "x0x34eSZDUSY"
      }
    },
    {
      "cell_type": "code",
      "source": [
        "model.fit(tf.expand_dims(X_train,axis=-1),y_train,epochs=10,verbose=0)"
      ],
      "metadata": {
        "colab": {
          "base_uri": "https://localhost:8080/"
        },
        "id": "y3gTq3SJEN8s",
        "outputId": "22a66657-36ee-4dc2-bf8c-4e90d3207b11"
      },
      "execution_count": null,
      "outputs": [
        {
          "output_type": "execute_result",
          "data": {
            "text/plain": [
              "<keras.callbacks.History at 0x7f3d80accd60>"
            ]
          },
          "metadata": {},
          "execution_count": 32
        }
      ]
    },
    {
      "cell_type": "code",
      "source": [
        "model.fit(tf.expand_dims(X_train,axis=-1),y_train,epochs=10,verbose=1)"
      ],
      "metadata": {
        "colab": {
          "base_uri": "https://localhost:8080/"
        },
        "id": "PMHA8af-FxPR",
        "outputId": "f7370848-6c0d-453b-f897-6f2f0a947a0e"
      },
      "execution_count": null,
      "outputs": [
        {
          "output_type": "stream",
          "name": "stdout",
          "text": [
            "Epoch 1/10\n",
            "2/2 [==============================] - 0s 9ms/step - loss: 11.9929 - mae: 11.9929\n",
            "Epoch 2/10\n",
            "2/2 [==============================] - 0s 7ms/step - loss: 13.0891 - mae: 13.0891\n",
            "Epoch 3/10\n",
            "2/2 [==============================] - 0s 12ms/step - loss: 11.7530 - mae: 11.7530\n",
            "Epoch 4/10\n",
            "2/2 [==============================] - 0s 7ms/step - loss: 9.1913 - mae: 9.1913\n",
            "Epoch 5/10\n",
            "2/2 [==============================] - 0s 7ms/step - loss: 10.0572 - mae: 10.0572\n",
            "Epoch 6/10\n",
            "2/2 [==============================] - 0s 8ms/step - loss: 9.3223 - mae: 9.3223\n",
            "Epoch 7/10\n",
            "2/2 [==============================] - 0s 9ms/step - loss: 8.4703 - mae: 8.4703\n",
            "Epoch 8/10\n",
            "2/2 [==============================] - 0s 11ms/step - loss: 8.9679 - mae: 8.9679\n",
            "Epoch 9/10\n",
            "2/2 [==============================] - 0s 9ms/step - loss: 18.6339 - mae: 18.6339\n",
            "Epoch 10/10\n",
            "2/2 [==============================] - 0s 9ms/step - loss: 9.9983 - mae: 9.9983\n"
          ]
        },
        {
          "output_type": "execute_result",
          "data": {
            "text/plain": [
              "<keras.callbacks.History at 0x7f3d8098e580>"
            ]
          },
          "metadata": {},
          "execution_count": 33
        }
      ]
    },
    {
      "cell_type": "code",
      "source": [
        "model.fit(tf.expand_dims(X_train,axis=-1),y_train,epochs=10,verbose=2)"
      ],
      "metadata": {
        "colab": {
          "base_uri": "https://localhost:8080/"
        },
        "id": "0ApccWz3F1I_",
        "outputId": "3a13a4f9-2784-4802-f829-ab1246ca5970"
      },
      "execution_count": null,
      "outputs": [
        {
          "output_type": "stream",
          "name": "stdout",
          "text": [
            "Epoch 1/10\n",
            "2/2 - 0s - loss: 9.0651 - mae: 9.0651 - 12ms/epoch - 6ms/step\n",
            "Epoch 2/10\n",
            "2/2 - 0s - loss: 9.5346 - mae: 9.5346 - 11ms/epoch - 5ms/step\n",
            "Epoch 3/10\n",
            "2/2 - 0s - loss: 10.7249 - mae: 10.7249 - 11ms/epoch - 5ms/step\n",
            "Epoch 4/10\n",
            "2/2 - 0s - loss: 9.2616 - mae: 9.2616 - 10ms/epoch - 5ms/step\n",
            "Epoch 5/10\n",
            "2/2 - 0s - loss: 10.1578 - mae: 10.1578 - 10ms/epoch - 5ms/step\n",
            "Epoch 6/10\n",
            "2/2 - 0s - loss: 9.3954 - mae: 9.3954 - 12ms/epoch - 6ms/step\n",
            "Epoch 7/10\n",
            "2/2 - 0s - loss: 8.5175 - mae: 8.5175 - 11ms/epoch - 6ms/step\n",
            "Epoch 8/10\n",
            "2/2 - 0s - loss: 8.8753 - mae: 8.8753 - 9ms/epoch - 5ms/step\n",
            "Epoch 9/10\n",
            "2/2 - 0s - loss: 18.9412 - mae: 18.9412 - 9ms/epoch - 5ms/step\n",
            "Epoch 10/10\n",
            "2/2 - 0s - loss: 10.0972 - mae: 10.0972 - 10ms/epoch - 5ms/step\n"
          ]
        },
        {
          "output_type": "execute_result",
          "data": {
            "text/plain": [
              "<keras.callbacks.History at 0x7f3d8092d400>"
            ]
          },
          "metadata": {},
          "execution_count": 34
        }
      ]
    },
    {
      "cell_type": "code",
      "source": [
        "model.summary()"
      ],
      "metadata": {
        "colab": {
          "base_uri": "https://localhost:8080/"
        },
        "id": "7e0VqxWjF5Q2",
        "outputId": "de125946-ccd9-4990-9b2e-507a7fee6d3d"
      },
      "execution_count": null,
      "outputs": [
        {
          "output_type": "stream",
          "name": "stdout",
          "text": [
            "Model: \"sequential_5\"\n",
            "_________________________________________________________________\n",
            " Layer (type)                Output Shape              Param #   \n",
            "=================================================================\n",
            " dense_15 (Dense)            (None, 1)                 2         \n",
            "                                                                 \n",
            "=================================================================\n",
            "Total params: 2\n",
            "Trainable params: 2\n",
            "Non-trainable params: 0\n",
            "_________________________________________________________________\n"
          ]
        }
      ]
    },
    {
      "cell_type": "code",
      "source": [
        "from tensorflow.keras.utils import plot_model"
      ],
      "metadata": {
        "id": "IpQbJpr5GaYe"
      },
      "execution_count": null,
      "outputs": []
    },
    {
      "cell_type": "code",
      "source": [
        "plot_model(model)"
      ],
      "metadata": {
        "colab": {
          "base_uri": "https://localhost:8080/",
          "height": 174
        },
        "id": "-clcVF-gGsRf",
        "outputId": "dd28a262-a35f-460c-bf8c-95789ddef4b1"
      },
      "execution_count": null,
      "outputs": [
        {
          "output_type": "execute_result",
          "data": {
            "image/png": "[encoded data removed]",
            "text/plain": [
              "<IPython.core.display.Image object>"
            ]
          },
          "metadata": {},
          "execution_count": 37
        }
      ]
    },
    {
      "cell_type": "code",
      "source": [
        "plot_model(model,show_shapes=True)"
      ],
      "metadata": {
        "colab": {
          "base_uri": "https://localhost:8080/",
          "height": 201
        },
        "id": "m1TtlxiYGumJ",
        "outputId": "7b30b994-e479-4b82-b48c-d3335e96a450"
      },
      "execution_count": null,
      "outputs": [
        {
          "output_type": "execute_result",
          "data": {
            "image/png": "[encoded data removed]",
            "text/plain": [
              "<IPython.core.display.Image object>"
            ]
          },
          "metadata": {},
          "execution_count": 38
        }
      ]
    },
    {
      "cell_type": "code",
      "source": [
        "#Let's create a model that builds automatically by defining the input_shape in the firt layer\n",
        "tf.random.set_seed(42)\n",
        "model=tf.keras.Sequential([tf.keras.layers.Dense(10,input_shape=[1],name='input_layer'),\n",
        "                          tf.keras.layers.Dense(1,name='output_layer')],\n",
        "                          name=\"Model_test\")\n",
        "\n",
        "#2. Compile the model\n",
        "model.compile(loss=tf.keras.losses.mae,\n",
        "              optimizer=tf.keras.optimizers.SGD(),\n",
        "              metrics=['mae']\n",
        "              )"
      ],
      "metadata": {
        "id": "hTKGhtrxG3pb"
      },
      "execution_count": null,
      "outputs": []
    },
    {
      "cell_type": "code",
      "source": [
        "model.summary()"
      ],
      "metadata": {
        "colab": {
          "base_uri": "https://localhost:8080/"
        },
        "id": "-FZ2LnEMHtmT",
        "outputId": "f3319620-1321-4b30-f456-c7626fcbdcd9"
      },
      "execution_count": null,
      "outputs": [
        {
          "output_type": "stream",
          "name": "stdout",
          "text": [
            "Model: \"Model_test\"\n",
            "_________________________________________________________________\n",
            " Layer (type)                Output Shape              Param #   \n",
            "=================================================================\n",
            " input_layer (Dense)         (None, 10)                20        \n",
            "                                                                 \n",
            " output_layer (Dense)        (None, 1)                 11        \n",
            "                                                                 \n",
            "=================================================================\n",
            "Total params: 31\n",
            "Trainable params: 31\n",
            "Non-trainable params: 0\n",
            "_________________________________________________________________\n"
          ]
        }
      ]
    },
    {
      "cell_type": "code",
      "source": [
        "plot_model(model,show_shapes=True)"
      ],
      "metadata": {
        "colab": {
          "base_uri": "https://localhost:8080/",
          "height": 312
        },
        "id": "wmOv-BruHwjj",
        "outputId": "db471871-1a7b-4cae-bbb5-b149814d35d6"
      },
      "execution_count": null,
      "outputs": [
        {
          "output_type": "execute_result",
          "data": {
            "image/png": "[encoded data removed]",
            "text/plain": [
              "<IPython.core.display.Image object>"
            ]
          },
          "metadata": {},
          "execution_count": 41
        }
      ]
    },
    {
      "cell_type": "code",
      "source": [
        "model.fit(tf.expand_dims(X_train,axis=-1),y_train,epochs=100)"
      ],
      "metadata": {
        "colab": {
          "base_uri": "https://localhost:8080/"
        },
        "id": "weoxQ42iJsZE",
        "outputId": "6a1402bf-b9fe-4eb7-f8db-f449bedb9904"
      },
      "execution_count": null,
      "outputs": [
        {
          "output_type": "stream",
          "name": "stdout",
          "text": [
            "Epoch 1/100\n",
            "2/2 [==============================] - 0s 10ms/step - loss: 46.9186 - mae: 46.9186\n",
            "Epoch 2/100\n",
            "2/2 [==============================] - 0s 6ms/step - loss: 27.1256 - mae: 27.1256\n",
            "Epoch 3/100\n",
            "2/2 [==============================] - 0s 6ms/step - loss: 17.1847 - mae: 17.1847\n",
            "Epoch 4/100\n",
            "2/2 [==============================] - 0s 6ms/step - loss: 14.3970 - mae: 14.3970\n",
            "Epoch 5/100\n",
            "2/2 [==============================] - 0s 8ms/step - loss: 16.3860 - mae: 16.3860\n",
            "Epoch 6/100\n",
            "2/2 [==============================] - 0s 8ms/step - loss: 11.1392 - mae: 11.1392\n",
            "Epoch 7/100\n",
            "2/2 [==============================] - 0s 7ms/step - loss: 12.1434 - mae: 12.1434\n",
            "Epoch 8/100\n",
            "2/2 [==============================] - 0s 6ms/step - loss: 10.8880 - mae: 10.8880\n",
            "Epoch 9/100\n",
            "2/2 [==============================] - 0s 8ms/step - loss: 37.8692 - mae: 37.8692\n",
            "Epoch 10/100\n",
            "2/2 [==============================] - 0s 8ms/step - loss: 25.4776 - mae: 25.4776\n",
            "Epoch 11/100\n",
            "2/2 [==============================] - 0s 6ms/step - loss: 10.2467 - mae: 10.2467\n",
            "Epoch 12/100\n",
            "2/2 [==============================] - 0s 6ms/step - loss: 25.3098 - mae: 25.3098\n",
            "Epoch 13/100\n",
            "2/2 [==============================] - 0s 8ms/step - loss: 16.9605 - mae: 16.9605\n",
            "Epoch 14/100\n",
            "2/2 [==============================] - 0s 10ms/step - loss: 25.8704 - mae: 25.8704\n",
            "Epoch 15/100\n",
            "2/2 [==============================] - 0s 9ms/step - loss: 17.9526 - mae: 17.9526\n",
            "Epoch 16/100\n",
            "2/2 [==============================] - 0s 9ms/step - loss: 7.3458 - mae: 7.3458\n",
            "Epoch 17/100\n",
            "2/2 [==============================] - 0s 7ms/step - loss: 10.8738 - mae: 10.8738\n",
            "Epoch 18/100\n",
            "2/2 [==============================] - 0s 7ms/step - loss: 19.5458 - mae: 19.5458\n",
            "Epoch 19/100\n",
            "2/2 [==============================] - 0s 8ms/step - loss: 10.3514 - mae: 10.3514\n",
            "Epoch 20/100\n",
            "2/2 [==============================] - 0s 8ms/step - loss: 17.7105 - mae: 17.7105\n",
            "Epoch 21/100\n",
            "2/2 [==============================] - 0s 7ms/step - loss: 15.9113 - mae: 15.9113\n",
            "Epoch 22/100\n",
            "2/2 [==============================] - 0s 8ms/step - loss: 14.2175 - mae: 14.2175\n",
            "Epoch 23/100\n",
            "2/2 [==============================] - 0s 7ms/step - loss: 8.7586 - mae: 8.7586\n",
            "Epoch 24/100\n",
            "2/2 [==============================] - 0s 10ms/step - loss: 11.0426 - mae: 11.0426\n",
            "Epoch 25/100\n",
            "2/2 [==============================] - 0s 7ms/step - loss: 12.6660 - mae: 12.6660\n",
            "Epoch 26/100\n",
            "2/2 [==============================] - 0s 8ms/step - loss: 26.1398 - mae: 26.1398\n",
            "Epoch 27/100\n",
            "2/2 [==============================] - 0s 12ms/step - loss: 11.7317 - mae: 11.7317\n",
            "Epoch 28/100\n",
            "2/2 [==============================] - 0s 8ms/step - loss: 30.7321 - mae: 30.7321\n",
            "Epoch 29/100\n",
            "2/2 [==============================] - 0s 9ms/step - loss: 9.2801 - mae: 9.2801\n",
            "Epoch 30/100\n",
            "2/2 [==============================] - 0s 8ms/step - loss: 31.1367 - mae: 31.1367\n",
            "Epoch 31/100\n",
            "2/2 [==============================] - 0s 7ms/step - loss: 42.6499 - mae: 42.6499\n",
            "Epoch 32/100\n",
            "2/2 [==============================] - 0s 7ms/step - loss: 12.4455 - mae: 12.4455\n",
            "Epoch 33/100\n",
            "2/2 [==============================] - 0s 9ms/step - loss: 12.2301 - mae: 12.2301\n",
            "Epoch 34/100\n",
            "2/2 [==============================] - 0s 8ms/step - loss: 24.1308 - mae: 24.1308\n",
            "Epoch 35/100\n",
            "2/2 [==============================] - 0s 8ms/step - loss: 11.9982 - mae: 11.9982\n",
            "Epoch 36/100\n",
            "2/2 [==============================] - 0s 8ms/step - loss: 22.3244 - mae: 22.3244\n",
            "Epoch 37/100\n",
            "2/2 [==============================] - 0s 8ms/step - loss: 17.1937 - mae: 17.1937\n",
            "Epoch 38/100\n",
            "2/2 [==============================] - 0s 8ms/step - loss: 10.6006 - mae: 10.6006\n",
            "Epoch 39/100\n",
            "2/2 [==============================] - 0s 9ms/step - loss: 11.1170 - mae: 11.1170\n",
            "Epoch 40/100\n",
            "2/2 [==============================] - 0s 9ms/step - loss: 17.7634 - mae: 17.7634\n",
            "Epoch 41/100\n",
            "2/2 [==============================] - 0s 9ms/step - loss: 10.3080 - mae: 10.3080\n",
            "Epoch 42/100\n",
            "2/2 [==============================] - 0s 7ms/step - loss: 7.2873 - mae: 7.2873\n",
            "Epoch 43/100\n",
            "2/2 [==============================] - 0s 8ms/step - loss: 18.4383 - mae: 18.4383\n",
            "Epoch 44/100\n",
            "2/2 [==============================] - 0s 8ms/step - loss: 21.9765 - mae: 21.9765\n",
            "Epoch 45/100\n",
            "2/2 [==============================] - 0s 7ms/step - loss: 10.0993 - mae: 10.0993\n",
            "Epoch 46/100\n",
            "2/2 [==============================] - 0s 10ms/step - loss: 11.3459 - mae: 11.3459\n",
            "Epoch 47/100\n",
            "2/2 [==============================] - 0s 10ms/step - loss: 9.8397 - mae: 9.8397\n",
            "Epoch 48/100\n",
            "2/2 [==============================] - 0s 11ms/step - loss: 17.6502 - mae: 17.6502\n",
            "Epoch 49/100\n",
            "2/2 [==============================] - 0s 9ms/step - loss: 9.3120 - mae: 9.3120\n",
            "Epoch 50/100\n",
            "2/2 [==============================] - 0s 7ms/step - loss: 13.3389 - mae: 13.3389\n",
            "Epoch 51/100\n",
            "2/2 [==============================] - 0s 7ms/step - loss: 11.4224 - mae: 11.4224\n",
            "Epoch 52/100\n",
            "2/2 [==============================] - 0s 7ms/step - loss: 29.2846 - mae: 29.2846\n",
            "Epoch 53/100\n",
            "2/2 [==============================] - 0s 10ms/step - loss: 16.6854 - mae: 16.6854\n",
            "Epoch 54/100\n",
            "2/2 [==============================] - 0s 8ms/step - loss: 21.6458 - mae: 21.6458\n",
            "Epoch 55/100\n",
            "2/2 [==============================] - 0s 8ms/step - loss: 22.0830 - mae: 22.0830\n",
            "Epoch 56/100\n",
            "2/2 [==============================] - 0s 9ms/step - loss: 11.2149 - mae: 11.2149\n",
            "Epoch 57/100\n",
            "2/2 [==============================] - 0s 8ms/step - loss: 13.1808 - mae: 13.1808\n",
            "Epoch 58/100\n",
            "2/2 [==============================] - 0s 8ms/step - loss: 9.8514 - mae: 9.8514\n",
            "Epoch 59/100\n",
            "2/2 [==============================] - 0s 8ms/step - loss: 13.3630 - mae: 13.3630\n",
            "Epoch 60/100\n",
            "2/2 [==============================] - 0s 8ms/step - loss: 10.9114 - mae: 10.9114\n",
            "Epoch 61/100\n",
            "2/2 [==============================] - 0s 8ms/step - loss: 13.5182 - mae: 13.5182\n",
            "Epoch 62/100\n",
            "2/2 [==============================] - 0s 8ms/step - loss: 17.5614 - mae: 17.5614\n",
            "Epoch 63/100\n",
            "2/2 [==============================] - 0s 8ms/step - loss: 9.1869 - mae: 9.1869\n",
            "Epoch 64/100\n",
            "2/2 [==============================] - 0s 12ms/step - loss: 18.4270 - mae: 18.4270\n",
            "Epoch 65/100\n",
            "2/2 [==============================] - 0s 11ms/step - loss: 10.1413 - mae: 10.1413\n",
            "Epoch 66/100\n",
            "2/2 [==============================] - 0s 10ms/step - loss: 24.2900 - mae: 24.2900\n",
            "Epoch 67/100\n",
            "2/2 [==============================] - 0s 8ms/step - loss: 10.9141 - mae: 10.9141\n",
            "Epoch 68/100\n",
            "2/2 [==============================] - 0s 9ms/step - loss: 10.7923 - mae: 10.7923\n",
            "Epoch 69/100\n",
            "2/2 [==============================] - 0s 9ms/step - loss: 23.2612 - mae: 23.2612\n",
            "Epoch 70/100\n",
            "2/2 [==============================] - 0s 8ms/step - loss: 8.8225 - mae: 8.8225\n",
            "Epoch 71/100\n",
            "2/2 [==============================] - 0s 8ms/step - loss: 15.9872 - mae: 15.9872\n",
            "Epoch 72/100\n",
            "2/2 [==============================] - 0s 9ms/step - loss: 8.1569 - mae: 8.1569\n",
            "Epoch 73/100\n",
            "2/2 [==============================] - 0s 8ms/step - loss: 9.4717 - mae: 9.4717\n",
            "Epoch 74/100\n",
            "2/2 [==============================] - 0s 9ms/step - loss: 28.1611 - mae: 28.1611\n",
            "Epoch 75/100\n",
            "2/2 [==============================] - 0s 9ms/step - loss: 10.2078 - mae: 10.2078\n",
            "Epoch 76/100\n",
            "2/2 [==============================] - 0s 9ms/step - loss: 13.1560 - mae: 13.1560\n",
            "Epoch 77/100\n",
            "2/2 [==============================] - 0s 9ms/step - loss: 18.3694 - mae: 18.3694\n",
            "Epoch 78/100\n",
            "2/2 [==============================] - 0s 9ms/step - loss: 9.0278 - mae: 9.0278\n",
            "Epoch 79/100\n",
            "2/2 [==============================] - 0s 8ms/step - loss: 23.4063 - mae: 23.4063\n",
            "Epoch 80/100\n",
            "2/2 [==============================] - 0s 8ms/step - loss: 26.0711 - mae: 26.0711\n",
            "Epoch 81/100\n",
            "2/2 [==============================] - 0s 12ms/step - loss: 11.3838 - mae: 11.3838\n",
            "Epoch 82/100\n",
            "2/2 [==============================] - 0s 10ms/step - loss: 12.5135 - mae: 12.5135\n",
            "Epoch 83/100\n",
            "2/2 [==============================] - 0s 9ms/step - loss: 17.2101 - mae: 17.2101\n",
            "Epoch 84/100\n",
            "2/2 [==============================] - 0s 9ms/step - loss: 6.6160 - mae: 6.6160\n",
            "Epoch 85/100\n",
            "2/2 [==============================] - 0s 9ms/step - loss: 20.2430 - mae: 20.2430\n",
            "Epoch 86/100\n",
            "2/2 [==============================] - 0s 8ms/step - loss: 10.1720 - mae: 10.1720\n",
            "Epoch 87/100\n",
            "2/2 [==============================] - 0s 7ms/step - loss: 24.2729 - mae: 24.2729\n",
            "Epoch 88/100\n",
            "2/2 [==============================] - 0s 7ms/step - loss: 18.9394 - mae: 18.9394\n",
            "Epoch 89/100\n",
            "2/2 [==============================] - 0s 8ms/step - loss: 7.6801 - mae: 7.6801\n",
            "Epoch 90/100\n",
            "2/2 [==============================] - 0s 8ms/step - loss: 17.3233 - mae: 17.3233\n",
            "Epoch 91/100\n",
            "2/2 [==============================] - 0s 8ms/step - loss: 12.4396 - mae: 12.4396\n",
            "Epoch 92/100\n",
            "2/2 [==============================] - 0s 8ms/step - loss: 24.7994 - mae: 24.7994\n",
            "Epoch 93/100\n",
            "2/2 [==============================] - 0s 8ms/step - loss: 15.4781 - mae: 15.4781\n",
            "Epoch 94/100\n",
            "2/2 [==============================] - 0s 8ms/step - loss: 9.7525 - mae: 9.7525\n",
            "Epoch 95/100\n",
            "2/2 [==============================] - 0s 7ms/step - loss: 18.3951 - mae: 18.3951\n",
            "Epoch 96/100\n",
            "2/2 [==============================] - 0s 8ms/step - loss: 10.3969 - mae: 10.3969\n",
            "Epoch 97/100\n",
            "2/2 [==============================] - 0s 8ms/step - loss: 14.1489 - mae: 14.1489\n",
            "Epoch 98/100\n",
            "2/2 [==============================] - 0s 8ms/step - loss: 9.6350 - mae: 9.6350\n",
            "Epoch 99/100\n",
            "2/2 [==============================] - 0s 8ms/step - loss: 11.3316 - mae: 11.3316\n",
            "Epoch 100/100\n",
            "2/2 [==============================] - 0s 8ms/step - loss: 29.2304 - mae: 29.2304\n"
          ]
        },
        {
          "output_type": "execute_result",
          "data": {
            "text/plain": [
              "<keras.callbacks.History at 0x7f3d8113b7f0>"
            ]
          },
          "metadata": {},
          "execution_count": 42
        }
      ]
    },
    {
      "cell_type": "markdown",
      "source": [
        "### Visulizing our Model's Predictions\n",
        "\n",
        "TO visualize predictions, it's a good idea to plot them again the ground truth\n",
        "\n",
        "Oftern we'll see this in the form of y_test or y_true versus y_pred"
      ],
      "metadata": {
        "id": "vKBgQGj3HySa"
      }
    },
    {
      "cell_type": "code",
      "source": [
        "y_pred=model.predict(X_test)"
      ],
      "metadata": {
        "colab": {
          "base_uri": "https://localhost:8080/"
        },
        "id": "8Hqx8LI7IZmt",
        "outputId": "e144de13-aef2-4e65-a410-cd563209c304"
      },
      "execution_count": null,
      "outputs": [
        {
          "output_type": "stream",
          "name": "stderr",
          "text": [
            "WARNING:tensorflow:5 out of the last 5 calls to <function Model.make_predict_function.<locals>.predict_function at 0x7f3d80961670> triggered tf.function retracing. Tracing is expensive and the excessive number of tracings could be due to (1) creating @tf.function repeatedly in a loop, (2) passing tensors with different shapes, (3) passing Python objects instead of tensors. For (1), please define your @tf.function outside of the loop. For (2), @tf.function has reduce_retracing=True option that can avoid unnecessary retracing. For (3), please refer to https://www.tensorflow.org/guide/function#controlling_retracing and https://www.tensorflow.org/api_docs/python/tf/function for  more details.\n"
          ]
        },
        {
          "output_type": "stream",
          "name": "stdout",
          "text": [
            "1/1 [==============================] - 0s 88ms/step\n"
          ]
        }
      ]
    },
    {
      "cell_type": "code",
      "source": [
        "y_pred"
      ],
      "metadata": {
        "colab": {
          "base_uri": "https://localhost:8080/"
        },
        "id": "4K-e6oXOJlAG",
        "outputId": "cf624103-7b07-4c4d-f1dd-0aa91cc2d724"
      },
      "execution_count": null,
      "outputs": [
        {
          "output_type": "execute_result",
          "data": {
            "text/plain": [
              "array([[ 76.876396],\n",
              "       [ 81.889336],\n",
              "       [ 86.90229 ],\n",
              "       [ 91.915245],\n",
              "       [ 96.9282  ],\n",
              "       [101.94116 ],\n",
              "       [106.954124],\n",
              "       [111.96708 ],\n",
              "       [116.98001 ],\n",
              "       [121.992966]], dtype=float32)"
            ]
          },
          "metadata": {},
          "execution_count": 44
        }
      ]
    },
    {
      "cell_type": "code",
      "source": [
        "y_test"
      ],
      "metadata": {
        "colab": {
          "base_uri": "https://localhost:8080/"
        },
        "id": "RvuVy2KzJ_yD",
        "outputId": "6b6949b6-10a8-4d3c-82bd-c65b6e3b43be"
      },
      "execution_count": null,
      "outputs": [
        {
          "output_type": "execute_result",
          "data": {
            "text/plain": [
              "<tf.Tensor: shape=(10,), dtype=int32, numpy=array([ 70,  74,  78,  82,  86,  90,  94,  98, 102, 106], dtype=int32)>"
            ]
          },
          "metadata": {},
          "execution_count": 45
        }
      ]
    },
    {
      "cell_type": "code",
      "source": [
        "#Let's create a plotting functions\n",
        "def plot_predictions(train_data=X_train,\n",
        "                     train_labels=y_train,\n",
        "                     test_data=X_test,\n",
        "                     test_labels=y_test,\n",
        "                     predictions=y_pred):\n",
        "  \"\"\"Plots training data, test data and compares the predictions to the ground truth\"\"\"\n",
        "\n",
        "  plt.figure(figsize=(10,7))\n",
        "  plt.scatter(train_data,train_labels, c='b', label= 'train_data')\n",
        "  plt.scatter(test_data, test_labels, c='g',label='test data')\n",
        "  plt.scatter(test_data,predictions,c='r',label='predictions')\n",
        "  plt.legend();"
      ],
      "metadata": {
        "id": "PsSTLHcsKB8w"
      },
      "execution_count": null,
      "outputs": []
    },
    {
      "cell_type": "code",
      "source": [
        "plot_predictions(X_train,y_train,X_test,y_test,y_pred)"
      ],
      "metadata": {
        "colab": {
          "base_uri": "https://localhost:8080/",
          "height": 428
        },
        "id": "Y6kVBpoQKJxh",
        "outputId": "705b1314-b344-4ac7-db7d-69ecdd5b86dc"
      },
      "execution_count": null,
      "outputs": [
        {
          "output_type": "display_data",
          "data": {
            "text/plain": [
              "<Figure size 720x504 with 1 Axes>"
            ],
            "image/png": "[encoded data removed]"
          },
          "metadata": {
            "needs_background": "light"
          }
        }
      ]
    },
    {
      "cell_type": "code",
      "source": [
        "plot_predictions()"
      ],
      "metadata": {
        "colab": {
          "base_uri": "https://localhost:8080/",
          "height": 428
        },
        "id": "jzrwiEjTLUlt",
        "outputId": "1c772fd1-29ad-41ca-8b44-0555d9624476"
      },
      "execution_count": null,
      "outputs": [
        {
          "output_type": "display_data",
          "data": {
            "text/plain": [
              "<Figure size 720x504 with 1 Axes>"
            ],
            "image/png": "[encoded data removed]"
          },
          "metadata": {
            "needs_background": "light"
          }
        }
      ]
    },
    {
      "cell_type": "markdown",
      "source": [
        "### Evaluating our models predictions with Evaluation Metrics\n",
        "Depending on the problem we are working on, there would be different evaluation metrics to evaluate the model's performance\n",
        "\n",
        "Since we are working with Regression, the two main metics are:\n",
        "* MAE: Mean absolute error, \"On average, how wrong is each of my model's prediction - As a great starter metric for any regression problem\n",
        "* MSE: Mean squared Error: \" Square the Average errors\" - When larger errors are more significant than smaller errors\n",
        "\n",
        "* Huber- Comination of MSE and MAE. Less sensitive to outliers than MSE"
      ],
      "metadata": {
        "id": "8t6wJCl3Lp_b"
      }
    },
    {
      "cell_type": "code",
      "source": [
        "#Evaluate the model on the test set\n",
        "model.evaluate(X_test, y_test)"
      ],
      "metadata": {
        "colab": {
          "base_uri": "https://localhost:8080/"
        },
        "id": "BK4omnBYL7BO",
        "outputId": "66bd4d06-3a63-476a-931b-3281ea904a4e"
      },
      "execution_count": null,
      "outputs": [
        {
          "output_type": "stream",
          "name": "stdout",
          "text": [
            "1/1 [==============================] - 0s 190ms/step - loss: 11.4347 - mae: 11.4347\n"
          ]
        },
        {
          "output_type": "execute_result",
          "data": {
            "text/plain": [
              "[11.434683799743652, 11.434683799743652]"
            ]
          },
          "metadata": {},
          "execution_count": 49
        }
      ]
    },
    {
      "cell_type": "code",
      "source": [
        "y_pred"
      ],
      "metadata": {
        "colab": {
          "base_uri": "https://localhost:8080/"
        },
        "id": "wVN4WNcNP5_J",
        "outputId": "aa38b1a3-25aa-4ccf-da21-82f6eb731f62"
      },
      "execution_count": null,
      "outputs": [
        {
          "output_type": "execute_result",
          "data": {
            "text/plain": [
              "array([[ 76.876396],\n",
              "       [ 81.889336],\n",
              "       [ 86.90229 ],\n",
              "       [ 91.915245],\n",
              "       [ 96.9282  ],\n",
              "       [101.94116 ],\n",
              "       [106.954124],\n",
              "       [111.96708 ],\n",
              "       [116.98001 ],\n",
              "       [121.992966]], dtype=float32)"
            ]
          },
          "metadata": {},
          "execution_count": 50
        }
      ]
    },
    {
      "cell_type": "code",
      "source": [
        "y_test"
      ],
      "metadata": {
        "colab": {
          "base_uri": "https://localhost:8080/"
        },
        "id": "hnZ_K9DXQHSf",
        "outputId": "715f12c8-88d5-421a-9671-9b8d7467e1ac"
      },
      "execution_count": null,
      "outputs": [
        {
          "output_type": "execute_result",
          "data": {
            "text/plain": [
              "<tf.Tensor: shape=(10,), dtype=int32, numpy=array([ 70,  74,  78,  82,  86,  90,  94,  98, 102, 106], dtype=int32)>"
            ]
          },
          "metadata": {},
          "execution_count": 51
        }
      ]
    },
    {
      "cell_type": "code",
      "source": [
        "#Calcualte the Mean Absolute error\n",
        "mae=tf.metrics.mean_absolute_error(y_test,y_pred)"
      ],
      "metadata": {
        "id": "xRbYpVbQQH7F"
      },
      "execution_count": null,
      "outputs": []
    },
    {
      "cell_type": "code",
      "source": [
        "mae"
      ],
      "metadata": {
        "id": "bPozCPvNaTkI",
        "outputId": "686f516c-8175-4bb9-9c61-65e84101524d",
        "colab": {
          "base_uri": "https://localhost:8080/"
        }
      },
      "execution_count": null,
      "outputs": [
        {
          "output_type": "execute_result",
          "data": {
            "text/plain": [
              "<tf.Tensor: shape=(10,), dtype=float32, numpy=\n",
              "array([13.0741625, 10.844266 , 10.       , 10.383049 , 11.97128  ,\n",
              "       14.764697 , 18.954124 , 23.96708  , 28.980011 , 33.992966 ],\n",
              "      dtype=float32)>"
            ]
          },
          "metadata": {},
          "execution_count": 54
        }
      ]
    },
    {
      "cell_type": "markdown",
      "source": [
        "### When we are making an Evaluation Metric, the dimension of the y_test and Y-pred must be in the same shape\n"
      ],
      "metadata": {
        "id": "LcadpDuzaW9B"
      }
    },
    {
      "cell_type": "code",
      "source": [
        "mae=tf.metrics.mean_absolute_error(y_test,tf.squeeze(y_pred))\n",
        "mae\n",
        "#We got the mae now as expected."
      ],
      "metadata": {
        "id": "nrAQjyL8bc8c",
        "outputId": "2c7e4996-71c1-41d8-c56b-fd6ea9e8003f",
        "colab": {
          "base_uri": "https://localhost:8080/"
        }
      },
      "execution_count": null,
      "outputs": [
        {
          "output_type": "execute_result",
          "data": {
            "text/plain": [
              "<tf.Tensor: shape=(), dtype=float32, numpy=11.434681>"
            ]
          },
          "metadata": {},
          "execution_count": 58
        }
      ]
    },
    {
      "cell_type": "code",
      "source": [
        "#Calculate Mean Squared Error\n",
        "mse=tf.metrics.mean_squared_error(y_test,y_pred)"
      ],
      "metadata": {
        "id": "KifRbX0gbgw3"
      },
      "execution_count": null,
      "outputs": []
    },
    {
      "cell_type": "code",
      "source": [
        "mse"
      ],
      "metadata": {
        "id": "Pqlz-Vd5cGgn",
        "outputId": "f63cfdbe-15a5-4ca4-f285-2bdb20ca14e5",
        "colab": {
          "base_uri": "https://localhost:8080/"
        }
      },
      "execution_count": null,
      "outputs": [
        {
          "output_type": "execute_result",
          "data": {
            "text/plain": [
              "<tf.Tensor: shape=(10,), dtype=float32, numpy=\n",
              "array([ 255.73457,  169.34021,  133.20496,  147.32913,  211.71274,\n",
              "        326.35602,  491.25885,  706.42084,  971.841  , 1287.5217 ],\n",
              "      dtype=float32)>"
            ]
          },
          "metadata": {},
          "execution_count": 60
        }
      ]
    },
    {
      "cell_type": "code",
      "source": [
        "#We need to reshape\n",
        "tf.metrics.mean_squared_error(y_test,tf.squeeze(y_pred))"
      ],
      "metadata": {
        "id": "j2Dn6zbjcHAF",
        "outputId": "a2be7af4-0b1d-456e-afca-15485c6ae53f",
        "colab": {
          "base_uri": "https://localhost:8080/"
        }
      },
      "execution_count": null,
      "outputs": [
        {
          "output_type": "execute_result",
          "data": {
            "text/plain": [
              "<tf.Tensor: shape=(), dtype=float32, numpy=139.21706>"
            ]
          },
          "metadata": {},
          "execution_count": 61
        }
      ]
    },
    {
      "cell_type": "code",
      "source": [
        "def mae(y_true, y_pred):\n",
        "  return tf.metrics.mean_absolute_error(y_true,y_pred)\n",
        "\n",
        "def mse(y_true,y_pred):\n",
        "  return tf.metrics.mean_squared_error(y_test,y_pred)"
      ],
      "metadata": {
        "id": "gymr2VRecOUv"
      },
      "execution_count": null,
      "outputs": []
    },
    {
      "cell_type": "markdown",
      "source": [
        "### Running Experiments to improve our model\n",
        "\n",
        "Build-> fit it-> evaluate it -> tweak it -> fit it ->evalute it.....\n",
        "\n",
        "1. Get more data- Get more examples for your model to train on (more oppertunities to learn patterns or relationshsips between failures and labels)\n",
        "2. Make your model larger (using a more complecx mpdel, in the form of more layers or hiden units in each layer)\n",
        "3. Train for longer - give your model more of a chance to find patterns in the data\n",
        "\n",
        "Let's do 3 modelling experiments\n",
        "\n",
        "1. model_1 : Same as the original Model, 1 layers, trained for 100 epochs\n",
        "2. model_2: 2 layers, trained for 100 epochs\n",
        "3. model_3: 2 layers, trained for 500 epochs\n",
        "4. model_4:\n",
        "5.\n"
      ],
      "metadata": {
        "id": "yFe_pvmmclQ4"
      }
    },
    {
      "cell_type": "markdown",
      "source": [
        "**Build model_1**"
      ],
      "metadata": {
        "id": "DCB1p6oZg9NI"
      }
    },
    {
      "cell_type": "code",
      "source": [
        "X_train, y_train"
      ],
      "metadata": {
        "id": "-J5PK8_7eIpP",
        "outputId": "b871d885-407e-4277-9359-18ef9f5ab902",
        "colab": {
          "base_uri": "https://localhost:8080/"
        }
      },
      "execution_count": null,
      "outputs": [
        {
          "output_type": "execute_result",
          "data": {
            "text/plain": [
              "(<tf.Tensor: shape=(40,), dtype=int32, numpy=\n",
              " array([-100,  -96,  -92,  -88,  -84,  -80,  -76,  -72,  -68,  -64,  -60,\n",
              "         -56,  -52,  -48,  -44,  -40,  -36,  -32,  -28,  -24,  -20,  -16,\n",
              "         -12,   -8,   -4,    0,    4,    8,   12,   16,   20,   24,   28,\n",
              "          32,   36,   40,   44,   48,   52,   56], dtype=int32)>,\n",
              " <tf.Tensor: shape=(40,), dtype=int32, numpy=\n",
              " array([-90, -86, -82, -78, -74, -70, -66, -62, -58, -54, -50, -46, -42,\n",
              "        -38, -34, -30, -26, -22, -18, -14, -10,  -6,  -2,   2,   6,  10,\n",
              "         14,  18,  22,  26,  30,  34,  38,  42,  46,  50,  54,  58,  62,\n",
              "         66], dtype=int32)>)"
            ]
          },
          "metadata": {},
          "execution_count": 64
        }
      ]
    },
    {
      "cell_type": "code",
      "source": [
        "#set random seed\n",
        "tf.random.set_seed(42)\n",
        "\n",
        "#1. Create the model\n",
        "model_1=tf.keras.Sequential([\n",
        "    tf.keras.layers.Dense(1)\n",
        "])\n",
        "\n",
        "#2. Compile the model\n",
        "model_1.compile(loss=tf.keras.losses.mae,\n",
        "                optimizer=tf.keras.optimizers.SGD(),\n",
        "                metrics=['mae'])\n",
        "\n",
        "#3. Fit the model\n",
        "model_1.fit(tf.expand_dims(X_train,axis=-1),y_train, epochs=100)"
      ],
      "metadata": {
        "id": "tZMNc3gpfuJE",
        "outputId": "b346b6bb-6cf1-422b-ac94-2b4aa813945d",
        "colab": {
          "base_uri": "https://localhost:8080/"
        }
      },
      "execution_count": null,
      "outputs": [
        {
          "output_type": "stream",
          "name": "stdout",
          "text": [
            "Epoch 1/100\n",
            "2/2 [==============================] - 1s 28ms/step - loss: 28.5182 - mae: 28.5182\n",
            "Epoch 2/100\n",
            "2/2 [==============================] - 0s 15ms/step - loss: 8.7797 - mae: 8.7797\n",
            "Epoch 3/100\n",
            "2/2 [==============================] - 0s 24ms/step - loss: 11.1806 - mae: 11.1806\n",
            "Epoch 4/100\n",
            "2/2 [==============================] - 0s 17ms/step - loss: 9.5743 - mae: 9.5743\n",
            "Epoch 5/100\n",
            "2/2 [==============================] - 0s 16ms/step - loss: 10.4842 - mae: 10.4842\n",
            "Epoch 6/100\n",
            "2/2 [==============================] - 0s 13ms/step - loss: 9.7093 - mae: 9.7093\n",
            "Epoch 7/100\n",
            "2/2 [==============================] - 0s 15ms/step - loss: 8.8040 - mae: 8.8040\n",
            "Epoch 8/100\n",
            "2/2 [==============================] - 0s 12ms/step - loss: 9.0671 - mae: 9.0671\n",
            "Epoch 9/100\n",
            "2/2 [==============================] - 0s 14ms/step - loss: 19.3303 - mae: 19.3303\n",
            "Epoch 10/100\n",
            "2/2 [==============================] - 0s 23ms/step - loss: 10.4385 - mae: 10.4385\n",
            "Epoch 11/100\n",
            "2/2 [==============================] - 0s 13ms/step - loss: 8.5263 - mae: 8.5263\n",
            "Epoch 12/100\n",
            "2/2 [==============================] - 0s 15ms/step - loss: 10.9319 - mae: 10.9319\n",
            "Epoch 13/100\n",
            "2/2 [==============================] - 0s 13ms/step - loss: 7.5634 - mae: 7.5634\n",
            "Epoch 14/100\n",
            "2/2 [==============================] - 0s 17ms/step - loss: 16.0239 - mae: 16.0239\n",
            "Epoch 15/100\n",
            "2/2 [==============================] - 0s 13ms/step - loss: 13.1045 - mae: 13.1045\n",
            "Epoch 16/100\n",
            "2/2 [==============================] - 0s 12ms/step - loss: 7.9373 - mae: 7.9373\n",
            "Epoch 17/100\n",
            "2/2 [==============================] - 0s 11ms/step - loss: 11.3080 - mae: 11.3080\n",
            "Epoch 18/100\n",
            "2/2 [==============================] - 0s 12ms/step - loss: 10.2263 - mae: 10.2263\n",
            "Epoch 19/100\n",
            "2/2 [==============================] - 0s 15ms/step - loss: 19.5530 - mae: 19.5530\n",
            "Epoch 20/100\n",
            "2/2 [==============================] - 0s 12ms/step - loss: 16.2044 - mae: 16.2044\n",
            "Epoch 21/100\n",
            "2/2 [==============================] - 0s 15ms/step - loss: 12.0993 - mae: 12.0993\n",
            "Epoch 22/100\n",
            "2/2 [==============================] - 0s 19ms/step - loss: 8.7211 - mae: 8.7211\n",
            "Epoch 23/100\n",
            "2/2 [==============================] - 0s 14ms/step - loss: 10.2488 - mae: 10.2488\n",
            "Epoch 24/100\n",
            "2/2 [==============================] - 0s 17ms/step - loss: 15.3967 - mae: 15.3967\n",
            "Epoch 25/100\n",
            "2/2 [==============================] - 0s 14ms/step - loss: 11.9365 - mae: 11.9365\n",
            "Epoch 26/100\n",
            "2/2 [==============================] - 0s 15ms/step - loss: 12.9977 - mae: 12.9977\n",
            "Epoch 27/100\n",
            "2/2 [==============================] - 0s 17ms/step - loss: 10.3613 - mae: 10.3613\n",
            "Epoch 28/100\n",
            "2/2 [==============================] - 0s 17ms/step - loss: 13.3332 - mae: 13.3332\n",
            "Epoch 29/100\n",
            "2/2 [==============================] - 0s 17ms/step - loss: 9.5999 - mae: 9.5999\n",
            "Epoch 30/100\n",
            "2/2 [==============================] - 0s 21ms/step - loss: 17.1093 - mae: 17.1093\n",
            "Epoch 31/100\n",
            "2/2 [==============================] - 0s 16ms/step - loss: 22.9469 - mae: 22.9469\n",
            "Epoch 32/100\n",
            "2/2 [==============================] - 0s 13ms/step - loss: 7.5531 - mae: 7.5531\n",
            "Epoch 33/100\n",
            "2/2 [==============================] - 0s 14ms/step - loss: 15.4436 - mae: 15.4436\n",
            "Epoch 34/100\n",
            "2/2 [==============================] - 0s 12ms/step - loss: 13.3729 - mae: 13.3729\n",
            "Epoch 35/100\n",
            "2/2 [==============================] - 0s 12ms/step - loss: 7.9784 - mae: 7.9784\n",
            "Epoch 36/100\n",
            "2/2 [==============================] - 0s 10ms/step - loss: 9.9801 - mae: 9.9801\n",
            "Epoch 37/100\n",
            "2/2 [==============================] - 0s 12ms/step - loss: 9.7314 - mae: 9.7314\n",
            "Epoch 38/100\n",
            "2/2 [==============================] - 0s 16ms/step - loss: 10.5938 - mae: 10.5938\n",
            "Epoch 39/100\n",
            "2/2 [==============================] - 0s 14ms/step - loss: 15.6856 - mae: 15.6856\n",
            "Epoch 40/100\n",
            "2/2 [==============================] - 0s 14ms/step - loss: 13.4350 - mae: 13.4350\n",
            "Epoch 41/100\n",
            "2/2 [==============================] - 0s 15ms/step - loss: 9.2943 - mae: 9.2943\n",
            "Epoch 42/100\n",
            "2/2 [==============================] - 0s 28ms/step - loss: 10.9942 - mae: 10.9942\n",
            "Epoch 43/100\n",
            "2/2 [==============================] - 0s 21ms/step - loss: 8.3338 - mae: 8.3338\n",
            "Epoch 44/100\n",
            "2/2 [==============================] - 0s 10ms/step - loss: 13.0299 - mae: 13.0299\n",
            "Epoch 45/100\n",
            "2/2 [==============================] - 0s 12ms/step - loss: 13.6952 - mae: 13.6952\n",
            "Epoch 46/100\n",
            "2/2 [==============================] - 0s 12ms/step - loss: 8.4005 - mae: 8.4005\n",
            "Epoch 47/100\n",
            "2/2 [==============================] - 0s 15ms/step - loss: 9.1839 - mae: 9.1839\n",
            "Epoch 48/100\n",
            "2/2 [==============================] - 0s 18ms/step - loss: 10.6937 - mae: 10.6937\n",
            "Epoch 49/100\n",
            "2/2 [==============================] - 0s 16ms/step - loss: 7.7949 - mae: 7.7949\n",
            "Epoch 50/100\n",
            "2/2 [==============================] - 0s 17ms/step - loss: 9.6091 - mae: 9.6091\n",
            "Epoch 51/100\n",
            "2/2 [==============================] - 0s 16ms/step - loss: 9.1757 - mae: 9.1757\n",
            "Epoch 52/100\n",
            "2/2 [==============================] - 0s 17ms/step - loss: 16.5069 - mae: 16.5069\n",
            "Epoch 53/100\n",
            "2/2 [==============================] - 0s 13ms/step - loss: 14.0692 - mae: 14.0692\n",
            "Epoch 54/100\n",
            "2/2 [==============================] - 0s 13ms/step - loss: 20.9670 - mae: 20.9670\n",
            "Epoch 55/100\n",
            "2/2 [==============================] - 0s 16ms/step - loss: 16.5270 - mae: 16.5270\n",
            "Epoch 56/100\n",
            "2/2 [==============================] - 0s 12ms/step - loss: 9.8429 - mae: 9.8429\n",
            "Epoch 57/100\n",
            "2/2 [==============================] - 0s 12ms/step - loss: 9.6760 - mae: 9.6760\n",
            "Epoch 58/100\n",
            "2/2 [==============================] - 0s 12ms/step - loss: 8.9910 - mae: 8.9910\n",
            "Epoch 59/100\n",
            "2/2 [==============================] - 0s 14ms/step - loss: 10.2086 - mae: 10.2086\n",
            "Epoch 60/100\n",
            "2/2 [==============================] - 0s 11ms/step - loss: 8.4082 - mae: 8.4082\n",
            "Epoch 61/100\n",
            "2/2 [==============================] - 0s 14ms/step - loss: 9.2390 - mae: 9.2390\n",
            "Epoch 62/100\n",
            "2/2 [==============================] - 0s 13ms/step - loss: 7.2798 - mae: 7.2798\n",
            "Epoch 63/100\n",
            "2/2 [==============================] - 0s 19ms/step - loss: 8.1851 - mae: 8.1851\n",
            "Epoch 64/100\n",
            "2/2 [==============================] - 0s 13ms/step - loss: 12.5521 - mae: 12.5521\n",
            "Epoch 65/100\n",
            "2/2 [==============================] - 0s 15ms/step - loss: 10.6347 - mae: 10.6347\n",
            "Epoch 66/100\n",
            "2/2 [==============================] - 0s 12ms/step - loss: 15.4611 - mae: 15.4611\n",
            "Epoch 67/100\n",
            "2/2 [==============================] - 0s 18ms/step - loss: 9.9058 - mae: 9.9058\n",
            "Epoch 68/100\n",
            "2/2 [==============================] - 0s 14ms/step - loss: 8.6806 - mae: 8.6806\n",
            "Epoch 69/100\n",
            "2/2 [==============================] - 0s 16ms/step - loss: 13.3355 - mae: 13.3355\n",
            "Epoch 70/100\n",
            "2/2 [==============================] - 0s 14ms/step - loss: 7.8606 - mae: 7.8606\n",
            "Epoch 71/100\n",
            "2/2 [==============================] - 0s 16ms/step - loss: 11.3578 - mae: 11.3578\n",
            "Epoch 72/100\n",
            "2/2 [==============================] - 0s 14ms/step - loss: 9.5527 - mae: 9.5527\n",
            "Epoch 73/100\n",
            "2/2 [==============================] - 0s 13ms/step - loss: 11.6494 - mae: 11.6494\n",
            "Epoch 74/100\n",
            "2/2 [==============================] - 0s 12ms/step - loss: 10.7694 - mae: 10.7694\n",
            "Epoch 75/100\n",
            "2/2 [==============================] - 0s 13ms/step - loss: 9.5498 - mae: 9.5498\n",
            "Epoch 76/100\n",
            "2/2 [==============================] - 0s 11ms/step - loss: 10.9968 - mae: 10.9968\n",
            "Epoch 77/100\n",
            "2/2 [==============================] - 0s 14ms/step - loss: 11.0591 - mae: 11.0591\n",
            "Epoch 78/100\n",
            "2/2 [==============================] - 0s 13ms/step - loss: 11.5986 - mae: 11.5986\n",
            "Epoch 79/100\n",
            "2/2 [==============================] - 0s 14ms/step - loss: 15.6665 - mae: 15.6665\n",
            "Epoch 80/100\n",
            "2/2 [==============================] - 0s 14ms/step - loss: 11.5569 - mae: 11.5569\n",
            "Epoch 81/100\n",
            "2/2 [==============================] - 0s 12ms/step - loss: 9.5209 - mae: 9.5209\n",
            "Epoch 82/100\n",
            "2/2 [==============================] - 0s 11ms/step - loss: 12.5444 - mae: 12.5444\n",
            "Epoch 83/100\n",
            "2/2 [==============================] - 0s 15ms/step - loss: 8.1526 - mae: 8.1526\n",
            "Epoch 84/100\n",
            "2/2 [==============================] - 0s 11ms/step - loss: 7.5605 - mae: 7.5605\n",
            "Epoch 85/100\n",
            "2/2 [==============================] - 0s 15ms/step - loss: 9.7594 - mae: 9.7594\n",
            "Epoch 86/100\n",
            "2/2 [==============================] - 0s 11ms/step - loss: 9.0598 - mae: 9.0598\n",
            "Epoch 87/100\n",
            "2/2 [==============================] - 0s 12ms/step - loss: 11.7048 - mae: 11.7048\n",
            "Epoch 88/100\n",
            "2/2 [==============================] - 0s 13ms/step - loss: 10.3058 - mae: 10.3058\n",
            "Epoch 89/100\n",
            "2/2 [==============================] - 0s 18ms/step - loss: 6.7529 - mae: 6.7529\n",
            "Epoch 90/100\n",
            "2/2 [==============================] - 0s 16ms/step - loss: 8.1310 - mae: 8.1310\n",
            "Epoch 91/100\n",
            "2/2 [==============================] - 0s 15ms/step - loss: 6.9018 - mae: 6.9018\n",
            "Epoch 92/100\n",
            "2/2 [==============================] - 0s 16ms/step - loss: 9.0042 - mae: 9.0042\n",
            "Epoch 93/100\n",
            "2/2 [==============================] - 0s 18ms/step - loss: 7.4938 - mae: 7.4938\n",
            "Epoch 94/100\n",
            "2/2 [==============================] - 0s 16ms/step - loss: 9.1120 - mae: 9.1120\n",
            "Epoch 95/100\n",
            "2/2 [==============================] - 0s 11ms/step - loss: 10.5697 - mae: 10.5697\n",
            "Epoch 96/100\n",
            "2/2 [==============================] - 0s 15ms/step - loss: 10.5954 - mae: 10.5954\n",
            "Epoch 97/100\n",
            "2/2 [==============================] - 0s 14ms/step - loss: 7.0031 - mae: 7.0031\n",
            "Epoch 98/100\n",
            "2/2 [==============================] - 0s 16ms/step - loss: 9.1463 - mae: 9.1463\n",
            "Epoch 99/100\n",
            "2/2 [==============================] - 0s 15ms/step - loss: 8.9516 - mae: 8.9516\n",
            "Epoch 100/100\n",
            "2/2 [==============================] - 0s 12ms/step - loss: 13.0783 - mae: 13.0783\n"
          ]
        },
        {
          "output_type": "execute_result",
          "data": {
            "text/plain": [
              "<keras.callbacks.History at 0x7f3d88516c70>"
            ]
          },
          "metadata": {},
          "execution_count": 67
        }
      ]
    },
    {
      "cell_type": "code",
      "source": [
        "#Make and plot predictions for model_1\n",
        "y_preds_1=model_1.predict(X_test)\n",
        "plot_predictions(predictions=y_preds_1)"
      ],
      "metadata": {
        "id": "33Ja1uyBilqz",
        "outputId": "68522509-42db-4782-f639-90da4fde43e7",
        "colab": {
          "base_uri": "https://localhost:8080/",
          "height": 445
        }
      },
      "execution_count": null,
      "outputs": [
        {
          "output_type": "stream",
          "name": "stdout",
          "text": [
            "1/1 [==============================] - 0s 105ms/step\n"
          ]
        },
        {
          "output_type": "display_data",
          "data": {
            "text/plain": [
              "<Figure size 720x504 with 1 Axes>"
            ],
            "image/png": "[encoded data removed]"
          },
          "metadata": {
            "needs_background": "light"
          }
        }
      ]
    },
    {
      "cell_type": "code",
      "source": [
        "#Create model_1 evaluation metrics\n",
        "mae_1=mae(y_test, tf.squeeze(y_preds_1))\n",
        "mse_1=mse(y_test,tf.squeeze(y_preds_1))\n",
        "mae_1, mse_1"
      ],
      "metadata": {
        "id": "0ljWIFnKjIY0",
        "outputId": "718664e4-2f44-471c-e445-7a1dbf4aed98",
        "colab": {
          "base_uri": "https://localhost:8080/"
        }
      },
      "execution_count": null,
      "outputs": [
        {
          "output_type": "execute_result",
          "data": {
            "text/plain": [
              "(<tf.Tensor: shape=(), dtype=float32, numpy=32.67763>,\n",
              " <tf.Tensor: shape=(), dtype=float32, numpy=1080.3032>)"
            ]
          },
          "metadata": {},
          "execution_count": 72
        }
      ]
    },
    {
      "cell_type": "code",
      "source": [
        "def mae(y_true, y_pred):\n",
        "  return tf.metrics.mean_absolute_error(y_true,tf.squeeze(y_pred))\n",
        "\n",
        "def mse(y_true,y_pred):\n",
        "  return tf.metrics.mean_squared_error(y_test,tf.squeeze(y_pred))"
      ],
      "metadata": {
        "id": "KhnHJ7eEj3AP"
      },
      "execution_count": null,
      "outputs": []
    },
    {
      "cell_type": "code",
      "source": [],
      "metadata": {
        "id": "H06LuM8RkLYl"
      },
      "execution_count": null,
      "outputs": []
    },
    {
      "cell_type": "markdown",
      "source": [
        "**Build Model_2**"
      ],
      "metadata": {
        "id": "E1pDAvA_kcTm"
      }
    },
    {
      "cell_type": "code",
      "source": [
        "tf.random.set_seed(42)\n",
        "\n",
        "model_2= tf.keras.Sequential([\n",
        "    tf.keras.layers.Dense(10),\n",
        "    tf.keras.layers.Dense(1)\n",
        "])\n",
        "\n",
        "model_2.compile(loss=tf.keras.losses.mae,\n",
        "              optimizer=tf.keras.optimizers.SGD(),\n",
        "              metrics=['mse'])\n",
        "\n",
        "model_2.fit(tf.expand_dims(X_train,axis=-1),y_train,epochs=100)"
      ],
      "metadata": {
        "id": "_275wrgtkggt",
        "outputId": "7eb166cd-1a31-4669-9429-dbcc35306525",
        "colab": {
          "base_uri": "https://localhost:8080/"
        }
      },
      "execution_count": null,
      "outputs": [
        {
          "output_type": "stream",
          "name": "stdout",
          "text": [
            "Epoch 1/100\n",
            "2/2 [==============================] - 0s 13ms/step - loss: 22.6865 - mse: 895.5721\n",
            "Epoch 2/100\n",
            "2/2 [==============================] - 0s 10ms/step - loss: 22.2414 - mse: 651.4475\n",
            "Epoch 3/100\n",
            "2/2 [==============================] - 0s 7ms/step - loss: 27.9716 - mse: 1177.1553\n",
            "Epoch 4/100\n",
            "2/2 [==============================] - 0s 7ms/step - loss: 12.5513 - mse: 227.4973\n",
            "Epoch 5/100\n",
            "2/2 [==============================] - 0s 8ms/step - loss: 15.4695 - mse: 308.1695\n",
            "Epoch 6/100\n",
            "2/2 [==============================] - 0s 8ms/step - loss: 12.2744 - mse: 189.2121\n",
            "Epoch 7/100\n",
            "2/2 [==============================] - 0s 7ms/step - loss: 11.5638 - mse: 163.4482\n",
            "Epoch 8/100\n",
            "2/2 [==============================] - 0s 8ms/step - loss: 11.2280 - mse: 180.7206\n",
            "Epoch 9/100\n",
            "2/2 [==============================] - 0s 8ms/step - loss: 42.2695 - mse: 2858.3616\n",
            "Epoch 10/100\n",
            "2/2 [==============================] - 0s 8ms/step - loss: 29.4356 - mse: 1226.5159\n",
            "Epoch 11/100\n",
            "2/2 [==============================] - 0s 7ms/step - loss: 7.6972 - mse: 83.4563\n",
            "Epoch 12/100\n",
            "2/2 [==============================] - 0s 7ms/step - loss: 28.5615 - mse: 1116.3662\n",
            "Epoch 13/100\n",
            "2/2 [==============================] - 0s 8ms/step - loss: 11.4895 - mse: 144.9294\n",
            "Epoch 14/100\n",
            "2/2 [==============================] - 0s 8ms/step - loss: 30.2525 - mse: 1466.2565\n",
            "Epoch 15/100\n",
            "2/2 [==============================] - 0s 7ms/step - loss: 20.0113 - mse: 561.7596\n",
            "Epoch 16/100\n",
            "2/2 [==============================] - 0s 8ms/step - loss: 9.9079 - mse: 125.0099\n",
            "Epoch 17/100\n",
            "2/2 [==============================] - 0s 7ms/step - loss: 17.8475 - mse: 422.8123\n",
            "Epoch 18/100\n",
            "2/2 [==============================] - 0s 8ms/step - loss: 14.3345 - mse: 325.9982\n",
            "Epoch 19/100\n",
            "2/2 [==============================] - 0s 9ms/step - loss: 14.4404 - mse: 328.4731\n",
            "Epoch 20/100\n",
            "2/2 [==============================] - 0s 9ms/step - loss: 10.4551 - mse: 148.2818\n",
            "Epoch 21/100\n",
            "2/2 [==============================] - 0s 7ms/step - loss: 15.2217 - mse: 314.5657\n",
            "Epoch 22/100\n",
            "2/2 [==============================] - 0s 8ms/step - loss: 15.5645 - mse: 334.1921\n",
            "Epoch 23/100\n",
            "2/2 [==============================] - 0s 7ms/step - loss: 9.2205 - mse: 118.3531\n",
            "Epoch 24/100\n",
            "2/2 [==============================] - 0s 7ms/step - loss: 17.2318 - mse: 406.6017\n",
            "Epoch 25/100\n",
            "2/2 [==============================] - 0s 8ms/step - loss: 15.9101 - mse: 332.4329\n",
            "Epoch 26/100\n",
            "2/2 [==============================] - 0s 10ms/step - loss: 20.8756 - mse: 646.6586\n",
            "Epoch 27/100\n",
            "2/2 [==============================] - 0s 11ms/step - loss: 26.0820 - mse: 1062.4885\n",
            "Epoch 28/100\n",
            "2/2 [==============================] - 0s 9ms/step - loss: 18.5627 - mse: 545.5811\n",
            "Epoch 29/100\n",
            "2/2 [==============================] - 0s 8ms/step - loss: 9.2314 - mse: 96.8401\n",
            "Epoch 30/100\n",
            "2/2 [==============================] - 0s 9ms/step - loss: 29.1970 - mse: 1525.9216\n",
            "Epoch 31/100\n",
            "2/2 [==============================] - 0s 10ms/step - loss: 52.8918 - mse: 5004.1338\n",
            "Epoch 32/100\n",
            "2/2 [==============================] - 0s 9ms/step - loss: 11.9559 - mse: 209.6485\n",
            "Epoch 33/100\n",
            "2/2 [==============================] - 0s 9ms/step - loss: 15.5860 - mse: 335.1425\n",
            "Epoch 34/100\n",
            "2/2 [==============================] - 0s 10ms/step - loss: 12.6518 - mse: 212.6708\n",
            "Epoch 35/100\n",
            "2/2 [==============================] - 0s 8ms/step - loss: 9.2155 - mse: 92.3172\n",
            "Epoch 36/100\n",
            "2/2 [==============================] - 0s 9ms/step - loss: 16.6017 - mse: 401.2902\n",
            "Epoch 37/100\n",
            "2/2 [==============================] - 0s 11ms/step - loss: 11.0405 - mse: 192.1257\n",
            "Epoch 38/100\n",
            "2/2 [==============================] - 0s 8ms/step - loss: 18.1670 - mse: 434.0872\n",
            "Epoch 39/100\n",
            "2/2 [==============================] - 0s 7ms/step - loss: 19.1028 - mse: 530.1002\n",
            "Epoch 40/100\n",
            "2/2 [==============================] - 0s 8ms/step - loss: 20.4380 - mse: 610.5315\n",
            "Epoch 41/100\n",
            "2/2 [==============================] - 0s 8ms/step - loss: 14.8848 - mse: 278.7003\n",
            "Epoch 42/100\n",
            "2/2 [==============================] - 0s 8ms/step - loss: 12.2612 - mse: 186.0427\n",
            "Epoch 43/100\n",
            "2/2 [==============================] - 0s 13ms/step - loss: 10.7167 - mse: 166.6933\n",
            "Epoch 44/100\n",
            "2/2 [==============================] - 0s 8ms/step - loss: 23.0240 - mse: 830.1617\n",
            "Epoch 45/100\n",
            "2/2 [==============================] - 0s 8ms/step - loss: 10.3760 - mse: 128.6649\n",
            "Epoch 46/100\n",
            "2/2 [==============================] - 0s 8ms/step - loss: 11.7785 - mse: 181.8057\n",
            "Epoch 47/100\n",
            "2/2 [==============================] - 0s 8ms/step - loss: 9.6329 - mse: 153.6630\n",
            "Epoch 48/100\n",
            "2/2 [==============================] - 0s 8ms/step - loss: 17.2204 - mse: 402.3611\n",
            "Epoch 49/100\n",
            "2/2 [==============================] - 0s 7ms/step - loss: 9.5661 - mse: 99.7166\n",
            "Epoch 50/100\n",
            "2/2 [==============================] - 0s 7ms/step - loss: 13.8179 - mse: 260.8089\n",
            "Epoch 51/100\n",
            "2/2 [==============================] - 0s 8ms/step - loss: 11.5878 - mse: 154.7692\n",
            "Epoch 52/100\n",
            "2/2 [==============================] - 0s 8ms/step - loss: 30.6056 - mse: 1618.8121\n",
            "Epoch 53/100\n",
            "2/2 [==============================] - 0s 8ms/step - loss: 14.3703 - mse: 303.3682\n",
            "Epoch 54/100\n",
            "2/2 [==============================] - 0s 7ms/step - loss: 24.0100 - mse: 862.3080\n",
            "Epoch 55/100\n",
            "2/2 [==============================] - 0s 8ms/step - loss: 23.2333 - mse: 808.4344\n",
            "Epoch 56/100\n",
            "2/2 [==============================] - 0s 7ms/step - loss: 10.8840 - mse: 170.6230\n",
            "Epoch 57/100\n",
            "2/2 [==============================] - 0s 8ms/step - loss: 12.7527 - mse: 199.2732\n",
            "Epoch 58/100\n",
            "2/2 [==============================] - 0s 8ms/step - loss: 9.6005 - mse: 102.5339\n",
            "Epoch 59/100\n",
            "2/2 [==============================] - 0s 8ms/step - loss: 12.5305 - mse: 217.7270\n",
            "Epoch 60/100\n",
            "2/2 [==============================] - 0s 9ms/step - loss: 12.3349 - mse: 209.8670\n",
            "Epoch 61/100\n",
            "2/2 [==============================] - 0s 8ms/step - loss: 13.2380 - mse: 229.5175\n",
            "Epoch 62/100\n",
            "2/2 [==============================] - 0s 8ms/step - loss: 17.0929 - mse: 444.9298\n",
            "Epoch 63/100\n",
            "2/2 [==============================] - 0s 8ms/step - loss: 9.0480 - mse: 87.1832\n",
            "Epoch 64/100\n",
            "2/2 [==============================] - 0s 8ms/step - loss: 17.7392 - mse: 456.1610\n",
            "Epoch 65/100\n",
            "2/2 [==============================] - 0s 11ms/step - loss: 10.5228 - mse: 134.1174\n",
            "Epoch 66/100\n",
            "2/2 [==============================] - 0s 10ms/step - loss: 21.2386 - mse: 665.7565\n",
            "Epoch 67/100\n",
            "2/2 [==============================] - 0s 10ms/step - loss: 10.5244 - mse: 129.3152\n",
            "Epoch 68/100\n",
            "2/2 [==============================] - 0s 8ms/step - loss: 14.6889 - mse: 328.0677\n",
            "Epoch 69/100\n",
            "2/2 [==============================] - 0s 8ms/step - loss: 10.6612 - mse: 130.9048\n",
            "Epoch 70/100\n",
            "2/2 [==============================] - 0s 8ms/step - loss: 12.7531 - mse: 207.1923\n",
            "Epoch 71/100\n",
            "2/2 [==============================] - 0s 8ms/step - loss: 13.1836 - mse: 235.7956\n",
            "Epoch 72/100\n",
            "2/2 [==============================] - 0s 9ms/step - loss: 19.7729 - mse: 555.5238\n",
            "Epoch 73/100\n",
            "2/2 [==============================] - 0s 9ms/step - loss: 11.2269 - mse: 190.1568\n",
            "Epoch 74/100\n",
            "2/2 [==============================] - 0s 8ms/step - loss: 22.0884 - mse: 759.8638\n",
            "Epoch 75/100\n",
            "2/2 [==============================] - 0s 14ms/step - loss: 6.9248 - mse: 64.2169\n",
            "Epoch 76/100\n",
            "2/2 [==============================] - 0s 9ms/step - loss: 11.4235 - mse: 203.2653\n",
            "Epoch 77/100\n",
            "2/2 [==============================] - 0s 14ms/step - loss: 21.5775 - mse: 700.5776\n",
            "Epoch 78/100\n",
            "2/2 [==============================] - 0s 9ms/step - loss: 18.6065 - mse: 525.9740\n",
            "Epoch 79/100\n",
            "2/2 [==============================] - 0s 9ms/step - loss: 15.9263 - mse: 372.5969\n",
            "Epoch 80/100\n",
            "2/2 [==============================] - 0s 10ms/step - loss: 23.5526 - mse: 839.6711\n",
            "Epoch 81/100\n",
            "2/2 [==============================] - 0s 8ms/step - loss: 10.9463 - mse: 142.1583\n",
            "Epoch 82/100\n",
            "2/2 [==============================] - 0s 10ms/step - loss: 12.7256 - mse: 231.6844\n",
            "Epoch 83/100\n",
            "2/2 [==============================] - 0s 13ms/step - loss: 17.4885 - mse: 398.7287\n",
            "Epoch 84/100\n",
            "2/2 [==============================] - 0s 9ms/step - loss: 7.2776 - mse: 73.0979\n",
            "Epoch 85/100\n",
            "2/2 [==============================] - 0s 9ms/step - loss: 15.0152 - mse: 314.7870\n",
            "Epoch 86/100\n",
            "2/2 [==============================] - 0s 9ms/step - loss: 15.3263 - mse: 316.3900\n",
            "Epoch 87/100\n",
            "2/2 [==============================] - 0s 8ms/step - loss: 19.1885 - mse: 524.8942\n",
            "Epoch 88/100\n",
            "2/2 [==============================] - 0s 9ms/step - loss: 29.6126 - mse: 1267.8234\n",
            "Epoch 89/100\n",
            "2/2 [==============================] - 0s 9ms/step - loss: 10.1457 - mse: 124.0987\n",
            "Epoch 90/100\n",
            "2/2 [==============================] - 0s 10ms/step - loss: 21.3523 - mse: 653.0474\n",
            "Epoch 91/100\n",
            "2/2 [==============================] - 0s 8ms/step - loss: 10.5324 - mse: 162.4847\n",
            "Epoch 92/100\n",
            "2/2 [==============================] - 0s 8ms/step - loss: 18.2443 - mse: 455.9866\n",
            "Epoch 93/100\n",
            "2/2 [==============================] - 0s 10ms/step - loss: 6.8106 - mse: 67.0697\n",
            "Epoch 94/100\n",
            "2/2 [==============================] - 0s 9ms/step - loss: 13.0277 - mse: 230.9727\n",
            "Epoch 95/100\n",
            "2/2 [==============================] - 0s 8ms/step - loss: 18.4383 - mse: 501.5556\n",
            "Epoch 96/100\n",
            "2/2 [==============================] - 0s 8ms/step - loss: 10.3588 - mse: 178.1646\n",
            "Epoch 97/100\n",
            "2/2 [==============================] - 0s 7ms/step - loss: 14.4484 - mse: 315.5028\n",
            "Epoch 98/100\n",
            "2/2 [==============================] - 0s 8ms/step - loss: 6.5721 - mse: 60.3475\n",
            "Epoch 99/100\n",
            "2/2 [==============================] - 0s 10ms/step - loss: 12.5866 - mse: 229.2528\n",
            "Epoch 100/100\n",
            "2/2 [==============================] - 0s 8ms/step - loss: 19.3935 - mse: 552.4736\n"
          ]
        },
        {
          "output_type": "execute_result",
          "data": {
            "text/plain": [
              "<keras.callbacks.History at 0x7f3d87eee8b0>"
            ]
          },
          "metadata": {},
          "execution_count": 77
        }
      ]
    },
    {
      "cell_type": "code",
      "source": [
        "y_preds_2=model_2.predict(X_test)\n",
        "plot_predictions(predictions=y_preds_2)"
      ],
      "metadata": {
        "id": "NbIadev8mpaC",
        "outputId": "f2863f80-35ca-478c-db2e-9522442fe29a",
        "colab": {
          "base_uri": "https://localhost:8080/",
          "height": 445
        }
      },
      "execution_count": null,
      "outputs": [
        {
          "output_type": "stream",
          "name": "stdout",
          "text": [
            "1/1 [==============================] - 0s 39ms/step\n"
          ]
        },
        {
          "output_type": "display_data",
          "data": {
            "text/plain": [
              "<Figure size 720x504 with 1 Axes>"
            ],
            "image/png": "[encoded data removed]"
          },
          "metadata": {
            "needs_background": "light"
          }
        }
      ]
    },
    {
      "cell_type": "code",
      "source": [
        "#Calculate model_2 eval metrics\n",
        "mae_2=mae(y_test, y_preds_2)\n",
        "mse_2=mse(y_test, y_preds_2)\n",
        "mae_2, mse_2"
      ],
      "metadata": {
        "id": "x9ev7HOxnYKH",
        "outputId": "c62a6712-4dd6-495f-c7d6-510aa5adb9e3",
        "colab": {
          "base_uri": "https://localhost:8080/"
        }
      },
      "execution_count": null,
      "outputs": [
        {
          "output_type": "execute_result",
          "data": {
            "text/plain": [
              "(<tf.Tensor: shape=(), dtype=float32, numpy=13.380246>,\n",
              " <tf.Tensor: shape=(), dtype=float32, numpy=189.14493>)"
            ]
          },
          "metadata": {},
          "execution_count": 83
        }
      ]
    },
    {
      "cell_type": "code",
      "source": [
        "tf.random.set_seed(42)\n",
        "\n",
        "model_3= tf.keras.Sequential([\n",
        "    tf.keras.layers.Dense(10),\n",
        "    tf.keras.layers.Dense(1)\n",
        "])\n",
        "\n",
        "model_3.compile(loss=tf.keras.losses.mae,\n",
        "              optimizer=tf.keras.optimizers.SGD(),\n",
        "              metrics=['mse'])\n",
        "\n",
        "model_3.fit(tf.expand_dims(X_train,axis=-1),y_train,epochs=500)"
      ],
      "metadata": {
        "id": "4i_HT9aPnp14",
        "outputId": "cc26e975-4a75-42e1-eb0d-92ac4e4df6d6",
        "colab": {
          "base_uri": "https://localhost:8080/"
        }
      },
      "execution_count": null,
      "outputs": [
        {
          "output_type": "stream",
          "name": "stdout",
          "text": [
            "Epoch 1/500\n",
            "2/2 [==============================] - 1s 19ms/step - loss: 33.2081 - mse: 1600.4423\n",
            "Epoch 2/500\n",
            "2/2 [==============================] - 0s 10ms/step - loss: 21.2566 - mse: 583.8040\n",
            "Epoch 3/500\n",
            "2/2 [==============================] - 0s 11ms/step - loss: 27.5616 - mse: 1123.4866\n",
            "Epoch 4/500\n",
            "2/2 [==============================] - 0s 12ms/step - loss: 26.5450 - mse: 1035.7629\n",
            "Epoch 5/500\n",
            "2/2 [==============================] - 0s 10ms/step - loss: 14.5293 - mse: 261.4435\n",
            "Epoch 6/500\n",
            "2/2 [==============================] - 0s 11ms/step - loss: 11.5711 - mse: 154.8559\n",
            "Epoch 7/500\n",
            "2/2 [==============================] - 0s 12ms/step - loss: 10.9182 - mse: 144.2223\n",
            "Epoch 8/500\n",
            "2/2 [==============================] - 0s 11ms/step - loss: 10.9829 - mse: 147.8693\n",
            "Epoch 9/500\n",
            "2/2 [==============================] - 0s 19ms/step - loss: 39.2407 - mse: 2407.1482\n",
            "Epoch 10/500\n",
            "2/2 [==============================] - 0s 11ms/step - loss: 26.7916 - mse: 1009.3920\n",
            "Epoch 11/500\n",
            "2/2 [==============================] - 0s 11ms/step - loss: 11.0362 - mse: 178.5785\n",
            "Epoch 12/500\n",
            "2/2 [==============================] - 0s 10ms/step - loss: 24.5205 - mse: 843.1735\n",
            "Epoch 13/500\n",
            "2/2 [==============================] - 0s 14ms/step - loss: 19.0394 - mse: 508.7122\n",
            "Epoch 14/500\n",
            "2/2 [==============================] - 0s 16ms/step - loss: 23.1811 - mse: 821.6746\n",
            "Epoch 15/500\n",
            "2/2 [==============================] - 0s 12ms/step - loss: 15.0848 - mse: 305.1216\n",
            "Epoch 16/500\n",
            "2/2 [==============================] - 0s 9ms/step - loss: 11.2743 - mse: 146.3127\n",
            "Epoch 17/500\n",
            "2/2 [==============================] - 0s 17ms/step - loss: 22.9366 - mse: 734.3970\n",
            "Epoch 18/500\n",
            "2/2 [==============================] - 0s 26ms/step - loss: 11.3182 - mse: 196.7180\n",
            "Epoch 19/500\n",
            "2/2 [==============================] - 0s 24ms/step - loss: 13.8750 - mse: 299.3590\n",
            "Epoch 20/500\n",
            "2/2 [==============================] - 0s 28ms/step - loss: 11.1672 - mse: 146.0022\n",
            "Epoch 21/500\n",
            "2/2 [==============================] - 0s 10ms/step - loss: 17.1895 - mse: 417.7346\n",
            "Epoch 22/500\n",
            "2/2 [==============================] - 0s 11ms/step - loss: 15.4265 - mse: 327.5185\n",
            "Epoch 23/500\n",
            "2/2 [==============================] - 0s 10ms/step - loss: 9.2407 - mse: 118.4878\n",
            "Epoch 24/500\n",
            "2/2 [==============================] - 0s 11ms/step - loss: 17.2965 - mse: 410.4341\n",
            "Epoch 25/500\n",
            "2/2 [==============================] - 0s 12ms/step - loss: 15.9595 - mse: 334.9338\n",
            "Epoch 26/500\n",
            "2/2 [==============================] - 0s 19ms/step - loss: 20.9847 - mse: 651.9349\n",
            "Epoch 27/500\n",
            "2/2 [==============================] - 0s 20ms/step - loss: 25.8418 - mse: 1040.7277\n",
            "Epoch 28/500\n",
            "2/2 [==============================] - 0s 12ms/step - loss: 18.3550 - mse: 532.9930\n",
            "Epoch 29/500\n",
            "2/2 [==============================] - 0s 11ms/step - loss: 9.2348 - mse: 98.1227\n",
            "Epoch 30/500\n",
            "2/2 [==============================] - 0s 11ms/step - loss: 28.9657 - mse: 1495.5295\n",
            "Epoch 31/500\n",
            "2/2 [==============================] - 0s 13ms/step - loss: 52.4483 - mse: 4916.6577\n",
            "Epoch 32/500\n",
            "2/2 [==============================] - 0s 21ms/step - loss: 11.8737 - mse: 203.7563\n",
            "Epoch 33/500\n",
            "2/2 [==============================] - 0s 27ms/step - loss: 15.4366 - mse: 328.1122\n",
            "Epoch 34/500\n",
            "2/2 [==============================] - 0s 21ms/step - loss: 12.5512 - mse: 206.8089\n",
            "Epoch 35/500\n",
            "2/2 [==============================] - 0s 19ms/step - loss: 9.1734 - mse: 90.9501\n",
            "Epoch 36/500\n",
            "2/2 [==============================] - 0s 21ms/step - loss: 16.4048 - mse: 390.8751\n",
            "Epoch 37/500\n",
            "2/2 [==============================] - 0s 20ms/step - loss: 11.1006 - mse: 192.0777\n",
            "Epoch 38/500\n",
            "2/2 [==============================] - 0s 20ms/step - loss: 18.2323 - mse: 438.4772\n",
            "Epoch 39/500\n",
            "2/2 [==============================] - 0s 16ms/step - loss: 19.1620 - mse: 535.5174\n",
            "Epoch 40/500\n",
            "2/2 [==============================] - 0s 16ms/step - loss: 20.5448 - mse: 616.4753\n",
            "Epoch 41/500\n",
            "2/2 [==============================] - 0s 19ms/step - loss: 14.7601 - mse: 272.0889\n",
            "Epoch 42/500\n",
            "2/2 [==============================] - 0s 14ms/step - loss: 12.1667 - mse: 180.3103\n",
            "Epoch 43/500\n",
            "2/2 [==============================] - 0s 23ms/step - loss: 10.6763 - mse: 161.4986\n",
            "Epoch 44/500\n",
            "2/2 [==============================] - 0s 12ms/step - loss: 32.1732 - mse: 1701.3672\n",
            "Epoch 45/500\n",
            "2/2 [==============================] - 0s 17ms/step - loss: 12.4358 - mse: 199.9466\n",
            "Epoch 46/500\n",
            "2/2 [==============================] - 0s 20ms/step - loss: 17.4414 - mse: 455.6654\n",
            "Epoch 47/500\n",
            "2/2 [==============================] - 0s 14ms/step - loss: 15.7800 - mse: 340.2166\n",
            "Epoch 48/500\n",
            "2/2 [==============================] - 0s 16ms/step - loss: 8.3871 - mse: 112.7358\n",
            "Epoch 49/500\n",
            "2/2 [==============================] - 0s 21ms/step - loss: 14.2384 - mse: 284.0938\n",
            "Epoch 50/500\n",
            "2/2 [==============================] - 0s 17ms/step - loss: 15.1706 - mse: 308.8747\n",
            "Epoch 51/500\n",
            "2/2 [==============================] - 0s 22ms/step - loss: 13.6848 - mse: 256.7234\n",
            "Epoch 52/500\n",
            "2/2 [==============================] - 0s 15ms/step - loss: 18.1002 - mse: 462.1215\n",
            "Epoch 53/500\n",
            "2/2 [==============================] - 0s 21ms/step - loss: 22.7589 - mse: 748.5526\n",
            "Epoch 54/500\n",
            "2/2 [==============================] - 0s 19ms/step - loss: 26.8309 - mse: 1108.7682\n",
            "Epoch 55/500\n",
            "2/2 [==============================] - 0s 20ms/step - loss: 26.4672 - mse: 1065.1753\n",
            "Epoch 56/500\n",
            "2/2 [==============================] - 0s 22ms/step - loss: 11.3619 - mse: 171.8806\n",
            "Epoch 57/500\n",
            "2/2 [==============================] - 0s 17ms/step - loss: 13.3885 - mse: 226.7173\n",
            "Epoch 58/500\n",
            "2/2 [==============================] - 0s 16ms/step - loss: 9.9626 - mse: 109.8960\n",
            "Epoch 59/500\n",
            "2/2 [==============================] - 0s 13ms/step - loss: 13.9504 - mse: 277.5386\n",
            "Epoch 60/500\n",
            "2/2 [==============================] - 0s 16ms/step - loss: 10.0044 - mse: 118.8905\n",
            "Epoch 61/500\n",
            "2/2 [==============================] - 0s 19ms/step - loss: 15.0061 - mse: 309.8522\n",
            "Epoch 62/500\n",
            "2/2 [==============================] - 0s 17ms/step - loss: 11.9459 - mse: 197.8928\n",
            "Epoch 63/500\n",
            "2/2 [==============================] - 0s 15ms/step - loss: 10.2974 - mse: 135.8842\n",
            "Epoch 64/500\n",
            "2/2 [==============================] - 0s 13ms/step - loss: 23.9460 - mse: 842.9530\n",
            "Epoch 65/500\n",
            "2/2 [==============================] - 0s 32ms/step - loss: 10.4742 - mse: 130.8472\n",
            "Epoch 66/500\n",
            "2/2 [==============================] - 0s 13ms/step - loss: 20.9838 - mse: 647.9647\n",
            "Epoch 67/500\n",
            "2/2 [==============================] - 0s 13ms/step - loss: 10.4554 - mse: 126.7747\n",
            "Epoch 68/500\n",
            "2/2 [==============================] - 0s 11ms/step - loss: 14.2113 - mse: 304.1554\n",
            "Epoch 69/500\n",
            "2/2 [==============================] - 0s 19ms/step - loss: 10.5297 - mse: 126.5132\n",
            "Epoch 70/500\n",
            "2/2 [==============================] - 0s 15ms/step - loss: 12.6028 - mse: 201.5636\n",
            "Epoch 71/500\n",
            "2/2 [==============================] - 0s 13ms/step - loss: 13.0323 - mse: 227.0596\n",
            "Epoch 72/500\n",
            "2/2 [==============================] - 0s 17ms/step - loss: 19.4059 - mse: 534.4249\n",
            "Epoch 73/500\n",
            "2/2 [==============================] - 0s 16ms/step - loss: 11.1380 - mse: 192.8887\n",
            "Epoch 74/500\n",
            "2/2 [==============================] - 0s 13ms/step - loss: 21.6495 - mse: 728.8840\n",
            "Epoch 75/500\n",
            "2/2 [==============================] - 0s 16ms/step - loss: 7.2210 - mse: 71.5228\n",
            "Epoch 76/500\n",
            "2/2 [==============================] - 0s 13ms/step - loss: 9.4511 - mse: 149.1079\n",
            "Epoch 77/500\n",
            "2/2 [==============================] - 0s 32ms/step - loss: 22.1545 - mse: 732.7451\n",
            "Epoch 78/500\n",
            "2/2 [==============================] - 0s 22ms/step - loss: 17.4956 - mse: 465.2802\n",
            "Epoch 79/500\n",
            "2/2 [==============================] - 0s 15ms/step - loss: 14.7256 - mse: 317.2773\n",
            "Epoch 80/500\n",
            "2/2 [==============================] - 0s 17ms/step - loss: 24.9104 - mse: 945.3288\n",
            "Epoch 81/500\n",
            "2/2 [==============================] - 0s 18ms/step - loss: 10.8006 - mse: 137.0737\n",
            "Epoch 82/500\n",
            "2/2 [==============================] - 0s 17ms/step - loss: 12.8182 - mse: 233.7858\n",
            "Epoch 83/500\n",
            "2/2 [==============================] - 0s 13ms/step - loss: 17.6142 - mse: 404.8280\n",
            "Epoch 84/500\n",
            "2/2 [==============================] - 0s 19ms/step - loss: 7.2978 - mse: 73.1397\n",
            "Epoch 85/500\n",
            "2/2 [==============================] - 0s 16ms/step - loss: 15.1102 - mse: 318.6242\n",
            "Epoch 86/500\n",
            "2/2 [==============================] - 0s 17ms/step - loss: 15.4020 - mse: 318.4406\n",
            "Epoch 87/500\n",
            "2/2 [==============================] - 0s 16ms/step - loss: 19.3425 - mse: 532.0130\n",
            "Epoch 88/500\n",
            "2/2 [==============================] - 0s 9ms/step - loss: 29.2102 - mse: 1231.2678\n",
            "Epoch 89/500\n",
            "2/2 [==============================] - 0s 9ms/step - loss: 10.0838 - mse: 124.1083\n",
            "Epoch 90/500\n",
            "2/2 [==============================] - 0s 9ms/step - loss: 21.0219 - mse: 632.6052\n",
            "Epoch 91/500\n",
            "2/2 [==============================] - 0s 13ms/step - loss: 10.4501 - mse: 163.9574\n",
            "Epoch 92/500\n",
            "2/2 [==============================] - 0s 12ms/step - loss: 17.9469 - mse: 440.5767\n",
            "Epoch 93/500\n",
            "2/2 [==============================] - 0s 12ms/step - loss: 6.5512 - mse: 61.4494\n",
            "Epoch 94/500\n",
            "2/2 [==============================] - 0s 13ms/step - loss: 11.1074 - mse: 152.1878\n",
            "Epoch 95/500\n",
            "2/2 [==============================] - 0s 16ms/step - loss: 24.3307 - mse: 887.6652\n",
            "Epoch 96/500\n",
            "2/2 [==============================] - 0s 12ms/step - loss: 10.7126 - mse: 172.5818\n",
            "Epoch 97/500\n",
            "2/2 [==============================] - 0s 14ms/step - loss: 15.3295 - mse: 356.1030\n",
            "Epoch 98/500\n",
            "2/2 [==============================] - 0s 10ms/step - loss: 8.2342 - mse: 111.1435\n",
            "Epoch 99/500\n",
            "2/2 [==============================] - 0s 9ms/step - loss: 16.5073 - mse: 382.7189\n",
            "Epoch 100/500\n",
            "2/2 [==============================] - 0s 12ms/step - loss: 14.2866 - mse: 294.7862\n",
            "Epoch 101/500\n",
            "2/2 [==============================] - 0s 9ms/step - loss: 15.2816 - mse: 350.0084\n",
            "Epoch 102/500\n",
            "2/2 [==============================] - 0s 11ms/step - loss: 10.7562 - mse: 159.0597\n",
            "Epoch 103/500\n",
            "2/2 [==============================] - 0s 9ms/step - loss: 9.1698 - mse: 96.1539\n",
            "Epoch 104/500\n",
            "2/2 [==============================] - 0s 9ms/step - loss: 23.8323 - mse: 851.0252\n",
            "Epoch 105/500\n",
            "2/2 [==============================] - 0s 12ms/step - loss: 10.8385 - mse: 161.1037\n",
            "Epoch 106/500\n",
            "2/2 [==============================] - 0s 9ms/step - loss: 11.2942 - mse: 177.7533\n",
            "Epoch 107/500\n",
            "2/2 [==============================] - 0s 11ms/step - loss: 21.3959 - mse: 682.7352\n",
            "Epoch 108/500\n",
            "2/2 [==============================] - 0s 10ms/step - loss: 6.5895 - mse: 60.9378\n",
            "Epoch 109/500\n",
            "2/2 [==============================] - 0s 9ms/step - loss: 13.2716 - mse: 246.6832\n",
            "Epoch 110/500\n",
            "2/2 [==============================] - 0s 9ms/step - loss: 7.9995 - mse: 114.6569\n",
            "Epoch 111/500\n",
            "2/2 [==============================] - 0s 9ms/step - loss: 15.7985 - mse: 350.7687\n",
            "Epoch 112/500\n",
            "2/2 [==============================] - 0s 13ms/step - loss: 8.7338 - mse: 91.9876\n",
            "Epoch 113/500\n",
            "2/2 [==============================] - 0s 9ms/step - loss: 22.5799 - mse: 739.3641\n",
            "Epoch 114/500\n",
            "2/2 [==============================] - 0s 9ms/step - loss: 18.9394 - mse: 541.0997\n",
            "Epoch 115/500\n",
            "2/2 [==============================] - 0s 10ms/step - loss: 11.0633 - mse: 151.6513\n",
            "Epoch 116/500\n",
            "2/2 [==============================] - 0s 9ms/step - loss: 23.0167 - mse: 770.9025\n",
            "Epoch 117/500\n",
            "2/2 [==============================] - 0s 9ms/step - loss: 9.5393 - mse: 126.9121\n",
            "Epoch 118/500\n",
            "2/2 [==============================] - 0s 10ms/step - loss: 10.5951 - mse: 137.6938\n",
            "Epoch 119/500\n",
            "2/2 [==============================] - 0s 9ms/step - loss: 8.0384 - mse: 76.4859\n",
            "Epoch 120/500\n",
            "2/2 [==============================] - 0s 9ms/step - loss: 29.2845 - mse: 1278.0537\n",
            "Epoch 121/500\n",
            "2/2 [==============================] - 0s 10ms/step - loss: 8.0760 - mse: 70.4493\n",
            "Epoch 122/500\n",
            "2/2 [==============================] - 0s 8ms/step - loss: 27.9697 - mse: 1198.7927\n",
            "Epoch 123/500\n",
            "2/2 [==============================] - 0s 8ms/step - loss: 32.4808 - mse: 1548.1145\n",
            "Epoch 124/500\n",
            "2/2 [==============================] - 0s 9ms/step - loss: 19.3181 - mse: 553.2667\n",
            "Epoch 125/500\n",
            "2/2 [==============================] - 0s 8ms/step - loss: 9.5096 - mse: 152.4503\n",
            "Epoch 126/500\n",
            "2/2 [==============================] - 0s 15ms/step - loss: 9.5849 - mse: 113.1538\n",
            "Epoch 127/500\n",
            "2/2 [==============================] - 0s 10ms/step - loss: 12.6852 - mse: 251.3896\n",
            "Epoch 128/500\n",
            "2/2 [==============================] - 0s 10ms/step - loss: 12.7916 - mse: 226.0779\n",
            "Epoch 129/500\n",
            "2/2 [==============================] - 0s 11ms/step - loss: 13.9083 - mse: 310.5938\n",
            "Epoch 130/500\n",
            "2/2 [==============================] - 0s 10ms/step - loss: 10.2269 - mse: 121.5909\n",
            "Epoch 131/500\n",
            "2/2 [==============================] - 0s 11ms/step - loss: 21.6488 - mse: 709.9370\n",
            "Epoch 132/500\n",
            "2/2 [==============================] - 0s 9ms/step - loss: 8.2685 - mse: 95.8573\n",
            "Epoch 133/500\n",
            "2/2 [==============================] - 0s 8ms/step - loss: 9.0497 - mse: 112.2341\n",
            "Epoch 134/500\n",
            "2/2 [==============================] - 0s 8ms/step - loss: 16.8582 - mse: 414.1860\n",
            "Epoch 135/500\n",
            "2/2 [==============================] - 0s 7ms/step - loss: 10.6391 - mse: 149.6522\n",
            "Epoch 136/500\n",
            "2/2 [==============================] - 0s 8ms/step - loss: 18.4675 - mse: 483.2257\n",
            "Epoch 137/500\n",
            "2/2 [==============================] - 0s 8ms/step - loss: 23.4365 - mse: 741.5635\n",
            "Epoch 138/500\n",
            "2/2 [==============================] - 0s 10ms/step - loss: 9.2550 - mse: 139.6524\n",
            "Epoch 139/500\n",
            "2/2 [==============================] - 0s 8ms/step - loss: 8.9968 - mse: 143.6520\n",
            "Epoch 140/500\n",
            "2/2 [==============================] - 0s 8ms/step - loss: 16.9103 - mse: 412.4296\n",
            "Epoch 141/500\n",
            "2/2 [==============================] - 0s 11ms/step - loss: 8.3190 - mse: 75.2968\n",
            "Epoch 142/500\n",
            "2/2 [==============================] - 0s 10ms/step - loss: 33.9364 - mse: 1992.1586\n",
            "Epoch 143/500\n",
            "2/2 [==============================] - 0s 9ms/step - loss: 23.0168 - mse: 740.9145\n",
            "Epoch 144/500\n",
            "2/2 [==============================] - 0s 12ms/step - loss: 11.3447 - mse: 227.6488\n",
            "Epoch 145/500\n",
            "2/2 [==============================] - 0s 18ms/step - loss: 25.0638 - mse: 851.3522\n",
            "Epoch 146/500\n",
            "2/2 [==============================] - 0s 7ms/step - loss: 11.1108 - mse: 167.0455\n",
            "Epoch 147/500\n",
            "2/2 [==============================] - 0s 10ms/step - loss: 14.1103 - mse: 293.4307\n",
            "Epoch 148/500\n",
            "2/2 [==============================] - 0s 10ms/step - loss: 16.9703 - mse: 395.2345\n",
            "Epoch 149/500\n",
            "2/2 [==============================] - 0s 9ms/step - loss: 9.2208 - mse: 108.4688\n",
            "Epoch 150/500\n",
            "2/2 [==============================] - 0s 10ms/step - loss: 7.9249 - mse: 71.1545\n",
            "Epoch 151/500\n",
            "2/2 [==============================] - 0s 12ms/step - loss: 16.4223 - mse: 388.0617\n",
            "Epoch 152/500\n",
            "2/2 [==============================] - 0s 14ms/step - loss: 9.7791 - mse: 119.4623\n",
            "Epoch 153/500\n",
            "2/2 [==============================] - 0s 9ms/step - loss: 26.7116 - mse: 1007.5775\n",
            "Epoch 154/500\n",
            "2/2 [==============================] - 0s 8ms/step - loss: 11.9514 - mse: 238.4176\n",
            "Epoch 155/500\n",
            "2/2 [==============================] - 0s 14ms/step - loss: 15.3120 - mse: 337.2144\n",
            "Epoch 156/500\n",
            "2/2 [==============================] - 0s 10ms/step - loss: 16.7082 - mse: 426.8518\n",
            "Epoch 157/500\n",
            "2/2 [==============================] - 0s 8ms/step - loss: 19.1624 - mse: 566.7390\n",
            "Epoch 158/500\n",
            "2/2 [==============================] - 0s 7ms/step - loss: 8.2189 - mse: 130.3676\n",
            "Epoch 159/500\n",
            "2/2 [==============================] - 0s 8ms/step - loss: 7.9945 - mse: 108.7145\n",
            "Epoch 160/500\n",
            "2/2 [==============================] - 0s 8ms/step - loss: 21.0185 - mse: 662.9895\n",
            "Epoch 161/500\n",
            "2/2 [==============================] - 0s 8ms/step - loss: 23.6562 - mse: 848.0231\n",
            "Epoch 162/500\n",
            "2/2 [==============================] - 0s 10ms/step - loss: 18.5980 - mse: 493.9460\n",
            "Epoch 163/500\n",
            "2/2 [==============================] - 0s 8ms/step - loss: 17.5536 - mse: 442.0331\n",
            "Epoch 164/500\n",
            "2/2 [==============================] - 0s 8ms/step - loss: 11.0037 - mse: 176.8528\n",
            "Epoch 165/500\n",
            "2/2 [==============================] - 0s 9ms/step - loss: 9.6361 - mse: 179.4270\n",
            "Epoch 166/500\n",
            "2/2 [==============================] - 0s 8ms/step - loss: 21.6248 - mse: 683.7028\n",
            "Epoch 167/500\n",
            "2/2 [==============================] - 0s 8ms/step - loss: 26.2068 - mse: 1042.3579\n",
            "Epoch 168/500\n",
            "2/2 [==============================] - 0s 8ms/step - loss: 9.8563 - mse: 118.4191\n",
            "Epoch 169/500\n",
            "2/2 [==============================] - 0s 7ms/step - loss: 22.4682 - mse: 780.5300\n",
            "Epoch 170/500\n",
            "2/2 [==============================] - 0s 9ms/step - loss: 10.1750 - mse: 195.5370\n",
            "Epoch 171/500\n",
            "2/2 [==============================] - 0s 9ms/step - loss: 18.0936 - mse: 505.4948\n",
            "Epoch 172/500\n",
            "2/2 [==============================] - 0s 9ms/step - loss: 28.7267 - mse: 1295.0417\n",
            "Epoch 173/500\n",
            "2/2 [==============================] - 0s 10ms/step - loss: 16.4461 - mse: 428.4403\n",
            "Epoch 174/500\n",
            "2/2 [==============================] - 0s 10ms/step - loss: 11.7347 - mse: 226.6265\n",
            "Epoch 175/500\n",
            "2/2 [==============================] - 0s 8ms/step - loss: 27.1674 - mse: 1068.0763\n",
            "Epoch 176/500\n",
            "2/2 [==============================] - 0s 9ms/step - loss: 8.7674 - mse: 89.7618\n",
            "Epoch 177/500\n",
            "2/2 [==============================] - 0s 18ms/step - loss: 8.7816 - mse: 104.9637\n",
            "Epoch 178/500\n",
            "2/2 [==============================] - 0s 8ms/step - loss: 16.2130 - mse: 378.2949\n",
            "Epoch 179/500\n",
            "2/2 [==============================] - 0s 12ms/step - loss: 10.3986 - mse: 143.4003\n",
            "Epoch 180/500\n",
            "2/2 [==============================] - 0s 12ms/step - loss: 7.9985 - mse: 98.2257\n",
            "Epoch 181/500\n",
            "2/2 [==============================] - 0s 8ms/step - loss: 17.7796 - mse: 456.9627\n",
            "Epoch 182/500\n",
            "2/2 [==============================] - 0s 9ms/step - loss: 11.1999 - mse: 162.3647\n",
            "Epoch 183/500\n",
            "2/2 [==============================] - 0s 9ms/step - loss: 12.4023 - mse: 232.3484\n",
            "Epoch 184/500\n",
            "2/2 [==============================] - 0s 9ms/step - loss: 27.3809 - mse: 1113.3335\n",
            "Epoch 185/500\n",
            "2/2 [==============================] - 0s 8ms/step - loss: 7.5636 - mse: 99.6398\n",
            "Epoch 186/500\n",
            "2/2 [==============================] - 0s 16ms/step - loss: 15.9477 - mse: 367.2794\n",
            "Epoch 187/500\n",
            "2/2 [==============================] - 0s 8ms/step - loss: 8.5961 - mse: 85.7955\n",
            "Epoch 188/500\n",
            "2/2 [==============================] - 0s 8ms/step - loss: 28.8686 - mse: 1187.5045\n",
            "Epoch 189/500\n",
            "2/2 [==============================] - 0s 9ms/step - loss: 13.1503 - mse: 271.9472\n",
            "Epoch 190/500\n",
            "2/2 [==============================] - 0s 9ms/step - loss: 18.2909 - mse: 510.8002\n",
            "Epoch 191/500\n",
            "2/2 [==============================] - 0s 9ms/step - loss: 13.7163 - mse: 264.1594\n",
            "Epoch 192/500\n",
            "2/2 [==============================] - 0s 9ms/step - loss: 13.7103 - mse: 261.6137\n",
            "Epoch 193/500\n",
            "2/2 [==============================] - 0s 8ms/step - loss: 28.5661 - mse: 1133.6648\n",
            "Epoch 194/500\n",
            "2/2 [==============================] - 0s 8ms/step - loss: 7.1102 - mse: 78.9011\n",
            "Epoch 195/500\n",
            "2/2 [==============================] - 0s 8ms/step - loss: 7.0721 - mse: 75.3615\n",
            "Epoch 196/500\n",
            "2/2 [==============================] - 0s 12ms/step - loss: 21.9932 - mse: 708.4761\n",
            "Epoch 197/500\n",
            "2/2 [==============================] - 0s 7ms/step - loss: 20.8762 - mse: 645.7743\n",
            "Epoch 198/500\n",
            "2/2 [==============================] - 0s 9ms/step - loss: 12.4959 - mse: 237.2733\n",
            "Epoch 199/500\n",
            "2/2 [==============================] - 0s 9ms/step - loss: 17.9347 - mse: 461.5895\n",
            "Epoch 200/500\n",
            "2/2 [==============================] - 0s 9ms/step - loss: 13.7727 - mse: 283.1511\n",
            "Epoch 201/500\n",
            "2/2 [==============================] - 0s 9ms/step - loss: 5.4894 - mse: 41.3404\n",
            "Epoch 202/500\n",
            "2/2 [==============================] - 0s 9ms/step - loss: 13.7162 - mse: 294.3001\n",
            "Epoch 203/500\n",
            "2/2 [==============================] - 0s 9ms/step - loss: 9.4350 - mse: 140.2984\n",
            "Epoch 204/500\n",
            "2/2 [==============================] - 0s 9ms/step - loss: 20.9692 - mse: 655.7308\n",
            "Epoch 205/500\n",
            "2/2 [==============================] - 0s 9ms/step - loss: 9.5623 - mse: 128.2551\n",
            "Epoch 206/500\n",
            "2/2 [==============================] - 0s 8ms/step - loss: 11.7296 - mse: 195.5884\n",
            "Epoch 207/500\n",
            "2/2 [==============================] - 0s 9ms/step - loss: 14.3577 - mse: 316.3720\n",
            "Epoch 208/500\n",
            "2/2 [==============================] - 0s 9ms/step - loss: 14.8470 - mse: 322.7489\n",
            "Epoch 209/500\n",
            "2/2 [==============================] - 0s 10ms/step - loss: 14.9396 - mse: 344.8203\n",
            "Epoch 210/500\n",
            "2/2 [==============================] - 0s 9ms/step - loss: 17.8623 - mse: 465.6444\n",
            "Epoch 211/500\n",
            "2/2 [==============================] - 0s 8ms/step - loss: 9.8413 - mse: 146.3345\n",
            "Epoch 212/500\n",
            "2/2 [==============================] - 0s 9ms/step - loss: 18.2733 - mse: 504.6160\n",
            "Epoch 213/500\n",
            "2/2 [==============================] - 0s 9ms/step - loss: 15.0670 - mse: 308.5283\n",
            "Epoch 214/500\n",
            "2/2 [==============================] - 0s 13ms/step - loss: 14.6082 - mse: 294.5495\n",
            "Epoch 215/500\n",
            "2/2 [==============================] - 0s 14ms/step - loss: 23.3360 - mse: 801.3810\n",
            "Epoch 216/500\n",
            "2/2 [==============================] - 0s 9ms/step - loss: 13.3118 - mse: 276.4342\n",
            "Epoch 217/500\n",
            "2/2 [==============================] - 0s 8ms/step - loss: 9.8267 - mse: 135.0610\n",
            "Epoch 218/500\n",
            "2/2 [==============================] - 0s 8ms/step - loss: 12.5954 - mse: 207.9577\n",
            "Epoch 219/500\n",
            "2/2 [==============================] - 0s 7ms/step - loss: 5.3461 - mse: 39.4683\n",
            "Epoch 220/500\n",
            "2/2 [==============================] - 0s 8ms/step - loss: 14.6992 - mse: 284.0139\n",
            "Epoch 221/500\n",
            "2/2 [==============================] - 0s 8ms/step - loss: 33.5426 - mse: 1537.1937\n",
            "Epoch 222/500\n",
            "2/2 [==============================] - 0s 8ms/step - loss: 13.8953 - mse: 238.0349\n",
            "Epoch 223/500\n",
            "2/2 [==============================] - 0s 9ms/step - loss: 10.9956 - mse: 179.7504\n",
            "Epoch 224/500\n",
            "2/2 [==============================] - 0s 8ms/step - loss: 14.9500 - mse: 334.0201\n",
            "Epoch 225/500\n",
            "2/2 [==============================] - 0s 9ms/step - loss: 16.9986 - mse: 374.7983\n",
            "Epoch 226/500\n",
            "2/2 [==============================] - 0s 8ms/step - loss: 16.1880 - mse: 385.7978\n",
            "Epoch 227/500\n",
            "2/2 [==============================] - 0s 8ms/step - loss: 16.5078 - mse: 385.6656\n",
            "Epoch 228/500\n",
            "2/2 [==============================] - 0s 8ms/step - loss: 9.9471 - mse: 185.2278\n",
            "Epoch 229/500\n",
            "2/2 [==============================] - 0s 9ms/step - loss: 17.8459 - mse: 444.1421\n",
            "Epoch 230/500\n",
            "2/2 [==============================] - 0s 8ms/step - loss: 15.4660 - mse: 310.8360\n",
            "Epoch 231/500\n",
            "2/2 [==============================] - 0s 7ms/step - loss: 20.8976 - mse: 655.4174\n",
            "Epoch 232/500\n",
            "2/2 [==============================] - 0s 8ms/step - loss: 25.9763 - mse: 968.6074\n",
            "Epoch 233/500\n",
            "2/2 [==============================] - 0s 8ms/step - loss: 17.0472 - mse: 423.0227\n",
            "Epoch 234/500\n",
            "2/2 [==============================] - 0s 8ms/step - loss: 7.0431 - mse: 65.7298\n",
            "Epoch 235/500\n",
            "2/2 [==============================] - 0s 8ms/step - loss: 16.0113 - mse: 359.5396\n",
            "Epoch 236/500\n",
            "2/2 [==============================] - 0s 8ms/step - loss: 6.7913 - mse: 70.5525\n",
            "Epoch 237/500\n",
            "2/2 [==============================] - 0s 8ms/step - loss: 8.7401 - mse: 114.8127\n",
            "Epoch 238/500\n",
            "2/2 [==============================] - 0s 8ms/step - loss: 7.8435 - mse: 87.3764\n",
            "Epoch 239/500\n",
            "2/2 [==============================] - 0s 8ms/step - loss: 15.9055 - mse: 383.9060\n",
            "Epoch 240/500\n",
            "2/2 [==============================] - 0s 8ms/step - loss: 9.1205 - mse: 110.4743\n",
            "Epoch 241/500\n",
            "2/2 [==============================] - 0s 8ms/step - loss: 13.6219 - mse: 285.0990\n",
            "Epoch 242/500\n",
            "2/2 [==============================] - 0s 8ms/step - loss: 8.9808 - mse: 110.0552\n",
            "Epoch 243/500\n",
            "2/2 [==============================] - 0s 8ms/step - loss: 19.6209 - mse: 587.2859\n",
            "Epoch 244/500\n",
            "2/2 [==============================] - 0s 8ms/step - loss: 13.7982 - mse: 269.7169\n",
            "Epoch 245/500\n",
            "2/2 [==============================] - 0s 9ms/step - loss: 14.4647 - mse: 279.5571\n",
            "Epoch 246/500\n",
            "2/2 [==============================] - 0s 9ms/step - loss: 18.1173 - mse: 527.1845\n",
            "Epoch 247/500\n",
            "2/2 [==============================] - 0s 10ms/step - loss: 37.2201 - mse: 2165.9683\n",
            "Epoch 248/500\n",
            "2/2 [==============================] - 0s 8ms/step - loss: 6.7733 - mse: 76.9623\n",
            "Epoch 249/500\n",
            "2/2 [==============================] - 0s 8ms/step - loss: 8.0038 - mse: 81.7517\n",
            "Epoch 250/500\n",
            "2/2 [==============================] - 0s 9ms/step - loss: 24.9438 - mse: 954.5949\n",
            "Epoch 251/500\n",
            "2/2 [==============================] - 0s 8ms/step - loss: 10.4341 - mse: 214.3605\n",
            "Epoch 252/500\n",
            "2/2 [==============================] - 0s 9ms/step - loss: 30.8353 - mse: 1324.0902\n",
            "Epoch 253/500\n",
            "2/2 [==============================] - 0s 9ms/step - loss: 8.1484 - mse: 153.1784\n",
            "Epoch 254/500\n",
            "2/2 [==============================] - 0s 9ms/step - loss: 16.3026 - mse: 410.0829\n",
            "Epoch 255/500\n",
            "2/2 [==============================] - 0s 8ms/step - loss: 22.0546 - mse: 737.4522\n",
            "Epoch 256/500\n",
            "2/2 [==============================] - 0s 11ms/step - loss: 26.7970 - mse: 1018.7438\n",
            "Epoch 257/500\n",
            "2/2 [==============================] - 0s 8ms/step - loss: 11.8713 - mse: 216.6134\n",
            "Epoch 258/500\n",
            "2/2 [==============================] - 0s 9ms/step - loss: 8.5030 - mse: 93.1673\n",
            "Epoch 259/500\n",
            "2/2 [==============================] - 0s 9ms/step - loss: 22.7985 - mse: 776.2700\n",
            "Epoch 260/500\n",
            "2/2 [==============================] - 0s 8ms/step - loss: 31.2544 - mse: 1490.5085\n",
            "Epoch 261/500\n",
            "2/2 [==============================] - 0s 8ms/step - loss: 11.0838 - mse: 175.1431\n",
            "Epoch 262/500\n",
            "2/2 [==============================] - 0s 8ms/step - loss: 9.9518 - mse: 137.5723\n",
            "Epoch 263/500\n",
            "2/2 [==============================] - 0s 7ms/step - loss: 8.9057 - mse: 102.7007\n",
            "Epoch 264/500\n",
            "2/2 [==============================] - 0s 8ms/step - loss: 21.1963 - mse: 630.8292\n",
            "Epoch 265/500\n",
            "2/2 [==============================] - 0s 8ms/step - loss: 11.5576 - mse: 199.8668\n",
            "Epoch 266/500\n",
            "2/2 [==============================] - 0s 8ms/step - loss: 13.4116 - mse: 257.7190\n",
            "Epoch 267/500\n",
            "2/2 [==============================] - 0s 7ms/step - loss: 11.1508 - mse: 230.3396\n",
            "Epoch 268/500\n",
            "2/2 [==============================] - 0s 8ms/step - loss: 19.3103 - mse: 556.7932\n",
            "Epoch 269/500\n",
            "2/2 [==============================] - 0s 8ms/step - loss: 40.2416 - mse: 2507.1379\n",
            "Epoch 270/500\n",
            "2/2 [==============================] - 0s 8ms/step - loss: 12.6863 - mse: 248.7371\n",
            "Epoch 271/500\n",
            "2/2 [==============================] - 0s 8ms/step - loss: 14.8155 - mse: 280.7865\n",
            "Epoch 272/500\n",
            "2/2 [==============================] - 0s 8ms/step - loss: 28.6001 - mse: 1122.5316\n",
            "Epoch 273/500\n",
            "2/2 [==============================] - 0s 8ms/step - loss: 7.2895 - mse: 84.4184\n",
            "Epoch 274/500\n",
            "2/2 [==============================] - 0s 8ms/step - loss: 6.3728 - mse: 46.5981\n",
            "Epoch 275/500\n",
            "2/2 [==============================] - 0s 7ms/step - loss: 36.4307 - mse: 2029.0652\n",
            "Epoch 276/500\n",
            "2/2 [==============================] - 0s 8ms/step - loss: 8.2615 - mse: 111.8126\n",
            "Epoch 277/500\n",
            "2/2 [==============================] - 0s 7ms/step - loss: 27.3220 - mse: 1019.4702\n",
            "Epoch 278/500\n",
            "2/2 [==============================] - 0s 8ms/step - loss: 10.7673 - mse: 210.1007\n",
            "Epoch 279/500\n",
            "2/2 [==============================] - 0s 8ms/step - loss: 16.1821 - mse: 395.6775\n",
            "Epoch 280/500\n",
            "2/2 [==============================] - 0s 10ms/step - loss: 21.3883 - mse: 689.3411\n",
            "Epoch 281/500\n",
            "2/2 [==============================] - 0s 7ms/step - loss: 23.4292 - mse: 837.8221\n",
            "Epoch 282/500\n",
            "2/2 [==============================] - 0s 8ms/step - loss: 8.1736 - mse: 95.1375\n",
            "Epoch 283/500\n",
            "2/2 [==============================] - 0s 8ms/step - loss: 8.4004 - mse: 96.0236\n",
            "Epoch 284/500\n",
            "2/2 [==============================] - 0s 8ms/step - loss: 26.1527 - mse: 1038.6160\n",
            "Epoch 285/500\n",
            "2/2 [==============================] - 0s 7ms/step - loss: 14.7919 - mse: 346.7123\n",
            "Epoch 286/500\n",
            "2/2 [==============================] - 0s 8ms/step - loss: 8.6721 - mse: 151.9086\n",
            "Epoch 287/500\n",
            "2/2 [==============================] - 0s 7ms/step - loss: 22.4932 - mse: 740.7280\n",
            "Epoch 288/500\n",
            "2/2 [==============================] - 0s 8ms/step - loss: 22.8654 - mse: 781.2714\n",
            "Epoch 289/500\n",
            "2/2 [==============================] - 0s 9ms/step - loss: 12.1961 - mse: 242.0956\n",
            "Epoch 290/500\n",
            "2/2 [==============================] - 0s 8ms/step - loss: 16.7552 - mse: 379.2197\n",
            "Epoch 291/500\n",
            "2/2 [==============================] - 0s 8ms/step - loss: 17.0892 - mse: 429.8814\n",
            "Epoch 292/500\n",
            "2/2 [==============================] - 0s 8ms/step - loss: 10.2453 - mse: 247.5157\n",
            "Epoch 293/500\n",
            "2/2 [==============================] - 0s 8ms/step - loss: 15.0151 - mse: 304.9641\n",
            "Epoch 294/500\n",
            "2/2 [==============================] - 0s 8ms/step - loss: 22.1825 - mse: 749.7529\n",
            "Epoch 295/500\n",
            "2/2 [==============================] - 0s 8ms/step - loss: 19.1246 - mse: 524.2131\n",
            "Epoch 296/500\n",
            "2/2 [==============================] - 0s 8ms/step - loss: 6.6863 - mse: 60.3277\n",
            "Epoch 297/500\n",
            "2/2 [==============================] - 0s 8ms/step - loss: 9.7312 - mse: 202.0473\n",
            "Epoch 298/500\n",
            "2/2 [==============================] - 0s 9ms/step - loss: 23.8853 - mse: 829.9211\n",
            "Epoch 299/500\n",
            "2/2 [==============================] - 0s 8ms/step - loss: 18.7092 - mse: 522.5085\n",
            "Epoch 300/500\n",
            "2/2 [==============================] - 0s 8ms/step - loss: 8.2828 - mse: 100.8910\n",
            "Epoch 301/500\n",
            "2/2 [==============================] - 0s 9ms/step - loss: 18.8140 - mse: 493.3242\n",
            "Epoch 302/500\n",
            "2/2 [==============================] - 0s 8ms/step - loss: 6.7822 - mse: 79.5778\n",
            "Epoch 303/500\n",
            "2/2 [==============================] - 0s 7ms/step - loss: 15.7451 - mse: 366.9795\n",
            "Epoch 304/500\n",
            "2/2 [==============================] - 0s 8ms/step - loss: 10.7031 - mse: 167.3854\n",
            "Epoch 305/500\n",
            "2/2 [==============================] - 0s 8ms/step - loss: 12.1143 - mse: 240.8305\n",
            "Epoch 306/500\n",
            "2/2 [==============================] - 0s 8ms/step - loss: 10.0348 - mse: 147.8115\n",
            "Epoch 307/500\n",
            "2/2 [==============================] - 0s 9ms/step - loss: 8.8682 - mse: 116.3455\n",
            "Epoch 308/500\n",
            "2/2 [==============================] - 0s 8ms/step - loss: 15.5779 - mse: 361.9783\n",
            "Epoch 309/500\n",
            "2/2 [==============================] - 0s 8ms/step - loss: 10.8330 - mse: 239.6851\n",
            "Epoch 310/500\n",
            "2/2 [==============================] - 0s 13ms/step - loss: 18.8419 - mse: 494.8452\n",
            "Epoch 311/500\n",
            "2/2 [==============================] - 0s 9ms/step - loss: 11.8701 - mse: 283.8876\n",
            "Epoch 312/500\n",
            "2/2 [==============================] - 0s 9ms/step - loss: 28.7783 - mse: 1148.3248\n",
            "Epoch 313/500\n",
            "2/2 [==============================] - 0s 7ms/step - loss: 9.7340 - mse: 136.5939\n",
            "Epoch 314/500\n",
            "2/2 [==============================] - 0s 8ms/step - loss: 5.2447 - mse: 39.0440\n",
            "Epoch 315/500\n",
            "2/2 [==============================] - 0s 8ms/step - loss: 32.4909 - mse: 1638.8860\n",
            "Epoch 316/500\n",
            "2/2 [==============================] - 0s 8ms/step - loss: 12.2495 - mse: 248.1187\n",
            "Epoch 317/500\n",
            "2/2 [==============================] - 0s 8ms/step - loss: 21.2260 - mse: 614.5565\n",
            "Epoch 318/500\n",
            "2/2 [==============================] - 0s 8ms/step - loss: 8.0074 - mse: 83.1402\n",
            "Epoch 319/500\n",
            "2/2 [==============================] - 0s 8ms/step - loss: 18.0853 - mse: 485.1815\n",
            "Epoch 320/500\n",
            "2/2 [==============================] - 0s 7ms/step - loss: 10.6288 - mse: 193.1825\n",
            "Epoch 321/500\n",
            "2/2 [==============================] - 0s 8ms/step - loss: 7.0254 - mse: 108.6195\n",
            "Epoch 322/500\n",
            "2/2 [==============================] - 0s 7ms/step - loss: 8.6902 - mse: 169.9215\n",
            "Epoch 323/500\n",
            "2/2 [==============================] - 0s 8ms/step - loss: 18.3635 - mse: 521.4948\n",
            "Epoch 324/500\n",
            "2/2 [==============================] - 0s 8ms/step - loss: 6.3087 - mse: 53.2353\n",
            "Epoch 325/500\n",
            "2/2 [==============================] - 0s 8ms/step - loss: 14.5681 - mse: 318.3142\n",
            "Epoch 326/500\n",
            "2/2 [==============================] - 0s 8ms/step - loss: 6.9887 - mse: 75.8780\n",
            "Epoch 327/500\n",
            "2/2 [==============================] - 0s 11ms/step - loss: 17.5444 - mse: 442.9753\n",
            "Epoch 328/500\n",
            "2/2 [==============================] - 0s 14ms/step - loss: 14.3976 - mse: 291.7598\n",
            "Epoch 329/500\n",
            "2/2 [==============================] - 0s 9ms/step - loss: 17.7228 - mse: 481.6091\n",
            "Epoch 330/500\n",
            "2/2 [==============================] - 0s 8ms/step - loss: 6.7830 - mse: 93.3641\n",
            "Epoch 331/500\n",
            "2/2 [==============================] - 0s 8ms/step - loss: 19.6468 - mse: 586.8854\n",
            "Epoch 332/500\n",
            "2/2 [==============================] - 0s 8ms/step - loss: 10.5214 - mse: 172.1387\n",
            "Epoch 333/500\n",
            "2/2 [==============================] - 0s 8ms/step - loss: 16.2506 - mse: 392.0496\n",
            "Epoch 334/500\n",
            "2/2 [==============================] - 0s 9ms/step - loss: 9.7576 - mse: 198.4694\n",
            "Epoch 335/500\n",
            "2/2 [==============================] - 0s 8ms/step - loss: 13.0698 - mse: 266.4705\n",
            "Epoch 336/500\n",
            "2/2 [==============================] - 0s 8ms/step - loss: 32.5153 - mse: 1441.9275\n",
            "Epoch 337/500\n",
            "2/2 [==============================] - 0s 9ms/step - loss: 11.0618 - mse: 189.6556\n",
            "Epoch 338/500\n",
            "2/2 [==============================] - 0s 8ms/step - loss: 20.0055 - mse: 588.5175\n",
            "Epoch 339/500\n",
            "2/2 [==============================] - 0s 8ms/step - loss: 34.1732 - mse: 1746.7672\n",
            "Epoch 340/500\n",
            "2/2 [==============================] - 0s 9ms/step - loss: 8.7063 - mse: 107.2843\n",
            "Epoch 341/500\n",
            "2/2 [==============================] - 0s 8ms/step - loss: 21.8248 - mse: 665.6442\n",
            "Epoch 342/500\n",
            "2/2 [==============================] - 0s 8ms/step - loss: 13.8871 - mse: 258.4794\n",
            "Epoch 343/500\n",
            "2/2 [==============================] - 0s 8ms/step - loss: 11.7407 - mse: 182.5350\n",
            "Epoch 344/500\n",
            "2/2 [==============================] - 0s 8ms/step - loss: 10.7058 - mse: 225.9152\n",
            "Epoch 345/500\n",
            "2/2 [==============================] - 0s 9ms/step - loss: 30.9346 - mse: 1345.6732\n",
            "Epoch 346/500\n",
            "2/2 [==============================] - 0s 9ms/step - loss: 10.6627 - mse: 258.4894\n",
            "Epoch 347/500\n",
            "2/2 [==============================] - 0s 9ms/step - loss: 25.6099 - mse: 918.3815\n",
            "Epoch 348/500\n",
            "2/2 [==============================] - 0s 13ms/step - loss: 13.1810 - mse: 270.0359\n",
            "Epoch 349/500\n",
            "2/2 [==============================] - 0s 11ms/step - loss: 13.0786 - mse: 249.5491\n",
            "Epoch 350/500\n",
            "2/2 [==============================] - 0s 10ms/step - loss: 15.4184 - mse: 329.1334\n",
            "Epoch 351/500\n",
            "2/2 [==============================] - 0s 9ms/step - loss: 32.9014 - mse: 1519.3929\n",
            "Epoch 352/500\n",
            "2/2 [==============================] - 0s 15ms/step - loss: 14.1266 - mse: 280.7933\n",
            "Epoch 353/500\n",
            "2/2 [==============================] - 0s 8ms/step - loss: 15.8589 - mse: 369.0555\n",
            "Epoch 354/500\n",
            "2/2 [==============================] - 0s 11ms/step - loss: 18.9563 - mse: 528.5905\n",
            "Epoch 355/500\n",
            "2/2 [==============================] - 0s 10ms/step - loss: 34.4956 - mse: 1826.6318\n",
            "Epoch 356/500\n",
            "2/2 [==============================] - 0s 9ms/step - loss: 8.3544 - mse: 111.4603\n",
            "Epoch 357/500\n",
            "2/2 [==============================] - 0s 10ms/step - loss: 21.9441 - mse: 723.0977\n",
            "Epoch 358/500\n",
            "2/2 [==============================] - 0s 12ms/step - loss: 20.1013 - mse: 582.8969\n",
            "Epoch 359/500\n",
            "2/2 [==============================] - 0s 8ms/step - loss: 11.0524 - mse: 293.9406\n",
            "Epoch 360/500\n",
            "2/2 [==============================] - 0s 9ms/step - loss: 20.2596 - mse: 616.8659\n",
            "Epoch 361/500\n",
            "2/2 [==============================] - 0s 9ms/step - loss: 11.0518 - mse: 221.8311\n",
            "Epoch 362/500\n",
            "2/2 [==============================] - 0s 8ms/step - loss: 6.8532 - mse: 76.6274\n",
            "Epoch 363/500\n",
            "2/2 [==============================] - 0s 9ms/step - loss: 24.0161 - mse: 840.5765\n",
            "Epoch 364/500\n",
            "2/2 [==============================] - 0s 8ms/step - loss: 29.7906 - mse: 1289.2864\n",
            "Epoch 365/500\n",
            "2/2 [==============================] - 0s 10ms/step - loss: 8.3871 - mse: 108.8798\n",
            "Epoch 366/500\n",
            "2/2 [==============================] - 0s 8ms/step - loss: 6.1227 - mse: 48.7999\n",
            "Epoch 367/500\n",
            "2/2 [==============================] - 0s 8ms/step - loss: 34.8893 - mse: 1848.8070\n",
            "Epoch 368/500\n",
            "2/2 [==============================] - 0s 10ms/step - loss: 7.4346 - mse: 101.1581\n",
            "Epoch 369/500\n",
            "2/2 [==============================] - 0s 10ms/step - loss: 9.2405 - mse: 129.4925\n",
            "Epoch 370/500\n",
            "2/2 [==============================] - 0s 9ms/step - loss: 10.9331 - mse: 206.7860\n",
            "Epoch 371/500\n",
            "2/2 [==============================] - 0s 8ms/step - loss: 8.9953 - mse: 141.5879\n",
            "Epoch 372/500\n",
            "2/2 [==============================] - 0s 12ms/step - loss: 7.7206 - mse: 142.8453\n",
            "Epoch 373/500\n",
            "2/2 [==============================] - 0s 9ms/step - loss: 25.0751 - mse: 920.2992\n",
            "Epoch 374/500\n",
            "2/2 [==============================] - 0s 10ms/step - loss: 13.1901 - mse: 282.0906\n",
            "Epoch 375/500\n",
            "2/2 [==============================] - 0s 9ms/step - loss: 11.8756 - mse: 213.9928\n",
            "Epoch 376/500\n",
            "2/2 [==============================] - 0s 15ms/step - loss: 14.1470 - mse: 286.1568\n",
            "Epoch 377/500\n",
            "2/2 [==============================] - 0s 9ms/step - loss: 15.7406 - mse: 319.6209\n",
            "Epoch 378/500\n",
            "2/2 [==============================] - 0s 13ms/step - loss: 17.0743 - mse: 466.1577\n",
            "Epoch 379/500\n",
            "2/2 [==============================] - 0s 13ms/step - loss: 19.3366 - mse: 534.3334\n",
            "Epoch 380/500\n",
            "2/2 [==============================] - 0s 8ms/step - loss: 15.6932 - mse: 385.2573\n",
            "Epoch 381/500\n",
            "2/2 [==============================] - 0s 11ms/step - loss: 11.4874 - mse: 217.4116\n",
            "Epoch 382/500\n",
            "2/2 [==============================] - 0s 10ms/step - loss: 16.3638 - mse: 358.0636\n",
            "Epoch 383/500\n",
            "2/2 [==============================] - 0s 9ms/step - loss: 22.1318 - mse: 754.6168\n",
            "Epoch 384/500\n",
            "2/2 [==============================] - 0s 13ms/step - loss: 7.7410 - mse: 82.7339\n",
            "Epoch 385/500\n",
            "2/2 [==============================] - 0s 9ms/step - loss: 10.6455 - mse: 272.0190\n",
            "Epoch 386/500\n",
            "2/2 [==============================] - 0s 9ms/step - loss: 19.1479 - mse: 572.8201\n",
            "Epoch 387/500\n",
            "2/2 [==============================] - 0s 8ms/step - loss: 26.3671 - mse: 1014.2427\n",
            "Epoch 388/500\n",
            "2/2 [==============================] - 0s 9ms/step - loss: 10.0554 - mse: 173.2405\n",
            "Epoch 389/500\n",
            "2/2 [==============================] - 0s 8ms/step - loss: 5.1820 - mse: 41.0323\n",
            "Epoch 390/500\n",
            "2/2 [==============================] - 0s 8ms/step - loss: 18.7050 - mse: 507.1650\n",
            "Epoch 391/500\n",
            "2/2 [==============================] - 0s 13ms/step - loss: 9.3757 - mse: 259.6476\n",
            "Epoch 392/500\n",
            "2/2 [==============================] - 0s 8ms/step - loss: 14.4426 - mse: 328.6446\n",
            "Epoch 393/500\n",
            "2/2 [==============================] - 0s 7ms/step - loss: 12.1149 - mse: 248.3848\n",
            "Epoch 394/500\n",
            "2/2 [==============================] - 0s 8ms/step - loss: 14.1073 - mse: 272.1532\n",
            "Epoch 395/500\n",
            "2/2 [==============================] - 0s 9ms/step - loss: 28.4801 - mse: 1125.7671\n",
            "Epoch 396/500\n",
            "2/2 [==============================] - 0s 9ms/step - loss: 8.4774 - mse: 114.2140\n",
            "Epoch 397/500\n",
            "2/2 [==============================] - 0s 9ms/step - loss: 11.1586 - mse: 229.1147\n",
            "Epoch 398/500\n",
            "2/2 [==============================] - 0s 8ms/step - loss: 6.8883 - mse: 79.1911\n",
            "Epoch 399/500\n",
            "2/2 [==============================] - 0s 10ms/step - loss: 13.9595 - mse: 307.9301\n",
            "Epoch 400/500\n",
            "2/2 [==============================] - 0s 9ms/step - loss: 6.6658 - mse: 60.0851\n",
            "Epoch 401/500\n",
            "2/2 [==============================] - 0s 9ms/step - loss: 7.4835 - mse: 95.7594\n",
            "Epoch 402/500\n",
            "2/2 [==============================] - 0s 10ms/step - loss: 19.3777 - mse: 519.1130\n",
            "Epoch 403/500\n",
            "2/2 [==============================] - 0s 8ms/step - loss: 10.4801 - mse: 247.3716\n",
            "Epoch 404/500\n",
            "2/2 [==============================] - 0s 9ms/step - loss: 23.2462 - mse: 757.1118\n",
            "Epoch 405/500\n",
            "2/2 [==============================] - 0s 13ms/step - loss: 17.4237 - mse: 469.9315\n",
            "Epoch 406/500\n",
            "2/2 [==============================] - 0s 13ms/step - loss: 6.8366 - mse: 72.3565\n",
            "Epoch 407/500\n",
            "2/2 [==============================] - 0s 8ms/step - loss: 11.9189 - mse: 243.8162\n",
            "Epoch 408/500\n",
            "2/2 [==============================] - 0s 8ms/step - loss: 7.0954 - mse: 78.9451\n",
            "Epoch 409/500\n",
            "2/2 [==============================] - 0s 9ms/step - loss: 23.4229 - mse: 820.5955\n",
            "Epoch 410/500\n",
            "2/2 [==============================] - 0s 9ms/step - loss: 12.4106 - mse: 262.5281\n",
            "Epoch 411/500\n",
            "2/2 [==============================] - 0s 8ms/step - loss: 15.2014 - mse: 299.2194\n",
            "Epoch 412/500\n",
            "2/2 [==============================] - 0s 7ms/step - loss: 22.3255 - mse: 757.3038\n",
            "Epoch 413/500\n",
            "2/2 [==============================] - 0s 8ms/step - loss: 15.6538 - mse: 360.4468\n",
            "Epoch 414/500\n",
            "2/2 [==============================] - 0s 8ms/step - loss: 6.6253 - mse: 111.6188\n",
            "Epoch 415/500\n",
            "2/2 [==============================] - 0s 8ms/step - loss: 12.7012 - mse: 229.4472\n",
            "Epoch 416/500\n",
            "2/2 [==============================] - 0s 8ms/step - loss: 26.9329 - mse: 1002.9418\n",
            "Epoch 417/500\n",
            "2/2 [==============================] - 0s 9ms/step - loss: 12.0410 - mse: 248.2536\n",
            "Epoch 418/500\n",
            "2/2 [==============================] - 0s 8ms/step - loss: 13.0723 - mse: 242.9286\n",
            "Epoch 419/500\n",
            "2/2 [==============================] - 0s 7ms/step - loss: 16.0401 - mse: 389.5796\n",
            "Epoch 420/500\n",
            "2/2 [==============================] - 0s 8ms/step - loss: 25.0799 - mse: 870.4826\n",
            "Epoch 421/500\n",
            "2/2 [==============================] - 0s 8ms/step - loss: 16.5764 - mse: 410.1562\n",
            "Epoch 422/500\n",
            "2/2 [==============================] - 0s 8ms/step - loss: 8.7008 - mse: 194.3544\n",
            "Epoch 423/500\n",
            "2/2 [==============================] - 0s 9ms/step - loss: 24.8100 - mse: 871.1779\n",
            "Epoch 424/500\n",
            "2/2 [==============================] - 0s 8ms/step - loss: 16.4860 - mse: 423.6476\n",
            "Epoch 425/500\n",
            "2/2 [==============================] - 0s 7ms/step - loss: 7.2429 - mse: 76.4634\n",
            "Epoch 426/500\n",
            "2/2 [==============================] - 0s 11ms/step - loss: 20.6206 - mse: 588.3501\n",
            "Epoch 427/500\n",
            "2/2 [==============================] - 0s 11ms/step - loss: 6.4093 - mse: 83.9871\n",
            "Epoch 428/500\n",
            "2/2 [==============================] - 0s 9ms/step - loss: 13.1859 - mse: 292.7997\n",
            "Epoch 429/500\n",
            "2/2 [==============================] - 0s 8ms/step - loss: 10.9504 - mse: 196.3084\n",
            "Epoch 430/500\n",
            "2/2 [==============================] - 0s 8ms/step - loss: 11.8215 - mse: 268.6315\n",
            "Epoch 431/500\n",
            "2/2 [==============================] - 0s 8ms/step - loss: 7.9684 - mse: 112.8599\n",
            "Epoch 432/500\n",
            "2/2 [==============================] - 0s 9ms/step - loss: 22.2751 - mse: 683.5363\n",
            "Epoch 433/500\n",
            "2/2 [==============================] - 0s 9ms/step - loss: 5.9433 - mse: 65.8494\n",
            "Epoch 434/500\n",
            "2/2 [==============================] - 0s 8ms/step - loss: 32.6408 - mse: 1483.7920\n",
            "Epoch 435/500\n",
            "2/2 [==============================] - 0s 8ms/step - loss: 13.4945 - mse: 259.4462\n",
            "Epoch 436/500\n",
            "2/2 [==============================] - 0s 7ms/step - loss: 29.0560 - mse: 1229.3745\n",
            "Epoch 437/500\n",
            "2/2 [==============================] - 0s 10ms/step - loss: 9.1837 - mse: 232.6346\n",
            "Epoch 438/500\n",
            "2/2 [==============================] - 0s 10ms/step - loss: 12.3654 - mse: 258.1314\n",
            "Epoch 439/500\n",
            "2/2 [==============================] - 0s 9ms/step - loss: 33.6504 - mse: 1568.0493\n",
            "Epoch 440/500\n",
            "2/2 [==============================] - 0s 13ms/step - loss: 15.0517 - mse: 292.9797\n",
            "Epoch 441/500\n",
            "2/2 [==============================] - 0s 10ms/step - loss: 17.4491 - mse: 483.8564\n",
            "Epoch 442/500\n",
            "2/2 [==============================] - 0s 10ms/step - loss: 22.2405 - mse: 747.4011\n",
            "Epoch 443/500\n",
            "2/2 [==============================] - 0s 9ms/step - loss: 23.7407 - mse: 795.2227\n",
            "Epoch 444/500\n",
            "2/2 [==============================] - 0s 9ms/step - loss: 11.1243 - mse: 206.9225\n",
            "Epoch 445/500\n",
            "2/2 [==============================] - 0s 12ms/step - loss: 14.8811 - mse: 314.4422\n",
            "Epoch 446/500\n",
            "2/2 [==============================] - 0s 8ms/step - loss: 17.9461 - mse: 512.0808\n",
            "Epoch 447/500\n",
            "2/2 [==============================] - 0s 9ms/step - loss: 5.4983 - mse: 51.5157\n",
            "Epoch 448/500\n",
            "2/2 [==============================] - 0s 10ms/step - loss: 9.6667 - mse: 229.1478\n",
            "Epoch 449/500\n",
            "2/2 [==============================] - 0s 11ms/step - loss: 14.3020 - mse: 285.7201\n",
            "Epoch 450/500\n",
            "2/2 [==============================] - 0s 9ms/step - loss: 17.0643 - mse: 445.2407\n",
            "Epoch 451/500\n",
            "2/2 [==============================] - 0s 8ms/step - loss: 14.4119 - mse: 316.8829\n",
            "Epoch 452/500\n",
            "2/2 [==============================] - 0s 8ms/step - loss: 30.8757 - mse: 1350.4985\n",
            "Epoch 453/500\n",
            "2/2 [==============================] - 0s 8ms/step - loss: 9.1387 - mse: 234.3881\n",
            "Epoch 454/500\n",
            "2/2 [==============================] - 0s 9ms/step - loss: 27.2477 - mse: 1039.5022\n",
            "Epoch 455/500\n",
            "2/2 [==============================] - 0s 8ms/step - loss: 11.2587 - mse: 229.8852\n",
            "Epoch 456/500\n",
            "2/2 [==============================] - 0s 8ms/step - loss: 15.6889 - mse: 333.7654\n",
            "Epoch 457/500\n",
            "2/2 [==============================] - 0s 10ms/step - loss: 19.3807 - mse: 558.4875\n",
            "Epoch 458/500\n",
            "2/2 [==============================] - 0s 8ms/step - loss: 22.8042 - mse: 766.3522\n",
            "Epoch 459/500\n",
            "2/2 [==============================] - 0s 9ms/step - loss: 16.1990 - mse: 374.7160\n",
            "Epoch 460/500\n",
            "2/2 [==============================] - 0s 8ms/step - loss: 4.7068 - mse: 49.6371\n",
            "Epoch 461/500\n",
            "2/2 [==============================] - 0s 7ms/step - loss: 17.0719 - mse: 413.9398\n",
            "Epoch 462/500\n",
            "2/2 [==============================] - 0s 10ms/step - loss: 13.9648 - mse: 280.0185\n",
            "Epoch 463/500\n",
            "2/2 [==============================] - 0s 13ms/step - loss: 30.5061 - mse: 1295.8126\n",
            "Epoch 464/500\n",
            "2/2 [==============================] - 0s 7ms/step - loss: 8.8665 - mse: 196.2413\n",
            "Epoch 465/500\n",
            "2/2 [==============================] - 0s 7ms/step - loss: 21.1621 - mse: 679.6740\n",
            "Epoch 466/500\n",
            "2/2 [==============================] - 0s 9ms/step - loss: 25.8531 - mse: 968.3789\n",
            "Epoch 467/500\n",
            "2/2 [==============================] - 0s 9ms/step - loss: 15.5429 - mse: 358.0890\n",
            "Epoch 468/500\n",
            "2/2 [==============================] - 0s 8ms/step - loss: 9.8021 - mse: 247.9278\n",
            "Epoch 469/500\n",
            "2/2 [==============================] - 0s 9ms/step - loss: 27.5249 - mse: 1062.4949\n",
            "Epoch 470/500\n",
            "2/2 [==============================] - 0s 7ms/step - loss: 12.1353 - mse: 261.8042\n",
            "Epoch 471/500\n",
            "2/2 [==============================] - 0s 8ms/step - loss: 11.5875 - mse: 237.9850\n",
            "Epoch 472/500\n",
            "2/2 [==============================] - 0s 8ms/step - loss: 15.6526 - mse: 350.1895\n",
            "Epoch 473/500\n",
            "2/2 [==============================] - 0s 8ms/step - loss: 15.7650 - mse: 421.5811\n",
            "Epoch 474/500\n",
            "2/2 [==============================] - 0s 7ms/step - loss: 30.1383 - mse: 1349.4899\n",
            "Epoch 475/500\n",
            "2/2 [==============================] - 0s 11ms/step - loss: 9.7205 - mse: 171.5229\n",
            "Epoch 476/500\n",
            "2/2 [==============================] - 0s 10ms/step - loss: 13.4098 - mse: 246.6360\n",
            "Epoch 477/500\n",
            "2/2 [==============================] - 0s 10ms/step - loss: 29.6848 - mse: 1230.5833\n",
            "Epoch 478/500\n",
            "2/2 [==============================] - 0s 10ms/step - loss: 3.1045 - mse: 15.6398\n",
            "Epoch 479/500\n",
            "2/2 [==============================] - 0s 10ms/step - loss: 10.5212 - mse: 275.1360\n",
            "Epoch 480/500\n",
            "2/2 [==============================] - 0s 10ms/step - loss: 17.7095 - mse: 469.0272\n",
            "Epoch 481/500\n",
            "2/2 [==============================] - 0s 10ms/step - loss: 15.6642 - mse: 356.1836\n",
            "Epoch 482/500\n",
            "2/2 [==============================] - 0s 8ms/step - loss: 20.9729 - mse: 681.3751\n",
            "Epoch 483/500\n",
            "2/2 [==============================] - 0s 9ms/step - loss: 26.2101 - mse: 1028.4685\n",
            "Epoch 484/500\n",
            "2/2 [==============================] - 0s 7ms/step - loss: 24.8712 - mse: 877.2979\n",
            "Epoch 485/500\n",
            "2/2 [==============================] - 0s 9ms/step - loss: 5.9445 - mse: 55.1686\n",
            "Epoch 486/500\n",
            "2/2 [==============================] - 0s 9ms/step - loss: 20.8986 - mse: 619.0525\n",
            "Epoch 487/500\n",
            "2/2 [==============================] - 0s 7ms/step - loss: 13.9514 - mse: 279.0895\n",
            "Epoch 488/500\n",
            "2/2 [==============================] - 0s 8ms/step - loss: 30.4335 - mse: 1320.4373\n",
            "Epoch 489/500\n",
            "2/2 [==============================] - 0s 8ms/step - loss: 11.6650 - mse: 239.0884\n",
            "Epoch 490/500\n",
            "2/2 [==============================] - 0s 10ms/step - loss: 12.4205 - mse: 245.3278\n",
            "Epoch 491/500\n",
            "2/2 [==============================] - 0s 9ms/step - loss: 23.5557 - mse: 834.3419\n",
            "Epoch 492/500\n",
            "2/2 [==============================] - 0s 10ms/step - loss: 20.6915 - mse: 601.0757\n",
            "Epoch 493/500\n",
            "2/2 [==============================] - 0s 8ms/step - loss: 5.0472 - mse: 47.9668\n",
            "Epoch 494/500\n",
            "2/2 [==============================] - 0s 10ms/step - loss: 12.9244 - mse: 251.5913\n",
            "Epoch 495/500\n",
            "2/2 [==============================] - 0s 10ms/step - loss: 13.3369 - mse: 237.5293\n",
            "Epoch 496/500\n",
            "2/2 [==============================] - 0s 14ms/step - loss: 12.6451 - mse: 241.6215\n",
            "Epoch 497/500\n",
            "2/2 [==============================] - 0s 13ms/step - loss: 17.5717 - mse: 513.0518\n",
            "Epoch 498/500\n",
            "2/2 [==============================] - 0s 10ms/step - loss: 23.6805 - mse: 825.6963\n",
            "Epoch 499/500\n",
            "2/2 [==============================] - 0s 12ms/step - loss: 9.4706 - mse: 138.4117\n",
            "Epoch 500/500\n",
            "2/2 [==============================] - 0s 10ms/step - loss: 14.6276 - mse: 294.2585\n"
          ]
        },
        {
          "output_type": "execute_result",
          "data": {
            "text/plain": [
              "<keras.callbacks.History at 0x7f3df25c9b50>"
            ]
          },
          "metadata": {},
          "execution_count": 84
        }
      ]
    },
    {
      "cell_type": "code",
      "source": [
        "y_preds_3=model_3.predict(X_test)\n",
        "plot_predictions(predictions=y_preds_3)"
      ],
      "metadata": {
        "id": "hmU8PPbPn0O4",
        "outputId": "cf244a19-d8b2-4db8-b9ff-b5710202019c",
        "colab": {
          "base_uri": "https://localhost:8080/",
          "height": 445
        }
      },
      "execution_count": null,
      "outputs": [
        {
          "output_type": "stream",
          "name": "stdout",
          "text": [
            "1/1 [==============================] - 0s 144ms/step\n"
          ]
        },
        {
          "output_type": "display_data",
          "data": {
            "text/plain": [
              "<Figure size 720x504 with 1 Axes>"
            ],
            "image/png": "[encoded data removed]"
          },
          "metadata": {
            "needs_background": "light"
          }
        }
      ]
    },
    {
      "cell_type": "code",
      "source": [
        "#Calculate model_2 eval metrics\n",
        "mae_3=mae(y_test, y_preds_3)\n",
        "mse_3=mse(y_test, y_preds_3)\n",
        "mae_3, mse_3"
      ],
      "metadata": {
        "id": "QqsWf_Wfn8LU",
        "outputId": "fe770b14-b768-430b-ac38-267e3721af09",
        "colab": {
          "base_uri": "https://localhost:8080/"
        }
      },
      "execution_count": null,
      "outputs": [
        {
          "output_type": "execute_result",
          "data": {
            "text/plain": [
              "(<tf.Tensor: shape=(), dtype=float32, numpy=68.70654>,\n",
              " <tf.Tensor: shape=(), dtype=float32, numpy=4806.99>)"
            ]
          },
          "metadata": {},
          "execution_count": 86
        }
      ]
    },
    {
      "cell_type": "markdown",
      "source": [
        "## Comparing the results of our experiments"
      ],
      "metadata": {
        "id": "rhM2FsIvoYgp"
      }
    },
    {
      "cell_type": "code",
      "source": [
        "#Let's compare our models preforance using a pandas dataframe\n",
        "import pandas as pd\n",
        "\n",
        "model_results=[[\"model_1\",mae_1.numpy(),mse_1.numpy()],\n",
        "               [\"model_2\",mae_2.numpy(),mse_2.numpy()],\n",
        "               [\"model_3\",mae_3.numpy(),mse_3.numpy()]]\n",
        "\n",
        "all_results=pd.DataFrame(model_results, columns=['model_number', 'mae', 'mse'])"
      ],
      "metadata": {
        "id": "Mu2kxLtepJgT"
      },
      "execution_count": null,
      "outputs": []
    },
    {
      "cell_type": "code",
      "source": [
        "all_results"
      ],
      "metadata": {
        "id": "sS-FTKBusP8i",
        "outputId": "c2c59a82-c64c-4df4-ae6f-a4a1adfb1899",
        "colab": {
          "base_uri": "https://localhost:8080/",
          "height": 143
        }
      },
      "execution_count": null,
      "outputs": [
        {
          "output_type": "execute_result",
          "data": {
            "text/plain": [
              "  model_number        mae          mse\n",
              "0      model_1  32.677631  1080.303223\n",
              "1      model_2  13.380246   189.144928\n",
              "2      model_3  68.706543  4806.990234"
            ],
            "text/html": [
              "\n",
              "  <div id=\"df-88197507-666e-4503-9f93-2b8ddaf6d7c3\">\n",
              "    <div class=\"colab-df-container\">\n",
              "      <div>\n",
              "<style scoped>\n",
              "    .dataframe tbody tr th:only-of-type {\n",
              "        vertical-align: middle;\n",
              "    }\n",
              "\n",
              "    .dataframe tbody tr th {\n",
              "        vertical-align: top;\n",
              "    }\n",
              "\n",
              "    .dataframe thead th {\n",
              "        text-align: right;\n",
              "    }\n",
              "</style>\n",
              "<table border=\"1\" class=\"dataframe\">\n",
              "  <thead>\n",
              "    <tr style=\"text-align: right;\">\n",
              "      <th></th>\n",
              "      <th>model_number</th>\n",
              "      <th>mae</th>\n",
              "      <th>mse</th>\n",
              "    </tr>\n",
              "  </thead>\n",
              "  <tbody>\n",
              "    <tr>\n",
              "      <th>0</th>\n",
              "      <td>model_1</td>\n",
              "      <td>32.677631</td>\n",
              "      <td>1080.303223</td>\n",
              "    </tr>\n",
              "    <tr>\n",
              "      <th>1</th>\n",
              "      <td>model_2</td>\n",
              "      <td>13.380246</td>\n",
              "      <td>189.144928</td>\n",
              "    </tr>\n",
              "    <tr>\n",
              "      <th>2</th>\n",
              "      <td>model_3</td>\n",
              "      <td>68.706543</td>\n",
              "      <td>4806.990234</td>\n",
              "    </tr>\n",
              "  </tbody>\n",
              "</table>\n",
              "</div>\n",
              "      <button class=\"colab-df-convert\" onclick=\"convertToInteractive('df-88197507-666e-4503-9f93-2b8ddaf6d7c3')\"\n",
              "              title=\"Convert this dataframe to an interactive table.\"\n",
              "              style=\"display:none;\">\n",
              "        \n",
              "  <svg xmlns=\"http://www.w3.org/2000/svg\" height=\"24px\"viewBox=\"0 0 24 24\"\n",
              "       width=\"24px\">\n",
              "    <path d=\"M0 0h24v24H0V0z\" fill=\"none\"/>\n",
              "    <path d=\"M18.56 5.44l.94 2.06.94-2.06 2.06-.94-2.06-.94-.94-2.06-.94 2.06-2.06.94zm-11 1L8.5 8.5l.94-2.06 2.06-.94-2.06-.94L8.5 2.5l-.94 2.06-2.06.94zm10 10l.94 2.06.94-2.06 2.06-.94-2.06-.94-.94-2.06-.94 2.06-2.06.94z\"/><path d=\"M17.41 7.96l-1.37-1.37c-.4-.4-.92-.59-1.43-.59-.52 0-1.04.2-1.43.59L10.3 9.45l-7.72 7.72c-.78.78-.78 2.05 0 2.83L4 21.41c.39.39.9.59 1.41.59.51 0 1.02-.2 1.41-.59l7.78-7.78 2.81-2.81c.8-.78.8-2.07 0-2.86zM5.41 20L4 18.59l7.72-7.72 1.47 1.35L5.41 20z\"/>\n",
              "  </svg>\n",
              "      </button>\n",
              "      \n",
              "  <style>\n",
              "    .colab-df-container {\n",
              "      display:flex;\n",
              "      flex-wrap:wrap;\n",
              "      gap: 12px;\n",
              "    }\n",
              "\n",
              "    .colab-df-convert {\n",
              "      background-color: #E8F0FE;\n",
              "      border: none;\n",
              "      border-radius: 50%;\n",
              "      cursor: pointer;\n",
              "      display: none;\n",
              "      fill: #1967D2;\n",
              "      height: 32px;\n",
              "      padding: 0 0 0 0;\n",
              "      width: 32px;\n",
              "    }\n",
              "\n",
              "    .colab-df-convert:hover {\n",
              "      background-color: #E2EBFA;\n",
              "      box-shadow: 0px 1px 2px rgba(60, 64, 67, 0.3), 0px 1px 3px 1px rgba(60, 64, 67, 0.15);\n",
              "      fill: #174EA6;\n",
              "    }\n",
              "\n",
              "    [theme=dark] .colab-df-convert {\n",
              "      background-color: #3B4455;\n",
              "      fill: #D2E3FC;\n",
              "    }\n",
              "\n",
              "    [theme=dark] .colab-df-convert:hover {\n",
              "      background-color: #434B5C;\n",
              "      box-shadow: 0px 1px 3px 1px rgba(0, 0, 0, 0.15);\n",
              "      filter: drop-shadow(0px 1px 2px rgba(0, 0, 0, 0.3));\n",
              "      fill: #FFFFFF;\n",
              "    }\n",
              "  </style>\n",
              "\n",
              "      <script>\n",
              "        const buttonEl =\n",
              "          document.querySelector('#df-88197507-666e-4503-9f93-2b8ddaf6d7c3 button.colab-df-convert');\n",
              "        buttonEl.style.display =\n",
              "          google.colab.kernel.accessAllowed ? 'block' : 'none';\n",
              "\n",
              "        async function convertToInteractive(key) {\n",
              "          const element = document.querySelector('#df-88197507-666e-4503-9f93-2b8ddaf6d7c3');\n",
              "          const dataTable =\n",
              "            await google.colab.kernel.invokeFunction('convertToInteractive',\n",
              "                                                     [key], {});\n",
              "          if (!dataTable) return;\n",
              "\n",
              "          const docLinkHtml = 'Like what you see? Visit the ' +\n",
              "            '<a target=\"_blank\" href=https://colab.research.google.com/notebooks/data_table.ipynb>data table notebook</a>'\n",
              "            + ' to learn more about interactive tables.';\n",
              "          element.innerHTML = '';\n",
              "          dataTable['output_type'] = 'display_data';\n",
              "          await google.colab.output.renderOutput(dataTable, element);\n",
              "          const docLink = document.createElement('div');\n",
              "          docLink.innerHTML = docLinkHtml;\n",
              "          element.appendChild(docLink);\n",
              "        }\n",
              "      </script>\n",
              "    </div>\n",
              "  </div>\n",
              "  "
            ]
          },
          "metadata": {},
          "execution_count": 90
        }
      ]
    },
    {
      "cell_type": "code",
      "source": [
        "model_2.summary()"
      ],
      "metadata": {
        "id": "raOFvMC9sSFg",
        "outputId": "923a9d78-a42b-48f8-edfe-0a25a1c98a8c",
        "colab": {
          "base_uri": "https://localhost:8080/"
        }
      },
      "execution_count": null,
      "outputs": [
        {
          "output_type": "stream",
          "name": "stdout",
          "text": [
            "Model: \"sequential_12\"\n",
            "_________________________________________________________________\n",
            " Layer (type)                Output Shape              Param #   \n",
            "=================================================================\n",
            " dense_25 (Dense)            (None, 10)                20        \n",
            "                                                                 \n",
            " dense_26 (Dense)            (None, 1)                 11        \n",
            "                                                                 \n",
            "=================================================================\n",
            "Total params: 31\n",
            "Trainable params: 31\n",
            "Non-trainable params: 0\n",
            "_________________________________________________________________\n"
          ]
        }
      ]
    },
    {
      "cell_type": "markdown",
      "source": [
        "looks like model 2 preforms the best"
      ],
      "metadata": {
        "id": "dG22BsVIsfE0"
      }
    },
    {
      "cell_type": "markdown",
      "source": [
        "One of our main goals is to minimize the time between experiments. The more experiments you do, the more things you'll figure out that does'nt work."
      ],
      "metadata": {
        "id": "UXFt_rC9syCO"
      }
    },
    {
      "cell_type": "markdown",
      "source": [
        "## Tracking your experiments \n",
        "\n",
        "One really good habit in machine learning modelling is to track the reults of your experiments. It can be tedious if you are running lot;s of experiments. Luckily there are tools to help us.\n",
        "\n",
        "Resoure: One of the tools is Tensorflow's TensoBoard. It helps track modelling experiments. \n",
        "\n",
        "Weights and Biases - Plugs straight into tensorboard. It helps in tracking the ML Models."
      ],
      "metadata": {
        "id": "lvPVBmH1tHlY"
      }
    },
    {
      "cell_type": "markdown",
      "source": [
        "## Save our models\n",
        "\n",
        "Helps us use the model in a Mobile app or somewhere else\n",
        "\n",
        "There are 2 main ways/types of saving the model\n",
        "1. SavedModel Format\n",
        "2. HDF5 Format\n"
      ],
      "metadata": {
        "id": "3A8Sf8uztbzn"
      }
    },
    {
      "cell_type": "code",
      "source": [
        "#save the model using the savedModel Format\n",
        "model_2.save(\"File_name\")\n",
        "\n",
        "#Save model using the hdf5 format\n",
        "model_2.save('file_name.h5')"
      ],
      "metadata": {
        "id": "dzcIoy7uvPNg"
      },
      "execution_count": null,
      "outputs": []
    },
    {
      "cell_type": "markdown",
      "source": [
        "## Loading in a Saved Model\n"
      ],
      "metadata": {
        "id": "qCX0HBY6Chhv"
      }
    },
    {
      "cell_type": "code",
      "source": [
        "## Loading in a SavedModel format\n",
        "\n",
        "loaded_savedModel_format=tf.keras.models.load_model('./File_name') #For colab, copy the path of the Model Saved file\n",
        "\n",
        "loaded_savedModel_format.summary()"
      ],
      "metadata": {
        "id": "MaubiGHuDIn2"
      },
      "execution_count": null,
      "outputs": []
    },
    {
      "cell_type": "code",
      "source": [
        "#Load the model with h5 format\n",
        "loaded_h5_model=tf.keras.models.load_model('file_name.h5')"
      ],
      "metadata": {
        "id": "iWAz3LQ0DzAg"
      },
      "execution_count": null,
      "outputs": []
    },
    {
      "cell_type": "code",
      "source": [
        "loaded_h5_model.summary()"
      ],
      "metadata": {
        "id": "DhS63ouNFM2_"
      },
      "execution_count": null,
      "outputs": []
    },
    {
      "cell_type": "code",
      "source": [],
      "metadata": {
        "id": "LzdNk5MUFWh4"
      },
      "execution_count": null,
      "outputs": []
    }
  ]
}