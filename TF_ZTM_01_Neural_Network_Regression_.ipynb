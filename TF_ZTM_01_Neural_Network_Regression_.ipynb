{
  "nbformat": 4,
  "nbformat_minor": 0,
  "metadata": {
    "colab": {
      "provenance": [],
      "authorship_tag": "ABX9TyOKiQouP5muG3/51csZNJFV",
      "include_colab_link": true
    },
    "kernelspec": {
      "name": "python3",
      "display_name": "Python 3"
    },
    "language_info": {
      "name": "python"
    }
  },
  "cells": [
    {
      "cell_type": "markdown",
      "metadata": {
        "id": "view-in-github",
        "colab_type": "text"
      },
      "source": [
        "<a href=\"https://colab.research.google.com/github/lakshitgosain/Tensorflow-ZTM/blob/main/TF_ZTM_01_Neural_Network_Regression_.ipynb\" target=\"_parent\"><img src=\"https://colab.research.google.com/assets/colab-badge.svg\" alt=\"Open In Colab\"/></a>"
      ]
    },
    {
      "cell_type": "markdown",
      "source": [
        "## Typical architecture of a regresison neural network\n",
        "\n",
        "The word *typical* is on purpose.\n",
        "\n",
        "Why?\n",
        "\n",
        "Because there are many different ways (actually, there's almost an infinite number of ways) to write neural networks.\n",
        "\n",
        "But the following is a generic setup for ingesting a collection of numbers, finding patterns in them and then outputing some kind of target number.\n",
        "\n",
        "Yes, the previous sentence is vague but we'll see this in action shortly.\n",
        "\n",
        "| **Hyperparameter** | **Typical value** |\n",
        "| --- | --- |\n",
        "| Input layer shape | Same shape as number of features (e.g. 3 for # bedrooms, # bathrooms, # car spaces in housing price prediction) |\n",
        "| Hidden layer(s) | Problem specific, minimum = 1, maximum = unlimited |\n",
        "| Neurons per hidden layer | Problem specific, generally 10 to 100 |\n",
        "| Output layer shape | Same shape as desired prediction shape (e.g. 1 for house price) |\n",
        "| Hidden activation | Usually [ReLU](https://www.kaggle.com/dansbecker/rectified-linear-units-relu-in-deep-learning) (rectified linear unit) |\n",
        "| Output activation | None, ReLU, logistic/tanh |\n",
        "| Loss function | [MSE](https://en.wikipedia.org/wiki/Mean_squared_error) (mean square error) or [MAE](https://en.wikipedia.org/wiki/Mean_absolute_error) (mean absolute error)/Huber (combination of MAE/MSE) if outliers |\n",
        "| Optimizer | [SGD](https://www.tensorflow.org/api_docs/python/tf/keras/optimizers/SGD) (stochastic gradient descent), [Adam](https://www.tensorflow.org/api_docs/python/tf/keras/optimizers/Adam) |\n",
        "\n",
        "***Table 1:*** *Typical architecture of a regression network.* ***Source:*** *Adapted from page 293 of [Hands-On Machine Learning with Scikit-Learn, Keras & TensorFlow Book by Aurélien Géron](https://www.oreilly.com/library/view/hands-on-machine-learning/9781492032632/)*\n",
        "\n",
        "Again, if you're new to neural networks and deep learning in general, much of the above table won't make sense. But don't worry, we'll be getting hands-on with all of it soon.\n",
        "\n",
        "> 🔑 **Note:** A **hyperparameter** in machine learning is something a data analyst or developer can set themselves, where as a **parameter** usually describes something a model learns on its own (a value not explicitly set by an analyst).\n",
        "\n",
        "Okay, enough talk, let's get started writing code.\n",
        "\n",
        "To use TensorFlow, we'll import it as the common alias `tf` (short for TensorFlow)."
      ],
      "metadata": {
        "id": "CKP8rK-46aDw"
      }
    },
    {
      "cell_type": "code",
      "source": [
        "\n",
        "import tensorflow as tf\n",
        "print(tf.__version__)"
      ],
      "metadata": {
        "colab": {
          "base_uri": "https://localhost:8080/"
        },
        "id": "xf3FcsmOoG-e",
        "outputId": "49d9078f-f549-4b31-a26a-849b03515ea6"
      },
      "execution_count": 8,
      "outputs": [
        {
          "output_type": "stream",
          "name": "stdout",
          "text": [
            "2.11.0\n"
          ]
        }
      ]
    },
    {
      "cell_type": "markdown",
      "source": [
        "##Creating data to view and Fit"
      ],
      "metadata": {
        "id": "u42SDHJhwspp"
      }
    },
    {
      "cell_type": "code",
      "source": [
        "import numpy as np\n",
        "import matplotlib.pyplot as plt"
      ],
      "metadata": {
        "id": "SMs8Rfo6w8xX"
      },
      "execution_count": 1,
      "outputs": []
    },
    {
      "cell_type": "code",
      "source": [
        "#Create Features\n",
        "\n",
        "X = np.array([-7.0, -4.0, -1.0, 2.0, 5.0, 8.0, 11.0, 14.0])\n",
        "\n",
        "# Create labels\n",
        "y = np.array([3.0, 6.0, 9.0, 12.0, 15.0, 18.0, 21.0, 24.0])"
      ],
      "metadata": {
        "id": "oS_P43HIxA3r"
      },
      "execution_count": 2,
      "outputs": []
    },
    {
      "cell_type": "code",
      "source": [
        "plt.scatter(X,y);"
      ],
      "metadata": {
        "colab": {
          "base_uri": "https://localhost:8080/",
          "height": 269
        },
        "id": "FmktkLOrxIiH",
        "outputId": "bdf32893-a4ae-4ba4-9f18-83ac1a18f3f9"
      },
      "execution_count": 3,
      "outputs": [
        {
          "output_type": "display_data",
          "data": {
            "text/plain": [
              "<Figure size 432x288 with 1 Axes>"
            ],
            "image/png": "[encoded data removed]"
          },
          "metadata": {
            "needs_background": "light"
          }
        }
      ]
    },
    {
      "cell_type": "code",
      "source": [
        "y==X+10"
      ],
      "metadata": {
        "colab": {
          "base_uri": "https://localhost:8080/"
        },
        "id": "KljIET_ExKZw",
        "outputId": "5ac3c1bc-8ad7-4e95-f3c4-46cc25a91206"
      },
      "execution_count": 4,
      "outputs": [
        {
          "output_type": "execute_result",
          "data": {
            "text/plain": [
              "array([ True,  True,  True,  True,  True,  True,  True,  True])"
            ]
          },
          "metadata": {},
          "execution_count": 4
        }
      ]
    },
    {
      "cell_type": "markdown",
      "source": [
        "###Input shapes\n"
      ],
      "metadata": {
        "id": "irg3om5mxhhU"
      }
    },
    {
      "cell_type": "code",
      "source": [
        "#Create tensors for our housing price prediction problem\n",
        "house_info=tf.constant(['bedroom','bathroom','garage'])\n",
        "house_price=tf.constant([939700])\n",
        "house_info.shape, house_price.shape"
      ],
      "metadata": {
        "colab": {
          "base_uri": "https://localhost:8080/"
        },
        "id": "qUljUFsTx0gF",
        "outputId": "708962ff-3388-4efa-c178-9278258b4366"
      },
      "execution_count": 9,
      "outputs": [
        {
          "output_type": "execute_result",
          "data": {
            "text/plain": [
              "(TensorShape([3]), TensorShape([1]))"
            ]
          },
          "metadata": {},
          "execution_count": 9
        }
      ]
    },
    {
      "cell_type": "code",
      "source": [
        "input_shape=X.shape\n",
        "output_shape=y.shape\n",
        "input_shape, output_shape"
      ],
      "metadata": {
        "colab": {
          "base_uri": "https://localhost:8080/"
        },
        "id": "9GBXw9wqyJWT",
        "outputId": "a16ee9b5-6ccc-4e3f-c4eb-a2b0afa0a19b"
      },
      "execution_count": 10,
      "outputs": [
        {
          "output_type": "execute_result",
          "data": {
            "text/plain": [
              "((8,), (8,))"
            ]
          },
          "metadata": {},
          "execution_count": 10
        }
      ]
    },
    {
      "cell_type": "code",
      "source": [
        "#Turn our Numpy array into tenors\n",
        "X=tf.constant(X)\n",
        "y=tf.constant(y)\n",
        "X,y"
      ],
      "metadata": {
        "colab": {
          "base_uri": "https://localhost:8080/"
        },
        "id": "3Egp6dZlyRTI",
        "outputId": "47d4b855-c393-42b6-f961-0a0012d7b5f2"
      },
      "execution_count": 14,
      "outputs": [
        {
          "output_type": "execute_result",
          "data": {
            "text/plain": [
              "(<tf.Tensor: shape=(8,), dtype=float64, numpy=array([-7., -4., -1.,  2.,  5.,  8., 11., 14.])>,\n",
              " <tf.Tensor: shape=(8,), dtype=float64, numpy=array([ 3.,  6.,  9., 12., 15., 18., 21., 24.])>)"
            ]
          },
          "metadata": {},
          "execution_count": 14
        }
      ]
    },
    {
      "cell_type": "code",
      "source": [
        "input_shape=X[0].shape\n",
        "output_shape=y[0].shape\n",
        "input_shape, output_shape"
      ],
      "metadata": {
        "colab": {
          "base_uri": "https://localhost:8080/"
        },
        "id": "N-0w9FsJlYHB",
        "outputId": "158f2ce7-386f-4dbb-d12a-4920f0f28adf"
      },
      "execution_count": 15,
      "outputs": [
        {
          "output_type": "execute_result",
          "data": {
            "text/plain": [
              "(TensorShape([]), TensorShape([]))"
            ]
          },
          "metadata": {},
          "execution_count": 15
        }
      ]
    },
    {
      "cell_type": "code",
      "source": [
        "plt.scatter(X,y)"
      ],
      "metadata": {
        "colab": {
          "base_uri": "https://localhost:8080/",
          "height": 286
        },
        "id": "aB3xSr7plf3h",
        "outputId": "3f84a175-fe1c-4421-d92f-a229e56774d9"
      },
      "execution_count": 16,
      "outputs": [
        {
          "output_type": "execute_result",
          "data": {
            "text/plain": [
              "<matplotlib.collections.PathCollection at 0x7fb4d7cc9850>"
            ]
          },
          "metadata": {},
          "execution_count": 16
        },
        {
          "output_type": "display_data",
          "data": {
            "text/plain": [
              "<Figure size 432x288 with 1 Axes>"
            ],
            "image/png": "[encoded data removed]"
          },
          "metadata": {
            "needs_background": "light"
          }
        }
      ]
    },
    {
      "cell_type": "markdown",
      "source": [
        "## Steps in Modelling with Tensorflow\n",
        "\n",
        "1. **Creating a model** - define the nput layer, output layer, as well as the hidden layers of a deep learning model\n",
        "2. **Compiling a model**- define the loss function (in other words, the function which tells our model how to improve the patterns it's learning) and evaluation metrics (what we can use to interpret the performance of our model).\n",
        "3. **Fitting the model-** letting the model try to find patterns between X & y (features and labels)\n",
        "\n",
        "Get the data ready->build otr pick a pretraiuned model(to suit your problem) -> Fit the model to the data and make a prediction -> Evaluate the model -> Improve through experimentation -> save and reload your trained model.\n"
      ],
      "metadata": {
        "id": "tk0231SIlzDR"
      }
    },
    {
      "cell_type": "code",
      "source": [
        "#another way of creating the layers.  \n",
        "model=tf.keras.Sequential\n",
        "model.add(tf.keras.layers.Dense(1))\n",
        "model.add(tf.keras.layers.Dense(1))"
      ],
      "metadata": {
        "id": "09oMo7MGpjWt"
      },
      "execution_count": null,
      "outputs": []
    },
    {
      "cell_type": "code",
      "source": [
        "#Creating the model using sequential APIs\n",
        "tf.random.set_seed(42)\n",
        "\n",
        "#1. Create a model using the sequentiual API\n",
        "model=tf.keras.Sequential([\n",
        "    tf.keras.layers.Dense(1)\n",
        "])\n",
        "\n",
        "#2.Compile the model\n",
        "model.compile(loss=tf.keras.losses.mae,\n",
        "              optimizer=tf.keras.optimizers.SGD(),\n",
        "              metrics=['mae'])\n",
        "\n",
        "#3. Fit the model\n",
        "#model.fit(X,y,epochs=5)\n",
        "#for tf version 2.7+, we need to use the below for fitting the model\n",
        "model.fit(tf.expand_dims(X,axis=-1),y,epochs=5);"
      ],
      "metadata": {
        "colab": {
          "base_uri": "https://localhost:8080/"
        },
        "id": "9LqpqUBLmVbe",
        "outputId": "43a3f6fe-d131-4a86-8d97-e86dbc151298"
      },
      "execution_count": 28,
      "outputs": [
        {
          "output_type": "stream",
          "name": "stdout",
          "text": [
            "Epoch 1/5\n",
            "1/1 [==============================] - 0s 300ms/step - loss: 9.2386 - mae: 9.2386\n",
            "Epoch 2/5\n",
            "1/1 [==============================] - 0s 9ms/step - loss: 9.1061 - mae: 9.1061\n",
            "Epoch 3/5\n",
            "1/1 [==============================] - 0s 8ms/step - loss: 8.9736 - mae: 8.9736\n",
            "Epoch 4/5\n",
            "1/1 [==============================] - 0s 8ms/step - loss: 8.8411 - mae: 8.8411\n",
            "Epoch 5/5\n",
            "1/1 [==============================] - 0s 8ms/step - loss: 8.7086 - mae: 8.7086\n"
          ]
        }
      ]
    },
    {
      "cell_type": "code",
      "source": [
        "#Check out X and y\n",
        "X,y"
      ],
      "metadata": {
        "colab": {
          "base_uri": "https://localhost:8080/"
        },
        "id": "fw-3-pQMn5td",
        "outputId": "04e1bd7c-c8db-4064-a793-a79680606595"
      },
      "execution_count": 22,
      "outputs": [
        {
          "output_type": "execute_result",
          "data": {
            "text/plain": [
              "(<tf.Tensor: shape=(8,), dtype=float64, numpy=array([-7., -4., -1.,  2.,  5.,  8., 11., 14.])>,\n",
              " <tf.Tensor: shape=(8,), dtype=float64, numpy=array([ 3.,  6.,  9., 12., 15., 18., 21., 24.])>)"
            ]
          },
          "metadata": {},
          "execution_count": 22
        }
      ]
    },
    {
      "cell_type": "code",
      "source": [
        "#Try and make a predictio using a model\n",
        "y_pred=model.predict([17.0])"
      ],
      "metadata": {
        "colab": {
          "base_uri": "https://localhost:8080/"
        },
        "id": "7DoUB6gLrLWp",
        "outputId": "bfba1f2c-7fd7-4821-fb7b-13240615f0f2"
      },
      "execution_count": 24,
      "outputs": [
        {
          "output_type": "stream",
          "name": "stdout",
          "text": [
            "1/1 [==============================] - 0s 37ms/step\n"
          ]
        }
      ]
    },
    {
      "cell_type": "code",
      "source": [
        "y_pred+16"
      ],
      "metadata": {
        "colab": {
          "base_uri": "https://localhost:8080/"
        },
        "id": "UA5vLSx1rQ0l",
        "outputId": "aab44805-f7cf-43f6-8f8c-3a49f565dcbf"
      },
      "execution_count": 25,
      "outputs": [
        {
          "output_type": "execute_result",
          "data": {
            "text/plain": [
              "array([[6.4850025]], dtype=float32)"
            ]
          },
          "metadata": {},
          "execution_count": 25
        }
      ]
    },
    {
      "cell_type": "markdown",
      "source": [
        "### Improving our model\n",
        "We can improve our model by altering the steps we used to create our model.\n",
        "\n",
        "1. Creating a model -  here, we might add more layers, increase the number of hidden units within each of the hidden layers, change the activation function of the layer.\n",
        "\n",
        "2. Compiling the model - here we might change the optimization function or perhaps the learning rate of the optimization function\n",
        "\n",
        "3. Fitting the model - here we might fir a model for more epochs(leave it training for longer) or on more data (give the model more examples to learn from)"
      ],
      "metadata": {
        "id": "0xqY5OP1rgCS"
      }
    },
    {
      "cell_type": "code",
      "source": [
        "#Create the bigger model\n",
        "model=tf.keras.Sequential([\n",
        "    tf.keras.layers.Dense(100,activation='relu'),\n",
        "    tf.keras.layers.Dense(100,activation='relu'),\n",
        "    tf.keras.layers.Dense(100,activation='relu'),\n",
        "    tf.keras.layers.Dense(1)\n",
        "])\n",
        "\n",
        "#Compile the model\n",
        "model.compile(loss=tf.keras.losses.mae,\n",
        "              optimizer=tf.keras.optimizers.Adam(learning_rate=0.0001),\n",
        "              metrics=['mae'])\n",
        "\n",
        "#Fit the model\n",
        "model.fit(tf.expand_dims(X,axis=-1),y,epochs=100)\n",
        "#model.fit(X,y,epochs=100)"
      ],
      "metadata": {
        "colab": {
          "base_uri": "https://localhost:8080/"
        },
        "id": "kX6nvu2WrvrC",
        "outputId": "7089c4ad-35fa-480a-9f88-1e14b708653c"
      },
      "execution_count": 35,
      "outputs": [
        {
          "output_type": "stream",
          "name": "stdout",
          "text": [
            "Epoch 1/100\n",
            "1/1 [==============================] - 1s 1s/step - loss: 13.1452 - mae: 13.1452\n",
            "Epoch 2/100\n",
            "1/1 [==============================] - 0s 10ms/step - loss: 13.1087 - mae: 13.1087\n",
            "Epoch 3/100\n",
            "1/1 [==============================] - 0s 9ms/step - loss: 13.0722 - mae: 13.0722\n",
            "Epoch 4/100\n",
            "1/1 [==============================] - 0s 8ms/step - loss: 13.0356 - mae: 13.0356\n",
            "Epoch 5/100\n",
            "1/1 [==============================] - 0s 12ms/step - loss: 12.9993 - mae: 12.9993\n",
            "Epoch 6/100\n",
            "1/1 [==============================] - 0s 9ms/step - loss: 12.9641 - mae: 12.9641\n",
            "Epoch 7/100\n",
            "1/1 [==============================] - 0s 9ms/step - loss: 12.9289 - mae: 12.9289\n",
            "Epoch 8/100\n",
            "1/1 [==============================] - 0s 8ms/step - loss: 12.8941 - mae: 12.8941\n",
            "Epoch 9/100\n",
            "1/1 [==============================] - 0s 9ms/step - loss: 12.8599 - mae: 12.8599\n",
            "Epoch 10/100\n",
            "1/1 [==============================] - 0s 8ms/step - loss: 12.8260 - mae: 12.8260\n",
            "Epoch 11/100\n",
            "1/1 [==============================] - 0s 11ms/step - loss: 12.7922 - mae: 12.7922\n",
            "Epoch 12/100\n",
            "1/1 [==============================] - 0s 10ms/step - loss: 12.7582 - mae: 12.7582\n",
            "Epoch 13/100\n",
            "1/1 [==============================] - 0s 9ms/step - loss: 12.7241 - mae: 12.7241\n",
            "Epoch 14/100\n",
            "1/1 [==============================] - 0s 15ms/step - loss: 12.6900 - mae: 12.6900\n",
            "Epoch 15/100\n",
            "1/1 [==============================] - 0s 9ms/step - loss: 12.6557 - mae: 12.6557\n",
            "Epoch 16/100\n",
            "1/1 [==============================] - 0s 8ms/step - loss: 12.6214 - mae: 12.6214\n",
            "Epoch 17/100\n",
            "1/1 [==============================] - 0s 8ms/step - loss: 12.5870 - mae: 12.5870\n",
            "Epoch 18/100\n",
            "1/1 [==============================] - 0s 11ms/step - loss: 12.5523 - mae: 12.5523\n",
            "Epoch 19/100\n",
            "1/1 [==============================] - 0s 11ms/step - loss: 12.5171 - mae: 12.5171\n",
            "Epoch 20/100\n",
            "1/1 [==============================] - 0s 8ms/step - loss: 12.4818 - mae: 12.4818\n",
            "Epoch 21/100\n",
            "1/1 [==============================] - 0s 9ms/step - loss: 12.4462 - mae: 12.4462\n",
            "Epoch 22/100\n",
            "1/1 [==============================] - 0s 8ms/step - loss: 12.4103 - mae: 12.4103\n",
            "Epoch 23/100\n",
            "1/1 [==============================] - 0s 7ms/step - loss: 12.3742 - mae: 12.3742\n",
            "Epoch 24/100\n",
            "1/1 [==============================] - 0s 9ms/step - loss: 12.3378 - mae: 12.3378\n",
            "Epoch 25/100\n",
            "1/1 [==============================] - 0s 9ms/step - loss: 12.3012 - mae: 12.3012\n",
            "Epoch 26/100\n",
            "1/1 [==============================] - 0s 8ms/step - loss: 12.2643 - mae: 12.2643\n",
            "Epoch 27/100\n",
            "1/1 [==============================] - 0s 10ms/step - loss: 12.2273 - mae: 12.2273\n",
            "Epoch 28/100\n",
            "1/1 [==============================] - 0s 9ms/step - loss: 12.1902 - mae: 12.1902\n",
            "Epoch 29/100\n",
            "1/1 [==============================] - 0s 10ms/step - loss: 12.1533 - mae: 12.1533\n",
            "Epoch 30/100\n",
            "1/1 [==============================] - 0s 9ms/step - loss: 12.1166 - mae: 12.1166\n",
            "Epoch 31/100\n",
            "1/1 [==============================] - 0s 8ms/step - loss: 12.0803 - mae: 12.0803\n",
            "Epoch 32/100\n",
            "1/1 [==============================] - 0s 9ms/step - loss: 12.0435 - mae: 12.0435\n",
            "Epoch 33/100\n",
            "1/1 [==============================] - 0s 9ms/step - loss: 12.0064 - mae: 12.0064\n",
            "Epoch 34/100\n",
            "1/1 [==============================] - 0s 9ms/step - loss: 11.9690 - mae: 11.9690\n",
            "Epoch 35/100\n",
            "1/1 [==============================] - 0s 8ms/step - loss: 11.9314 - mae: 11.9314\n",
            "Epoch 36/100\n",
            "1/1 [==============================] - 0s 9ms/step - loss: 11.8936 - mae: 11.8936\n",
            "Epoch 37/100\n",
            "1/1 [==============================] - 0s 9ms/step - loss: 11.8556 - mae: 11.8556\n",
            "Epoch 38/100\n",
            "1/1 [==============================] - 0s 9ms/step - loss: 11.8177 - mae: 11.8177\n",
            "Epoch 39/100\n",
            "1/1 [==============================] - 0s 8ms/step - loss: 11.7793 - mae: 11.7793\n",
            "Epoch 40/100\n",
            "1/1 [==============================] - 0s 8ms/step - loss: 11.7407 - mae: 11.7407\n",
            "Epoch 41/100\n",
            "1/1 [==============================] - 0s 8ms/step - loss: 11.7024 - mae: 11.7024\n",
            "Epoch 42/100\n",
            "1/1 [==============================] - 0s 8ms/step - loss: 11.6640 - mae: 11.6640\n",
            "Epoch 43/100\n",
            "1/1 [==============================] - 0s 9ms/step - loss: 11.6256 - mae: 11.6256\n",
            "Epoch 44/100\n",
            "1/1 [==============================] - 0s 8ms/step - loss: 11.5866 - mae: 11.5866\n",
            "Epoch 45/100\n",
            "1/1 [==============================] - 0s 9ms/step - loss: 11.5471 - mae: 11.5471\n",
            "Epoch 46/100\n",
            "1/1 [==============================] - 0s 8ms/step - loss: 11.5076 - mae: 11.5076\n",
            "Epoch 47/100\n",
            "1/1 [==============================] - 0s 8ms/step - loss: 11.4682 - mae: 11.4682\n",
            "Epoch 48/100\n",
            "1/1 [==============================] - 0s 8ms/step - loss: 11.4286 - mae: 11.4286\n",
            "Epoch 49/100\n",
            "1/1 [==============================] - 0s 9ms/step - loss: 11.3886 - mae: 11.3886\n",
            "Epoch 50/100\n",
            "1/1 [==============================] - 0s 9ms/step - loss: 11.3482 - mae: 11.3482\n",
            "Epoch 51/100\n",
            "1/1 [==============================] - 0s 8ms/step - loss: 11.3074 - mae: 11.3074\n",
            "Epoch 52/100\n",
            "1/1 [==============================] - 0s 8ms/step - loss: 11.2662 - mae: 11.2662\n",
            "Epoch 53/100\n",
            "1/1 [==============================] - 0s 9ms/step - loss: 11.2247 - mae: 11.2247\n",
            "Epoch 54/100\n",
            "1/1 [==============================] - 0s 12ms/step - loss: 11.1828 - mae: 11.1828\n",
            "Epoch 55/100\n",
            "1/1 [==============================] - 0s 10ms/step - loss: 11.1408 - mae: 11.1408\n",
            "Epoch 56/100\n",
            "1/1 [==============================] - 0s 9ms/step - loss: 11.0984 - mae: 11.0984\n",
            "Epoch 57/100\n",
            "1/1 [==============================] - 0s 11ms/step - loss: 11.0556 - mae: 11.0556\n",
            "Epoch 58/100\n",
            "1/1 [==============================] - 0s 7ms/step - loss: 11.0122 - mae: 11.0122\n",
            "Epoch 59/100\n",
            "1/1 [==============================] - 0s 10ms/step - loss: 10.9683 - mae: 10.9683\n",
            "Epoch 60/100\n",
            "1/1 [==============================] - 0s 9ms/step - loss: 10.9236 - mae: 10.9236\n",
            "Epoch 61/100\n",
            "1/1 [==============================] - 0s 8ms/step - loss: 10.8776 - mae: 10.8776\n",
            "Epoch 62/100\n",
            "1/1 [==============================] - 0s 9ms/step - loss: 10.8310 - mae: 10.8310\n",
            "Epoch 63/100\n",
            "1/1 [==============================] - 0s 9ms/step - loss: 10.7836 - mae: 10.7836\n",
            "Epoch 64/100\n",
            "1/1 [==============================] - 0s 9ms/step - loss: 10.7430 - mae: 10.7430\n",
            "Epoch 65/100\n",
            "1/1 [==============================] - 0s 9ms/step - loss: 10.7079 - mae: 10.7079\n",
            "Epoch 66/100\n",
            "1/1 [==============================] - 0s 9ms/step - loss: 10.6724 - mae: 10.6724\n",
            "Epoch 67/100\n",
            "1/1 [==============================] - 0s 9ms/step - loss: 10.6364 - mae: 10.6364\n",
            "Epoch 68/100\n",
            "1/1 [==============================] - 0s 9ms/step - loss: 10.6002 - mae: 10.6002\n",
            "Epoch 69/100\n",
            "1/1 [==============================] - 0s 9ms/step - loss: 10.5637 - mae: 10.5637\n",
            "Epoch 70/100\n",
            "1/1 [==============================] - 0s 10ms/step - loss: 10.5269 - mae: 10.5269\n",
            "Epoch 71/100\n",
            "1/1 [==============================] - 0s 9ms/step - loss: 10.4896 - mae: 10.4896\n",
            "Epoch 72/100\n",
            "1/1 [==============================] - 0s 10ms/step - loss: 10.4519 - mae: 10.4519\n",
            "Epoch 73/100\n",
            "1/1 [==============================] - 0s 9ms/step - loss: 10.4137 - mae: 10.4137\n",
            "Epoch 74/100\n",
            "1/1 [==============================] - 0s 11ms/step - loss: 10.3752 - mae: 10.3752\n",
            "Epoch 75/100\n",
            "1/1 [==============================] - 0s 8ms/step - loss: 10.3364 - mae: 10.3364\n",
            "Epoch 76/100\n",
            "1/1 [==============================] - 0s 11ms/step - loss: 10.2973 - mae: 10.2973\n",
            "Epoch 77/100\n",
            "1/1 [==============================] - 0s 8ms/step - loss: 10.2576 - mae: 10.2576\n",
            "Epoch 78/100\n",
            "1/1 [==============================] - 0s 9ms/step - loss: 10.2175 - mae: 10.2175\n",
            "Epoch 79/100\n",
            "1/1 [==============================] - 0s 9ms/step - loss: 10.1769 - mae: 10.1769\n",
            "Epoch 80/100\n",
            "1/1 [==============================] - 0s 9ms/step - loss: 10.1355 - mae: 10.1355\n",
            "Epoch 81/100\n",
            "1/1 [==============================] - 0s 9ms/step - loss: 10.0936 - mae: 10.0936\n",
            "Epoch 82/100\n",
            "1/1 [==============================] - 0s 8ms/step - loss: 10.0511 - mae: 10.0511\n",
            "Epoch 83/100\n",
            "1/1 [==============================] - 0s 9ms/step - loss: 10.0082 - mae: 10.0082\n",
            "Epoch 84/100\n",
            "1/1 [==============================] - 0s 8ms/step - loss: 9.9648 - mae: 9.9648\n",
            "Epoch 85/100\n",
            "1/1 [==============================] - 0s 9ms/step - loss: 9.9207 - mae: 9.9207\n",
            "Epoch 86/100\n",
            "1/1 [==============================] - 0s 11ms/step - loss: 9.8762 - mae: 9.8762\n",
            "Epoch 87/100\n",
            "1/1 [==============================] - 0s 9ms/step - loss: 9.8313 - mae: 9.8313\n",
            "Epoch 88/100\n",
            "1/1 [==============================] - 0s 9ms/step - loss: 9.7858 - mae: 9.7858\n",
            "Epoch 89/100\n",
            "1/1 [==============================] - 0s 11ms/step - loss: 9.7399 - mae: 9.7399\n",
            "Epoch 90/100\n",
            "1/1 [==============================] - 0s 10ms/step - loss: 9.6934 - mae: 9.6934\n",
            "Epoch 91/100\n",
            "1/1 [==============================] - 0s 9ms/step - loss: 9.6464 - mae: 9.6464\n",
            "Epoch 92/100\n",
            "1/1 [==============================] - 0s 8ms/step - loss: 9.5990 - mae: 9.5990\n",
            "Epoch 93/100\n",
            "1/1 [==============================] - 0s 9ms/step - loss: 9.5510 - mae: 9.5510\n",
            "Epoch 94/100\n",
            "1/1 [==============================] - 0s 9ms/step - loss: 9.5025 - mae: 9.5025\n",
            "Epoch 95/100\n",
            "1/1 [==============================] - 0s 9ms/step - loss: 9.4535 - mae: 9.4535\n",
            "Epoch 96/100\n",
            "1/1 [==============================] - 0s 8ms/step - loss: 9.4040 - mae: 9.4040\n",
            "Epoch 97/100\n",
            "1/1 [==============================] - 0s 9ms/step - loss: 9.3540 - mae: 9.3540\n",
            "Epoch 98/100\n",
            "1/1 [==============================] - 0s 9ms/step - loss: 9.3035 - mae: 9.3035\n",
            "Epoch 99/100\n",
            "1/1 [==============================] - 0s 9ms/step - loss: 9.2527 - mae: 9.2527\n",
            "Epoch 100/100\n",
            "1/1 [==============================] - 0s 8ms/step - loss: 9.2015 - mae: 9.2015\n"
          ]
        },
        {
          "output_type": "execute_result",
          "data": {
            "text/plain": [
              "<keras.callbacks.History at 0x7fb4d6666b50>"
            ]
          },
          "metadata": {},
          "execution_count": 35
        }
      ]
    },
    {
      "cell_type": "code",
      "source": [
        "model.predict([17.0])"
      ],
      "metadata": {
        "colab": {
          "base_uri": "https://localhost:8080/"
        },
        "id": "AvOvythcxdFy",
        "outputId": "e871dcd4-32a4-4bb9-cf17-dc60546e580c"
      },
      "execution_count": 36,
      "outputs": [
        {
          "output_type": "stream",
          "name": "stdout",
          "text": [
            "1/1 [==============================] - 0s 82ms/step\n"
          ]
        },
        {
          "output_type": "execute_result",
          "data": {
            "text/plain": [
              "array([[12.385229]], dtype=float32)"
            ]
          },
          "metadata": {},
          "execution_count": 36
        }
      ]
    },
    {
      "cell_type": "markdown",
      "source": [
        "### Another attempt"
      ],
      "metadata": {
        "id": "zzP4dEBtyYrY"
      }
    },
    {
      "cell_type": "code",
      "source": [
        "#Create the bigger model\n",
        "model=tf.keras.Sequential([\n",
        "    tf.keras.layers.Dense(100,activation='relu'),\n",
        "    tf.keras.layers.Dense(100,activation='relu'),\n",
        "    tf.keras.layers.Dense(100,activation='relu'),\n",
        "    tf.keras.layers.Dense(1)\n",
        "])\n",
        "\n",
        "#Compile the model\n",
        "model.compile(loss=tf.keras.losses.mae,\n",
        "              optimizer=tf.keras.optimizers.Adam(learning_rate=0.001),\n",
        "              metrics=['mae'])\n",
        "\n",
        "#Fit the model\n",
        "model.fit(tf.expand_dims(X,axis=-1),y,epochs=100)\n",
        "#model.fit(X,y,epochs=100)"
      ],
      "metadata": {
        "colab": {
          "base_uri": "https://localhost:8080/"
        },
        "id": "mOg4z6fYzPt3",
        "outputId": "03bd830e-8b9d-4f0e-c97a-40fe99121473"
      },
      "execution_count": 38,
      "outputs": [
        {
          "output_type": "stream",
          "name": "stdout",
          "text": [
            "Epoch 1/100\n",
            "1/1 [==============================] - 1s 788ms/step - loss: 13.5280 - mae: 13.5280\n",
            "Epoch 2/100\n",
            "1/1 [==============================] - 0s 9ms/step - loss: 13.2073 - mae: 13.2073\n",
            "Epoch 3/100\n",
            "1/1 [==============================] - 0s 10ms/step - loss: 12.8921 - mae: 12.8921\n",
            "Epoch 4/100\n",
            "1/1 [==============================] - 0s 9ms/step - loss: 12.5909 - mae: 12.5909\n",
            "Epoch 5/100\n",
            "1/1 [==============================] - 0s 10ms/step - loss: 12.3046 - mae: 12.3046\n",
            "Epoch 6/100\n",
            "1/1 [==============================] - 0s 10ms/step - loss: 12.0151 - mae: 12.0151\n",
            "Epoch 7/100\n",
            "1/1 [==============================] - 0s 10ms/step - loss: 11.7079 - mae: 11.7079\n",
            "Epoch 8/100\n",
            "1/1 [==============================] - 0s 9ms/step - loss: 11.3862 - mae: 11.3862\n",
            "Epoch 9/100\n",
            "1/1 [==============================] - 0s 8ms/step - loss: 11.0567 - mae: 11.0567\n",
            "Epoch 10/100\n",
            "1/1 [==============================] - 0s 9ms/step - loss: 10.7674 - mae: 10.7674\n",
            "Epoch 11/100\n",
            "1/1 [==============================] - 0s 9ms/step - loss: 10.5082 - mae: 10.5082\n",
            "Epoch 12/100\n",
            "1/1 [==============================] - 0s 9ms/step - loss: 10.2379 - mae: 10.2379\n",
            "Epoch 13/100\n",
            "1/1 [==============================] - 0s 9ms/step - loss: 9.9507 - mae: 9.9507\n",
            "Epoch 14/100\n",
            "1/1 [==============================] - 0s 9ms/step - loss: 9.6491 - mae: 9.6491\n",
            "Epoch 15/100\n",
            "1/1 [==============================] - 0s 9ms/step - loss: 9.3254 - mae: 9.3254\n",
            "Epoch 16/100\n",
            "1/1 [==============================] - 0s 9ms/step - loss: 8.9796 - mae: 8.9796\n",
            "Epoch 17/100\n",
            "1/1 [==============================] - 0s 8ms/step - loss: 8.6114 - mae: 8.6114\n",
            "Epoch 18/100\n",
            "1/1 [==============================] - 0s 10ms/step - loss: 8.2233 - mae: 8.2233\n",
            "Epoch 19/100\n",
            "1/1 [==============================] - 0s 11ms/step - loss: 7.8125 - mae: 7.8125\n",
            "Epoch 20/100\n",
            "1/1 [==============================] - 0s 11ms/step - loss: 7.3738 - mae: 7.3738\n",
            "Epoch 21/100\n",
            "1/1 [==============================] - 0s 7ms/step - loss: 6.9046 - mae: 6.9046\n",
            "Epoch 22/100\n",
            "1/1 [==============================] - 0s 11ms/step - loss: 6.4032 - mae: 6.4032\n",
            "Epoch 23/100\n",
            "1/1 [==============================] - 0s 12ms/step - loss: 5.8674 - mae: 5.8674\n",
            "Epoch 24/100\n",
            "1/1 [==============================] - 0s 11ms/step - loss: 5.2956 - mae: 5.2956\n",
            "Epoch 25/100\n",
            "1/1 [==============================] - 0s 11ms/step - loss: 4.6856 - mae: 4.6856\n",
            "Epoch 26/100\n",
            "1/1 [==============================] - 0s 11ms/step - loss: 4.1426 - mae: 4.1426\n",
            "Epoch 27/100\n",
            "1/1 [==============================] - 0s 8ms/step - loss: 3.9356 - mae: 3.9356\n",
            "Epoch 28/100\n",
            "1/1 [==============================] - 0s 8ms/step - loss: 4.0128 - mae: 4.0128\n",
            "Epoch 29/100\n",
            "1/1 [==============================] - 0s 14ms/step - loss: 4.1414 - mae: 4.1414\n",
            "Epoch 30/100\n",
            "1/1 [==============================] - 0s 10ms/step - loss: 4.2609 - mae: 4.2609\n",
            "Epoch 31/100\n",
            "1/1 [==============================] - 0s 8ms/step - loss: 4.4810 - mae: 4.4810\n",
            "Epoch 32/100\n",
            "1/1 [==============================] - 0s 10ms/step - loss: 4.6136 - mae: 4.6136\n",
            "Epoch 33/100\n",
            "1/1 [==============================] - 0s 9ms/step - loss: 4.6668 - mae: 4.6668\n",
            "Epoch 34/100\n",
            "1/1 [==============================] - 0s 10ms/step - loss: 4.6501 - mae: 4.6501\n",
            "Epoch 35/100\n",
            "1/1 [==============================] - 0s 10ms/step - loss: 4.5750 - mae: 4.5750\n",
            "Epoch 36/100\n",
            "1/1 [==============================] - 0s 11ms/step - loss: 4.4522 - mae: 4.4522\n",
            "Epoch 37/100\n",
            "1/1 [==============================] - 0s 9ms/step - loss: 4.2875 - mae: 4.2875\n",
            "Epoch 38/100\n",
            "1/1 [==============================] - 0s 10ms/step - loss: 4.1262 - mae: 4.1262\n",
            "Epoch 39/100\n",
            "1/1 [==============================] - 0s 7ms/step - loss: 4.0470 - mae: 4.0470\n",
            "Epoch 40/100\n",
            "1/1 [==============================] - 0s 7ms/step - loss: 3.9682 - mae: 3.9682\n",
            "Epoch 41/100\n",
            "1/1 [==============================] - 0s 8ms/step - loss: 3.8908 - mae: 3.8908\n",
            "Epoch 42/100\n",
            "1/1 [==============================] - 0s 9ms/step - loss: 3.8137 - mae: 3.8137\n",
            "Epoch 43/100\n",
            "1/1 [==============================] - 0s 9ms/step - loss: 3.7378 - mae: 3.7378\n",
            "Epoch 44/100\n",
            "1/1 [==============================] - 0s 8ms/step - loss: 3.7706 - mae: 3.7706\n",
            "Epoch 45/100\n",
            "1/1 [==============================] - 0s 8ms/step - loss: 3.8211 - mae: 3.8211\n",
            "Epoch 46/100\n",
            "1/1 [==============================] - 0s 8ms/step - loss: 3.8550 - mae: 3.8550\n",
            "Epoch 47/100\n",
            "1/1 [==============================] - 0s 8ms/step - loss: 3.8734 - mae: 3.8734\n",
            "Epoch 48/100\n",
            "1/1 [==============================] - 0s 9ms/step - loss: 3.8779 - mae: 3.8779\n",
            "Epoch 49/100\n",
            "1/1 [==============================] - 0s 8ms/step - loss: 3.8699 - mae: 3.8699\n",
            "Epoch 50/100\n",
            "1/1 [==============================] - 0s 7ms/step - loss: 3.8562 - mae: 3.8562\n",
            "Epoch 51/100\n",
            "1/1 [==============================] - 0s 8ms/step - loss: 3.8254 - mae: 3.8254\n",
            "Epoch 52/100\n",
            "1/1 [==============================] - 0s 8ms/step - loss: 3.7900 - mae: 3.7900\n",
            "Epoch 53/100\n",
            "1/1 [==============================] - 0s 9ms/step - loss: 3.7460 - mae: 3.7460\n",
            "Epoch 54/100\n",
            "1/1 [==============================] - 0s 8ms/step - loss: 3.6932 - mae: 3.6932\n",
            "Epoch 55/100\n",
            "1/1 [==============================] - 0s 8ms/step - loss: 3.6314 - mae: 3.6314\n",
            "Epoch 56/100\n",
            "1/1 [==============================] - 0s 8ms/step - loss: 3.5986 - mae: 3.5986\n",
            "Epoch 57/100\n",
            "1/1 [==============================] - 0s 8ms/step - loss: 3.6202 - mae: 3.6202\n",
            "Epoch 58/100\n",
            "1/1 [==============================] - 0s 8ms/step - loss: 3.6316 - mae: 3.6316\n",
            "Epoch 59/100\n",
            "1/1 [==============================] - 0s 8ms/step - loss: 3.6452 - mae: 3.6452\n",
            "Epoch 60/100\n",
            "1/1 [==============================] - 0s 9ms/step - loss: 3.6330 - mae: 3.6330\n",
            "Epoch 61/100\n",
            "1/1 [==============================] - 0s 8ms/step - loss: 3.6244 - mae: 3.6244\n",
            "Epoch 62/100\n",
            "1/1 [==============================] - 0s 9ms/step - loss: 3.6079 - mae: 3.6079\n",
            "Epoch 63/100\n",
            "1/1 [==============================] - 0s 8ms/step - loss: 3.5845 - mae: 3.5845\n",
            "Epoch 64/100\n",
            "1/1 [==============================] - 0s 8ms/step - loss: 3.5542 - mae: 3.5542\n",
            "Epoch 65/100\n",
            "1/1 [==============================] - 0s 8ms/step - loss: 3.5190 - mae: 3.5190\n",
            "Epoch 66/100\n",
            "1/1 [==============================] - 0s 8ms/step - loss: 3.4799 - mae: 3.4799\n",
            "Epoch 67/100\n",
            "1/1 [==============================] - 0s 9ms/step - loss: 3.4891 - mae: 3.4891\n",
            "Epoch 68/100\n",
            "1/1 [==============================] - 0s 8ms/step - loss: 3.5188 - mae: 3.5188\n",
            "Epoch 69/100\n",
            "1/1 [==============================] - 0s 7ms/step - loss: 3.5003 - mae: 3.5003\n",
            "Epoch 70/100\n",
            "1/1 [==============================] - 0s 8ms/step - loss: 3.4835 - mae: 3.4835\n",
            "Epoch 71/100\n",
            "1/1 [==============================] - 0s 8ms/step - loss: 3.4511 - mae: 3.4511\n",
            "Epoch 72/100\n",
            "1/1 [==============================] - 0s 8ms/step - loss: 3.4040 - mae: 3.4040\n",
            "Epoch 73/100\n",
            "1/1 [==============================] - 0s 8ms/step - loss: 3.4013 - mae: 3.4013\n",
            "Epoch 74/100\n",
            "1/1 [==============================] - 0s 8ms/step - loss: 3.4095 - mae: 3.4095\n",
            "Epoch 75/100\n",
            "1/1 [==============================] - 0s 8ms/step - loss: 3.4093 - mae: 3.4093\n",
            "Epoch 76/100\n",
            "1/1 [==============================] - 0s 8ms/step - loss: 3.3975 - mae: 3.3975\n",
            "Epoch 77/100\n",
            "1/1 [==============================] - 0s 9ms/step - loss: 3.3759 - mae: 3.3759\n",
            "Epoch 78/100\n",
            "1/1 [==============================] - 0s 8ms/step - loss: 3.3664 - mae: 3.3664\n",
            "Epoch 79/100\n",
            "1/1 [==============================] - 0s 8ms/step - loss: 3.3137 - mae: 3.3137\n",
            "Epoch 80/100\n",
            "1/1 [==============================] - 0s 9ms/step - loss: 3.2835 - mae: 3.2835\n",
            "Epoch 81/100\n",
            "1/1 [==============================] - 0s 8ms/step - loss: 3.2553 - mae: 3.2553\n",
            "Epoch 82/100\n",
            "1/1 [==============================] - 0s 8ms/step - loss: 3.2497 - mae: 3.2497\n",
            "Epoch 83/100\n",
            "1/1 [==============================] - 0s 8ms/step - loss: 3.2165 - mae: 3.2165\n",
            "Epoch 84/100\n",
            "1/1 [==============================] - 0s 8ms/step - loss: 3.2059 - mae: 3.2059\n",
            "Epoch 85/100\n",
            "1/1 [==============================] - 0s 8ms/step - loss: 3.1943 - mae: 3.1943\n",
            "Epoch 86/100\n",
            "1/1 [==============================] - 0s 9ms/step - loss: 3.1717 - mae: 3.1717\n",
            "Epoch 87/100\n",
            "1/1 [==============================] - 0s 9ms/step - loss: 3.1561 - mae: 3.1561\n",
            "Epoch 88/100\n",
            "1/1 [==============================] - 0s 9ms/step - loss: 3.1101 - mae: 3.1101\n",
            "Epoch 89/100\n",
            "1/1 [==============================] - 0s 9ms/step - loss: 3.1108 - mae: 3.1108\n",
            "Epoch 90/100\n",
            "1/1 [==============================] - 0s 9ms/step - loss: 3.0966 - mae: 3.0966\n",
            "Epoch 91/100\n",
            "1/1 [==============================] - 0s 9ms/step - loss: 3.0551 - mae: 3.0551\n",
            "Epoch 92/100\n",
            "1/1 [==============================] - 0s 9ms/step - loss: 3.0364 - mae: 3.0364\n",
            "Epoch 93/100\n",
            "1/1 [==============================] - 0s 9ms/step - loss: 3.0276 - mae: 3.0276\n",
            "Epoch 94/100\n",
            "1/1 [==============================] - 0s 8ms/step - loss: 3.0066 - mae: 3.0066\n",
            "Epoch 95/100\n",
            "1/1 [==============================] - 0s 9ms/step - loss: 2.9745 - mae: 2.9745\n",
            "Epoch 96/100\n",
            "1/1 [==============================] - 0s 8ms/step - loss: 2.9323 - mae: 2.9323\n",
            "Epoch 97/100\n",
            "1/1 [==============================] - 0s 10ms/step - loss: 2.8872 - mae: 2.8872\n",
            "Epoch 98/100\n",
            "1/1 [==============================] - 0s 8ms/step - loss: 2.8615 - mae: 2.8615\n",
            "Epoch 99/100\n",
            "1/1 [==============================] - 0s 8ms/step - loss: 2.8393 - mae: 2.8393\n",
            "Epoch 100/100\n",
            "1/1 [==============================] - 0s 8ms/step - loss: 2.8144 - mae: 2.8144\n"
          ]
        },
        {
          "output_type": "execute_result",
          "data": {
            "text/plain": [
              "<keras.callbacks.History at 0x7fb4d7c0ae80>"
            ]
          },
          "metadata": {},
          "execution_count": 38
        }
      ]
    },
    {
      "cell_type": "code",
      "source": [
        "model.predict([17.0])"
      ],
      "metadata": {
        "colab": {
          "base_uri": "https://localhost:8080/"
        },
        "id": "q-n-JBoJzP_V",
        "outputId": "e66440ea-3e29-4f6e-e2e6-08611e855fea"
      },
      "execution_count": 39,
      "outputs": [
        {
          "output_type": "stream",
          "name": "stdout",
          "text": [
            "1/1 [==============================] - 0s 124ms/step\n"
          ]
        },
        {
          "output_type": "execute_result",
          "data": {
            "text/plain": [
              "array([[31.05357]], dtype=float32)"
            ]
          },
          "metadata": {},
          "execution_count": 39
        }
      ]
    },
    {
      "cell_type": "markdown",
      "source": [
        "### Another attempt to improve the model"
      ],
      "metadata": {
        "id": "ZP9q6GzxzViF"
      }
    },
    {
      "cell_type": "code",
      "source": [
        "#Create the bigger model\n",
        "model=tf.keras.Sequential([\n",
        "    tf.keras.layers.Dense(100,activation='relu'),\n",
        "    tf.keras.layers.Dense(100,activation='relu'),\n",
        "    tf.keras.layers.Dense(100,activation='relu'),\n",
        "    tf.keras.layers.Dense(1)\n",
        "])\n",
        "\n",
        "#Compile the model\n",
        "model.compile(loss=tf.keras.losses.mae,\n",
        "              optimizer=tf.keras.optimizers.Adam(learning_rate=0.0001),\n",
        "              metrics=['mae'])\n",
        "\n",
        "#Fit the model\n",
        "model.fit(tf.expand_dims(X,axis=-1),y,epochs=300)\n",
        "#model.fit(X,y,epochs=100)"
      ],
      "metadata": {
        "colab": {
          "base_uri": "https://localhost:8080/"
        },
        "id": "u1jrPIe5zect",
        "outputId": "efda5c30-58a9-462c-b7b7-0d91953adbc5"
      },
      "execution_count": 42,
      "outputs": [
        {
          "output_type": "stream",
          "name": "stdout",
          "text": [
            "Epoch 1/300\n",
            "1/1 [==============================] - 2s 2s/step - loss: 12.5636 - mae: 12.5636\n",
            "Epoch 2/300\n",
            "1/1 [==============================] - 0s 23ms/step - loss: 12.5263 - mae: 12.5263\n",
            "Epoch 3/300\n",
            "1/1 [==============================] - 0s 24ms/step - loss: 12.4890 - mae: 12.4890\n",
            "Epoch 4/300\n",
            "1/1 [==============================] - 0s 22ms/step - loss: 12.4520 - mae: 12.4520\n",
            "Epoch 5/300\n",
            "1/1 [==============================] - 0s 13ms/step - loss: 12.4149 - mae: 12.4149\n",
            "Epoch 6/300\n",
            "1/1 [==============================] - 0s 13ms/step - loss: 12.3785 - mae: 12.3785\n",
            "Epoch 7/300\n",
            "1/1 [==============================] - 0s 13ms/step - loss: 12.3422 - mae: 12.3422\n",
            "Epoch 8/300\n",
            "1/1 [==============================] - 0s 16ms/step - loss: 12.3056 - mae: 12.3056\n",
            "Epoch 9/300\n",
            "1/1 [==============================] - 0s 20ms/step - loss: 12.2688 - mae: 12.2688\n",
            "Epoch 10/300\n",
            "1/1 [==============================] - 0s 8ms/step - loss: 12.2318 - mae: 12.2318\n",
            "Epoch 11/300\n",
            "1/1 [==============================] - 0s 22ms/step - loss: 12.1946 - mae: 12.1946\n",
            "Epoch 12/300\n",
            "1/1 [==============================] - 0s 22ms/step - loss: 12.1570 - mae: 12.1570\n",
            "Epoch 13/300\n",
            "1/1 [==============================] - 0s 21ms/step - loss: 12.1193 - mae: 12.1193\n",
            "Epoch 14/300\n",
            "1/1 [==============================] - 0s 20ms/step - loss: 12.0815 - mae: 12.0815\n",
            "Epoch 15/300\n",
            "1/1 [==============================] - 0s 24ms/step - loss: 12.0436 - mae: 12.0436\n",
            "Epoch 16/300\n",
            "1/1 [==============================] - 0s 18ms/step - loss: 12.0056 - mae: 12.0056\n",
            "Epoch 17/300\n",
            "1/1 [==============================] - 0s 20ms/step - loss: 11.9675 - mae: 11.9675\n",
            "Epoch 18/300\n",
            "1/1 [==============================] - 0s 20ms/step - loss: 11.9294 - mae: 11.9294\n",
            "Epoch 19/300\n",
            "1/1 [==============================] - 0s 13ms/step - loss: 11.8915 - mae: 11.8915\n",
            "Epoch 20/300\n",
            "1/1 [==============================] - 0s 20ms/step - loss: 11.8534 - mae: 11.8534\n",
            "Epoch 21/300\n",
            "1/1 [==============================] - 0s 15ms/step - loss: 11.8151 - mae: 11.8151\n",
            "Epoch 22/300\n",
            "1/1 [==============================] - 0s 25ms/step - loss: 11.7766 - mae: 11.7766\n",
            "Epoch 23/300\n",
            "1/1 [==============================] - 0s 13ms/step - loss: 11.7381 - mae: 11.7381\n",
            "Epoch 24/300\n",
            "1/1 [==============================] - 0s 12ms/step - loss: 11.6995 - mae: 11.6995\n",
            "Epoch 25/300\n",
            "1/1 [==============================] - 0s 22ms/step - loss: 11.6609 - mae: 11.6609\n",
            "Epoch 26/300\n",
            "1/1 [==============================] - 0s 20ms/step - loss: 11.6226 - mae: 11.6226\n",
            "Epoch 27/300\n",
            "1/1 [==============================] - 0s 11ms/step - loss: 11.5840 - mae: 11.5840\n",
            "Epoch 28/300\n",
            "1/1 [==============================] - 0s 11ms/step - loss: 11.5451 - mae: 11.5451\n",
            "Epoch 29/300\n",
            "1/1 [==============================] - 0s 11ms/step - loss: 11.5061 - mae: 11.5061\n",
            "Epoch 30/300\n",
            "1/1 [==============================] - 0s 12ms/step - loss: 11.4668 - mae: 11.4668\n",
            "Epoch 31/300\n",
            "1/1 [==============================] - 0s 15ms/step - loss: 11.4274 - mae: 11.4274\n",
            "Epoch 32/300\n",
            "1/1 [==============================] - 0s 16ms/step - loss: 11.3875 - mae: 11.3875\n",
            "Epoch 33/300\n",
            "1/1 [==============================] - 0s 29ms/step - loss: 11.3474 - mae: 11.3474\n",
            "Epoch 34/300\n",
            "1/1 [==============================] - 0s 12ms/step - loss: 11.3069 - mae: 11.3069\n",
            "Epoch 35/300\n",
            "1/1 [==============================] - 0s 16ms/step - loss: 11.2658 - mae: 11.2658\n",
            "Epoch 36/300\n",
            "1/1 [==============================] - 0s 10ms/step - loss: 11.2243 - mae: 11.2243\n",
            "Epoch 37/300\n",
            "1/1 [==============================] - 0s 10ms/step - loss: 11.1821 - mae: 11.1821\n",
            "Epoch 38/300\n",
            "1/1 [==============================] - 0s 12ms/step - loss: 11.1397 - mae: 11.1397\n",
            "Epoch 39/300\n",
            "1/1 [==============================] - 0s 14ms/step - loss: 11.0970 - mae: 11.0970\n",
            "Epoch 40/300\n",
            "1/1 [==============================] - 0s 7ms/step - loss: 11.0541 - mae: 11.0541\n",
            "Epoch 41/300\n",
            "1/1 [==============================] - 0s 9ms/step - loss: 11.0109 - mae: 11.0109\n",
            "Epoch 42/300\n",
            "1/1 [==============================] - 0s 8ms/step - loss: 10.9671 - mae: 10.9671\n",
            "Epoch 43/300\n",
            "1/1 [==============================] - 0s 9ms/step - loss: 10.9305 - mae: 10.9305\n",
            "Epoch 44/300\n",
            "1/1 [==============================] - 0s 9ms/step - loss: 10.8996 - mae: 10.8996\n",
            "Epoch 45/300\n",
            "1/1 [==============================] - 0s 9ms/step - loss: 10.8687 - mae: 10.8687\n",
            "Epoch 46/300\n",
            "1/1 [==============================] - 0s 9ms/step - loss: 10.8377 - mae: 10.8377\n",
            "Epoch 47/300\n",
            "1/1 [==============================] - 0s 9ms/step - loss: 10.8068 - mae: 10.8068\n",
            "Epoch 48/300\n",
            "1/1 [==============================] - 0s 9ms/step - loss: 10.7759 - mae: 10.7759\n",
            "Epoch 49/300\n",
            "1/1 [==============================] - 0s 8ms/step - loss: 10.7446 - mae: 10.7446\n",
            "Epoch 50/300\n",
            "1/1 [==============================] - 0s 8ms/step - loss: 10.7130 - mae: 10.7130\n",
            "Epoch 51/300\n",
            "1/1 [==============================] - 0s 9ms/step - loss: 10.6810 - mae: 10.6810\n",
            "Epoch 52/300\n",
            "1/1 [==============================] - 0s 9ms/step - loss: 10.6486 - mae: 10.6486\n",
            "Epoch 53/300\n",
            "1/1 [==============================] - 0s 9ms/step - loss: 10.6160 - mae: 10.6160\n",
            "Epoch 54/300\n",
            "1/1 [==============================] - 0s 8ms/step - loss: 10.5830 - mae: 10.5830\n",
            "Epoch 55/300\n",
            "1/1 [==============================] - 0s 9ms/step - loss: 10.5500 - mae: 10.5500\n",
            "Epoch 56/300\n",
            "1/1 [==============================] - 0s 9ms/step - loss: 10.5167 - mae: 10.5167\n",
            "Epoch 57/300\n",
            "1/1 [==============================] - 0s 9ms/step - loss: 10.4831 - mae: 10.4831\n",
            "Epoch 58/300\n",
            "1/1 [==============================] - 0s 9ms/step - loss: 10.4495 - mae: 10.4495\n",
            "Epoch 59/300\n",
            "1/1 [==============================] - 0s 9ms/step - loss: 10.4157 - mae: 10.4157\n",
            "Epoch 60/300\n",
            "1/1 [==============================] - 0s 9ms/step - loss: 10.3814 - mae: 10.3814\n",
            "Epoch 61/300\n",
            "1/1 [==============================] - 0s 9ms/step - loss: 10.3468 - mae: 10.3468\n",
            "Epoch 62/300\n",
            "1/1 [==============================] - 0s 10ms/step - loss: 10.3120 - mae: 10.3120\n",
            "Epoch 63/300\n",
            "1/1 [==============================] - 0s 9ms/step - loss: 10.2769 - mae: 10.2769\n",
            "Epoch 64/300\n",
            "1/1 [==============================] - 0s 9ms/step - loss: 10.2414 - mae: 10.2414\n",
            "Epoch 65/300\n",
            "1/1 [==============================] - 0s 9ms/step - loss: 10.2057 - mae: 10.2057\n",
            "Epoch 66/300\n",
            "1/1 [==============================] - 0s 8ms/step - loss: 10.1697 - mae: 10.1697\n",
            "Epoch 67/300\n",
            "1/1 [==============================] - 0s 9ms/step - loss: 10.1333 - mae: 10.1333\n",
            "Epoch 68/300\n",
            "1/1 [==============================] - 0s 9ms/step - loss: 10.0965 - mae: 10.0965\n",
            "Epoch 69/300\n",
            "1/1 [==============================] - 0s 9ms/step - loss: 10.0594 - mae: 10.0594\n",
            "Epoch 70/300\n",
            "1/1 [==============================] - 0s 9ms/step - loss: 10.0219 - mae: 10.0219\n",
            "Epoch 71/300\n",
            "1/1 [==============================] - 0s 9ms/step - loss: 9.9840 - mae: 9.9840\n",
            "Epoch 72/300\n",
            "1/1 [==============================] - 0s 9ms/step - loss: 9.9457 - mae: 9.9457\n",
            "Epoch 73/300\n",
            "1/1 [==============================] - 0s 9ms/step - loss: 9.9073 - mae: 9.9073\n",
            "Epoch 74/300\n",
            "1/1 [==============================] - 0s 9ms/step - loss: 9.8685 - mae: 9.8685\n",
            "Epoch 75/300\n",
            "1/1 [==============================] - 0s 9ms/step - loss: 9.8292 - mae: 9.8292\n",
            "Epoch 76/300\n",
            "1/1 [==============================] - 0s 9ms/step - loss: 9.7896 - mae: 9.7896\n",
            "Epoch 77/300\n",
            "1/1 [==============================] - 0s 9ms/step - loss: 9.7495 - mae: 9.7495\n",
            "Epoch 78/300\n",
            "1/1 [==============================] - 0s 9ms/step - loss: 9.7089 - mae: 9.7089\n",
            "Epoch 79/300\n",
            "1/1 [==============================] - 0s 9ms/step - loss: 9.6681 - mae: 9.6681\n",
            "Epoch 80/300\n",
            "1/1 [==============================] - 0s 9ms/step - loss: 9.6270 - mae: 9.6270\n",
            "Epoch 81/300\n",
            "1/1 [==============================] - 0s 10ms/step - loss: 9.5858 - mae: 9.5858\n",
            "Epoch 82/300\n",
            "1/1 [==============================] - 0s 10ms/step - loss: 9.5443 - mae: 9.5443\n",
            "Epoch 83/300\n",
            "1/1 [==============================] - 0s 9ms/step - loss: 9.5024 - mae: 9.5024\n",
            "Epoch 84/300\n",
            "1/1 [==============================] - 0s 9ms/step - loss: 9.4601 - mae: 9.4601\n",
            "Epoch 85/300\n",
            "1/1 [==============================] - 0s 9ms/step - loss: 9.4174 - mae: 9.4174\n",
            "Epoch 86/300\n",
            "1/1 [==============================] - 0s 9ms/step - loss: 9.3741 - mae: 9.3741\n",
            "Epoch 87/300\n",
            "1/1 [==============================] - 0s 9ms/step - loss: 9.3305 - mae: 9.3305\n",
            "Epoch 88/300\n",
            "1/1 [==============================] - 0s 9ms/step - loss: 9.2864 - mae: 9.2864\n",
            "Epoch 89/300\n",
            "1/1 [==============================] - 0s 9ms/step - loss: 9.2419 - mae: 9.2419\n",
            "Epoch 90/300\n",
            "1/1 [==============================] - 0s 9ms/step - loss: 9.1970 - mae: 9.1970\n",
            "Epoch 91/300\n",
            "1/1 [==============================] - 0s 9ms/step - loss: 9.1516 - mae: 9.1516\n",
            "Epoch 92/300\n",
            "1/1 [==============================] - 0s 9ms/step - loss: 9.1057 - mae: 9.1057\n",
            "Epoch 93/300\n",
            "1/1 [==============================] - 0s 9ms/step - loss: 9.0594 - mae: 9.0594\n",
            "Epoch 94/300\n",
            "1/1 [==============================] - 0s 9ms/step - loss: 9.0126 - mae: 9.0126\n",
            "Epoch 95/300\n",
            "1/1 [==============================] - 0s 9ms/step - loss: 8.9653 - mae: 8.9653\n",
            "Epoch 96/300\n",
            "1/1 [==============================] - 0s 9ms/step - loss: 8.9176 - mae: 8.9176\n",
            "Epoch 97/300\n",
            "1/1 [==============================] - 0s 9ms/step - loss: 8.8694 - mae: 8.8694\n",
            "Epoch 98/300\n",
            "1/1 [==============================] - 0s 9ms/step - loss: 8.8209 - mae: 8.8209\n",
            "Epoch 99/300\n",
            "1/1 [==============================] - 0s 9ms/step - loss: 8.7727 - mae: 8.7727\n",
            "Epoch 100/300\n",
            "1/1 [==============================] - 0s 9ms/step - loss: 8.7242 - mae: 8.7242\n",
            "Epoch 101/300\n",
            "1/1 [==============================] - 0s 9ms/step - loss: 8.6753 - mae: 8.6753\n",
            "Epoch 102/300\n",
            "1/1 [==============================] - 0s 9ms/step - loss: 8.6258 - mae: 8.6258\n",
            "Epoch 103/300\n",
            "1/1 [==============================] - 0s 11ms/step - loss: 8.5757 - mae: 8.5757\n",
            "Epoch 104/300\n",
            "1/1 [==============================] - 0s 9ms/step - loss: 8.5251 - mae: 8.5251\n",
            "Epoch 105/300\n",
            "1/1 [==============================] - 0s 9ms/step - loss: 8.4740 - mae: 8.4740\n",
            "Epoch 106/300\n",
            "1/1 [==============================] - 0s 9ms/step - loss: 8.4225 - mae: 8.4225\n",
            "Epoch 107/300\n",
            "1/1 [==============================] - 0s 10ms/step - loss: 8.3707 - mae: 8.3707\n",
            "Epoch 108/300\n",
            "1/1 [==============================] - 0s 10ms/step - loss: 8.3184 - mae: 8.3184\n",
            "Epoch 109/300\n",
            "1/1 [==============================] - 0s 9ms/step - loss: 8.2656 - mae: 8.2656\n",
            "Epoch 110/300\n",
            "1/1 [==============================] - 0s 9ms/step - loss: 8.2122 - mae: 8.2122\n",
            "Epoch 111/300\n",
            "1/1 [==============================] - 0s 9ms/step - loss: 8.1582 - mae: 8.1582\n",
            "Epoch 112/300\n",
            "1/1 [==============================] - 0s 9ms/step - loss: 8.1036 - mae: 8.1036\n",
            "Epoch 113/300\n",
            "1/1 [==============================] - 0s 9ms/step - loss: 8.0484 - mae: 8.0484\n",
            "Epoch 114/300\n",
            "1/1 [==============================] - 0s 9ms/step - loss: 7.9927 - mae: 7.9927\n",
            "Epoch 115/300\n",
            "1/1 [==============================] - 0s 9ms/step - loss: 7.9362 - mae: 7.9362\n",
            "Epoch 116/300\n",
            "1/1 [==============================] - 0s 9ms/step - loss: 7.8790 - mae: 7.8790\n",
            "Epoch 117/300\n",
            "1/1 [==============================] - 0s 9ms/step - loss: 7.8210 - mae: 7.8210\n",
            "Epoch 118/300\n",
            "1/1 [==============================] - 0s 9ms/step - loss: 7.7625 - mae: 7.7625\n",
            "Epoch 119/300\n",
            "1/1 [==============================] - 0s 8ms/step - loss: 7.7034 - mae: 7.7034\n",
            "Epoch 120/300\n",
            "1/1 [==============================] - 0s 10ms/step - loss: 7.6434 - mae: 7.6434\n",
            "Epoch 121/300\n",
            "1/1 [==============================] - 0s 9ms/step - loss: 7.5830 - mae: 7.5830\n",
            "Epoch 122/300\n",
            "1/1 [==============================] - 0s 9ms/step - loss: 7.5219 - mae: 7.5219\n",
            "Epoch 123/300\n",
            "1/1 [==============================] - 0s 9ms/step - loss: 7.4604 - mae: 7.4604\n",
            "Epoch 124/300\n",
            "1/1 [==============================] - 0s 9ms/step - loss: 7.3982 - mae: 7.3982\n",
            "Epoch 125/300\n",
            "1/1 [==============================] - 0s 9ms/step - loss: 7.3355 - mae: 7.3355\n",
            "Epoch 126/300\n",
            "1/1 [==============================] - 0s 8ms/step - loss: 7.2720 - mae: 7.2720\n",
            "Epoch 127/300\n",
            "1/1 [==============================] - 0s 8ms/step - loss: 7.2080 - mae: 7.2080\n",
            "Epoch 128/300\n",
            "1/1 [==============================] - 0s 9ms/step - loss: 7.1433 - mae: 7.1433\n",
            "Epoch 129/300\n",
            "1/1 [==============================] - 0s 9ms/step - loss: 7.0779 - mae: 7.0779\n",
            "Epoch 130/300\n",
            "1/1 [==============================] - 0s 9ms/step - loss: 7.0117 - mae: 7.0117\n",
            "Epoch 131/300\n",
            "1/1 [==============================] - 0s 9ms/step - loss: 6.9449 - mae: 6.9449\n",
            "Epoch 132/300\n",
            "1/1 [==============================] - 0s 9ms/step - loss: 6.8775 - mae: 6.8775\n",
            "Epoch 133/300\n",
            "1/1 [==============================] - 0s 9ms/step - loss: 6.8094 - mae: 6.8094\n",
            "Epoch 134/300\n",
            "1/1 [==============================] - 0s 9ms/step - loss: 6.7407 - mae: 6.7407\n",
            "Epoch 135/300\n",
            "1/1 [==============================] - 0s 9ms/step - loss: 6.6714 - mae: 6.6714\n",
            "Epoch 136/300\n",
            "1/1 [==============================] - 0s 9ms/step - loss: 6.6013 - mae: 6.6013\n",
            "Epoch 137/300\n",
            "1/1 [==============================] - 0s 9ms/step - loss: 6.5305 - mae: 6.5305\n",
            "Epoch 138/300\n",
            "1/1 [==============================] - 0s 9ms/step - loss: 6.4589 - mae: 6.4589\n",
            "Epoch 139/300\n",
            "1/1 [==============================] - 0s 9ms/step - loss: 6.3867 - mae: 6.3867\n",
            "Epoch 140/300\n",
            "1/1 [==============================] - 0s 9ms/step - loss: 6.3138 - mae: 6.3138\n",
            "Epoch 141/300\n",
            "1/1 [==============================] - 0s 9ms/step - loss: 6.2402 - mae: 6.2402\n",
            "Epoch 142/300\n",
            "1/1 [==============================] - 0s 9ms/step - loss: 6.1660 - mae: 6.1660\n",
            "Epoch 143/300\n",
            "1/1 [==============================] - 0s 8ms/step - loss: 6.0909 - mae: 6.0909\n",
            "Epoch 144/300\n",
            "1/1 [==============================] - 0s 9ms/step - loss: 6.0151 - mae: 6.0151\n",
            "Epoch 145/300\n",
            "1/1 [==============================] - 0s 9ms/step - loss: 5.9385 - mae: 5.9385\n",
            "Epoch 146/300\n",
            "1/1 [==============================] - 0s 9ms/step - loss: 5.8612 - mae: 5.8612\n",
            "Epoch 147/300\n",
            "1/1 [==============================] - 0s 9ms/step - loss: 5.7830 - mae: 5.7830\n",
            "Epoch 148/300\n",
            "1/1 [==============================] - 0s 8ms/step - loss: 5.7041 - mae: 5.7041\n",
            "Epoch 149/300\n",
            "1/1 [==============================] - 0s 9ms/step - loss: 5.6243 - mae: 5.6243\n",
            "Epoch 150/300\n",
            "1/1 [==============================] - 0s 9ms/step - loss: 5.5425 - mae: 5.5425\n",
            "Epoch 151/300\n",
            "1/1 [==============================] - 0s 9ms/step - loss: 5.4592 - mae: 5.4592\n",
            "Epoch 152/300\n",
            "1/1 [==============================] - 0s 9ms/step - loss: 5.3747 - mae: 5.3747\n",
            "Epoch 153/300\n",
            "1/1 [==============================] - 0s 9ms/step - loss: 5.2890 - mae: 5.2890\n",
            "Epoch 154/300\n",
            "1/1 [==============================] - 0s 9ms/step - loss: 5.2022 - mae: 5.2022\n",
            "Epoch 155/300\n",
            "1/1 [==============================] - 0s 9ms/step - loss: 5.1144 - mae: 5.1144\n",
            "Epoch 156/300\n",
            "1/1 [==============================] - 0s 9ms/step - loss: 5.0256 - mae: 5.0256\n",
            "Epoch 157/300\n",
            "1/1 [==============================] - 0s 9ms/step - loss: 4.9358 - mae: 4.9358\n",
            "Epoch 158/300\n",
            "1/1 [==============================] - 0s 9ms/step - loss: 4.8450 - mae: 4.8450\n",
            "Epoch 159/300\n",
            "1/1 [==============================] - 0s 9ms/step - loss: 4.7533 - mae: 4.7533\n",
            "Epoch 160/300\n",
            "1/1 [==============================] - 0s 9ms/step - loss: 4.6604 - mae: 4.6604\n",
            "Epoch 161/300\n",
            "1/1 [==============================] - 0s 9ms/step - loss: 4.5666 - mae: 4.5666\n",
            "Epoch 162/300\n",
            "1/1 [==============================] - 0s 8ms/step - loss: 4.4721 - mae: 4.4721\n",
            "Epoch 163/300\n",
            "1/1 [==============================] - 0s 9ms/step - loss: 4.3766 - mae: 4.3766\n",
            "Epoch 164/300\n",
            "1/1 [==============================] - 0s 9ms/step - loss: 4.2801 - mae: 4.2801\n",
            "Epoch 165/300\n",
            "1/1 [==============================] - 0s 9ms/step - loss: 4.1828 - mae: 4.1828\n",
            "Epoch 166/300\n",
            "1/1 [==============================] - 0s 9ms/step - loss: 4.1188 - mae: 4.1188\n",
            "Epoch 167/300\n",
            "1/1 [==============================] - 0s 9ms/step - loss: 4.0894 - mae: 4.0894\n",
            "Epoch 168/300\n",
            "1/1 [==============================] - 0s 9ms/step - loss: 4.0615 - mae: 4.0615\n",
            "Epoch 169/300\n",
            "1/1 [==============================] - 0s 9ms/step - loss: 4.0349 - mae: 4.0349\n",
            "Epoch 170/300\n",
            "1/1 [==============================] - 0s 8ms/step - loss: 4.0096 - mae: 4.0096\n",
            "Epoch 171/300\n",
            "1/1 [==============================] - 0s 9ms/step - loss: 3.9856 - mae: 3.9856\n",
            "Epoch 172/300\n",
            "1/1 [==============================] - 0s 9ms/step - loss: 3.9624 - mae: 3.9624\n",
            "Epoch 173/300\n",
            "1/1 [==============================] - 0s 8ms/step - loss: 3.9403 - mae: 3.9403\n",
            "Epoch 174/300\n",
            "1/1 [==============================] - 0s 9ms/step - loss: 3.9190 - mae: 3.9190\n",
            "Epoch 175/300\n",
            "1/1 [==============================] - 0s 9ms/step - loss: 3.8983 - mae: 3.8983\n",
            "Epoch 176/300\n",
            "1/1 [==============================] - 0s 8ms/step - loss: 3.8783 - mae: 3.8783\n",
            "Epoch 177/300\n",
            "1/1 [==============================] - 0s 8ms/step - loss: 3.8589 - mae: 3.8589\n",
            "Epoch 178/300\n",
            "1/1 [==============================] - 0s 8ms/step - loss: 3.8401 - mae: 3.8401\n",
            "Epoch 179/300\n",
            "1/1 [==============================] - 0s 8ms/step - loss: 3.8332 - mae: 3.8332\n",
            "Epoch 180/300\n",
            "1/1 [==============================] - 0s 8ms/step - loss: 3.8428 - mae: 3.8428\n",
            "Epoch 181/300\n",
            "1/1 [==============================] - 0s 8ms/step - loss: 3.8505 - mae: 3.8505\n",
            "Epoch 182/300\n",
            "1/1 [==============================] - 0s 8ms/step - loss: 3.8565 - mae: 3.8565\n",
            "Epoch 183/300\n",
            "1/1 [==============================] - 0s 13ms/step - loss: 3.8609 - mae: 3.8609\n",
            "Epoch 184/300\n",
            "1/1 [==============================] - 0s 10ms/step - loss: 3.8640 - mae: 3.8640\n",
            "Epoch 185/300\n",
            "1/1 [==============================] - 0s 8ms/step - loss: 3.8659 - mae: 3.8659\n",
            "Epoch 186/300\n",
            "1/1 [==============================] - 0s 8ms/step - loss: 3.8666 - mae: 3.8666\n",
            "Epoch 187/300\n",
            "1/1 [==============================] - 0s 8ms/step - loss: 3.8663 - mae: 3.8663\n",
            "Epoch 188/300\n",
            "1/1 [==============================] - 0s 11ms/step - loss: 3.8650 - mae: 3.8650\n",
            "Epoch 189/300\n",
            "1/1 [==============================] - 0s 12ms/step - loss: 3.8630 - mae: 3.8630\n",
            "Epoch 190/300\n",
            "1/1 [==============================] - 0s 9ms/step - loss: 3.8601 - mae: 3.8601\n",
            "Epoch 191/300\n",
            "1/1 [==============================] - 0s 12ms/step - loss: 3.8566 - mae: 3.8566\n",
            "Epoch 192/300\n",
            "1/1 [==============================] - 0s 11ms/step - loss: 3.8525 - mae: 3.8525\n",
            "Epoch 193/300\n",
            "1/1 [==============================] - 0s 10ms/step - loss: 3.8479 - mae: 3.8479\n",
            "Epoch 194/300\n",
            "1/1 [==============================] - 0s 8ms/step - loss: 3.8428 - mae: 3.8428\n",
            "Epoch 195/300\n",
            "1/1 [==============================] - 0s 10ms/step - loss: 3.8372 - mae: 3.8372\n",
            "Epoch 196/300\n",
            "1/1 [==============================] - 0s 10ms/step - loss: 3.8312 - mae: 3.8312\n",
            "Epoch 197/300\n",
            "1/1 [==============================] - 0s 15ms/step - loss: 3.8251 - mae: 3.8251\n",
            "Epoch 198/300\n",
            "1/1 [==============================] - 0s 14ms/step - loss: 3.8195 - mae: 3.8195\n",
            "Epoch 199/300\n",
            "1/1 [==============================] - 0s 9ms/step - loss: 3.8129 - mae: 3.8129\n",
            "Epoch 200/300\n",
            "1/1 [==============================] - 0s 9ms/step - loss: 3.8067 - mae: 3.8067\n",
            "Epoch 201/300\n",
            "1/1 [==============================] - 0s 7ms/step - loss: 3.8006 - mae: 3.8006\n",
            "Epoch 202/300\n",
            "1/1 [==============================] - 0s 10ms/step - loss: 3.8056 - mae: 3.8056\n",
            "Epoch 203/300\n",
            "1/1 [==============================] - 0s 9ms/step - loss: 3.8086 - mae: 3.8086\n",
            "Epoch 204/300\n",
            "1/1 [==============================] - 0s 14ms/step - loss: 3.8097 - mae: 3.8097\n",
            "Epoch 205/300\n",
            "1/1 [==============================] - 0s 8ms/step - loss: 3.8091 - mae: 3.8091\n",
            "Epoch 206/300\n",
            "1/1 [==============================] - 0s 8ms/step - loss: 3.8070 - mae: 3.8070\n",
            "Epoch 207/300\n",
            "1/1 [==============================] - 0s 8ms/step - loss: 3.8035 - mae: 3.8035\n",
            "Epoch 208/300\n",
            "1/1 [==============================] - 0s 8ms/step - loss: 3.7988 - mae: 3.7988\n",
            "Epoch 209/300\n",
            "1/1 [==============================] - 0s 8ms/step - loss: 3.7940 - mae: 3.7940\n",
            "Epoch 210/300\n",
            "1/1 [==============================] - 0s 8ms/step - loss: 3.7951 - mae: 3.7951\n",
            "Epoch 211/300\n",
            "1/1 [==============================] - 0s 8ms/step - loss: 3.7972 - mae: 3.7972\n",
            "Epoch 212/300\n",
            "1/1 [==============================] - 0s 9ms/step - loss: 3.7953 - mae: 3.7953\n",
            "Epoch 213/300\n",
            "1/1 [==============================] - 0s 11ms/step - loss: 3.7947 - mae: 3.7947\n",
            "Epoch 214/300\n",
            "1/1 [==============================] - 0s 9ms/step - loss: 3.7934 - mae: 3.7934\n",
            "Epoch 215/300\n",
            "1/1 [==============================] - 0s 8ms/step - loss: 3.7913 - mae: 3.7913\n",
            "Epoch 216/300\n",
            "1/1 [==============================] - 0s 11ms/step - loss: 3.7908 - mae: 3.7908\n",
            "Epoch 217/300\n",
            "1/1 [==============================] - 0s 13ms/step - loss: 3.7917 - mae: 3.7917\n",
            "Epoch 218/300\n",
            "1/1 [==============================] - 0s 12ms/step - loss: 3.7909 - mae: 3.7909\n",
            "Epoch 219/300\n",
            "1/1 [==============================] - 0s 12ms/step - loss: 3.7887 - mae: 3.7887\n",
            "Epoch 220/300\n",
            "1/1 [==============================] - 0s 13ms/step - loss: 3.7875 - mae: 3.7875\n",
            "Epoch 221/300\n",
            "1/1 [==============================] - 0s 9ms/step - loss: 3.7876 - mae: 3.7876\n",
            "Epoch 222/300\n",
            "1/1 [==============================] - 0s 11ms/step - loss: 3.7867 - mae: 3.7867\n",
            "Epoch 223/300\n",
            "1/1 [==============================] - 0s 12ms/step - loss: 3.7849 - mae: 3.7849\n",
            "Epoch 224/300\n",
            "1/1 [==============================] - 0s 10ms/step - loss: 3.7822 - mae: 3.7822\n",
            "Epoch 225/300\n",
            "1/1 [==============================] - 0s 11ms/step - loss: 3.7837 - mae: 3.7837\n",
            "Epoch 226/300\n",
            "1/1 [==============================] - 0s 12ms/step - loss: 3.7836 - mae: 3.7836\n",
            "Epoch 227/300\n",
            "1/1 [==============================] - 0s 8ms/step - loss: 3.7841 - mae: 3.7841\n",
            "Epoch 228/300\n",
            "1/1 [==============================] - 0s 9ms/step - loss: 3.7802 - mae: 3.7802\n",
            "Epoch 229/300\n",
            "1/1 [==============================] - 0s 10ms/step - loss: 3.7789 - mae: 3.7789\n",
            "Epoch 230/300\n",
            "1/1 [==============================] - 0s 8ms/step - loss: 3.7800 - mae: 3.7800\n",
            "Epoch 231/300\n",
            "1/1 [==============================] - 0s 9ms/step - loss: 3.7800 - mae: 3.7800\n",
            "Epoch 232/300\n",
            "1/1 [==============================] - 0s 11ms/step - loss: 3.7790 - mae: 3.7790\n",
            "Epoch 233/300\n",
            "1/1 [==============================] - 0s 8ms/step - loss: 3.7770 - mae: 3.7770\n",
            "Epoch 234/300\n",
            "1/1 [==============================] - 0s 12ms/step - loss: 3.7756 - mae: 3.7756\n",
            "Epoch 235/300\n",
            "1/1 [==============================] - 0s 7ms/step - loss: 3.7757 - mae: 3.7757\n",
            "Epoch 236/300\n",
            "1/1 [==============================] - 0s 8ms/step - loss: 3.7741 - mae: 3.7741\n",
            "Epoch 237/300\n",
            "1/1 [==============================] - 0s 7ms/step - loss: 3.7728 - mae: 3.7728\n",
            "Epoch 238/300\n",
            "1/1 [==============================] - 0s 7ms/step - loss: 3.7723 - mae: 3.7723\n",
            "Epoch 239/300\n",
            "1/1 [==============================] - 0s 7ms/step - loss: 3.7708 - mae: 3.7708\n",
            "Epoch 240/300\n",
            "1/1 [==============================] - 0s 8ms/step - loss: 3.7689 - mae: 3.7689\n",
            "Epoch 241/300\n",
            "1/1 [==============================] - 0s 8ms/step - loss: 3.7676 - mae: 3.7676\n",
            "Epoch 242/300\n",
            "1/1 [==============================] - 0s 8ms/step - loss: 3.7680 - mae: 3.7680\n",
            "Epoch 243/300\n",
            "1/1 [==============================] - 0s 8ms/step - loss: 3.7668 - mae: 3.7668\n",
            "Epoch 244/300\n",
            "1/1 [==============================] - 0s 8ms/step - loss: 3.7655 - mae: 3.7655\n",
            "Epoch 245/300\n",
            "1/1 [==============================] - 0s 9ms/step - loss: 3.7647 - mae: 3.7647\n",
            "Epoch 246/300\n",
            "1/1 [==============================] - 0s 8ms/step - loss: 3.7639 - mae: 3.7639\n",
            "Epoch 247/300\n",
            "1/1 [==============================] - 0s 8ms/step - loss: 3.7630 - mae: 3.7630\n",
            "Epoch 248/300\n",
            "1/1 [==============================] - 0s 9ms/step - loss: 3.7627 - mae: 3.7627\n",
            "Epoch 249/300\n",
            "1/1 [==============================] - 0s 12ms/step - loss: 3.7615 - mae: 3.7615\n",
            "Epoch 250/300\n",
            "1/1 [==============================] - 0s 8ms/step - loss: 3.7612 - mae: 3.7612\n",
            "Epoch 251/300\n",
            "1/1 [==============================] - 0s 8ms/step - loss: 3.7600 - mae: 3.7600\n",
            "Epoch 252/300\n",
            "1/1 [==============================] - 0s 9ms/step - loss: 3.7606 - mae: 3.7606\n",
            "Epoch 253/300\n",
            "1/1 [==============================] - 0s 9ms/step - loss: 3.7595 - mae: 3.7595\n",
            "Epoch 254/300\n",
            "1/1 [==============================] - 0s 8ms/step - loss: 3.7569 - mae: 3.7569\n",
            "Epoch 255/300\n",
            "1/1 [==============================] - 0s 8ms/step - loss: 3.7579 - mae: 3.7579\n",
            "Epoch 256/300\n",
            "1/1 [==============================] - 0s 9ms/step - loss: 3.7577 - mae: 3.7577\n",
            "Epoch 257/300\n",
            "1/1 [==============================] - 0s 9ms/step - loss: 3.7578 - mae: 3.7578\n",
            "Epoch 258/300\n",
            "1/1 [==============================] - 0s 7ms/step - loss: 3.7549 - mae: 3.7549\n",
            "Epoch 259/300\n",
            "1/1 [==============================] - 0s 9ms/step - loss: 3.7528 - mae: 3.7528\n",
            "Epoch 260/300\n",
            "1/1 [==============================] - 0s 9ms/step - loss: 3.7511 - mae: 3.7511\n",
            "Epoch 261/300\n",
            "1/1 [==============================] - 0s 9ms/step - loss: 3.7511 - mae: 3.7511\n",
            "Epoch 262/300\n",
            "1/1 [==============================] - 0s 8ms/step - loss: 3.7501 - mae: 3.7501\n",
            "Epoch 263/300\n",
            "1/1 [==============================] - 0s 8ms/step - loss: 3.7494 - mae: 3.7494\n",
            "Epoch 264/300\n",
            "1/1 [==============================] - 0s 9ms/step - loss: 3.7497 - mae: 3.7497\n",
            "Epoch 265/300\n",
            "1/1 [==============================] - 0s 9ms/step - loss: 3.7488 - mae: 3.7488\n",
            "Epoch 266/300\n",
            "1/1 [==============================] - 0s 8ms/step - loss: 3.7468 - mae: 3.7468\n",
            "Epoch 267/300\n",
            "1/1 [==============================] - 0s 9ms/step - loss: 3.7467 - mae: 3.7467\n",
            "Epoch 268/300\n",
            "1/1 [==============================] - 0s 8ms/step - loss: 3.7465 - mae: 3.7465\n",
            "Epoch 269/300\n",
            "1/1 [==============================] - 0s 8ms/step - loss: 3.7445 - mae: 3.7445\n",
            "Epoch 270/300\n",
            "1/1 [==============================] - 0s 9ms/step - loss: 3.7429 - mae: 3.7429\n",
            "Epoch 271/300\n",
            "1/1 [==============================] - 0s 9ms/step - loss: 3.7425 - mae: 3.7425\n",
            "Epoch 272/300\n",
            "1/1 [==============================] - 0s 8ms/step - loss: 3.7425 - mae: 3.7425\n",
            "Epoch 273/300\n",
            "1/1 [==============================] - 0s 8ms/step - loss: 3.7394 - mae: 3.7394\n",
            "Epoch 274/300\n",
            "1/1 [==============================] - 0s 9ms/step - loss: 3.7402 - mae: 3.7402\n",
            "Epoch 275/300\n",
            "1/1 [==============================] - 0s 9ms/step - loss: 3.7400 - mae: 3.7400\n",
            "Epoch 276/300\n",
            "1/1 [==============================] - 0s 8ms/step - loss: 3.7379 - mae: 3.7379\n",
            "Epoch 277/300\n",
            "1/1 [==============================] - 0s 8ms/step - loss: 3.7364 - mae: 3.7364\n",
            "Epoch 278/300\n",
            "1/1 [==============================] - 0s 9ms/step - loss: 3.7370 - mae: 3.7370\n",
            "Epoch 279/300\n",
            "1/1 [==============================] - 0s 9ms/step - loss: 3.7357 - mae: 3.7357\n",
            "Epoch 280/300\n",
            "1/1 [==============================] - 0s 8ms/step - loss: 3.7341 - mae: 3.7341\n",
            "Epoch 281/300\n",
            "1/1 [==============================] - 0s 8ms/step - loss: 3.7339 - mae: 3.7339\n",
            "Epoch 282/300\n",
            "1/1 [==============================] - 0s 8ms/step - loss: 3.7336 - mae: 3.7336\n",
            "Epoch 283/300\n",
            "1/1 [==============================] - 0s 9ms/step - loss: 3.7315 - mae: 3.7315\n",
            "Epoch 284/300\n",
            "1/1 [==============================] - 0s 10ms/step - loss: 3.7314 - mae: 3.7314\n",
            "Epoch 285/300\n",
            "1/1 [==============================] - 0s 8ms/step - loss: 3.7312 - mae: 3.7312\n",
            "Epoch 286/300\n",
            "1/1 [==============================] - 0s 11ms/step - loss: 3.7299 - mae: 3.7299\n",
            "Epoch 287/300\n",
            "1/1 [==============================] - 0s 9ms/step - loss: 3.7290 - mae: 3.7290\n",
            "Epoch 288/300\n",
            "1/1 [==============================] - 0s 8ms/step - loss: 3.7264 - mae: 3.7264\n",
            "Epoch 289/300\n",
            "1/1 [==============================] - 0s 9ms/step - loss: 3.7261 - mae: 3.7261\n",
            "Epoch 290/300\n",
            "1/1 [==============================] - 0s 9ms/step - loss: 3.7242 - mae: 3.7242\n",
            "Epoch 291/300\n",
            "1/1 [==============================] - 0s 9ms/step - loss: 3.7232 - mae: 3.7232\n",
            "Epoch 292/300\n",
            "1/1 [==============================] - 0s 7ms/step - loss: 3.7236 - mae: 3.7236\n",
            "Epoch 293/300\n",
            "1/1 [==============================] - 0s 10ms/step - loss: 3.7222 - mae: 3.7222\n",
            "Epoch 294/300\n",
            "1/1 [==============================] - 0s 8ms/step - loss: 3.7216 - mae: 3.7216\n",
            "Epoch 295/300\n",
            "1/1 [==============================] - 0s 9ms/step - loss: 3.7216 - mae: 3.7216\n",
            "Epoch 296/300\n",
            "1/1 [==============================] - 0s 8ms/step - loss: 3.7204 - mae: 3.7204\n",
            "Epoch 297/300\n",
            "1/1 [==============================] - 0s 18ms/step - loss: 3.7186 - mae: 3.7186\n",
            "Epoch 298/300\n",
            "1/1 [==============================] - 0s 8ms/step - loss: 3.7176 - mae: 3.7176\n",
            "Epoch 299/300\n",
            "1/1 [==============================] - 0s 8ms/step - loss: 3.7176 - mae: 3.7176\n",
            "Epoch 300/300\n",
            "1/1 [==============================] - 0s 8ms/step - loss: 3.7167 - mae: 3.7167\n"
          ]
        },
        {
          "output_type": "execute_result",
          "data": {
            "text/plain": [
              "<keras.callbacks.History at 0x7fb4d4368730>"
            ]
          },
          "metadata": {},
          "execution_count": 42
        }
      ]
    },
    {
      "cell_type": "code",
      "source": [
        "model.predict([17.0])"
      ],
      "metadata": {
        "colab": {
          "base_uri": "https://localhost:8080/"
        },
        "id": "GV5roSHizfeV",
        "outputId": "5ed93998-bdfd-4fac-e5ac-1e746beac40b"
      },
      "execution_count": 43,
      "outputs": [
        {
          "output_type": "stream",
          "name": "stderr",
          "text": [
            "WARNING:tensorflow:6 out of the last 7 calls to <function Model.make_predict_function.<locals>.predict_function at 0x7fb4d64edc10> triggered tf.function retracing. Tracing is expensive and the excessive number of tracings could be due to (1) creating @tf.function repeatedly in a loop, (2) passing tensors with different shapes, (3) passing Python objects instead of tensors. For (1), please define your @tf.function outside of the loop. For (2), @tf.function has reduce_retracing=True option that can avoid unnecessary retracing. For (3), please refer to https://www.tensorflow.org/guide/function#controlling_retracing and https://www.tensorflow.org/api_docs/python/tf/function for  more details.\n"
          ]
        },
        {
          "output_type": "stream",
          "name": "stdout",
          "text": [
            "1/1 [==============================] - 0s 118ms/step\n"
          ]
        },
        {
          "output_type": "execute_result",
          "data": {
            "text/plain": [
              "array([[32.05275]], dtype=float32)"
            ]
          },
          "metadata": {},
          "execution_count": 43
        }
      ]
    },
    {
      "cell_type": "markdown",
      "source": [
        "## Evaluating our Model\n",
        "\n"
      ],
      "metadata": {
        "id": "UdMosSXxznBr"
      }
    },
    {
      "cell_type": "code",
      "source": [],
      "metadata": {
        "id": "gB9rSWrq3LxQ"
      },
      "execution_count": null,
      "outputs": []
    }
  ]
}