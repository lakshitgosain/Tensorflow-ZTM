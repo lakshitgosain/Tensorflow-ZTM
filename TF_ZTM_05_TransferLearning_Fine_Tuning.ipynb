{
  "nbformat": 4,
  "nbformat_minor": 0,
  "metadata": {
    "colab": {
      "provenance": [],
      "gpuType": "T4",
      "authorship_tag": "ABX9TyPfc+qqwJA3ytY4O0RdfyxK",
      "include_colab_link": true
    },
    "kernelspec": {
      "name": "python3",
      "display_name": "Python 3"
    },
    "language_info": {
      "name": "python"
    },
    "accelerator": "GPU"
  },
  "cells": [
    {
      "cell_type": "markdown",
      "metadata": {
        "id": "view-in-github",
        "colab_type": "text"
      },
      "source": [
        "<a href=\"https://colab.research.google.com/github/lakshitgosain/Tensorflow-ZTM/blob/main/TF_ZTM_05_TransferLearning_Fine_Tuning.ipynb\" target=\"_parent\"><img src=\"https://colab.research.google.com/assets/colab-badge.svg\" alt=\"Open In Colab\"/></a>"
      ]
    },
    {
      "cell_type": "markdown",
      "source": [
        "# Transfer Learning with Tensorflow Part 2: Fine Tuning\n",
        "\n"
      ],
      "metadata": {
        "id": "t3EUa0-w629p"
      }
    },
    {
      "cell_type": "code",
      "source": [
        "# Get helper_functions.py script from course GitHub\n",
        "!wget https://raw.githubusercontent.com/mrdbourke/tensorflow-deep-learning/main/extras/helper_functions.py \n",
        "\n",
        "# Import helper functions we're going to use\n",
        "from helper_functions import create_tensorboard_callback, plot_loss_curves, unzip_data, walk_through_dir"
      ],
      "metadata": {
        "colab": {
          "base_uri": "https://localhost:8080/"
        },
        "id": "WO-U4bXZqJ__",
        "outputId": "a46950bf-7e1e-437e-98bf-0bfcba454191"
      },
      "execution_count": 1,
      "outputs": [
        {
          "output_type": "stream",
          "name": "stdout",
          "text": [
            "--2023-05-31 15:57:46--  https://raw.githubusercontent.com/mrdbourke/tensorflow-deep-learning/main/extras/helper_functions.py\n",
            "Resolving raw.githubusercontent.com (raw.githubusercontent.com)... 185.199.108.133, 185.199.109.133, 185.199.110.133, ...\n",
            "Connecting to raw.githubusercontent.com (raw.githubusercontent.com)|185.199.108.133|:443... connected.\n",
            "HTTP request sent, awaiting response... 200 OK\n",
            "Length: 10246 (10K) [text/plain]\n",
            "Saving to: ‘helper_functions.py’\n",
            "\n",
            "helper_functions.py 100%[===================>]  10.01K  --.-KB/s    in 0s      \n",
            "\n",
            "2023-05-31 15:57:47 (85.4 MB/s) - ‘helper_functions.py’ saved [10246/10246]\n",
            "\n"
          ]
        }
      ]
    },
    {
      "cell_type": "markdown",
      "source": [
        "## Let's get some data\n",
        "\n",
        "This time we're going to see how we can use the pre-trained models within tf.keras.applications and apply them to our own problem\n",
        "\n"
      ],
      "metadata": {
        "id": "fKPRpkUJrbx8"
      }
    },
    {
      "cell_type": "markdown",
      "source": [
        "Get the 10% Foor dataset"
      ],
      "metadata": {
        "id": "ygDPp5FxiDdX"
      }
    },
    {
      "cell_type": "code",
      "source": [
        "import zipfile\n",
        "!wget https://storage.googleapis.com/ztm_tf_course/food_vision/10_food_classes_10_percent.zip\n",
        "\n",
        "unzip_data('10_food_classes_10_percent.zip')"
      ],
      "metadata": {
        "colab": {
          "base_uri": "https://localhost:8080/"
        },
        "id": "4FOvw4NkibCo",
        "outputId": "57f9a997-9d2f-4ebb-953a-ba7fb8748b03"
      },
      "execution_count": 2,
      "outputs": [
        {
          "output_type": "stream",
          "name": "stdout",
          "text": [
            "--2023-05-31 16:01:23--  https://storage.googleapis.com/ztm_tf_course/food_vision/10_food_classes_10_percent.zip\n",
            "Resolving storage.googleapis.com (storage.googleapis.com)... 172.217.194.128, 74.125.200.128, 74.125.68.128, ...\n",
            "Connecting to storage.googleapis.com (storage.googleapis.com)|172.217.194.128|:443... connected.\n",
            "HTTP request sent, awaiting response... 200 OK\n",
            "Length: 168546183 (161M) [application/zip]\n",
            "Saving to: ‘10_food_classes_10_percent.zip’\n",
            "\n",
            "10_food_classes_10_ 100%[===================>] 160.74M  20.0MB/s    in 9.6s    \n",
            "\n",
            "2023-05-31 16:01:33 (16.8 MB/s) - ‘10_food_classes_10_percent.zip’ saved [168546183/168546183]\n",
            "\n"
          ]
        }
      ]
    },
    {
      "cell_type": "code",
      "source": [
        "walk_through_dir(\"10_food_classes_10_percent\")"
      ],
      "metadata": {
        "colab": {
          "base_uri": "https://localhost:8080/"
        },
        "id": "F8HXuGLqitXP",
        "outputId": "9b6578da-0877-4cf4-8a70-0cd58205bbc2"
      },
      "execution_count": 3,
      "outputs": [
        {
          "output_type": "stream",
          "name": "stdout",
          "text": [
            "There are 2 directories and 0 images in '10_food_classes_10_percent'.\n",
            "There are 10 directories and 0 images in '10_food_classes_10_percent/test'.\n",
            "There are 0 directories and 250 images in '10_food_classes_10_percent/test/ramen'.\n",
            "There are 0 directories and 250 images in '10_food_classes_10_percent/test/ice_cream'.\n",
            "There are 0 directories and 250 images in '10_food_classes_10_percent/test/steak'.\n",
            "There are 0 directories and 250 images in '10_food_classes_10_percent/test/fried_rice'.\n",
            "There are 0 directories and 250 images in '10_food_classes_10_percent/test/hamburger'.\n",
            "There are 0 directories and 250 images in '10_food_classes_10_percent/test/chicken_wings'.\n",
            "There are 0 directories and 250 images in '10_food_classes_10_percent/test/grilled_salmon'.\n",
            "There are 0 directories and 250 images in '10_food_classes_10_percent/test/sushi'.\n",
            "There are 0 directories and 250 images in '10_food_classes_10_percent/test/pizza'.\n",
            "There are 0 directories and 250 images in '10_food_classes_10_percent/test/chicken_curry'.\n",
            "There are 10 directories and 0 images in '10_food_classes_10_percent/train'.\n",
            "There are 0 directories and 75 images in '10_food_classes_10_percent/train/ramen'.\n",
            "There are 0 directories and 75 images in '10_food_classes_10_percent/train/ice_cream'.\n",
            "There are 0 directories and 75 images in '10_food_classes_10_percent/train/steak'.\n",
            "There are 0 directories and 75 images in '10_food_classes_10_percent/train/fried_rice'.\n",
            "There are 0 directories and 75 images in '10_food_classes_10_percent/train/hamburger'.\n",
            "There are 0 directories and 75 images in '10_food_classes_10_percent/train/chicken_wings'.\n",
            "There are 0 directories and 75 images in '10_food_classes_10_percent/train/grilled_salmon'.\n",
            "There are 0 directories and 75 images in '10_food_classes_10_percent/train/sushi'.\n",
            "There are 0 directories and 75 images in '10_food_classes_10_percent/train/pizza'.\n",
            "There are 0 directories and 75 images in '10_food_classes_10_percent/train/chicken_curry'.\n"
          ]
        }
      ]
    },
    {
      "cell_type": "code",
      "source": [
        "# Create training and test direcotry paths\n",
        "\n",
        "train_dir=\"10_food_classes_10_percent/train\"\n",
        "test_dir=\"10_food_classes_10_percent/test\""
      ],
      "metadata": {
        "id": "9zzZuHXri5Bi"
      },
      "execution_count": 4,
      "outputs": []
    },
    {
      "cell_type": "code",
      "source": [
        "import tensorflow as tf\n",
        "\n",
        "IMG_SIZE=(224,224)\n",
        "BATCH_SIZE=32\n",
        "train_data_10_percent=tf.keras.preprocessing.image_dataset_from_directory(\n",
        "    directory=train_dir,\n",
        "    image_size=IMG_SIZE,\n",
        "    label_mode='categorical',\n",
        "    batch_size=BATCH_SIZE,\n",
        "\n",
        ")\n",
        "\n",
        "test_data=tf.keras.preprocessing.image_dataset_from_directory(directory=test_dir,\n",
        "                                                              image_size=IMG_SIZE,\n",
        "                                                              label_mode='categorical',\n",
        "                                                              batch_size=BATCH_SIZE)"
      ],
      "metadata": {
        "colab": {
          "base_uri": "https://localhost:8080/"
        },
        "id": "N37XMyNxjKeG",
        "outputId": "f2e56298-8ab7-4f22-f477-48450af228db"
      },
      "execution_count": 5,
      "outputs": [
        {
          "output_type": "stream",
          "name": "stdout",
          "text": [
            "Found 750 files belonging to 10 classes.\n",
            "Found 2500 files belonging to 10 classes.\n"
          ]
        }
      ]
    },
    {
      "cell_type": "code",
      "source": [
        "train_data_10_percent # NONE is insterted due to the batch sie"
      ],
      "metadata": {
        "colab": {
          "base_uri": "https://localhost:8080/"
        },
        "id": "e1gytYH8kTNH",
        "outputId": "21061122-1202-4cb6-e27d-aa7b1f367b8d"
      },
      "execution_count": 6,
      "outputs": [
        {
          "output_type": "execute_result",
          "data": {
            "text/plain": [
              "<_BatchDataset element_spec=(TensorSpec(shape=(None, 224, 224, 3), dtype=tf.float32, name=None), TensorSpec(shape=(None, 10), dtype=tf.float32, name=None))>"
            ]
          },
          "metadata": {},
          "execution_count": 6
        }
      ]
    },
    {
      "cell_type": "code",
      "source": [
        "train_data_10_percent.class_names"
      ],
      "metadata": {
        "colab": {
          "base_uri": "https://localhost:8080/"
        },
        "id": "dmvcN6TokYBe",
        "outputId": "841e9407-8b46-433b-c610-dddde582e6ea"
      },
      "execution_count": 8,
      "outputs": [
        {
          "output_type": "execute_result",
          "data": {
            "text/plain": [
              "['chicken_curry',\n",
              " 'chicken_wings',\n",
              " 'fried_rice',\n",
              " 'grilled_salmon',\n",
              " 'hamburger',\n",
              " 'ice_cream',\n",
              " 'pizza',\n",
              " 'ramen',\n",
              " 'steak',\n",
              " 'sushi']"
            ]
          },
          "metadata": {},
          "execution_count": 8
        }
      ]
    },
    {
      "cell_type": "code",
      "source": [
        "for images, labels in train_data_10_percent.take(1):\n",
        "  print(images, labels)"
      ],
      "metadata": {
        "colab": {
          "base_uri": "https://localhost:8080/"
        },
        "id": "V9Vixs7dk4jF",
        "outputId": "cdf29291-0da0-44a1-9a1c-0023a844ee36"
      },
      "execution_count": 12,
      "outputs": [
        {
          "output_type": "stream",
          "name": "stdout",
          "text": [
            "tf.Tensor(\n",
            "[[[[2.40000000e+01 1.00000000e+01 9.00000000e+00]\n",
            "   [2.30918369e+01 1.20918369e+01 1.00918369e+01]\n",
            "   [2.15663261e+01 1.07806120e+01 8.78061199e+00]\n",
            "   ...\n",
            "   [2.24183617e+01 1.64183617e+01 2.64183617e+01]\n",
            "   [2.49744987e+01 1.89744987e+01 2.89744987e+01]\n",
            "   [2.41836281e+01 1.81836281e+01 2.81836281e+01]]\n",
            "\n",
            "  [[2.14285717e+01 1.04285707e+01 8.42857075e+00]\n",
            "   [1.82142849e+01 7.21428490e+00 5.21428490e+00]\n",
            "   [1.70561218e+01 6.27040815e+00 4.27040815e+00]\n",
            "   ...\n",
            "   [2.29591808e+01 1.49591808e+01 2.59591808e+01]\n",
            "   [2.62142982e+01 1.82142982e+01 2.92142982e+01]\n",
            "   [2.53315601e+01 1.73315601e+01 2.83315601e+01]]\n",
            "\n",
            "  [[1.90663261e+01 8.28061199e+00 6.28061247e+00]\n",
            "   [1.80561218e+01 7.27040815e+00 5.27040815e+00]\n",
            "   [2.12142868e+01 1.05969391e+01 8.59693909e+00]\n",
            "   ...\n",
            "   [2.81888371e+01 2.04031219e+01 3.07602654e+01]\n",
            "   [2.51581535e+01 1.73724384e+01 2.77295818e+01]\n",
            "   [2.71327419e+01 1.93470287e+01 2.97041702e+01]]\n",
            "\n",
            "  ...\n",
            "\n",
            "  [[2.54000000e+02 2.54000000e+02 2.54000000e+02]\n",
            "   [2.54000000e+02 2.54000000e+02 2.54000000e+02]\n",
            "   [2.54000000e+02 2.54000000e+02 2.54000000e+02]\n",
            "   ...\n",
            "   [2.39337387e+02 2.31337387e+02 1.67572144e+02]\n",
            "   [2.41484909e+02 2.33484909e+02 1.70484909e+02]\n",
            "   [2.49173569e+02 2.41173569e+02 1.78173569e+02]]\n",
            "\n",
            "  [[2.54000000e+02 2.54000000e+02 2.54000000e+02]\n",
            "   [2.54000000e+02 2.54000000e+02 2.54000000e+02]\n",
            "   [2.54000000e+02 2.54000000e+02 2.54000000e+02]\n",
            "   ...\n",
            "   [2.48984818e+02 2.41040955e+02 1.78040955e+02]\n",
            "   [2.51336792e+02 2.43336792e+02 1.80336792e+02]\n",
            "   [2.55000000e+02 2.48933670e+02 1.85933670e+02]]\n",
            "\n",
            "  [[2.54000000e+02 2.54000000e+02 2.54000000e+02]\n",
            "   [2.54000000e+02 2.54000000e+02 2.54000000e+02]\n",
            "   [2.54000000e+02 2.54000000e+02 2.54000000e+02]\n",
            "   ...\n",
            "   [2.53709213e+02 2.45709213e+02 1.82709213e+02]\n",
            "   [2.55000000e+02 2.49617310e+02 1.86617310e+02]\n",
            "   [2.54770401e+02 2.46897980e+02 1.84897980e+02]]]\n",
            "\n",
            "\n",
            " [[[2.21301025e+02 2.33301025e+02 2.49301025e+02]\n",
            "   [2.18785706e+02 2.31785706e+02 2.47785706e+02]\n",
            "   [2.16357147e+02 2.30000000e+02 2.45785721e+02]\n",
            "   ...\n",
            "   [1.82423523e+02 1.83637787e+02 1.77852051e+02]\n",
            "   [1.84311218e+02 1.85311218e+02 1.77311218e+02]\n",
            "   [1.82714249e+02 1.83714249e+02 1.75714249e+02]]\n",
            "\n",
            "  [[2.18000000e+02 2.31000000e+02 2.47000000e+02]\n",
            "   [2.17000000e+02 2.30000000e+02 2.46000000e+02]\n",
            "   [2.15801025e+02 2.28801025e+02 2.44801025e+02]\n",
            "   ...\n",
            "   [1.82158157e+02 1.83158157e+02 1.77158157e+02]\n",
            "   [1.82132660e+02 1.83132660e+02 1.75132660e+02]\n",
            "   [1.83831635e+02 1.84831635e+02 1.76831635e+02]]\n",
            "\n",
            "  [[2.21142868e+02 2.34142868e+02 2.50142868e+02]\n",
            "   [2.19071426e+02 2.32071426e+02 2.48071426e+02]\n",
            "   [2.16000000e+02 2.29000000e+02 2.45000000e+02]\n",
            "   ...\n",
            "   [1.83428574e+02 1.84428574e+02 1.78091827e+02]\n",
            "   [1.83357132e+02 1.84142838e+02 1.76142838e+02]\n",
            "   [1.82923462e+02 1.82923462e+02 1.74494888e+02]]\n",
            "\n",
            "  ...\n",
            "\n",
            "  [[1.40000000e+02 1.48785736e+02 9.17857361e+01]\n",
            "   [1.39270386e+02 1.48056122e+02 9.26275940e+01]\n",
            "   [1.38428528e+02 1.47428528e+02 9.24285736e+01]\n",
            "   ...\n",
            "   [8.13572083e+01 8.01888504e+01 8.79286804e+01]\n",
            "   [8.32143860e+01 7.80715027e+01 8.51429443e+01]\n",
            "   [8.61429443e+01 7.61429443e+01 8.49286804e+01]]\n",
            "\n",
            "  [[1.38000000e+02 1.49000000e+02 9.30000000e+01]\n",
            "   [1.39000015e+02 1.50000015e+02 9.40000153e+01]\n",
            "   [1.39413300e+02 1.49413300e+02 9.66275864e+01]\n",
            "   ...\n",
            "   [8.45000305e+01 8.53265305e+01 9.35969315e+01]\n",
            "   [8.72143250e+01 8.40000000e+01 9.30714417e+01]\n",
            "   [8.90714417e+01 8.10714417e+01 9.20714417e+01]]\n",
            "\n",
            "  [[1.40127594e+02 1.51127594e+02 9.51276016e+01]\n",
            "   [1.41642929e+02 1.51642929e+02 9.86429291e+01]\n",
            "   [1.43142899e+02 1.53571457e+02 1.02000038e+02]\n",
            "   ...\n",
            "   [8.34184113e+01 8.68622665e+01 9.59387970e+01]\n",
            "   [8.87142639e+01 8.59081497e+01 9.69540787e+01]\n",
            "   [9.07704010e+01 8.27704010e+01 9.57704010e+01]]]\n",
            "\n",
            "\n",
            " [[[5.10000000e+01 6.10000000e+01 6.30000000e+01]\n",
            "   [5.10255089e+01 6.10255089e+01 6.30255089e+01]\n",
            "   [4.75663261e+01 5.75663261e+01 5.93520393e+01]\n",
            "   ...\n",
            "   [7.29948196e+01 3.87805557e+01 1.31377621e+01]\n",
            "   [7.13061371e+01 3.72346954e+01 1.08265114e+01]\n",
            "   [7.50153656e+01 3.73010063e+01 7.58665228e+00]]\n",
            "\n",
            "  [[4.58571396e+01 5.58571396e+01 5.78571396e+01]\n",
            "   [4.81428566e+01 5.81428566e+01 6.01428566e+01]\n",
            "   [4.61428566e+01 5.61428566e+01 5.79285698e+01]\n",
            "   ...\n",
            "   [7.27194672e+01 3.89031219e+01 1.10919819e+01]\n",
            "   [8.04438934e+01 4.63724556e+01 1.82958965e+01]\n",
            "   [7.99336777e+01 4.28621483e+01 1.05049706e+01]]\n",
            "\n",
            "  [[4.17857132e+01 5.13571434e+01 5.33571434e+01]\n",
            "   [4.18571396e+01 5.14285698e+01 5.34285698e+01]\n",
            "   [3.79540825e+01 4.75255089e+01 4.87397957e+01]\n",
            "   ...\n",
            "   [6.70713425e+01 3.56428146e+01 6.21428585e+00]\n",
            "   [6.96020737e+01 3.64591904e+01 5.38774776e+00]\n",
            "   [7.32908936e+01 3.65765381e+01 1.79078960e+00]]\n",
            "\n",
            "  ...\n",
            "\n",
            "  [[9.42756348e+01 3.51328201e+01 1.15716248e+01]\n",
            "   [1.49010513e+02 9.11687469e+01 6.44544373e+01]\n",
            "   [1.58347092e+02 9.83011932e+01 6.99185333e+01]\n",
            "   ...\n",
            "   [1.64336411e+02 1.72650852e+01 2.70508213e+01]\n",
            "   [1.64290863e+02 2.36481304e+01 3.25766907e+01]\n",
            "   [1.54157654e+02 1.74434891e+01 2.49485779e+01]]\n",
            "\n",
            "  [[8.81276779e+01 2.75817280e+01 2.02042508e+00]\n",
            "   [1.17601906e+02 5.63926849e+01 2.75151405e+01]\n",
            "   [1.05841675e+02 4.45559120e+01 1.56885872e+01]\n",
            "   ...\n",
            "   [1.63627609e+02 2.20868702e+01 3.10715637e+01]\n",
            "   [1.57504822e+02 2.06426086e+01 3.06426086e+01]\n",
            "   [1.36887527e+02 1.79069400e+00 1.12906332e+01]]\n",
            "\n",
            "  [[1.08479599e+02 4.31224213e+01 1.07907543e+01]\n",
            "   [1.10153038e+02 4.47958603e+01 1.39896746e+01]\n",
            "   [9.79337158e+01 3.07041016e+01 4.20921040e+00]\n",
            "   ...\n",
            "   [1.61025253e+02 2.09640560e+01 2.96732635e+01]\n",
            "   [1.37055939e+02 1.86213565e+00 1.11273727e+01]\n",
            "   [1.30418167e+02 0.00000000e+00 5.41816330e+00]]]\n",
            "\n",
            "\n",
            " ...\n",
            "\n",
            "\n",
            " [[[4.93520432e+01 7.72959137e+00 3.52040768e+00]\n",
            "   [3.46377563e+01 7.63775635e+00 0.00000000e+00]\n",
            "   [1.87142868e+01 5.30102158e+00 1.37755200e-01]\n",
            "   ...\n",
            "   [1.05556061e+02 3.36990051e+01 1.24745073e+01]\n",
            "   [8.67652893e+01 2.20051289e+01 1.31122923e+00]\n",
            "   [8.32905807e+01 2.29028835e+01 2.38762546e+00]]\n",
            "\n",
            "  [[7.34846954e+01 2.01071434e+01 1.00102043e+01]\n",
            "   [5.31938782e+01 1.31938772e+01 1.13775468e+00]\n",
            "   [4.48724518e+01 1.77295952e+01 4.14285851e+00]\n",
            "   ...\n",
            "   [1.13612053e+02 3.81682434e+01 1.51121178e+01]\n",
            "   [1.02637756e+02 3.27908173e+01 7.92857170e+00]\n",
            "   [1.06148315e+02 3.96993790e+01 1.39085531e+01]]\n",
            "\n",
            "  [[9.83010178e+01 3.55867348e+01 2.29438763e+01]\n",
            "   [7.25408173e+01 1.99132633e+01 6.05612040e+00]\n",
            "   [6.12397957e+01 2.14285698e+01 7.23979473e+00]\n",
            "   ...\n",
            "   [1.17836761e+02 3.67194443e+01 9.59698582e+00]\n",
            "   [1.15418312e+02 3.69183121e+01 8.91831303e+00]\n",
            "   [1.12097046e+02 3.45256882e+01 5.81647635e+00]]\n",
            "\n",
            "  ...\n",
            "\n",
            "  [[1.88198700e+02 6.39079094e+01 3.28042412e+00]\n",
            "   [2.07923370e+02 8.37091064e+01 1.94234371e+01]\n",
            "   [2.08545959e+02 8.51174316e+01 1.79490566e+01]\n",
            "   ...\n",
            "   [4.97950172e+00 3.97950149e+00 1.02541053e+00]\n",
            "   [9.54085732e+00 8.54085732e+00 4.54085732e+00]\n",
            "   [7.45403194e+00 6.45403194e+00 2.45403218e+00]]\n",
            "\n",
            "  [[1.88918365e+02 6.59183655e+01 7.72450399e+00]\n",
            "   [1.89867386e+02 6.68673935e+01 7.01536226e+00]\n",
            "   [1.84301056e+02 6.23010635e+01 3.62272173e-01]\n",
            "   ...\n",
            "   [8.98469257e+00 7.98469257e+00 4.41322041e+00]\n",
            "   [9.64789581e+00 8.64789581e+00 4.64789581e+00]\n",
            "   [8.59689808e+00 7.59689808e+00 3.59689808e+00]]\n",
            "\n",
            "  [[1.85428711e+02 6.44287109e+01 8.60222530e+00]\n",
            "   [1.92147903e+02 7.17448044e+01 1.29540844e+01]\n",
            "   [1.94061279e+02 7.40612793e+01 1.27857847e+01]\n",
            "   ...\n",
            "   [8.07653046e+00 7.07653046e+00 3.50505805e+00]\n",
            "   [4.19391823e+00 3.19391799e+00 1.22476384e-01]\n",
            "   [7.87242413e+00 6.87242413e+00 2.87242413e+00]]]\n",
            "\n",
            "\n",
            " [[[7.90000000e+01 3.50000000e+01 1.00000000e+01]\n",
            "   [7.70000000e+01 3.60000000e+01 8.00000000e+00]\n",
            "   [7.70000000e+01 3.60000000e+01 5.01020384e+00]\n",
            "   ...\n",
            "   [5.00000000e+00 0.00000000e+00 0.00000000e+00]\n",
            "   [5.00000000e+00 0.00000000e+00 0.00000000e+00]\n",
            "   [5.00000000e+00 0.00000000e+00 0.00000000e+00]]\n",
            "\n",
            "  [[7.70000000e+01 3.50459175e+01 9.90816307e+00]\n",
            "   [7.70000000e+01 3.60000000e+01 7.86734676e+00]\n",
            "   [7.70714264e+01 3.60867348e+01 4.04081631e+00]\n",
            "   ...\n",
            "   [5.00000000e+00 0.00000000e+00 0.00000000e+00]\n",
            "   [5.00000000e+00 0.00000000e+00 0.00000000e+00]\n",
            "   [5.00000000e+00 0.00000000e+00 0.00000000e+00]]\n",
            "\n",
            "  [[7.62142868e+01 3.67091827e+01 8.15306091e+00]\n",
            "   [7.69438782e+01 3.75153084e+01 6.87244844e+00]\n",
            "   [7.83367386e+01 3.70459175e+01 4.57142830e+00]\n",
            "   ...\n",
            "   [5.00000000e+00 0.00000000e+00 0.00000000e+00]\n",
            "   [5.00000000e+00 0.00000000e+00 0.00000000e+00]\n",
            "   [5.00000000e+00 0.00000000e+00 0.00000000e+00]]\n",
            "\n",
            "  ...\n",
            "\n",
            "  [[2.24000000e+02 1.66000000e+02 6.60000000e+01]\n",
            "   [2.23000000e+02 1.68000000e+02 6.70000000e+01]\n",
            "   [2.25214279e+02 1.70214279e+02 6.92142868e+01]\n",
            "   ...\n",
            "   [2.19739822e+02 1.71382614e+02 7.81683502e+01]\n",
            "   [2.18714264e+02 1.69714264e+02 7.67142639e+01]\n",
            "   [2.17923462e+02 1.66923462e+02 7.49234619e+01]]\n",
            "\n",
            "  [[2.24000000e+02 1.66000000e+02 6.60000000e+01]\n",
            "   [2.23000000e+02 1.68000000e+02 6.70000000e+01]\n",
            "   [2.25214279e+02 1.70214279e+02 6.92142868e+01]\n",
            "   ...\n",
            "   [2.18841843e+02 1.70484634e+02 7.72703705e+01]\n",
            "   [2.17928558e+02 1.68928558e+02 7.59285583e+01]\n",
            "   [2.17045898e+02 1.66045898e+02 7.40459061e+01]]\n",
            "\n",
            "  [[2.24000000e+02 1.66000000e+02 6.60000000e+01]\n",
            "   [2.23000000e+02 1.68000000e+02 6.70000000e+01]\n",
            "   [2.25214279e+02 1.70214279e+02 6.92142868e+01]\n",
            "   ...\n",
            "   [2.18571472e+02 1.70214264e+02 7.70000000e+01]\n",
            "   [2.16928558e+02 1.67928558e+02 7.49285583e+01]\n",
            "   [2.16642822e+02 1.65642822e+02 7.36428223e+01]]]\n",
            "\n",
            "\n",
            " [[[3.04132652e+01 1.44132652e+01 2.74132652e+01]\n",
            "   [3.10000000e+01 1.50000000e+01 2.80000000e+01]\n",
            "   [3.10000000e+01 1.50000000e+01 2.80000000e+01]\n",
            "   ...\n",
            "   [6.00000000e+01 4.40000000e+01 4.40000000e+01]\n",
            "   [6.00000000e+01 4.40000000e+01 4.40000000e+01]\n",
            "   [6.00000000e+01 4.40000000e+01 4.40000000e+01]]\n",
            "\n",
            "  [[3.00714283e+01 1.40714283e+01 2.70714283e+01]\n",
            "   [3.00714283e+01 1.40714283e+01 2.70714283e+01]\n",
            "   [3.00714283e+01 1.40714283e+01 2.70714283e+01]\n",
            "   ...\n",
            "   [6.00000000e+01 4.40000000e+01 4.50000000e+01]\n",
            "   [6.00000000e+01 4.40000000e+01 4.50000000e+01]\n",
            "   [6.00000000e+01 4.40000000e+01 4.50000000e+01]]\n",
            "\n",
            "  [[2.61428566e+01 1.21428566e+01 2.71428566e+01]\n",
            "   [2.55867348e+01 1.15867348e+01 2.65867348e+01]\n",
            "   [2.45714283e+01 1.05714283e+01 2.55714283e+01]\n",
            "   ...\n",
            "   [6.00000000e+01 4.40000000e+01 4.50000000e+01]\n",
            "   [6.00000000e+01 4.40000000e+01 4.50000000e+01]\n",
            "   [6.00000000e+01 4.40000000e+01 4.50000000e+01]]\n",
            "\n",
            "  ...\n",
            "\n",
            "  [[3.77857361e+01 1.77857361e+01 2.95714722e+01]\n",
            "   [3.77857361e+01 1.77857361e+01 2.95714722e+01]\n",
            "   [3.80000000e+01 1.80000000e+01 2.97857361e+01]\n",
            "   ...\n",
            "   [3.75714722e+01 2.40000000e+01 3.67857361e+01]\n",
            "   [3.77857361e+01 2.42142639e+01 3.85714722e+01]\n",
            "   [3.77857361e+01 2.42142639e+01 3.85714722e+01]]\n",
            "\n",
            "  [[4.00000000e+01 1.80000000e+01 3.10000000e+01]\n",
            "   [3.91377640e+01 1.71377678e+01 3.01377678e+01]\n",
            "   [3.90000000e+01 1.70000000e+01 3.00000000e+01]\n",
            "   ...\n",
            "   [3.99285583e+01 2.39285583e+01 3.69285583e+01]\n",
            "   [3.89285583e+01 2.19285583e+01 3.79285583e+01]\n",
            "   [3.85254555e+01 2.15254555e+01 3.75254555e+01]]\n",
            "\n",
            "  [[4.10000000e+01 1.90000000e+01 3.20000000e+01]\n",
            "   [4.00255127e+01 1.80255127e+01 3.10255127e+01]\n",
            "   [3.87857132e+01 1.67857132e+01 2.97857132e+01]\n",
            "   ...\n",
            "   [3.90000000e+01 2.10000000e+01 3.65714722e+01]\n",
            "   [3.76428223e+01 1.96428223e+01 3.56428223e+01]\n",
            "   [3.66428223e+01 1.76428223e+01 3.66428223e+01]]]], shape=(32, 224, 224, 3), dtype=float32) tf.Tensor(\n",
            "[[0. 0. 0. 1. 0. 0. 0. 0. 0. 0.]\n",
            " [0. 0. 0. 0. 0. 0. 0. 0. 0. 1.]\n",
            " [0. 0. 0. 0. 0. 0. 1. 0. 0. 0.]\n",
            " [1. 0. 0. 0. 0. 0. 0. 0. 0. 0.]\n",
            " [0. 1. 0. 0. 0. 0. 0. 0. 0. 0.]\n",
            " [0. 0. 1. 0. 0. 0. 0. 0. 0. 0.]\n",
            " [0. 0. 0. 0. 1. 0. 0. 0. 0. 0.]\n",
            " [0. 1. 0. 0. 0. 0. 0. 0. 0. 0.]\n",
            " [0. 0. 1. 0. 0. 0. 0. 0. 0. 0.]\n",
            " [0. 0. 0. 1. 0. 0. 0. 0. 0. 0.]\n",
            " [0. 1. 0. 0. 0. 0. 0. 0. 0. 0.]\n",
            " [0. 0. 0. 0. 1. 0. 0. 0. 0. 0.]\n",
            " [0. 0. 0. 0. 0. 0. 0. 0. 1. 0.]\n",
            " [0. 0. 0. 0. 1. 0. 0. 0. 0. 0.]\n",
            " [0. 0. 0. 1. 0. 0. 0. 0. 0. 0.]\n",
            " [1. 0. 0. 0. 0. 0. 0. 0. 0. 0.]\n",
            " [0. 0. 0. 0. 0. 1. 0. 0. 0. 0.]\n",
            " [0. 0. 0. 0. 0. 1. 0. 0. 0. 0.]\n",
            " [0. 0. 0. 0. 0. 0. 0. 0. 1. 0.]\n",
            " [0. 0. 0. 0. 0. 0. 1. 0. 0. 0.]\n",
            " [0. 0. 0. 0. 0. 0. 0. 0. 0. 1.]\n",
            " [0. 0. 0. 0. 0. 0. 0. 0. 0. 1.]\n",
            " [0. 0. 0. 0. 1. 0. 0. 0. 0. 0.]\n",
            " [0. 0. 0. 0. 0. 1. 0. 0. 0. 0.]\n",
            " [0. 0. 0. 0. 0. 0. 0. 1. 0. 0.]\n",
            " [0. 0. 0. 0. 0. 1. 0. 0. 0. 0.]\n",
            " [0. 0. 1. 0. 0. 0. 0. 0. 0. 0.]\n",
            " [0. 0. 1. 0. 0. 0. 0. 0. 0. 0.]\n",
            " [0. 0. 0. 1. 0. 0. 0. 0. 0. 0.]\n",
            " [0. 1. 0. 0. 0. 0. 0. 0. 0. 0.]\n",
            " [0. 0. 0. 1. 0. 0. 0. 0. 0. 0.]\n",
            " [0. 1. 0. 0. 0. 0. 0. 0. 0. 0.]], shape=(32, 10), dtype=float32)\n"
          ]
        }
      ]
    },
    {
      "cell_type": "markdown",
      "source": [
        "Keras Sequential vs FUnctional API\n",
        "\n",
        "* Functional API is more flexible"
      ],
      "metadata": {
        "id": "fCeUdNP1lCRS"
      }
    },
    {
      "cell_type": "markdown",
      "source": [
        "## Model 0 : Building a transfer learning feature extraction model with Functional API"
      ],
      "metadata": {
        "id": "IVhyjRoKm7Gg"
      }
    },
    {
      "cell_type": "markdown",
      "source": [
        "The sequential API is straight forward, but the functional API Gives us more flexibility with our models"
      ],
      "metadata": {
        "id": "gaE-X4kWn1gQ"
      }
    },
    {
      "cell_type": "code",
      "source": [
        "#1. Create the base model with tf.keras.applications\n",
        "\n",
        "base_model=tf.keras.applications.EfficientNetB0(\n",
        "    include_top=False,\n",
        "\n",
        ")\n",
        "\n",
        "# 2. Freeze the base model(the underlying pre-trained patterns aren't modified )\n",
        "\n",
        "base_model.trainable=False\n",
        "\n",
        "#3. Create the input into our odel\n",
        "inputs =  tf.keras.layers.Input(shape=(224,224,3), name='Input layer')\n",
        "\n",
        "#4. If using Resnet50V2 you will need to normalize inputs\n",
        "#x=tf.keras.layers.experimental.preprocessing.Rescaling(1./255)(inputs)\n",
        "\n",
        "#5. pass the inputs to the base_model\n",
        "x=base_model(inputs)\n",
        "print(f\"shape after passing inputs to our base model{x.shape}\")\n",
        "\n",
        "#6. Average pool the outputs of the base model(aggregate all the most importantinformation)\n",
        "x=tf.keras.layers.layers.GlobalAveragePooling2D(name='global average_pooling_layer')(x)\n",
        "print(f\"shape after global averagepooling2D:{x.shape}\")\n",
        "\n",
        "#7. Create the otput activation layer\n",
        "outputs=tf.keras.layers.Dense(10, activation='softmax', name='output_layer')(x)\n",
        "\n",
        "#8 Comibe the inputs with the outputs into a model\n",
        "model_0=tf.keras.Model(inputs, outputs)\n",
        "\n",
        "#9 Compile the model\n",
        "\n",
        "#10. Fit the model and save it's history\n",
        "\n",
        "\n"
      ],
      "metadata": {
        "id": "UOSwMXcKn-YZ"
      },
      "execution_count": null,
      "outputs": []
    }
  ]
}