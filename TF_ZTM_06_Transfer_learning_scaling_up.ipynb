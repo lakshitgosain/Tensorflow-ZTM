{
  "nbformat": 4,
  "nbformat_minor": 0,
  "metadata": {
    "colab": {
      "provenance": [],
      "gpuType": "T4",
      "authorship_tag": "ABX9TyMG5/NOd7MBd7/w5qRYAmyu",
      "include_colab_link": true
    },
    "kernelspec": {
      "name": "python3",
      "display_name": "Python 3"
    },
    "language_info": {
      "name": "python"
    },
    "accelerator": "GPU"
  },
  "cells": [
    {
      "cell_type": "markdown",
      "metadata": {
        "id": "view-in-github",
        "colab_type": "text"
      },
      "source": [
        "<a href=\"https://colab.research.google.com/github/lakshitgosain/Tensorflow-ZTM/blob/main/TF_ZTM_06_Transfer_learning_scaling_up.ipynb\" target=\"_parent\"><img src=\"https://colab.research.google.com/assets/colab-badge.svg\" alt=\"Open In Colab\"/></a>"
      ]
    },
    {
      "cell_type": "code",
      "execution_count": 1,
      "metadata": {
        "id": "wwb2W7Vs6gif",
        "colab": {
          "base_uri": "https://localhost:8080/"
        },
        "outputId": "65552a47-7a63-4097-d11b-d25e80ad4111"
      },
      "outputs": [
        {
          "output_type": "stream",
          "name": "stdout",
          "text": [
            "Wed Jun  7 09:40:37 2023       \n",
            "+-----------------------------------------------------------------------------+\n",
            "| NVIDIA-SMI 525.85.12    Driver Version: 525.85.12    CUDA Version: 12.0     |\n",
            "|-------------------------------+----------------------+----------------------+\n",
            "| GPU  Name        Persistence-M| Bus-Id        Disp.A | Volatile Uncorr. ECC |\n",
            "| Fan  Temp  Perf  Pwr:Usage/Cap|         Memory-Usage | GPU-Util  Compute M. |\n",
            "|                               |                      |               MIG M. |\n",
            "|===============================+======================+======================|\n",
            "|   0  Tesla T4            Off  | 00000000:00:04.0 Off |                    0 |\n",
            "| N/A   69C    P8    11W /  70W |      0MiB / 15360MiB |      0%      Default |\n",
            "|                               |                      |                  N/A |\n",
            "+-------------------------------+----------------------+----------------------+\n",
            "                                                                               \n",
            "+-----------------------------------------------------------------------------+\n",
            "| Processes:                                                                  |\n",
            "|  GPU   GI   CI        PID   Type   Process name                  GPU Memory |\n",
            "|        ID   ID                                                   Usage      |\n",
            "|=============================================================================|\n",
            "|  No running processes found                                                 |\n",
            "+-----------------------------------------------------------------------------+\n"
          ]
        }
      ],
      "source": [
        "!nvidia-smi"
      ]
    },
    {
      "cell_type": "code",
      "source": [
        "##Creating Helper functions\n",
        "!wget https://raw.githubusercontent.com/mrdbourke/tensorflow-deep-learning/main/extras/helper_functions.py"
      ],
      "metadata": {
        "colab": {
          "base_uri": "https://localhost:8080/"
        },
        "id": "3-7oYqF81-PY",
        "outputId": "20c4b0e1-de39-4456-f686-23fefab60095"
      },
      "execution_count": 2,
      "outputs": [
        {
          "output_type": "stream",
          "name": "stdout",
          "text": [
            "--2023-06-07 09:40:38--  https://raw.githubusercontent.com/mrdbourke/tensorflow-deep-learning/main/extras/helper_functions.py\n",
            "Resolving raw.githubusercontent.com (raw.githubusercontent.com)... 185.199.110.133, 185.199.108.133, 185.199.111.133, ...\n",
            "Connecting to raw.githubusercontent.com (raw.githubusercontent.com)|185.199.110.133|:443... connected.\n",
            "HTTP request sent, awaiting response... 200 OK\n",
            "Length: 10246 (10K) [text/plain]\n",
            "Saving to: ‘helper_functions.py.1’\n",
            "\n",
            "\rhelper_functions.py   0%[                    ]       0  --.-KB/s               \rhelper_functions.py 100%[===================>]  10.01K  --.-KB/s    in 0s      \n",
            "\n",
            "2023-06-07 09:40:38 (99.6 MB/s) - ‘helper_functions.py.1’ saved [10246/10246]\n",
            "\n"
          ]
        }
      ]
    },
    {
      "cell_type": "code",
      "source": [
        "#import series of helper functions for our notebook\n",
        "from helper_functions import unzip_data,load_and_prep_image, plot_loss_curves, create_tensorboard_callback, compare_historys, walk_through_dir"
      ],
      "metadata": {
        "id": "rrXQZPUx2hsP"
      },
      "execution_count": 3,
      "outputs": []
    },
    {
      "cell_type": "markdown",
      "source": [
        "## 101 Food Classes: working with less data\n",
        "\n",
        "the data we're downloading is from the original Food101 dataset but with less data samples(10%)"
      ],
      "metadata": {
        "id": "lhth-bzY22vb"
      }
    },
    {
      "cell_type": "code",
      "source": [
        "!wget https://storage.googleapis.com/ztm_tf_course/food_vision/101_food_classes_10_percent.zip \n",
        "\n",
        "unzip_data(\"101_food_classes_10_percent.zip\")\n",
        "train_dir=\"101_food_classes_10_percent/train\"\n",
        "test_dir=\"101_food_classes_10_percent/test\"\n"
      ],
      "metadata": {
        "colab": {
          "base_uri": "https://localhost:8080/"
        },
        "id": "y1XqW_bZ3Km3",
        "outputId": "b4cb668f-32cb-4d2a-e135-314b49588005"
      },
      "execution_count": 4,
      "outputs": [
        {
          "output_type": "stream",
          "name": "stdout",
          "text": [
            "--2023-06-07 09:40:42--  https://storage.googleapis.com/ztm_tf_course/food_vision/101_food_classes_10_percent.zip\n",
            "Resolving storage.googleapis.com (storage.googleapis.com)... 108.177.111.128, 142.250.1.128, 108.177.121.128, ...\n",
            "Connecting to storage.googleapis.com (storage.googleapis.com)|108.177.111.128|:443... connected.\n",
            "HTTP request sent, awaiting response... 200 OK\n",
            "Length: 1625420029 (1.5G) [application/zip]\n",
            "Saving to: ‘101_food_classes_10_percent.zip.1’\n",
            "\n",
            "101_food_classes_10 100%[===================>]   1.51G   178MB/s    in 14s     \n",
            "\n",
            "2023-06-07 09:40:57 (107 MB/s) - ‘101_food_classes_10_percent.zip.1’ saved [1625420029/1625420029]\n",
            "\n"
          ]
        }
      ]
    },
    {
      "cell_type": "code",
      "source": [
        "walk_through_dir(\"101_food_classes_10_percent\")"
      ],
      "metadata": {
        "colab": {
          "base_uri": "https://localhost:8080/"
        },
        "id": "GCfdq8XB33_G",
        "outputId": "69e3e19a-ea7f-4ad7-b48a-a0d370767c6e"
      },
      "execution_count": 5,
      "outputs": [
        {
          "output_type": "stream",
          "name": "stdout",
          "text": [
            "There are 2 directories and 0 images in '101_food_classes_10_percent'.\n",
            "There are 101 directories and 0 images in '101_food_classes_10_percent/test'.\n",
            "There are 0 directories and 250 images in '101_food_classes_10_percent/test/fried_calamari'.\n",
            "There are 0 directories and 250 images in '101_food_classes_10_percent/test/escargots'.\n",
            "There are 0 directories and 250 images in '101_food_classes_10_percent/test/pancakes'.\n",
            "There are 0 directories and 250 images in '101_food_classes_10_percent/test/sushi'.\n",
            "There are 0 directories and 250 images in '101_food_classes_10_percent/test/chocolate_cake'.\n",
            "There are 0 directories and 250 images in '101_food_classes_10_percent/test/tacos'.\n",
            "There are 0 directories and 250 images in '101_food_classes_10_percent/test/beef_tartare'.\n",
            "There are 0 directories and 250 images in '101_food_classes_10_percent/test/cheese_plate'.\n",
            "There are 0 directories and 250 images in '101_food_classes_10_percent/test/waffles'.\n",
            "There are 0 directories and 250 images in '101_food_classes_10_percent/test/omelette'.\n",
            "There are 0 directories and 250 images in '101_food_classes_10_percent/test/filet_mignon'.\n",
            "There are 0 directories and 250 images in '101_food_classes_10_percent/test/clam_chowder'.\n",
            "There are 0 directories and 250 images in '101_food_classes_10_percent/test/baby_back_ribs'.\n",
            "There are 0 directories and 250 images in '101_food_classes_10_percent/test/hot_dog'.\n",
            "There are 0 directories and 250 images in '101_food_classes_10_percent/test/miso_soup'.\n",
            "There are 0 directories and 250 images in '101_food_classes_10_percent/test/hamburger'.\n",
            "There are 0 directories and 250 images in '101_food_classes_10_percent/test/beet_salad'.\n",
            "There are 0 directories and 250 images in '101_food_classes_10_percent/test/pulled_pork_sandwich'.\n",
            "There are 0 directories and 250 images in '101_food_classes_10_percent/test/foie_gras'.\n",
            "There are 0 directories and 250 images in '101_food_classes_10_percent/test/eggs_benedict'.\n",
            "There are 0 directories and 250 images in '101_food_classes_10_percent/test/gnocchi'.\n",
            "There are 0 directories and 250 images in '101_food_classes_10_percent/test/caesar_salad'.\n",
            "There are 0 directories and 250 images in '101_food_classes_10_percent/test/falafel'.\n",
            "There are 0 directories and 250 images in '101_food_classes_10_percent/test/breakfast_burrito'.\n",
            "There are 0 directories and 250 images in '101_food_classes_10_percent/test/ramen'.\n",
            "There are 0 directories and 250 images in '101_food_classes_10_percent/test/risotto'.\n",
            "There are 0 directories and 250 images in '101_food_classes_10_percent/test/panna_cotta'.\n",
            "There are 0 directories and 250 images in '101_food_classes_10_percent/test/grilled_salmon'.\n",
            "There are 0 directories and 250 images in '101_food_classes_10_percent/test/pho'.\n",
            "There are 0 directories and 250 images in '101_food_classes_10_percent/test/hummus'.\n",
            "There are 0 directories and 250 images in '101_food_classes_10_percent/test/frozen_yogurt'.\n",
            "There are 0 directories and 250 images in '101_food_classes_10_percent/test/chocolate_mousse'.\n",
            "There are 0 directories and 250 images in '101_food_classes_10_percent/test/lobster_roll_sandwich'.\n",
            "There are 0 directories and 250 images in '101_food_classes_10_percent/test/pizza'.\n",
            "There are 0 directories and 250 images in '101_food_classes_10_percent/test/gyoza'.\n",
            "There are 0 directories and 250 images in '101_food_classes_10_percent/test/cheesecake'.\n",
            "There are 0 directories and 250 images in '101_food_classes_10_percent/test/macarons'.\n",
            "There are 0 directories and 250 images in '101_food_classes_10_percent/test/grilled_cheese_sandwich'.\n",
            "There are 0 directories and 250 images in '101_food_classes_10_percent/test/crab_cakes'.\n",
            "There are 0 directories and 250 images in '101_food_classes_10_percent/test/peking_duck'.\n",
            "There are 0 directories and 250 images in '101_food_classes_10_percent/test/spaghetti_carbonara'.\n",
            "There are 0 directories and 250 images in '101_food_classes_10_percent/test/macaroni_and_cheese'.\n",
            "There are 0 directories and 250 images in '101_food_classes_10_percent/test/deviled_eggs'.\n",
            "There are 0 directories and 250 images in '101_food_classes_10_percent/test/nachos'.\n",
            "There are 0 directories and 250 images in '101_food_classes_10_percent/test/bibimbap'.\n",
            "There are 0 directories and 250 images in '101_food_classes_10_percent/test/club_sandwich'.\n",
            "There are 0 directories and 250 images in '101_food_classes_10_percent/test/mussels'.\n",
            "There are 0 directories and 250 images in '101_food_classes_10_percent/test/shrimp_and_grits'.\n",
            "There are 0 directories and 250 images in '101_food_classes_10_percent/test/lobster_bisque'.\n",
            "There are 0 directories and 250 images in '101_food_classes_10_percent/test/cannoli'.\n",
            "There are 0 directories and 250 images in '101_food_classes_10_percent/test/seaweed_salad'.\n",
            "There are 0 directories and 250 images in '101_food_classes_10_percent/test/red_velvet_cake'.\n",
            "There are 0 directories and 250 images in '101_food_classes_10_percent/test/garlic_bread'.\n",
            "There are 0 directories and 250 images in '101_food_classes_10_percent/test/takoyaki'.\n",
            "There are 0 directories and 250 images in '101_food_classes_10_percent/test/croque_madame'.\n",
            "There are 0 directories and 250 images in '101_food_classes_10_percent/test/greek_salad'.\n",
            "There are 0 directories and 250 images in '101_food_classes_10_percent/test/guacamole'.\n",
            "There are 0 directories and 250 images in '101_food_classes_10_percent/test/fish_and_chips'.\n",
            "There are 0 directories and 250 images in '101_food_classes_10_percent/test/chicken_wings'.\n",
            "There are 0 directories and 250 images in '101_food_classes_10_percent/test/poutine'.\n",
            "There are 0 directories and 250 images in '101_food_classes_10_percent/test/churros'.\n",
            "There are 0 directories and 250 images in '101_food_classes_10_percent/test/carrot_cake'.\n",
            "There are 0 directories and 250 images in '101_food_classes_10_percent/test/lasagna'.\n",
            "There are 0 directories and 250 images in '101_food_classes_10_percent/test/paella'.\n",
            "There are 0 directories and 250 images in '101_food_classes_10_percent/test/baklava'.\n",
            "There are 0 directories and 250 images in '101_food_classes_10_percent/test/hot_and_sour_soup'.\n",
            "There are 0 directories and 250 images in '101_food_classes_10_percent/test/tuna_tartare'.\n",
            "There are 0 directories and 250 images in '101_food_classes_10_percent/test/ceviche'.\n",
            "There are 0 directories and 250 images in '101_food_classes_10_percent/test/bruschetta'.\n",
            "There are 0 directories and 250 images in '101_food_classes_10_percent/test/pad_thai'.\n",
            "There are 0 directories and 250 images in '101_food_classes_10_percent/test/onion_rings'.\n",
            "There are 0 directories and 250 images in '101_food_classes_10_percent/test/donuts'.\n",
            "There are 0 directories and 250 images in '101_food_classes_10_percent/test/oysters'.\n",
            "There are 0 directories and 250 images in '101_food_classes_10_percent/test/pork_chop'.\n",
            "There are 0 directories and 250 images in '101_food_classes_10_percent/test/bread_pudding'.\n",
            "There are 0 directories and 250 images in '101_food_classes_10_percent/test/scallops'.\n",
            "There are 0 directories and 250 images in '101_food_classes_10_percent/test/spring_rolls'.\n",
            "There are 0 directories and 250 images in '101_food_classes_10_percent/test/dumplings'.\n",
            "There are 0 directories and 250 images in '101_food_classes_10_percent/test/ravioli'.\n",
            "There are 0 directories and 250 images in '101_food_classes_10_percent/test/creme_brulee'.\n",
            "There are 0 directories and 250 images in '101_food_classes_10_percent/test/ice_cream'.\n",
            "There are 0 directories and 250 images in '101_food_classes_10_percent/test/steak'.\n",
            "There are 0 directories and 250 images in '101_food_classes_10_percent/test/french_onion_soup'.\n",
            "There are 0 directories and 250 images in '101_food_classes_10_percent/test/sashimi'.\n",
            "There are 0 directories and 250 images in '101_food_classes_10_percent/test/chicken_curry'.\n",
            "There are 0 directories and 250 images in '101_food_classes_10_percent/test/edamame'.\n",
            "There are 0 directories and 250 images in '101_food_classes_10_percent/test/samosa'.\n",
            "There are 0 directories and 250 images in '101_food_classes_10_percent/test/huevos_rancheros'.\n",
            "There are 0 directories and 250 images in '101_food_classes_10_percent/test/apple_pie'.\n",
            "There are 0 directories and 250 images in '101_food_classes_10_percent/test/chicken_quesadilla'.\n",
            "There are 0 directories and 250 images in '101_food_classes_10_percent/test/spaghetti_bolognese'.\n",
            "There are 0 directories and 250 images in '101_food_classes_10_percent/test/caprese_salad'.\n",
            "There are 0 directories and 250 images in '101_food_classes_10_percent/test/fried_rice'.\n",
            "There are 0 directories and 250 images in '101_food_classes_10_percent/test/beignets'.\n",
            "There are 0 directories and 250 images in '101_food_classes_10_percent/test/prime_rib'.\n",
            "There are 0 directories and 250 images in '101_food_classes_10_percent/test/tiramisu'.\n",
            "There are 0 directories and 250 images in '101_food_classes_10_percent/test/strawberry_shortcake'.\n",
            "There are 0 directories and 250 images in '101_food_classes_10_percent/test/beef_carpaccio'.\n",
            "There are 0 directories and 250 images in '101_food_classes_10_percent/test/french_toast'.\n",
            "There are 0 directories and 250 images in '101_food_classes_10_percent/test/french_fries'.\n",
            "There are 0 directories and 250 images in '101_food_classes_10_percent/test/cup_cakes'.\n",
            "There are 101 directories and 0 images in '101_food_classes_10_percent/train'.\n",
            "There are 0 directories and 75 images in '101_food_classes_10_percent/train/fried_calamari'.\n",
            "There are 0 directories and 75 images in '101_food_classes_10_percent/train/escargots'.\n",
            "There are 0 directories and 75 images in '101_food_classes_10_percent/train/pancakes'.\n",
            "There are 0 directories and 75 images in '101_food_classes_10_percent/train/sushi'.\n",
            "There are 0 directories and 75 images in '101_food_classes_10_percent/train/chocolate_cake'.\n",
            "There are 0 directories and 75 images in '101_food_classes_10_percent/train/tacos'.\n",
            "There are 0 directories and 75 images in '101_food_classes_10_percent/train/beef_tartare'.\n",
            "There are 0 directories and 75 images in '101_food_classes_10_percent/train/cheese_plate'.\n",
            "There are 0 directories and 75 images in '101_food_classes_10_percent/train/waffles'.\n",
            "There are 0 directories and 75 images in '101_food_classes_10_percent/train/omelette'.\n",
            "There are 0 directories and 75 images in '101_food_classes_10_percent/train/filet_mignon'.\n",
            "There are 0 directories and 75 images in '101_food_classes_10_percent/train/clam_chowder'.\n",
            "There are 0 directories and 75 images in '101_food_classes_10_percent/train/baby_back_ribs'.\n",
            "There are 0 directories and 75 images in '101_food_classes_10_percent/train/hot_dog'.\n",
            "There are 0 directories and 75 images in '101_food_classes_10_percent/train/miso_soup'.\n",
            "There are 0 directories and 75 images in '101_food_classes_10_percent/train/hamburger'.\n",
            "There are 0 directories and 75 images in '101_food_classes_10_percent/train/beet_salad'.\n",
            "There are 0 directories and 75 images in '101_food_classes_10_percent/train/pulled_pork_sandwich'.\n",
            "There are 0 directories and 75 images in '101_food_classes_10_percent/train/foie_gras'.\n",
            "There are 0 directories and 75 images in '101_food_classes_10_percent/train/eggs_benedict'.\n",
            "There are 0 directories and 75 images in '101_food_classes_10_percent/train/gnocchi'.\n",
            "There are 0 directories and 75 images in '101_food_classes_10_percent/train/caesar_salad'.\n",
            "There are 0 directories and 75 images in '101_food_classes_10_percent/train/falafel'.\n",
            "There are 0 directories and 75 images in '101_food_classes_10_percent/train/breakfast_burrito'.\n",
            "There are 0 directories and 75 images in '101_food_classes_10_percent/train/ramen'.\n",
            "There are 0 directories and 75 images in '101_food_classes_10_percent/train/risotto'.\n",
            "There are 0 directories and 75 images in '101_food_classes_10_percent/train/panna_cotta'.\n",
            "There are 0 directories and 75 images in '101_food_classes_10_percent/train/grilled_salmon'.\n",
            "There are 0 directories and 75 images in '101_food_classes_10_percent/train/pho'.\n",
            "There are 0 directories and 75 images in '101_food_classes_10_percent/train/hummus'.\n",
            "There are 0 directories and 75 images in '101_food_classes_10_percent/train/frozen_yogurt'.\n",
            "There are 0 directories and 75 images in '101_food_classes_10_percent/train/chocolate_mousse'.\n",
            "There are 0 directories and 75 images in '101_food_classes_10_percent/train/lobster_roll_sandwich'.\n",
            "There are 0 directories and 75 images in '101_food_classes_10_percent/train/pizza'.\n",
            "There are 0 directories and 75 images in '101_food_classes_10_percent/train/gyoza'.\n",
            "There are 0 directories and 75 images in '101_food_classes_10_percent/train/cheesecake'.\n",
            "There are 0 directories and 75 images in '101_food_classes_10_percent/train/macarons'.\n",
            "There are 0 directories and 75 images in '101_food_classes_10_percent/train/grilled_cheese_sandwich'.\n",
            "There are 0 directories and 75 images in '101_food_classes_10_percent/train/crab_cakes'.\n",
            "There are 0 directories and 75 images in '101_food_classes_10_percent/train/peking_duck'.\n",
            "There are 0 directories and 75 images in '101_food_classes_10_percent/train/spaghetti_carbonara'.\n",
            "There are 0 directories and 75 images in '101_food_classes_10_percent/train/macaroni_and_cheese'.\n",
            "There are 0 directories and 75 images in '101_food_classes_10_percent/train/deviled_eggs'.\n",
            "There are 0 directories and 75 images in '101_food_classes_10_percent/train/nachos'.\n",
            "There are 0 directories and 75 images in '101_food_classes_10_percent/train/bibimbap'.\n",
            "There are 0 directories and 75 images in '101_food_classes_10_percent/train/club_sandwich'.\n",
            "There are 0 directories and 75 images in '101_food_classes_10_percent/train/mussels'.\n",
            "There are 0 directories and 75 images in '101_food_classes_10_percent/train/shrimp_and_grits'.\n",
            "There are 0 directories and 75 images in '101_food_classes_10_percent/train/lobster_bisque'.\n",
            "There are 0 directories and 75 images in '101_food_classes_10_percent/train/cannoli'.\n",
            "There are 0 directories and 75 images in '101_food_classes_10_percent/train/seaweed_salad'.\n",
            "There are 0 directories and 75 images in '101_food_classes_10_percent/train/red_velvet_cake'.\n",
            "There are 0 directories and 75 images in '101_food_classes_10_percent/train/garlic_bread'.\n",
            "There are 0 directories and 75 images in '101_food_classes_10_percent/train/takoyaki'.\n",
            "There are 0 directories and 75 images in '101_food_classes_10_percent/train/croque_madame'.\n",
            "There are 0 directories and 75 images in '101_food_classes_10_percent/train/greek_salad'.\n",
            "There are 0 directories and 75 images in '101_food_classes_10_percent/train/guacamole'.\n",
            "There are 0 directories and 75 images in '101_food_classes_10_percent/train/fish_and_chips'.\n",
            "There are 0 directories and 75 images in '101_food_classes_10_percent/train/chicken_wings'.\n",
            "There are 0 directories and 75 images in '101_food_classes_10_percent/train/poutine'.\n",
            "There are 0 directories and 75 images in '101_food_classes_10_percent/train/churros'.\n",
            "There are 0 directories and 75 images in '101_food_classes_10_percent/train/carrot_cake'.\n",
            "There are 0 directories and 75 images in '101_food_classes_10_percent/train/lasagna'.\n",
            "There are 0 directories and 75 images in '101_food_classes_10_percent/train/paella'.\n",
            "There are 0 directories and 75 images in '101_food_classes_10_percent/train/baklava'.\n",
            "There are 0 directories and 75 images in '101_food_classes_10_percent/train/hot_and_sour_soup'.\n",
            "There are 0 directories and 75 images in '101_food_classes_10_percent/train/tuna_tartare'.\n",
            "There are 0 directories and 75 images in '101_food_classes_10_percent/train/ceviche'.\n",
            "There are 0 directories and 75 images in '101_food_classes_10_percent/train/bruschetta'.\n",
            "There are 0 directories and 75 images in '101_food_classes_10_percent/train/pad_thai'.\n",
            "There are 0 directories and 75 images in '101_food_classes_10_percent/train/onion_rings'.\n",
            "There are 0 directories and 75 images in '101_food_classes_10_percent/train/donuts'.\n",
            "There are 0 directories and 75 images in '101_food_classes_10_percent/train/oysters'.\n",
            "There are 0 directories and 75 images in '101_food_classes_10_percent/train/pork_chop'.\n",
            "There are 0 directories and 75 images in '101_food_classes_10_percent/train/bread_pudding'.\n",
            "There are 0 directories and 75 images in '101_food_classes_10_percent/train/scallops'.\n",
            "There are 0 directories and 75 images in '101_food_classes_10_percent/train/spring_rolls'.\n",
            "There are 0 directories and 75 images in '101_food_classes_10_percent/train/dumplings'.\n",
            "There are 0 directories and 75 images in '101_food_classes_10_percent/train/ravioli'.\n",
            "There are 0 directories and 75 images in '101_food_classes_10_percent/train/creme_brulee'.\n",
            "There are 0 directories and 75 images in '101_food_classes_10_percent/train/ice_cream'.\n",
            "There are 0 directories and 75 images in '101_food_classes_10_percent/train/steak'.\n",
            "There are 0 directories and 75 images in '101_food_classes_10_percent/train/french_onion_soup'.\n",
            "There are 0 directories and 75 images in '101_food_classes_10_percent/train/sashimi'.\n",
            "There are 0 directories and 75 images in '101_food_classes_10_percent/train/chicken_curry'.\n",
            "There are 0 directories and 75 images in '101_food_classes_10_percent/train/edamame'.\n",
            "There are 0 directories and 75 images in '101_food_classes_10_percent/train/samosa'.\n",
            "There are 0 directories and 75 images in '101_food_classes_10_percent/train/huevos_rancheros'.\n",
            "There are 0 directories and 75 images in '101_food_classes_10_percent/train/apple_pie'.\n",
            "There are 0 directories and 75 images in '101_food_classes_10_percent/train/chicken_quesadilla'.\n",
            "There are 0 directories and 75 images in '101_food_classes_10_percent/train/spaghetti_bolognese'.\n",
            "There are 0 directories and 75 images in '101_food_classes_10_percent/train/caprese_salad'.\n",
            "There are 0 directories and 75 images in '101_food_classes_10_percent/train/fried_rice'.\n",
            "There are 0 directories and 75 images in '101_food_classes_10_percent/train/beignets'.\n",
            "There are 0 directories and 75 images in '101_food_classes_10_percent/train/prime_rib'.\n",
            "There are 0 directories and 75 images in '101_food_classes_10_percent/train/tiramisu'.\n",
            "There are 0 directories and 75 images in '101_food_classes_10_percent/train/strawberry_shortcake'.\n",
            "There are 0 directories and 75 images in '101_food_classes_10_percent/train/beef_carpaccio'.\n",
            "There are 0 directories and 75 images in '101_food_classes_10_percent/train/french_toast'.\n",
            "There are 0 directories and 75 images in '101_food_classes_10_percent/train/french_fries'.\n",
            "There are 0 directories and 75 images in '101_food_classes_10_percent/train/cup_cakes'.\n"
          ]
        }
      ]
    },
    {
      "cell_type": "code",
      "source": [
        "#Setup data inputs\n",
        "import tensorflow as tf\n",
        "IMAGE_SIZE=(224,224)\n",
        "BATCH_SIZE=32\n",
        "\n",
        "train_data_all_10_percent=tf.keras.preprocessing.image_dataset_from_directory(train_dir,\n",
        "                                                                              label_mode=\"categorical\",\n",
        "                                                                              image_size=IMAGE_SIZE,\n",
        "                                                                              batch_size=BATCH_SIZE)\n",
        "test_data=tf.keras.preprocessing.image_dataset_from_directory(test_dir,\n",
        "                                                              image_size=IMAGE_SIZE,\n",
        "                                                              label_mode=\"categorical\",\n",
        "                                                              shuffle=False) #Dont shuffle the data for prediction analysis"
      ],
      "metadata": {
        "colab": {
          "base_uri": "https://localhost:8080/"
        },
        "id": "SBjx0hkj4GVw",
        "outputId": "1ba3f6c9-216a-4bef-b12a-5c05cec80805"
      },
      "execution_count": 6,
      "outputs": [
        {
          "output_type": "stream",
          "name": "stdout",
          "text": [
            "Found 7575 files belonging to 101 classes.\n",
            "Found 25250 files belonging to 101 classes.\n"
          ]
        }
      ]
    },
    {
      "cell_type": "markdown",
      "source": [
        "## Training the model with transfer learning with 10% of 101 Food Classes\n",
        "\n",
        "Here are the steps we are going to take\n",
        "* Setup a model checkpoint callback\n",
        "* Create a data augmentation layer to build data augmentation right into the model\n",
        "* Build a headless(no top layers functional efficientNetB0 backboned-model (we'll create our own output layer))\n",
        "* Compile the model\n",
        "* Feature extract for 5 full passes(5 epochs on the dataset and validate on 15% of the data of the test data)"
      ],
      "metadata": {
        "id": "Xdoq2Ybi4hcb"
      }
    },
    {
      "cell_type": "code",
      "source": [
        "#Create checkpoint callback\n",
        "checkpoint_path=\"101_classes_10_percent_data_model_checkpoint\"\n",
        "checkpoint_callback=tf.keras.callbacks.ModelCheckpoint(save_best_only=True,\n",
        "                                                       filepath=checkpoint_path,\n",
        "                                                       save_weights_only=True,\n",
        "                                                       monitor='val_accuracy')"
      ],
      "metadata": {
        "id": "w8HMGlzQ69JY"
      },
      "execution_count": 7,
      "outputs": []
    },
    {
      "cell_type": "code",
      "source": [
        "#Create data Augmentation layer to incorporate it right into the model\n",
        "from tensorflow.keras import layers\n",
        "from tensorflow.keras.layers.experimental import preprocessing\n",
        "from tensorflow.keras.models import Sequential\n",
        "\n",
        "data_augmentation=Sequential([\n",
        "    preprocessing.RandomZoom(0.2),\n",
        "    preprocessing.RandomFlip('horizontal'),\n",
        "    preprocessing.RandomRotation(0.2),\n",
        "    preprocessing.RandomHeight(0.2),\n",
        "    preprocessing.RandomWidth(0.2),\n",
        "    #preprocessing.Rescale(1/255.)# preprocessing built in into EfficientNetB0\n",
        "],name='data_augmentation')"
      ],
      "metadata": {
        "id": "GEpxlSfB7yBg"
      },
      "execution_count": 8,
      "outputs": []
    },
    {
      "cell_type": "code",
      "source": [
        "#Setup the base model and freeze it's layers (feature extraction)\n",
        "base_model=tf.keras.applications.EfficientNetB0(include_top=False)\n",
        "base_model.trainable=False\n",
        "\n",
        "#Setup Model architecture with trainable top layers\n",
        "inputs=layers.Input(shape=(224,224,3),\n",
        "                    name=\"input_layer\")\n",
        "x=data_augmentation(inputs)#augment Images. This only happens during training\n",
        "x=base_model(x,training=False) #put the base model in inference mode. Weights which needs to stay frozen will stay frozen\n",
        "\n",
        "x= layers.GlobalAveragePooling2D(name=\"global_pool_layer\")(x)\n",
        "\n",
        "outputs=layers.Dense(len(train_data_all_10_percent.class_names),\n",
        "                    activation='softmax',\n",
        "                    name='output_layer')(x)\n",
        "\n",
        "model=tf.keras.Model(inputs,outputs)"
      ],
      "metadata": {
        "id": "K1ejSb5E9xfX"
      },
      "execution_count": 9,
      "outputs": []
    },
    {
      "cell_type": "code",
      "source": [
        "model.summary()"
      ],
      "metadata": {
        "colab": {
          "base_uri": "https://localhost:8080/"
        },
        "id": "wEDl7iMMIwob",
        "outputId": "317e34a8-9fd7-4e78-b9c6-d0bfd103ee37"
      },
      "execution_count": 10,
      "outputs": [
        {
          "output_type": "stream",
          "name": "stdout",
          "text": [
            "Model: \"model\"\n",
            "_________________________________________________________________\n",
            " Layer (type)                Output Shape              Param #   \n",
            "=================================================================\n",
            " input_layer (InputLayer)    [(None, 224, 224, 3)]     0         \n",
            "                                                                 \n",
            " data_augmentation (Sequenti  (None, None, None, 3)    0         \n",
            " al)                                                             \n",
            "                                                                 \n",
            " efficientnetb0 (Functional)  (None, None, None, 1280)  4049571  \n",
            "                                                                 \n",
            " global_pool_layer (GlobalAv  (None, 1280)             0         \n",
            " eragePooling2D)                                                 \n",
            "                                                                 \n",
            " output_layer (Dense)        (None, 101)               129381    \n",
            "                                                                 \n",
            "=================================================================\n",
            "Total params: 4,178,952\n",
            "Trainable params: 129,381\n",
            "Non-trainable params: 4,049,571\n",
            "_________________________________________________________________\n"
          ]
        }
      ]
    },
    {
      "cell_type": "code",
      "source": [
        "model.compile(loss='categorical_crossentropy',\n",
        "              metrics=['accuracy'],\n",
        "              optimizer=tf.keras.optimizers.Adam(learning_rate=0.001))"
      ],
      "metadata": {
        "id": "Z7e7SNyfJMBO"
      },
      "execution_count": 11,
      "outputs": []
    },
    {
      "cell_type": "code",
      "source": [
        "history_all_classes_10_percent=model.fit(train_data_all_10_percent,\n",
        "                                                   steps_per_epoch=len(train_data_all_10_percent),\n",
        "                                                   epochs=5,\n",
        "                                                    validation_data=test_data,\n",
        "                                         validation_steps=int(0.15*len(test_data)),\n",
        "                                         callbacks=[checkpoint_callback])"
      ],
      "metadata": {
        "colab": {
          "base_uri": "https://localhost:8080/"
        },
        "id": "T_2ZPRRYJiE-",
        "outputId": "b47d8a44-f585-4380-91d8-ccc9c1e74e90"
      },
      "execution_count": 12,
      "outputs": [
        {
          "output_type": "stream",
          "name": "stdout",
          "text": [
            "Epoch 1/5\n",
            "237/237 [==============================] - 110s 402ms/step - loss: 3.3542 - accuracy: 0.2797 - val_loss: 2.5199 - val_accuracy: 0.4412\n",
            "Epoch 2/5\n",
            "237/237 [==============================] - 71s 296ms/step - loss: 2.1821 - accuracy: 0.5039 - val_loss: 2.0233 - val_accuracy: 0.5095\n",
            "Epoch 3/5\n",
            "237/237 [==============================] - 63s 263ms/step - loss: 1.8124 - accuracy: 0.5737 - val_loss: 1.8949 - val_accuracy: 0.5230\n",
            "Epoch 4/5\n",
            "237/237 [==============================] - 60s 250ms/step - loss: 1.6025 - accuracy: 0.6049 - val_loss: 1.7781 - val_accuracy: 0.5477\n",
            "Epoch 5/5\n",
            "237/237 [==============================] - 56s 234ms/step - loss: 1.4446 - accuracy: 0.6471 - val_loss: 1.7546 - val_accuracy: 0.5442\n"
          ]
        }
      ]
    },
    {
      "cell_type": "code",
      "source": [
        "fine_tuning_results=model.evaluate(test_data)\n",
        "fine_tuning_results"
      ],
      "metadata": {
        "colab": {
          "base_uri": "https://localhost:8080/"
        },
        "id": "7F10TT53KJYP",
        "outputId": "afd6f043-1416-4b36-e36f-73a843fd4709"
      },
      "execution_count": 13,
      "outputs": [
        {
          "output_type": "stream",
          "name": "stdout",
          "text": [
            "790/790 [==============================] - 84s 106ms/step - loss: 1.5812 - accuracy: 0.5839\n"
          ]
        },
        {
          "output_type": "execute_result",
          "data": {
            "text/plain": [
              "[1.5811946392059326, 0.5838811993598938]"
            ]
          },
          "metadata": {},
          "execution_count": 13
        }
      ]
    },
    {
      "cell_type": "code",
      "source": [
        "plot_loss_curves(history_all_classes_10_percent)"
      ],
      "metadata": {
        "colab": {
          "base_uri": "https://localhost:8080/",
          "height": 927
        },
        "id": "qG1AW6CeLAYX",
        "outputId": "2afcbf51-9bf3-4fa5-b8d0-11961dd9f7b9"
      },
      "execution_count": 14,
      "outputs": [
        {
          "output_type": "display_data",
          "data": {
            "text/plain": [
              "<Figure size 640x480 with 1 Axes>"
            ],
            "image/png": "[encoded data removed]"
          },
          "metadata": {}
        },
        {
          "output_type": "display_data",
          "data": {
            "text/plain": [
              "<Figure size 640x480 with 1 Axes>"
            ],
            "image/png": "[encoded data removed]"
          },
          "metadata": {}
        }
      ]
    },
    {
      "cell_type": "markdown",
      "source": [
        "Looking at the curves, as the 2 curves should be very close to each other, which leads to situation where the model is overfitting"
      ],
      "metadata": {
        "id": "BQK3GaZZLUj9"
      }
    },
    {
      "cell_type": "markdown",
      "source": [
        "## Fine-tuning"
      ],
      "metadata": {
        "id": "2Bnbl8YxMBDA"
      }
    },
    {
      "cell_type": "code",
      "source": [
        "#Unfreeze all of the layers in the base model \n",
        "base_model.trainable = True\n",
        "\n",
        "#Refreeze the layers except last 5\n",
        "for layer in base_model.layers[:-5]:\n",
        "  layer.trainable = False"
      ],
      "metadata": {
        "id": "OugYG2vpMEGM"
      },
      "execution_count": 32,
      "outputs": []
    },
    {
      "cell_type": "code",
      "source": [
        "model.compile(optimizer=tf.keras.optimizers.Adam(learning_rate=0.0001),\n",
        "              loss='categorical_crossentropy',\n",
        "              metrics=['accuracy'])"
      ],
      "metadata": {
        "id": "SzckM-DLMeQM"
      },
      "execution_count": 33,
      "outputs": []
    },
    {
      "cell_type": "code",
      "source": [
        "#what layers in the model are trainable\n",
        "for layer in model.layers:\n",
        "  print(layer.name, layer.trainable)"
      ],
      "metadata": {
        "colab": {
          "base_uri": "https://localhost:8080/"
        },
        "id": "BhOXyJCCMefV",
        "outputId": "3e1acb0b-8b47-48ae-fcfb-826fddc1d19d"
      },
      "execution_count": 34,
      "outputs": [
        {
          "output_type": "stream",
          "name": "stdout",
          "text": [
            "input_layer True\n",
            "data_augmentation True\n",
            "efficientnetb0 True\n",
            "global_pool_layer True\n",
            "output_layer True\n"
          ]
        }
      ]
    },
    {
      "cell_type": "code",
      "source": [
        "for layer in model.layers[2].layers:\n",
        "  print(layer.name, layer.trainable)"
      ],
      "metadata": {
        "colab": {
          "base_uri": "https://localhost:8080/"
        },
        "id": "bGnjRYYTNkZ2",
        "outputId": "712691de-c870-44bb-b03d-228a20c7fada"
      },
      "execution_count": 35,
      "outputs": [
        {
          "output_type": "stream",
          "name": "stdout",
          "text": [
            "input_1 False\n",
            "rescaling False\n",
            "normalization False\n",
            "rescaling_1 False\n",
            "stem_conv_pad False\n",
            "stem_conv False\n",
            "stem_bn False\n",
            "stem_activation False\n",
            "block1a_dwconv False\n",
            "block1a_bn False\n",
            "block1a_activation False\n",
            "block1a_se_squeeze False\n",
            "block1a_se_reshape False\n",
            "block1a_se_reduce False\n",
            "block1a_se_expand False\n",
            "block1a_se_excite False\n",
            "block1a_project_conv False\n",
            "block1a_project_bn False\n",
            "block2a_expand_conv False\n",
            "block2a_expand_bn False\n",
            "block2a_expand_activation False\n",
            "block2a_dwconv_pad False\n",
            "block2a_dwconv False\n",
            "block2a_bn False\n",
            "block2a_activation False\n",
            "block2a_se_squeeze False\n",
            "block2a_se_reshape False\n",
            "block2a_se_reduce False\n",
            "block2a_se_expand False\n",
            "block2a_se_excite False\n",
            "block2a_project_conv False\n",
            "block2a_project_bn False\n",
            "block2b_expand_conv False\n",
            "block2b_expand_bn False\n",
            "block2b_expand_activation False\n",
            "block2b_dwconv False\n",
            "block2b_bn False\n",
            "block2b_activation False\n",
            "block2b_se_squeeze False\n",
            "block2b_se_reshape False\n",
            "block2b_se_reduce False\n",
            "block2b_se_expand False\n",
            "block2b_se_excite False\n",
            "block2b_project_conv False\n",
            "block2b_project_bn False\n",
            "block2b_drop False\n",
            "block2b_add False\n",
            "block3a_expand_conv False\n",
            "block3a_expand_bn False\n",
            "block3a_expand_activation False\n",
            "block3a_dwconv_pad False\n",
            "block3a_dwconv False\n",
            "block3a_bn False\n",
            "block3a_activation False\n",
            "block3a_se_squeeze False\n",
            "block3a_se_reshape False\n",
            "block3a_se_reduce False\n",
            "block3a_se_expand False\n",
            "block3a_se_excite False\n",
            "block3a_project_conv False\n",
            "block3a_project_bn False\n",
            "block3b_expand_conv False\n",
            "block3b_expand_bn False\n",
            "block3b_expand_activation False\n",
            "block3b_dwconv False\n",
            "block3b_bn False\n",
            "block3b_activation False\n",
            "block3b_se_squeeze False\n",
            "block3b_se_reshape False\n",
            "block3b_se_reduce False\n",
            "block3b_se_expand False\n",
            "block3b_se_excite False\n",
            "block3b_project_conv False\n",
            "block3b_project_bn False\n",
            "block3b_drop False\n",
            "block3b_add False\n",
            "block4a_expand_conv False\n",
            "block4a_expand_bn False\n",
            "block4a_expand_activation False\n",
            "block4a_dwconv_pad False\n",
            "block4a_dwconv False\n",
            "block4a_bn False\n",
            "block4a_activation False\n",
            "block4a_se_squeeze False\n",
            "block4a_se_reshape False\n",
            "block4a_se_reduce False\n",
            "block4a_se_expand False\n",
            "block4a_se_excite False\n",
            "block4a_project_conv False\n",
            "block4a_project_bn False\n",
            "block4b_expand_conv False\n",
            "block4b_expand_bn False\n",
            "block4b_expand_activation False\n",
            "block4b_dwconv False\n",
            "block4b_bn False\n",
            "block4b_activation False\n",
            "block4b_se_squeeze False\n",
            "block4b_se_reshape False\n",
            "block4b_se_reduce False\n",
            "block4b_se_expand False\n",
            "block4b_se_excite False\n",
            "block4b_project_conv False\n",
            "block4b_project_bn False\n",
            "block4b_drop False\n",
            "block4b_add False\n",
            "block4c_expand_conv False\n",
            "block4c_expand_bn False\n",
            "block4c_expand_activation False\n",
            "block4c_dwconv False\n",
            "block4c_bn False\n",
            "block4c_activation False\n",
            "block4c_se_squeeze False\n",
            "block4c_se_reshape False\n",
            "block4c_se_reduce False\n",
            "block4c_se_expand False\n",
            "block4c_se_excite False\n",
            "block4c_project_conv False\n",
            "block4c_project_bn False\n",
            "block4c_drop False\n",
            "block4c_add False\n",
            "block5a_expand_conv False\n",
            "block5a_expand_bn False\n",
            "block5a_expand_activation False\n",
            "block5a_dwconv False\n",
            "block5a_bn False\n",
            "block5a_activation False\n",
            "block5a_se_squeeze False\n",
            "block5a_se_reshape False\n",
            "block5a_se_reduce False\n",
            "block5a_se_expand False\n",
            "block5a_se_excite False\n",
            "block5a_project_conv False\n",
            "block5a_project_bn False\n",
            "block5b_expand_conv False\n",
            "block5b_expand_bn False\n",
            "block5b_expand_activation False\n",
            "block5b_dwconv False\n",
            "block5b_bn False\n",
            "block5b_activation False\n",
            "block5b_se_squeeze False\n",
            "block5b_se_reshape False\n",
            "block5b_se_reduce False\n",
            "block5b_se_expand False\n",
            "block5b_se_excite False\n",
            "block5b_project_conv False\n",
            "block5b_project_bn False\n",
            "block5b_drop False\n",
            "block5b_add False\n",
            "block5c_expand_conv False\n",
            "block5c_expand_bn False\n",
            "block5c_expand_activation False\n",
            "block5c_dwconv False\n",
            "block5c_bn False\n",
            "block5c_activation False\n",
            "block5c_se_squeeze False\n",
            "block5c_se_reshape False\n",
            "block5c_se_reduce False\n",
            "block5c_se_expand False\n",
            "block5c_se_excite False\n",
            "block5c_project_conv False\n",
            "block5c_project_bn False\n",
            "block5c_drop False\n",
            "block5c_add False\n",
            "block6a_expand_conv False\n",
            "block6a_expand_bn False\n",
            "block6a_expand_activation False\n",
            "block6a_dwconv_pad False\n",
            "block6a_dwconv False\n",
            "block6a_bn False\n",
            "block6a_activation False\n",
            "block6a_se_squeeze False\n",
            "block6a_se_reshape False\n",
            "block6a_se_reduce False\n",
            "block6a_se_expand False\n",
            "block6a_se_excite False\n",
            "block6a_project_conv False\n",
            "block6a_project_bn False\n",
            "block6b_expand_conv False\n",
            "block6b_expand_bn False\n",
            "block6b_expand_activation False\n",
            "block6b_dwconv False\n",
            "block6b_bn False\n",
            "block6b_activation False\n",
            "block6b_se_squeeze False\n",
            "block6b_se_reshape False\n",
            "block6b_se_reduce False\n",
            "block6b_se_expand False\n",
            "block6b_se_excite False\n",
            "block6b_project_conv False\n",
            "block6b_project_bn False\n",
            "block6b_drop False\n",
            "block6b_add False\n",
            "block6c_expand_conv False\n",
            "block6c_expand_bn False\n",
            "block6c_expand_activation False\n",
            "block6c_dwconv False\n",
            "block6c_bn False\n",
            "block6c_activation False\n",
            "block6c_se_squeeze False\n",
            "block6c_se_reshape False\n",
            "block6c_se_reduce False\n",
            "block6c_se_expand False\n",
            "block6c_se_excite False\n",
            "block6c_project_conv False\n",
            "block6c_project_bn False\n",
            "block6c_drop False\n",
            "block6c_add False\n",
            "block6d_expand_conv False\n",
            "block6d_expand_bn False\n",
            "block6d_expand_activation False\n",
            "block6d_dwconv False\n",
            "block6d_bn False\n",
            "block6d_activation False\n",
            "block6d_se_squeeze False\n",
            "block6d_se_reshape False\n",
            "block6d_se_reduce False\n",
            "block6d_se_expand False\n",
            "block6d_se_excite False\n",
            "block6d_project_conv False\n",
            "block6d_project_bn False\n",
            "block6d_drop False\n",
            "block6d_add False\n",
            "block7a_expand_conv False\n",
            "block7a_expand_bn False\n",
            "block7a_expand_activation False\n",
            "block7a_dwconv False\n",
            "block7a_bn False\n",
            "block7a_activation False\n",
            "block7a_se_squeeze False\n",
            "block7a_se_reshape False\n",
            "block7a_se_reduce False\n",
            "block7a_se_expand False\n",
            "block7a_se_excite False\n",
            "block7a_project_conv True\n",
            "block7a_project_bn True\n",
            "top_conv True\n",
            "top_bn True\n",
            "top_activation True\n"
          ]
        }
      ]
    },
    {
      "cell_type": "code",
      "source": [
        "#Fine Tune for 5 epochs\n",
        "fine_tune_epochs=10 #model has already done 5 epochs feature extraction\n",
        "initial_epochs=5\n",
        "\n",
        "history_all_classes_10_percent_fine_tune=model.fit(train_data_all_10_percent,\n",
        "                                                   epochs=fine_tune_epochs,\n",
        "                                                   validation_data=test_data,\n",
        "                                                   validation_steps=int(0.15*len(test_data)),\n",
        "                                                   initial_epoch=history_all_classes_10_percent.epoch[-1])"
      ],
      "metadata": {
        "colab": {
          "base_uri": "https://localhost:8080/"
        },
        "id": "JmqMiWZqNnsi",
        "outputId": "a88329ed-13f3-4d40-905e-54292e368a58"
      },
      "execution_count": 36,
      "outputs": [
        {
          "output_type": "stream",
          "name": "stdout",
          "text": [
            "Epoch 5/10\n",
            "237/237 [==============================] - 70s 253ms/step - loss: 1.2089 - accuracy: 0.6807 - val_loss: 1.6766 - val_accuracy: 0.5527\n",
            "Epoch 6/10\n",
            "237/237 [==============================] - 54s 224ms/step - loss: 1.0954 - accuracy: 0.7023 - val_loss: 1.6647 - val_accuracy: 0.5601\n",
            "Epoch 7/10\n",
            "237/237 [==============================] - 50s 209ms/step - loss: 1.0126 - accuracy: 0.7283 - val_loss: 1.6720 - val_accuracy: 0.5580\n",
            "Epoch 8/10\n",
            "237/237 [==============================] - 44s 182ms/step - loss: 0.9459 - accuracy: 0.7468 - val_loss: 1.6563 - val_accuracy: 0.5638\n",
            "Epoch 9/10\n",
            "237/237 [==============================] - 60s 250ms/step - loss: 0.8823 - accuracy: 0.7644 - val_loss: 1.6677 - val_accuracy: 0.5577\n",
            "Epoch 10/10\n",
            "237/237 [==============================] - 50s 210ms/step - loss: 0.8471 - accuracy: 0.7725 - val_loss: 1.6957 - val_accuracy: 0.5514\n"
          ]
        }
      ]
    },
    {
      "cell_type": "code",
      "source": [
        "all_classes_10_percent_fine_tune_results=model.evaluate(test_data)"
      ],
      "metadata": {
        "colab": {
          "base_uri": "https://localhost:8080/"
        },
        "id": "fyM_naQXR-MZ",
        "outputId": "211bce7b-e73e-4c4c-fbd1-960da86719c2"
      },
      "execution_count": 51,
      "outputs": [
        {
          "output_type": "stream",
          "name": "stdout",
          "text": [
            "790/790 [==============================] - 56s 70ms/step - loss: 1.8027 - accuracy: 0.6078\n"
          ]
        }
      ]
    },
    {
      "cell_type": "code",
      "source": [
        "plot_loss_curves(history_all_classes_10_percent_fine_tune)"
      ],
      "metadata": {
        "colab": {
          "base_uri": "https://localhost:8080/",
          "height": 927
        },
        "id": "egUlwFCgSNeb",
        "outputId": "ef41f78a-c7c5-4b45-ffe2-3bc6d57842ac"
      },
      "execution_count": 38,
      "outputs": [
        {
          "output_type": "display_data",
          "data": {
            "text/plain": [
              "<Figure size 640x480 with 1 Axes>"
            ],
            "image/png": "[encoded data removed]"
          },
          "metadata": {}
        },
        {
          "output_type": "display_data",
          "data": {
            "text/plain": [
              "<Figure size 640x480 with 1 Axes>"
            ],
            "image/png": "[encoded data removed]"
          },
          "metadata": {}
        }
      ]
    },
    {
      "cell_type": "code",
      "source": [
        "#compare the histories of feature extraction with fine-tuned model\n",
        "compare_historys(original_history=history_all_classes_10_percent,\n",
        "                 new_history=history_all_classes_10_percent_fine_tune,\n",
        "                 initial_epochs=5)\n"
      ],
      "metadata": {
        "colab": {
          "base_uri": "https://localhost:8080/",
          "height": 674
        },
        "id": "xSpKvAo4SUvP",
        "outputId": "326c2a3d-e927-4339-cd01-73d5dc71d1e7"
      },
      "execution_count": 39,
      "outputs": [
        {
          "output_type": "display_data",
          "data": {
            "text/plain": [
              "<Figure size 800x800 with 2 Axes>"
            ],
            "image/png": "[encoded data removed]"
          },
          "metadata": {}
        }
      ]
    },
    {
      "cell_type": "markdown",
      "source": [
        "## Saving and loading the model\n",
        "\n",
        "To use the model in an extrnal app, we need to save and export it"
      ],
      "metadata": {
        "id": "FjFRwXeNTRCw"
      }
    },
    {
      "cell_type": "code",
      "source": [
        "#Save the model\n",
        "#model.save(\"101_food_classes_model_fine_tuned_10_percent_data\")"
      ],
      "metadata": {
        "colab": {
          "base_uri": "https://localhost:8080/",
          "height": 383
        },
        "id": "uKL_HUWNUWPn",
        "outputId": "dde590ac-ab8a-44a0-9307-8412fa9fe9fe"
      },
      "execution_count": 41,
      "outputs": [
        {
          "output_type": "stream",
          "name": "stderr",
          "text": [
            "WARNING:absl:Found untraced functions such as _jit_compiled_convolution_op, _jit_compiled_convolution_op, _jit_compiled_convolution_op, _jit_compiled_convolution_op, _jit_compiled_convolution_op while saving (showing 5 of 81). These functions will not be directly callable after loading.\n"
          ]
        },
        {
          "output_type": "error",
          "ename": "TypeError",
          "evalue": "ignored",
          "traceback": [
            "\u001b[0;31m---------------------------------------------------------------------------\u001b[0m",
            "\u001b[0;31mTypeError\u001b[0m                                 Traceback (most recent call last)",
            "\u001b[0;32m<ipython-input-41-a6c540beb511>\u001b[0m in \u001b[0;36m<cell line: 2>\u001b[0;34m()\u001b[0m\n\u001b[1;32m      1\u001b[0m \u001b[0;31m#Save the model\u001b[0m\u001b[0;34m\u001b[0m\u001b[0;34m\u001b[0m\u001b[0m\n\u001b[0;32m----> 2\u001b[0;31m \u001b[0mmodel\u001b[0m\u001b[0;34m.\u001b[0m\u001b[0msave\u001b[0m\u001b[0;34m(\u001b[0m\u001b[0;34m\"101_food_classes_model_fine_tuned_10_percent_data\"\u001b[0m\u001b[0;34m)\u001b[0m\u001b[0;34m\u001b[0m\u001b[0;34m\u001b[0m\u001b[0m\n\u001b[0m",
            "\u001b[0;32m/usr/local/lib/python3.10/dist-packages/keras/utils/traceback_utils.py\u001b[0m in \u001b[0;36merror_handler\u001b[0;34m(*args, **kwargs)\u001b[0m\n\u001b[1;32m     68\u001b[0m             \u001b[0;31m# To get the full stack trace, call:\u001b[0m\u001b[0;34m\u001b[0m\u001b[0;34m\u001b[0m\u001b[0m\n\u001b[1;32m     69\u001b[0m             \u001b[0;31m# `tf.debugging.disable_traceback_filtering()`\u001b[0m\u001b[0;34m\u001b[0m\u001b[0;34m\u001b[0m\u001b[0m\n\u001b[0;32m---> 70\u001b[0;31m             \u001b[0;32mraise\u001b[0m \u001b[0me\u001b[0m\u001b[0;34m.\u001b[0m\u001b[0mwith_traceback\u001b[0m\u001b[0;34m(\u001b[0m\u001b[0mfiltered_tb\u001b[0m\u001b[0;34m)\u001b[0m \u001b[0;32mfrom\u001b[0m \u001b[0;32mNone\u001b[0m\u001b[0;34m\u001b[0m\u001b[0;34m\u001b[0m\u001b[0m\n\u001b[0m\u001b[1;32m     71\u001b[0m         \u001b[0;32mfinally\u001b[0m\u001b[0;34m:\u001b[0m\u001b[0;34m\u001b[0m\u001b[0;34m\u001b[0m\u001b[0m\n\u001b[1;32m     72\u001b[0m             \u001b[0;32mdel\u001b[0m \u001b[0mfiltered_tb\u001b[0m\u001b[0;34m\u001b[0m\u001b[0;34m\u001b[0m\u001b[0m\n",
            "\u001b[0;32m/usr/lib/python3.10/json/encoder.py\u001b[0m in \u001b[0;36mencode\u001b[0;34m(self, o)\u001b[0m\n\u001b[1;32m    197\u001b[0m         \u001b[0;31m# exceptions aren't as detailed.  The list call should be roughly\u001b[0m\u001b[0;34m\u001b[0m\u001b[0;34m\u001b[0m\u001b[0m\n\u001b[1;32m    198\u001b[0m         \u001b[0;31m# equivalent to the PySequence_Fast that ''.join() would do.\u001b[0m\u001b[0;34m\u001b[0m\u001b[0;34m\u001b[0m\u001b[0m\n\u001b[0;32m--> 199\u001b[0;31m         \u001b[0mchunks\u001b[0m \u001b[0;34m=\u001b[0m \u001b[0mself\u001b[0m\u001b[0;34m.\u001b[0m\u001b[0miterencode\u001b[0m\u001b[0;34m(\u001b[0m\u001b[0mo\u001b[0m\u001b[0;34m,\u001b[0m \u001b[0m_one_shot\u001b[0m\u001b[0;34m=\u001b[0m\u001b[0;32mTrue\u001b[0m\u001b[0;34m)\u001b[0m\u001b[0;34m\u001b[0m\u001b[0;34m\u001b[0m\u001b[0m\n\u001b[0m\u001b[1;32m    200\u001b[0m         \u001b[0;32mif\u001b[0m \u001b[0;32mnot\u001b[0m \u001b[0misinstance\u001b[0m\u001b[0;34m(\u001b[0m\u001b[0mchunks\u001b[0m\u001b[0;34m,\u001b[0m \u001b[0;34m(\u001b[0m\u001b[0mlist\u001b[0m\u001b[0;34m,\u001b[0m \u001b[0mtuple\u001b[0m\u001b[0;34m)\u001b[0m\u001b[0;34m)\u001b[0m\u001b[0;34m:\u001b[0m\u001b[0;34m\u001b[0m\u001b[0;34m\u001b[0m\u001b[0m\n\u001b[1;32m    201\u001b[0m             \u001b[0mchunks\u001b[0m \u001b[0;34m=\u001b[0m \u001b[0mlist\u001b[0m\u001b[0;34m(\u001b[0m\u001b[0mchunks\u001b[0m\u001b[0;34m)\u001b[0m\u001b[0;34m\u001b[0m\u001b[0;34m\u001b[0m\u001b[0m\n",
            "\u001b[0;32m/usr/lib/python3.10/json/encoder.py\u001b[0m in \u001b[0;36miterencode\u001b[0;34m(self, o, _one_shot)\u001b[0m\n\u001b[1;32m    255\u001b[0m                 \u001b[0mself\u001b[0m\u001b[0;34m.\u001b[0m\u001b[0mkey_separator\u001b[0m\u001b[0;34m,\u001b[0m \u001b[0mself\u001b[0m\u001b[0;34m.\u001b[0m\u001b[0mitem_separator\u001b[0m\u001b[0;34m,\u001b[0m \u001b[0mself\u001b[0m\u001b[0;34m.\u001b[0m\u001b[0msort_keys\u001b[0m\u001b[0;34m,\u001b[0m\u001b[0;34m\u001b[0m\u001b[0;34m\u001b[0m\u001b[0m\n\u001b[1;32m    256\u001b[0m                 self.skipkeys, _one_shot)\n\u001b[0;32m--> 257\u001b[0;31m         \u001b[0;32mreturn\u001b[0m \u001b[0m_iterencode\u001b[0m\u001b[0;34m(\u001b[0m\u001b[0mo\u001b[0m\u001b[0;34m,\u001b[0m \u001b[0;36m0\u001b[0m\u001b[0;34m)\u001b[0m\u001b[0;34m\u001b[0m\u001b[0;34m\u001b[0m\u001b[0m\n\u001b[0m\u001b[1;32m    258\u001b[0m \u001b[0;34m\u001b[0m\u001b[0m\n\u001b[1;32m    259\u001b[0m def _make_iterencode(markers, _default, _encoder, _indent, _floatstr,\n",
            "\u001b[0;31mTypeError\u001b[0m: Unable to serialize [2.0896919 2.1128857 2.1081853] to JSON. Unrecognized type <class 'tensorflow.python.framework.ops.EagerTensor'>."
          ]
        }
      ]
    },
    {
      "cell_type": "code",
      "source": [
        "#Load and evaluate the saved model\n",
        "# loaded_model =tf.keras.models.load_model(\"101_food_classes_model_fine_tuned_10_percent_data\")"
      ],
      "metadata": {
        "id": "7p7Fd4eFUrHz"
      },
      "execution_count": null,
      "outputs": []
    },
    {
      "cell_type": "code",
      "source": [
        "# loaded_model.evaluate(test_data)"
      ],
      "metadata": {
        "id": "iyQEr-jTU42H"
      },
      "execution_count": null,
      "outputs": []
    },
    {
      "cell_type": "markdown",
      "source": [
        "Let's make some predictions and vizualize them and see which ones were the most wrong"
      ],
      "metadata": {
        "id": "HEc2Y8WLVn7G"
      }
    },
    {
      "cell_type": "code",
      "source": [
        "import tensorflow as tf\n",
        "\n",
        "!wget https://storage.googleapis.com/ztm_tf_course/food_vision/06_101_food_class_10_percent_saved_big_dog_model.zip"
      ],
      "metadata": {
        "colab": {
          "base_uri": "https://localhost:8080/"
        },
        "id": "vMEnvNleWaUm",
        "outputId": "5159cc84-9654-4775-8104-d81c77a554e8"
      },
      "execution_count": 43,
      "outputs": [
        {
          "output_type": "stream",
          "name": "stdout",
          "text": [
            "--2023-06-07 10:15:03--  https://storage.googleapis.com/ztm_tf_course/food_vision/06_101_food_class_10_percent_saved_big_dog_model.zip\n",
            "Resolving storage.googleapis.com (storage.googleapis.com)... 142.250.1.128, 108.177.121.128, 142.250.103.128, ...\n",
            "Connecting to storage.googleapis.com (storage.googleapis.com)|142.250.1.128|:443... connected.\n",
            "HTTP request sent, awaiting response... 200 OK\n",
            "Length: 46760742 (45M) [application/zip]\n",
            "Saving to: ‘06_101_food_class_10_percent_saved_big_dog_model.zip’\n",
            "\n",
            "06_101_food_class_1 100%[===================>]  44.59M   129MB/s    in 0.3s    \n",
            "\n",
            "2023-06-07 10:15:03 (129 MB/s) - ‘06_101_food_class_10_percent_saved_big_dog_model.zip’ saved [46760742/46760742]\n",
            "\n"
          ]
        }
      ]
    },
    {
      "cell_type": "code",
      "source": [
        "unzip_data(\"06_101_food_class_10_percent_saved_big_dog_model.zip\")"
      ],
      "metadata": {
        "id": "rjfTn8J4WkZk"
      },
      "execution_count": 44,
      "outputs": []
    },
    {
      "cell_type": "code",
      "source": [
        "model=tf.keras.models.load_model(\"06_101_food_class_10_percent_saved_big_dog_model\")"
      ],
      "metadata": {
        "colab": {
          "base_uri": "https://localhost:8080/"
        },
        "id": "6CA8nXmPW0uk",
        "outputId": "a69fd3bf-2e65-427d-d49b-b8da210c78a1"
      },
      "execution_count": 54,
      "outputs": [
        {
          "output_type": "stream",
          "name": "stderr",
          "text": [
            "WARNING:tensorflow:SavedModel saved prior to TF 2.5 detected when loading Keras model. Please ensure that you are saving the model with model.save() or tf.keras.models.save_model(), *NOT* tf.saved_model.save(). To confirm, there should be a file named \"keras_metadata.pb\" in the SavedModel directory.\n",
            "WARNING:absl:Importing a function (__inference_block6c_expand_activation_layer_call_and_return_conditional_losses_419470) with ops with unsaved custom gradients. Will likely fail if a gradient is requested.\n",
            "WARNING:absl:Importing a function (__inference_efficientnetb0_layer_call_and_return_conditional_losses_446460) with ops with unsaved custom gradients. Will likely fail if a gradient is requested.\n",
            "WARNING:absl:Importing a function (__inference_block2a_activation_layer_call_and_return_conditional_losses_450449) with ops with unsaved custom gradients. Will likely fail if a gradient is requested.\n",
            "WARNING:absl:Importing a function (__inference_block2a_expand_activation_layer_call_and_return_conditional_losses_415747) with ops with unsaved custom gradients. Will likely fail if a gradient is requested.\n",
            "WARNING:absl:Importing a function (__inference_block2b_activation_layer_call_and_return_conditional_losses_416083) with ops with unsaved custom gradients. Will likely fail if a gradient is requested.\n",
            "WARNING:absl:Importing a function (__inference_block2b_activation_layer_call_and_return_conditional_losses_450775) with ops with unsaved custom gradients. Will likely fail if a gradient is requested.\n",
            "WARNING:absl:Importing a function (__inference_block4a_activation_layer_call_and_return_conditional_losses_451847) with ops with unsaved custom gradients. Will likely fail if a gradient is requested.\n",
            "WARNING:absl:Importing a function (__inference_block5a_expand_activation_layer_call_and_return_conditional_losses_417915) with ops with unsaved custom gradients. Will likely fail if a gradient is requested.\n",
            "WARNING:absl:Importing a function (__inference_block4a_se_reduce_layer_call_and_return_conditional_losses_451887) with ops with unsaved custom gradients. Will likely fail if a gradient is requested.\n",
            "WARNING:absl:Importing a function (__inference_block4c_expand_activation_layer_call_and_return_conditional_losses_452467) with ops with unsaved custom gradients. Will likely fail if a gradient is requested.\n",
            "WARNING:absl:Importing a function (__inference_functional_17_layer_call_and_return_conditional_losses_438312) with ops with unsaved custom gradients. Will likely fail if a gradient is requested.\n",
            "WARNING:absl:Importing a function (__inference_block4c_expand_activation_layer_call_and_return_conditional_losses_417583) with ops with unsaved custom gradients. Will likely fail if a gradient is requested.\n",
            "WARNING:absl:Importing a function (__inference_block5c_activation_layer_call_and_return_conditional_losses_418582) with ops with unsaved custom gradients. Will likely fail if a gradient is requested.\n",
            "WARNING:absl:Importing a function (__inference_block6a_se_reduce_layer_call_and_return_conditional_losses_454031) with ops with unsaved custom gradients. Will likely fail if a gradient is requested.\n",
            "WARNING:absl:Importing a function (__inference_block7a_activation_layer_call_and_return_conditional_losses_455436) with ops with unsaved custom gradients. Will likely fail if a gradient is requested.\n",
            "WARNING:absl:Importing a function (__inference_block1a_activation_layer_call_and_return_conditional_losses_415524) with ops with unsaved custom gradients. Will likely fail if a gradient is requested.\n",
            "WARNING:absl:Importing a function (__inference_block3b_activation_layer_call_and_return_conditional_losses_451474) with ops with unsaved custom gradients. Will likely fail if a gradient is requested.\n",
            "WARNING:absl:Importing a function (__inference_block4a_expand_activation_layer_call_and_return_conditional_losses_451768) with ops with unsaved custom gradients. Will likely fail if a gradient is requested.\n",
            "WARNING:absl:Importing a function (__inference_efficientnetb0_layer_call_and_return_conditional_losses_441729) with ops with unsaved custom gradients. Will likely fail if a gradient is requested.\n",
            "WARNING:absl:Importing a function (__inference_block6b_se_reduce_layer_call_and_return_conditional_losses_454357) with ops with unsaved custom gradients. Will likely fail if a gradient is requested.\n",
            "WARNING:absl:Importing a function (__inference_block3b_activation_layer_call_and_return_conditional_losses_416695) with ops with unsaved custom gradients. Will likely fail if a gradient is requested.\n",
            "WARNING:absl:Importing a function (__inference_block6b_expand_activation_layer_call_and_return_conditional_losses_454238) with ops with unsaved custom gradients. Will likely fail if a gradient is requested.\n",
            "WARNING:absl:Importing a function (__inference_functional_17_layer_call_and_return_conditional_losses_436681) with ops with unsaved custom gradients. Will likely fail if a gradient is requested.\n",
            "WARNING:absl:Importing a function (__inference_block2a_activation_layer_call_and_return_conditional_losses_415804) with ops with unsaved custom gradients. Will likely fail if a gradient is requested.\n",
            "WARNING:absl:Importing a function (__inference_block5a_activation_layer_call_and_return_conditional_losses_452919) with ops with unsaved custom gradients. Will likely fail if a gradient is requested.\n",
            "WARNING:absl:Importing a function (__inference_block5c_se_reduce_layer_call_and_return_conditional_losses_453658) with ops with unsaved custom gradients. Will likely fail if a gradient is requested.\n",
            "WARNING:absl:Importing a function (__inference_efficientnetb0_layer_call_and_return_conditional_losses_448082) with ops with unsaved custom gradients. Will likely fail if a gradient is requested.\n",
            "WARNING:absl:Importing a function (__inference_block6a_activation_layer_call_and_return_conditional_losses_418915) with ops with unsaved custom gradients. Will likely fail if a gradient is requested.\n",
            "WARNING:absl:Importing a function (__inference_block5c_expand_activation_layer_call_and_return_conditional_losses_453539) with ops with unsaved custom gradients. Will likely fail if a gradient is requested.\n",
            "WARNING:absl:Importing a function (__inference_block4c_se_reduce_layer_call_and_return_conditional_losses_452586) with ops with unsaved custom gradients. Will likely fail if a gradient is requested.\n",
            "WARNING:absl:Importing a function (__inference_block1a_se_reduce_layer_call_and_return_conditional_losses_450163) with ops with unsaved custom gradients. Will likely fail if a gradient is requested.\n",
            "WARNING:absl:Importing a function (__inference_block5a_se_reduce_layer_call_and_return_conditional_losses_418018) with ops with unsaved custom gradients. Will likely fail if a gradient is requested.\n",
            "WARNING:absl:Importing a function (__inference_block7a_expand_activation_layer_call_and_return_conditional_losses_455357) with ops with unsaved custom gradients. Will likely fail if a gradient is requested.\n",
            "WARNING:absl:Importing a function (__inference_block4c_activation_layer_call_and_return_conditional_losses_417639) with ops with unsaved custom gradients. Will likely fail if a gradient is requested.\n",
            "WARNING:absl:Importing a function (__inference_block3a_se_reduce_layer_call_and_return_conditional_losses_451188) with ops with unsaved custom gradients. Will likely fail if a gradient is requested.\n",
            "WARNING:absl:Importing a function (__inference_block7a_activation_layer_call_and_return_conditional_losses_420190) with ops with unsaved custom gradients. Will likely fail if a gradient is requested.\n",
            "WARNING:absl:Importing a function (__inference_stem_activation_layer_call_and_return_conditional_losses_415468) with ops with unsaved custom gradients. Will likely fail if a gradient is requested.\n",
            "WARNING:absl:Importing a function (__inference_block7a_se_reduce_layer_call_and_return_conditional_losses_455476) with ops with unsaved custom gradients. Will likely fail if a gradient is requested.\n",
            "WARNING:absl:Importing a function (__inference_block4b_se_reduce_layer_call_and_return_conditional_losses_417354) with ops with unsaved custom gradients. Will likely fail if a gradient is requested.\n",
            "WARNING:absl:Importing a function (__inference_block4b_se_reduce_layer_call_and_return_conditional_losses_452213) with ops with unsaved custom gradients. Will likely fail if a gradient is requested.\n",
            "WARNING:absl:Importing a function (__inference_block4b_activation_layer_call_and_return_conditional_losses_452173) with ops with unsaved custom gradients. Will likely fail if a gradient is requested.\n",
            "WARNING:absl:Importing a function (__inference_block1a_se_reduce_layer_call_and_return_conditional_losses_415571) with ops with unsaved custom gradients. Will likely fail if a gradient is requested.\n",
            "WARNING:absl:Importing a function (__inference_block3b_se_reduce_layer_call_and_return_conditional_losses_451514) with ops with unsaved custom gradients. Will likely fail if a gradient is requested.\n",
            "WARNING:absl:Importing a function (__inference_block5a_activation_layer_call_and_return_conditional_losses_417971) with ops with unsaved custom gradients. Will likely fail if a gradient is requested.\n",
            "WARNING:absl:Importing a function (__inference_block6c_se_reduce_layer_call_and_return_conditional_losses_454730) with ops with unsaved custom gradients. Will likely fail if a gradient is requested.\n",
            "WARNING:absl:Importing a function (__inference_block3b_se_reduce_layer_call_and_return_conditional_losses_416742) with ops with unsaved custom gradients. Will likely fail if a gradient is requested.\n",
            "WARNING:absl:Importing a function (__inference_block2a_se_reduce_layer_call_and_return_conditional_losses_450489) with ops with unsaved custom gradients. Will likely fail if a gradient is requested.\n",
            "WARNING:absl:Importing a function (__inference_block3a_activation_layer_call_and_return_conditional_losses_451148) with ops with unsaved custom gradients. Will likely fail if a gradient is requested.\n",
            "WARNING:absl:Importing a function (__inference_block5b_expand_activation_layer_call_and_return_conditional_losses_418194) with ops with unsaved custom gradients. Will likely fail if a gradient is requested.\n",
            "WARNING:absl:Importing a function (__inference_block3a_se_reduce_layer_call_and_return_conditional_losses_416463) with ops with unsaved custom gradients. Will likely fail if a gradient is requested.\n",
            "WARNING:absl:Importing a function (__inference_efficientnetb0_layer_call_and_return_conditional_losses_429711) with ops with unsaved custom gradients. Will likely fail if a gradient is requested.\n",
            "WARNING:absl:Importing a function (__inference_efficientnetb0_layer_call_and_return_conditional_losses_443351) with ops with unsaved custom gradients. Will likely fail if a gradient is requested.\n",
            "WARNING:absl:Importing a function (__inference_block5c_expand_activation_layer_call_and_return_conditional_losses_418526) with ops with unsaved custom gradients. Will likely fail if a gradient is requested.\n",
            "WARNING:absl:Importing a function (__inference_block5b_activation_layer_call_and_return_conditional_losses_453245) with ops with unsaved custom gradients. Will likely fail if a gradient is requested.\n",
            "WARNING:absl:Importing a function (__inference_block3a_activation_layer_call_and_return_conditional_losses_416416) with ops with unsaved custom gradients. Will likely fail if a gradient is requested.\n",
            "WARNING:absl:Importing a function (__inference_efficientnetb0_layer_call_and_return_conditional_losses_428089) with ops with unsaved custom gradients. Will likely fail if a gradient is requested.\n",
            "WARNING:absl:Importing a function (__inference_block2b_expand_activation_layer_call_and_return_conditional_losses_416027) with ops with unsaved custom gradients. Will likely fail if a gradient is requested.\n",
            "WARNING:absl:Importing a function (__inference_block6a_expand_activation_layer_call_and_return_conditional_losses_453912) with ops with unsaved custom gradients. Will likely fail if a gradient is requested.\n",
            "WARNING:absl:Importing a function (__inference_block4c_activation_layer_call_and_return_conditional_losses_452546) with ops with unsaved custom gradients. Will likely fail if a gradient is requested.\n",
            "WARNING:absl:Importing a function (__inference_block7a_se_reduce_layer_call_and_return_conditional_losses_420237) with ops with unsaved custom gradients. Will likely fail if a gradient is requested.\n",
            "WARNING:absl:Importing a function (__inference_block5c_se_reduce_layer_call_and_return_conditional_losses_418629) with ops with unsaved custom gradients. Will likely fail if a gradient is requested.\n",
            "WARNING:absl:Importing a function (__inference_block3a_expand_activation_layer_call_and_return_conditional_losses_416359) with ops with unsaved custom gradients. Will likely fail if a gradient is requested.\n",
            "WARNING:absl:Importing a function (__inference_block3b_expand_activation_layer_call_and_return_conditional_losses_451395) with ops with unsaved custom gradients. Will likely fail if a gradient is requested.\n",
            "WARNING:absl:Importing a function (__inference_block6c_activation_layer_call_and_return_conditional_losses_454690) with ops with unsaved custom gradients. Will likely fail if a gradient is requested.\n",
            "WARNING:absl:Importing a function (__inference_block6d_se_reduce_layer_call_and_return_conditional_losses_419905) with ops with unsaved custom gradients. Will likely fail if a gradient is requested.\n",
            "WARNING:absl:Importing a function (__inference_block6c_activation_layer_call_and_return_conditional_losses_419526) with ops with unsaved custom gradients. Will likely fail if a gradient is requested.\n",
            "WARNING:absl:Importing a function (__inference_block5b_se_reduce_layer_call_and_return_conditional_losses_418297) with ops with unsaved custom gradients. Will likely fail if a gradient is requested.\n",
            "WARNING:absl:Importing a function (__inference_block4b_expand_activation_layer_call_and_return_conditional_losses_452094) with ops with unsaved custom gradients. Will likely fail if a gradient is requested.\n",
            "WARNING:absl:Importing a function (__inference__wrapped_model_408990) with ops with unsaved custom gradients. Will likely fail if a gradient is requested.\n",
            "WARNING:absl:Importing a function (__inference_block5c_activation_layer_call_and_return_conditional_losses_453618) with ops with unsaved custom gradients. Will likely fail if a gradient is requested.\n",
            "WARNING:absl:Importing a function (__inference_block6d_expand_activation_layer_call_and_return_conditional_losses_454984) with ops with unsaved custom gradients. Will likely fail if a gradient is requested.\n",
            "WARNING:absl:Importing a function (__inference_block2b_expand_activation_layer_call_and_return_conditional_losses_450696) with ops with unsaved custom gradients. Will likely fail if a gradient is requested.\n",
            "WARNING:absl:Importing a function (__inference_block6a_expand_activation_layer_call_and_return_conditional_losses_418858) with ops with unsaved custom gradients. Will likely fail if a gradient is requested.\n",
            "WARNING:absl:Importing a function (__inference_stem_activation_layer_call_and_return_conditional_losses_450044) with ops with unsaved custom gradients. Will likely fail if a gradient is requested.\n",
            "WARNING:absl:Importing a function (__inference_block5b_activation_layer_call_and_return_conditional_losses_418250) with ops with unsaved custom gradients. Will likely fail if a gradient is requested.\n",
            "WARNING:absl:Importing a function (__inference_block6a_activation_layer_call_and_return_conditional_losses_453991) with ops with unsaved custom gradients. Will likely fail if a gradient is requested.\n",
            "WARNING:absl:Importing a function (__inference_block5b_se_reduce_layer_call_and_return_conditional_losses_453285) with ops with unsaved custom gradients. Will likely fail if a gradient is requested.\n",
            "WARNING:absl:Importing a function (__inference_block4a_expand_activation_layer_call_and_return_conditional_losses_416971) with ops with unsaved custom gradients. Will likely fail if a gradient is requested.\n",
            "WARNING:absl:Importing a function (__inference_top_activation_layer_call_and_return_conditional_losses_455683) with ops with unsaved custom gradients. Will likely fail if a gradient is requested.\n",
            "WARNING:absl:Importing a function (__inference_block2a_se_reduce_layer_call_and_return_conditional_losses_415851) with ops with unsaved custom gradients. Will likely fail if a gradient is requested.\n",
            "WARNING:absl:Importing a function (__inference_block5b_expand_activation_layer_call_and_return_conditional_losses_453166) with ops with unsaved custom gradients. Will likely fail if a gradient is requested.\n",
            "WARNING:absl:Importing a function (__inference_top_activation_layer_call_and_return_conditional_losses_420413) with ops with unsaved custom gradients. Will likely fail if a gradient is requested.\n",
            "WARNING:absl:Importing a function (__inference_block1a_activation_layer_call_and_return_conditional_losses_450123) with ops with unsaved custom gradients. Will likely fail if a gradient is requested.\n",
            "WARNING:absl:Importing a function (__inference_block4a_se_reduce_layer_call_and_return_conditional_losses_417075) with ops with unsaved custom gradients. Will likely fail if a gradient is requested.\n",
            "WARNING:absl:Importing a function (__inference_block5a_expand_activation_layer_call_and_return_conditional_losses_452840) with ops with unsaved custom gradients. Will likely fail if a gradient is requested.\n",
            "WARNING:absl:Importing a function (__inference_block4b_activation_layer_call_and_return_conditional_losses_417307) with ops with unsaved custom gradients. Will likely fail if a gradient is requested.\n",
            "WARNING:absl:Importing a function (__inference_block6d_activation_layer_call_and_return_conditional_losses_455063) with ops with unsaved custom gradients. Will likely fail if a gradient is requested.\n",
            "WARNING:absl:Importing a function (__inference_block6d_expand_activation_layer_call_and_return_conditional_losses_419802) with ops with unsaved custom gradients. Will likely fail if a gradient is requested.\n",
            "WARNING:absl:Importing a function (__inference_block6d_activation_layer_call_and_return_conditional_losses_419858) with ops with unsaved custom gradients. Will likely fail if a gradient is requested.\n",
            "WARNING:absl:Importing a function (__inference_block5a_se_reduce_layer_call_and_return_conditional_losses_452959) with ops with unsaved custom gradients. Will likely fail if a gradient is requested.\n",
            "WARNING:absl:Importing a function (__inference_block3a_expand_activation_layer_call_and_return_conditional_losses_451069) with ops with unsaved custom gradients. Will likely fail if a gradient is requested.\n",
            "WARNING:absl:Importing a function (__inference_block2a_expand_activation_layer_call_and_return_conditional_losses_450370) with ops with unsaved custom gradients. Will likely fail if a gradient is requested.\n",
            "WARNING:absl:Importing a function (__inference_block6b_expand_activation_layer_call_and_return_conditional_losses_419138) with ops with unsaved custom gradients. Will likely fail if a gradient is requested.\n",
            "WARNING:absl:Importing a function (__inference_block6b_activation_layer_call_and_return_conditional_losses_419194) with ops with unsaved custom gradients. Will likely fail if a gradient is requested.\n",
            "WARNING:absl:Importing a function (__inference_block6c_se_reduce_layer_call_and_return_conditional_losses_419573) with ops with unsaved custom gradients. Will likely fail if a gradient is requested.\n",
            "WARNING:absl:Importing a function (__inference_block7a_expand_activation_layer_call_and_return_conditional_losses_420134) with ops with unsaved custom gradients. Will likely fail if a gradient is requested.\n",
            "WARNING:absl:Importing a function (__inference_block4a_activation_layer_call_and_return_conditional_losses_417028) with ops with unsaved custom gradients. Will likely fail if a gradient is requested.\n",
            "WARNING:absl:Importing a function (__inference_block6c_expand_activation_layer_call_and_return_conditional_losses_454611) with ops with unsaved custom gradients. Will likely fail if a gradient is requested.\n",
            "WARNING:absl:Importing a function (__inference_block3b_expand_activation_layer_call_and_return_conditional_losses_416639) with ops with unsaved custom gradients. Will likely fail if a gradient is requested.\n",
            "WARNING:absl:Importing a function (__inference_block4c_se_reduce_layer_call_and_return_conditional_losses_417686) with ops with unsaved custom gradients. Will likely fail if a gradient is requested.\n",
            "WARNING:absl:Importing a function (__inference_block4b_expand_activation_layer_call_and_return_conditional_losses_417251) with ops with unsaved custom gradients. Will likely fail if a gradient is requested.\n",
            "WARNING:absl:Importing a function (__inference_block6d_se_reduce_layer_call_and_return_conditional_losses_455103) with ops with unsaved custom gradients. Will likely fail if a gradient is requested.\n",
            "WARNING:absl:Importing a function (__inference_block2b_se_reduce_layer_call_and_return_conditional_losses_450815) with ops with unsaved custom gradients. Will likely fail if a gradient is requested.\n",
            "WARNING:absl:Importing a function (__inference_block2b_se_reduce_layer_call_and_return_conditional_losses_416130) with ops with unsaved custom gradients. Will likely fail if a gradient is requested.\n",
            "WARNING:absl:Importing a function (__inference_block6b_activation_layer_call_and_return_conditional_losses_454317) with ops with unsaved custom gradients. Will likely fail if a gradient is requested.\n",
            "WARNING:absl:Importing a function (__inference_block6a_se_reduce_layer_call_and_return_conditional_losses_418962) with ops with unsaved custom gradients. Will likely fail if a gradient is requested.\n",
            "WARNING:absl:Importing a function (__inference_block6b_se_reduce_layer_call_and_return_conditional_losses_419241) with ops with unsaved custom gradients. Will likely fail if a gradient is requested.\n"
          ]
        }
      ]
    },
    {
      "cell_type": "code",
      "source": [
        "results_downloaded_model=model.evaluate(test_data)"
      ],
      "metadata": {
        "colab": {
          "base_uri": "https://localhost:8080/"
        },
        "id": "XGutWyPVXF7Z",
        "outputId": "bc3512ca-42a8-40fc-addb-16d8defc27ec"
      },
      "execution_count": 55,
      "outputs": [
        {
          "output_type": "stream",
          "name": "stdout",
          "text": [
            "790/790 [==============================] - 61s 75ms/step - loss: 1.8027 - accuracy: 0.6078\n"
          ]
        }
      ]
    },
    {
      "cell_type": "code",
      "source": [
        "all_classes_10_percent_fine_tune_results"
      ],
      "metadata": {
        "colab": {
          "base_uri": "https://localhost:8080/"
        },
        "id": "x2McOeeoXsIw",
        "outputId": "b016a3a0-bef5-4222-ad03-8758af0dd297"
      },
      "execution_count": 56,
      "outputs": [
        {
          "output_type": "execute_result",
          "data": {
            "text/plain": [
              "[1.8027206659317017, 0.6077623963356018]"
            ]
          },
          "metadata": {},
          "execution_count": 56
        }
      ]
    },
    {
      "cell_type": "code",
      "source": [
        "results_downloaded_model"
      ],
      "metadata": {
        "colab": {
          "base_uri": "https://localhost:8080/"
        },
        "id": "yH4mLl3SXy7k",
        "outputId": "b0c66faa-1392-44e6-81f0-5cf4c91b105c"
      },
      "execution_count": 58,
      "outputs": [
        {
          "output_type": "execute_result",
          "data": {
            "text/plain": [
              "[1.8027206659317017, 0.6077623963356018]"
            ]
          },
          "metadata": {},
          "execution_count": 58
        }
      ]
    },
    {
      "cell_type": "markdown",
      "source": [
        "## Making predictions with our trained model"
      ],
      "metadata": {
        "id": "fJdS_o-yYrvf"
      }
    },
    {
      "cell_type": "code",
      "source": [
        "preds_prob=model.predict(test_data, verbose=1) #set verbose to see how long is left"
      ],
      "metadata": {
        "id": "5fAZrFmKY9ag",
        "outputId": "10cf8adb-33fc-432b-edf2-41b3682d813e",
        "colab": {
          "base_uri": "https://localhost:8080/"
        }
      },
      "execution_count": 59,
      "outputs": [
        {
          "output_type": "stream",
          "name": "stdout",
          "text": [
            "790/790 [==============================] - 68s 84ms/step\n"
          ]
        }
      ]
    },
    {
      "cell_type": "code",
      "source": [
        "len(test_data)"
      ],
      "metadata": {
        "id": "gZFXOm6RZoLQ",
        "outputId": "aa55f813-db03-4795-f3a2-2dad8f60f300",
        "colab": {
          "base_uri": "https://localhost:8080/"
        }
      },
      "execution_count": 60,
      "outputs": [
        {
          "output_type": "execute_result",
          "data": {
            "text/plain": [
              "790"
            ]
          },
          "metadata": {},
          "execution_count": 60
        }
      ]
    },
    {
      "cell_type": "code",
      "source": [
        "len(preds_prob)"
      ],
      "metadata": {
        "id": "mAlniSSMZzf2",
        "outputId": "07f0688a-5c54-4cc4-a54c-fc8e0a0eeb1d",
        "colab": {
          "base_uri": "https://localhost:8080/"
        }
      },
      "execution_count": 62,
      "outputs": [
        {
          "output_type": "execute_result",
          "data": {
            "text/plain": [
              "25250"
            ]
          },
          "metadata": {},
          "execution_count": 62
        }
      ]
    },
    {
      "cell_type": "code",
      "source": [
        "preds_prob.shape"
      ],
      "metadata": {
        "id": "zTI3OUrnZ-DJ",
        "outputId": "1e93846f-1aba-4411-8c93-9e63b6fd980f",
        "colab": {
          "base_uri": "https://localhost:8080/"
        }
      },
      "execution_count": 63,
      "outputs": [
        {
          "output_type": "execute_result",
          "data": {
            "text/plain": [
              "(25250, 101)"
            ]
          },
          "metadata": {},
          "execution_count": 63
        }
      ]
    },
    {
      "cell_type": "code",
      "source": [
        "#Let's see what the first 10 predictions look like\n",
        "preds_prob[10]"
      ],
      "metadata": {
        "id": "AmjBq1XMaO4y",
        "outputId": "c32df56a-cb80-4cbf-f2f4-b9ddfb40e4f5",
        "colab": {
          "base_uri": "https://localhost:8080/"
        }
      },
      "execution_count": 65,
      "outputs": [
        {
          "output_type": "execute_result",
          "data": {
            "text/plain": [
              "array([8.66758645e-01, 1.06682467e-08, 8.97231163e-04, 2.98574256e-11,\n",
              "       1.19359580e-08, 2.52451636e-11, 1.78776531e-07, 1.49150314e-09,\n",
              "       7.43701681e-02, 4.74565095e-05, 7.88795589e-08, 4.73205364e-10,\n",
              "       9.88295884e-04, 4.71360728e-09, 9.51967086e-05, 3.80473146e-08,\n",
              "       1.96486411e-07, 7.64913275e-04, 4.63440472e-07, 2.07787082e-07,\n",
              "       3.97520722e-07, 6.02352031e-07, 2.73168621e-06, 7.80093444e-07,\n",
              "       4.01718765e-08, 5.76192178e-08, 7.19973130e-08, 1.58951619e-11,\n",
              "       2.75498496e-05, 6.87810189e-06, 1.76989190e-07, 2.09113641e-05,\n",
              "       3.46416346e-05, 1.02143172e-11, 1.48571687e-07, 6.49165610e-10,\n",
              "       1.37262277e-05, 3.96533096e-06, 2.23210191e-05, 2.05117967e-08,\n",
              "       7.41940539e-06, 6.01402064e-07, 1.00604502e-05, 8.69767973e-08,\n",
              "       1.21352750e-09, 4.20938818e-07, 1.28025931e-06, 3.94755872e-08,\n",
              "       2.20744378e-11, 1.11111913e-04, 5.95505050e-08, 3.00479286e-09,\n",
              "       2.45919097e-02, 1.49327952e-05, 4.66858739e-11, 2.53548904e-04,\n",
              "       1.24353946e-07, 2.41656721e-06, 5.34974570e-05, 6.55665303e-07,\n",
              "       3.55988933e-10, 2.58383865e-04, 1.85663248e-05, 7.24968118e-07,\n",
              "       7.48655374e-11, 1.17605214e-09, 4.73796504e-08, 1.71422405e-04,\n",
              "       8.85757501e-04, 1.16564945e-06, 5.68259528e-09, 2.07382679e-12,\n",
              "       1.17662501e-04, 5.73692205e-07, 5.64954689e-07, 1.87843872e-11,\n",
              "       1.27796284e-07, 1.64080939e-06, 1.60079807e-07, 4.89360973e-05,\n",
              "       1.09154025e-05, 3.87160803e-10, 1.56850263e-07, 3.95369261e-06,\n",
              "       1.58386246e-08, 2.87876334e-02, 1.55864086e-08, 2.42986772e-07,\n",
              "       3.00247956e-12, 4.11129903e-08, 5.92903088e-11, 2.42120368e-08,\n",
              "       1.82291551e-04, 3.17880267e-06, 1.14287046e-04, 1.35621781e-06,\n",
              "       1.61499742e-07, 9.01867395e-07, 1.72720484e-05, 1.06077822e-08,\n",
              "       2.65423179e-04], dtype=float32)"
            ]
          },
          "metadata": {},
          "execution_count": 65
        }
      ]
    },
    {
      "cell_type": "code",
      "source": [
        "preds_prob[0], len(preds_prob[0])"
      ],
      "metadata": {
        "id": "9ZaLYnRlacLM",
        "outputId": "ccc8ea9c-ccc3-4f9c-e362-47b1ae5fba40",
        "colab": {
          "base_uri": "https://localhost:8080/"
        }
      },
      "execution_count": 68,
      "outputs": [
        {
          "output_type": "execute_result",
          "data": {
            "text/plain": [
              "(array([5.9542079e-02, 3.5742114e-06, 4.1377071e-02, 1.0660534e-09,\n",
              "        8.1614422e-09, 8.6639478e-09, 8.0927344e-07, 8.5652732e-07,\n",
              "        1.9859108e-05, 8.0977674e-07, 3.1727800e-09, 9.8673911e-07,\n",
              "        2.8532281e-04, 7.8048890e-10, 7.4230117e-04, 3.8916227e-05,\n",
              "        6.4740480e-06, 2.4977348e-06, 3.7891161e-05, 2.0678284e-07,\n",
              "        1.5538406e-05, 8.1507324e-07, 2.6230616e-06, 2.0010684e-07,\n",
              "        8.3827518e-07, 5.4215925e-06, 3.7390960e-06, 1.3150530e-08,\n",
              "        2.7761441e-03, 2.8051916e-05, 6.8562017e-10, 2.5574853e-05,\n",
              "        1.6688927e-04, 7.6406986e-10, 4.0452811e-04, 1.3150683e-08,\n",
              "        1.7957391e-06, 1.4448174e-06, 2.3062844e-02, 8.2466693e-07,\n",
              "        8.5365679e-07, 1.7138593e-06, 7.0525425e-06, 1.8402130e-08,\n",
              "        2.8553373e-07, 7.9483443e-06, 2.0681530e-06, 1.8525149e-07,\n",
              "        3.3619703e-08, 3.1522504e-04, 1.0410941e-05, 8.5448431e-07,\n",
              "        8.4741855e-01, 1.0555424e-05, 4.4094787e-07, 3.7404032e-05,\n",
              "        3.5306188e-05, 3.2488941e-05, 6.7314730e-05, 1.2852589e-08,\n",
              "        2.6219654e-10, 1.0318089e-05, 8.5743537e-05, 1.0569885e-06,\n",
              "        2.1293431e-06, 3.7637546e-05, 7.5972999e-08, 2.5340484e-04,\n",
              "        9.2905839e-07, 1.2598184e-04, 6.2621652e-06, 1.2458726e-08,\n",
              "        4.0519761e-05, 6.8728362e-08, 1.2546279e-06, 5.2887579e-08,\n",
              "        7.5424772e-08, 7.5398566e-05, 7.7540280e-05, 6.4026000e-07,\n",
              "        9.9033286e-07, 2.2225964e-05, 1.5013904e-05, 1.4038487e-07,\n",
              "        1.2232555e-05, 1.9044720e-02, 4.9999551e-05, 4.6226301e-06,\n",
              "        1.5388237e-07, 3.3824190e-07, 3.9228327e-09, 1.6563671e-07,\n",
              "        8.1320599e-05, 4.8965248e-06, 2.4068254e-07, 2.3124088e-05,\n",
              "        3.1040542e-04, 3.1379997e-05, 1.4138705e-09, 8.3530424e-05,\n",
              "        3.0897493e-03], dtype=float32),\n",
              " 101)"
            ]
          },
          "metadata": {},
          "execution_count": 68
        }
      ]
    },
    {
      "cell_type": "code",
      "source": [
        "import numpy as np\n",
        "np.argmax(preds_prob[0])"
      ],
      "metadata": {
        "id": "rMzAOaO1aihJ",
        "outputId": "a1408b36-9a1d-453f-c235-06d6adcd0c54",
        "colab": {
          "base_uri": "https://localhost:8080/"
        }
      },
      "execution_count": 69,
      "outputs": [
        {
          "output_type": "execute_result",
          "data": {
            "text/plain": [
              "52"
            ]
          },
          "metadata": {},
          "execution_count": 69
        }
      ]
    },
    {
      "cell_type": "code",
      "source": [
        "train_data_all_10_percent.class_names[52]"
      ],
      "metadata": {
        "id": "hNz98mlPasz0",
        "outputId": "76b21b0a-2130-4bd2-ab79-d5d3bcc96493",
        "colab": {
          "base_uri": "https://localhost:8080/",
          "height": 35
        }
      },
      "execution_count": 72,
      "outputs": [
        {
          "output_type": "execute_result",
          "data": {
            "text/plain": [
              "'gyoza'"
            ],
            "application/vnd.google.colaboratory.intrinsic+json": {
              "type": "string"
            }
          },
          "metadata": {},
          "execution_count": 72
        }
      ]
    },
    {
      "cell_type": "markdown",
      "source": [
        "Our model outputs a prediction probabulity array (with N number of variables , where N is the number of classes ) for each sample passed to the prediction method"
      ],
      "metadata": {
        "id": "V_wzX6lyaz3E"
      }
    },
    {
      "cell_type": "code",
      "source": [
        "print(f\"Number of prediction probabilities {len(preds_prob[0])}\")\n",
        "print(f\"What prediction probability sample 0 looks like:{preds_prob[0]}\" )\n",
        "print(f\"the hishgest value (predicted probab) by the model{preds_prob[0].argmax()}\")"
      ],
      "metadata": {
        "id": "0wa8D8tfbJlD",
        "outputId": "b8cef2f7-d0a8-4f2e-b584-66faf4991b11",
        "colab": {
          "base_uri": "https://localhost:8080/"
        }
      },
      "execution_count": 74,
      "outputs": [
        {
          "output_type": "stream",
          "name": "stdout",
          "text": [
            "Number of prediction probabilities 101\n",
            "What prediction probability sample 0 looks like:[5.9542079e-02 3.5742114e-06 4.1377071e-02 1.0660534e-09 8.1614422e-09\n",
            " 8.6639478e-09 8.0927344e-07 8.5652732e-07 1.9859108e-05 8.0977674e-07\n",
            " 3.1727800e-09 9.8673911e-07 2.8532281e-04 7.8048890e-10 7.4230117e-04\n",
            " 3.8916227e-05 6.4740480e-06 2.4977348e-06 3.7891161e-05 2.0678284e-07\n",
            " 1.5538406e-05 8.1507324e-07 2.6230616e-06 2.0010684e-07 8.3827518e-07\n",
            " 5.4215925e-06 3.7390960e-06 1.3150530e-08 2.7761441e-03 2.8051916e-05\n",
            " 6.8562017e-10 2.5574853e-05 1.6688927e-04 7.6406986e-10 4.0452811e-04\n",
            " 1.3150683e-08 1.7957391e-06 1.4448174e-06 2.3062844e-02 8.2466693e-07\n",
            " 8.5365679e-07 1.7138593e-06 7.0525425e-06 1.8402130e-08 2.8553373e-07\n",
            " 7.9483443e-06 2.0681530e-06 1.8525149e-07 3.3619703e-08 3.1522504e-04\n",
            " 1.0410941e-05 8.5448431e-07 8.4741855e-01 1.0555424e-05 4.4094787e-07\n",
            " 3.7404032e-05 3.5306188e-05 3.2488941e-05 6.7314730e-05 1.2852589e-08\n",
            " 2.6219654e-10 1.0318089e-05 8.5743537e-05 1.0569885e-06 2.1293431e-06\n",
            " 3.7637546e-05 7.5972999e-08 2.5340484e-04 9.2905839e-07 1.2598184e-04\n",
            " 6.2621652e-06 1.2458726e-08 4.0519761e-05 6.8728362e-08 1.2546279e-06\n",
            " 5.2887579e-08 7.5424772e-08 7.5398566e-05 7.7540280e-05 6.4026000e-07\n",
            " 9.9033286e-07 2.2225964e-05 1.5013904e-05 1.4038487e-07 1.2232555e-05\n",
            " 1.9044720e-02 4.9999551e-05 4.6226301e-06 1.5388237e-07 3.3824190e-07\n",
            " 3.9228327e-09 1.6563671e-07 8.1320599e-05 4.8965248e-06 2.4068254e-07\n",
            " 2.3124088e-05 3.1040542e-04 3.1379997e-05 1.4138705e-09 8.3530424e-05\n",
            " 3.0897493e-03]\n",
            "the hishgest value (predicted probab) by the model52\n"
          ]
        }
      ]
    },
    {
      "cell_type": "code",
      "source": [
        "#Get the pred classes of each label\n",
        "pred_classes=preds_prob.argmax(axis=1)\n",
        "\n",
        "#How do they look\n",
        "pred_classes[:10]"
      ],
      "metadata": {
        "id": "V9q0kJL3b9fg",
        "outputId": "2c0d09ea-cd36-43a0-d58f-e13e3cd209c7",
        "colab": {
          "base_uri": "https://localhost:8080/"
        }
      },
      "execution_count": 77,
      "outputs": [
        {
          "output_type": "execute_result",
          "data": {
            "text/plain": [
              "array([52,  0,  0, 80, 79, 61, 29,  0, 85,  0])"
            ]
          },
          "metadata": {},
          "execution_count": 77
        }
      ]
    },
    {
      "cell_type": "code",
      "source": [
        "#How many pred_classes do we have\n",
        "len(pred_classes)"
      ],
      "metadata": {
        "id": "y4WWR6V2cXZr",
        "outputId": "ea71c08c-4330-4c04-f7a2-d446a39a3fcb",
        "colab": {
          "base_uri": "https://localhost:8080/"
        }
      },
      "execution_count": 78,
      "outputs": [
        {
          "output_type": "execute_result",
          "data": {
            "text/plain": [
              "25250"
            ]
          },
          "metadata": {},
          "execution_count": 78
        }
      ]
    },
    {
      "cell_type": "code",
      "source": [],
      "metadata": {
        "id": "kDPvr7YWcatd"
      },
      "execution_count": null,
      "outputs": []
    }
  ]
}