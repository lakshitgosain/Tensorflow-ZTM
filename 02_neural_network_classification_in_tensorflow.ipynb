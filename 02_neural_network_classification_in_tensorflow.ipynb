{
  "nbformat": 4,
  "nbformat_minor": 0,
  "metadata": {
    "colab": {
      "provenance": [],
      "authorship_tag": "ABX9TyOpUSCv6Inf/kbbzfu25ZWE",
      "include_colab_link": true
    },
    "kernelspec": {
      "name": "python3",
      "display_name": "Python 3"
    },
    "language_info": {
      "name": "python"
    }
  },
  "cells": [
    {
      "cell_type": "markdown",
      "metadata": {
        "id": "view-in-github",
        "colab_type": "text"
      },
      "source": [
        "<a href=\"https://colab.research.google.com/github/lakshitgosain/Tensorflow-ZTM/blob/main/02_neural_network_classification_in_tensorflow.ipynb\" target=\"_parent\"><img src=\"https://colab.research.google.com/assets/colab-badge.svg\" alt=\"Open In Colab\"/></a>"
      ]
    },
    {
      "cell_type": "markdown",
      "source": [
        "#What is Classification?\n",
        "\n",
        "* Binary Classification - E.g. True, False. \n",
        "* Muiticlass Calssification - E.g More than 2 categories.\n",
        "* Multilabel classification - E.g. What tags does an Article have. "
      ],
      "metadata": {
        "id": "wwb2W7Vs6gif"
      }
    },
    {
      "cell_type": "code",
      "source": [],
      "metadata": {
        "id": "ieL3Wyu5u2O8"
      },
      "execution_count": null,
      "outputs": []
    }
  ]
}