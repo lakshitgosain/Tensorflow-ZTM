{
  "nbformat": 4,
  "nbformat_minor": 0,
  "metadata": {
    "colab": {
      "provenance": [],
      "authorship_tag": "ABX9TyOaG25XLKwuc9hwxwSn437J",
      "include_colab_link": true
    },
    "kernelspec": {
      "name": "python3",
      "display_name": "Python 3"
    },
    "language_info": {
      "name": "python"
    }
  },
  "cells": [
    {
      "cell_type": "markdown",
      "metadata": {
        "id": "view-in-github",
        "colab_type": "text"
      },
      "source": [
        "<a href=\"https://colab.research.google.com/github/lakshitgosain/Tensorflow-ZTM/blob/main/02_neural_network_classification_in_tensorflow.ipynb\" target=\"_parent\"><img src=\"https://colab.research.google.com/assets/colab-badge.svg\" alt=\"Open In Colab\"/></a>"
      ]
    },
    {
      "cell_type": "markdown",
      "source": [
        "#What is Classification?\n",
        "\n",
        "* Binary Classification - E.g. True, False. \n",
        "* Muiticlass Calssification - E.g More than 2 categories.\n",
        "* Multilabel classification - E.g. What tags does an Article have. \n",
        "\n",
        "We need to convert our images to tensors to use the Classification Modelling. \n",
        "\n",
        "## Inputs and Output shapes\n",
        "\n",
        "The output is generated as the Probability of the possible outcomes of the Classification\n",
        "\n",
        "Input=[batch size, width, height, color_channels]\n",
        "or\n",
        "Input=[32,224,224,3]\n",
        "\n",
        "Output= The shape could be the no. of possibilities we have in a classification problem(oor classes)\n"
      ],
      "metadata": {
        "id": "wwb2W7Vs6gif"
      }
    },
    {
      "cell_type": "markdown",
      "source": [
        "## Typical architecture of a classification neural network \n",
        "\n",
        "The word *typical* is on purpose.\n",
        "\n",
        "Because the architecture of a classification neural network can widely vary depending on the problem you're working on.\n",
        "\n",
        "However, there are some fundamentals all deep neural networks contain:\n",
        "* An input layer.\n",
        "* Some hidden layers.\n",
        "* An output layer.\n",
        "\n",
        "Much of the rest is up to the data analyst creating the model.\n",
        "\n",
        "The following are some standard values you'll often use in your classification neural networks.\n",
        "\n",
        "| **Hyperparameter** | **Binary Classification** | **Multiclass classification** |\n",
        "| --- | --- | --- |\n",
        "| Input layer shape | Same as number of features (e.g. 5 for age, sex, height, weight, smoking status in heart disease prediction) | Same as binary classification |\n",
        "| Hidden layer(s) | Problem specific, minimum = 1, maximum = unlimited | Same as binary classification |\n",
        "| Neurons per hidden layer | Problem specific, generally 10 to 100 | Same as binary classification |\n",
        "| Output layer shape | 1 (one class or the other) | 1 per class (e.g. 3 for food, person or dog photo) |\n",
        "| Hidden activation | Usually [ReLU](https://www.kaggle.com/dansbecker/rectified-linear-units-relu-in-deep-learning) (rectified linear unit) | Same as binary classification |\n",
        "| Output activation | [Sigmoid](https://en.wikipedia.org/wiki/Sigmoid_function) | [Softmax](https://en.wikipedia.org/wiki/Softmax_function) |\n",
        "| Loss function | [Cross entropy](https://en.wikipedia.org/wiki/Cross_entropy#Cross-entropy_loss_function_and_logistic_regression) ([`tf.keras.losses.BinaryCrossentropy`](https://www.tensorflow.org/api_docs/python/tf/keras/losses/BinaryCrossentropy) in TensorFlow) | Cross entropy ([`tf.keras.losses.CategoricalCrossentropy`](https://www.tensorflow.org/api_docs/python/tf/keras/losses/CategoricalCrossentropy) in TensorFlow) |\n",
        "| Optimizer | [SGD](https://www.tensorflow.org/api_docs/python/tf/keras/optimizers/SGD) (stochastic gradient descent), [Adam](https://www.tensorflow.org/api_docs/python/tf/keras/optimizers/Adam) | Same as binary classification |\n"
      ],
      "metadata": {
        "id": "ieL3Wyu5u2O8"
      }
    },
    {
      "cell_type": "markdown",
      "source": [
        "## Creating data to View and Fit"
      ],
      "metadata": {
        "id": "mWFufFA5xaHk"
      }
    },
    {
      "cell_type": "code",
      "source": [
        "import tensorflow as tf"
      ],
      "metadata": {
        "id": "40X8fHMiBspn"
      },
      "execution_count": 1,
      "outputs": []
    },
    {
      "cell_type": "code",
      "source": [
        "\n",
        "from sklearn.datasets import make_circles\n",
        "\n",
        "#Make 1000 samples\n",
        "n_samples=1000\n",
        "\n",
        "#Create circles\n",
        "X,y= make_circles(n_samples,\n",
        "                  noise=0.03,\n",
        "                  random_state=42)"
      ],
      "metadata": {
        "id": "k1ybOgXmDLuw"
      },
      "execution_count": 2,
      "outputs": []
    },
    {
      "cell_type": "code",
      "source": [
        "X[:10]"
      ],
      "metadata": {
        "id": "IPBlnxNxDmqi",
        "outputId": "0504db83-eb15-4e0c-e6f0-fb1d59601b30",
        "colab": {
          "base_uri": "https://localhost:8080/"
        }
      },
      "execution_count": 3,
      "outputs": [
        {
          "output_type": "execute_result",
          "data": {
            "text/plain": [
              "array([[ 0.75424625,  0.23148074],\n",
              "       [-0.75615888,  0.15325888],\n",
              "       [-0.81539193,  0.17328203],\n",
              "       [-0.39373073,  0.69288277],\n",
              "       [ 0.44220765, -0.89672343],\n",
              "       [-0.47964637,  0.67643477],\n",
              "       [-0.01364836,  0.80334872],\n",
              "       [ 0.77151327,  0.14775959],\n",
              "       [-0.16932234, -0.79345575],\n",
              "       [-0.1214858 ,  1.02150905]])"
            ]
          },
          "metadata": {},
          "execution_count": 3
        }
      ]
    },
    {
      "cell_type": "code",
      "source": [
        "y[:10]"
      ],
      "metadata": {
        "id": "PZonvn7lD544",
        "outputId": "bbd20436-776f-4bc0-f292-885a425eccb1",
        "colab": {
          "base_uri": "https://localhost:8080/"
        }
      },
      "execution_count": 4,
      "outputs": [
        {
          "output_type": "execute_result",
          "data": {
            "text/plain": [
              "array([1, 1, 1, 1, 0, 1, 1, 1, 1, 0])"
            ]
          },
          "metadata": {},
          "execution_count": 4
        }
      ]
    },
    {
      "cell_type": "markdown",
      "source": [
        "Our Data is a little hard to understand. Let's Visualize it!"
      ],
      "metadata": {
        "id": "ASyLpHX9D6Xd"
      }
    },
    {
      "cell_type": "code",
      "source": [
        "import pandas as pd\n",
        "\n",
        "circles=pd.DataFrame({\"X0\":X[:,0],\n",
        "                     \"X1\":X[:,1],\n",
        "                     \"label\":y})"
      ],
      "metadata": {
        "id": "k0kur_gyEYuP"
      },
      "execution_count": 5,
      "outputs": []
    },
    {
      "cell_type": "code",
      "source": [
        "circles"
      ],
      "metadata": {
        "id": "dMPBvbzxEro4",
        "outputId": "16a9f68a-2b57-4642-d5b0-fac5fdd2e95c",
        "colab": {
          "base_uri": "https://localhost:8080/",
          "height": 423
        }
      },
      "execution_count": 6,
      "outputs": [
        {
          "output_type": "execute_result",
          "data": {
            "text/plain": [
              "           X0        X1  label\n",
              "0    0.754246  0.231481      1\n",
              "1   -0.756159  0.153259      1\n",
              "2   -0.815392  0.173282      1\n",
              "3   -0.393731  0.692883      1\n",
              "4    0.442208 -0.896723      0\n",
              "..        ...       ...    ...\n",
              "995  0.244054  0.944125      0\n",
              "996 -0.978655 -0.272373      0\n",
              "997 -0.136900 -0.810012      1\n",
              "998  0.670362 -0.767502      0\n",
              "999  0.281057  0.963824      0\n",
              "\n",
              "[1000 rows x 3 columns]"
            ],
            "text/html": [
              "\n",
              "  <div id=\"df-12f32974-9673-4b73-a13f-e50d1aada624\">\n",
              "    <div class=\"colab-df-container\">\n",
              "      <div>\n",
              "<style scoped>\n",
              "    .dataframe tbody tr th:only-of-type {\n",
              "        vertical-align: middle;\n",
              "    }\n",
              "\n",
              "    .dataframe tbody tr th {\n",
              "        vertical-align: top;\n",
              "    }\n",
              "\n",
              "    .dataframe thead th {\n",
              "        text-align: right;\n",
              "    }\n",
              "</style>\n",
              "<table border=\"1\" class=\"dataframe\">\n",
              "  <thead>\n",
              "    <tr style=\"text-align: right;\">\n",
              "      <th></th>\n",
              "      <th>X0</th>\n",
              "      <th>X1</th>\n",
              "      <th>label</th>\n",
              "    </tr>\n",
              "  </thead>\n",
              "  <tbody>\n",
              "    <tr>\n",
              "      <th>0</th>\n",
              "      <td>0.754246</td>\n",
              "      <td>0.231481</td>\n",
              "      <td>1</td>\n",
              "    </tr>\n",
              "    <tr>\n",
              "      <th>1</th>\n",
              "      <td>-0.756159</td>\n",
              "      <td>0.153259</td>\n",
              "      <td>1</td>\n",
              "    </tr>\n",
              "    <tr>\n",
              "      <th>2</th>\n",
              "      <td>-0.815392</td>\n",
              "      <td>0.173282</td>\n",
              "      <td>1</td>\n",
              "    </tr>\n",
              "    <tr>\n",
              "      <th>3</th>\n",
              "      <td>-0.393731</td>\n",
              "      <td>0.692883</td>\n",
              "      <td>1</td>\n",
              "    </tr>\n",
              "    <tr>\n",
              "      <th>4</th>\n",
              "      <td>0.442208</td>\n",
              "      <td>-0.896723</td>\n",
              "      <td>0</td>\n",
              "    </tr>\n",
              "    <tr>\n",
              "      <th>...</th>\n",
              "      <td>...</td>\n",
              "      <td>...</td>\n",
              "      <td>...</td>\n",
              "    </tr>\n",
              "    <tr>\n",
              "      <th>995</th>\n",
              "      <td>0.244054</td>\n",
              "      <td>0.944125</td>\n",
              "      <td>0</td>\n",
              "    </tr>\n",
              "    <tr>\n",
              "      <th>996</th>\n",
              "      <td>-0.978655</td>\n",
              "      <td>-0.272373</td>\n",
              "      <td>0</td>\n",
              "    </tr>\n",
              "    <tr>\n",
              "      <th>997</th>\n",
              "      <td>-0.136900</td>\n",
              "      <td>-0.810012</td>\n",
              "      <td>1</td>\n",
              "    </tr>\n",
              "    <tr>\n",
              "      <th>998</th>\n",
              "      <td>0.670362</td>\n",
              "      <td>-0.767502</td>\n",
              "      <td>0</td>\n",
              "    </tr>\n",
              "    <tr>\n",
              "      <th>999</th>\n",
              "      <td>0.281057</td>\n",
              "      <td>0.963824</td>\n",
              "      <td>0</td>\n",
              "    </tr>\n",
              "  </tbody>\n",
              "</table>\n",
              "<p>1000 rows × 3 columns</p>\n",
              "</div>\n",
              "      <button class=\"colab-df-convert\" onclick=\"convertToInteractive('df-12f32974-9673-4b73-a13f-e50d1aada624')\"\n",
              "              title=\"Convert this dataframe to an interactive table.\"\n",
              "              style=\"display:none;\">\n",
              "        \n",
              "  <svg xmlns=\"http://www.w3.org/2000/svg\" height=\"24px\"viewBox=\"0 0 24 24\"\n",
              "       width=\"24px\">\n",
              "    <path d=\"M0 0h24v24H0V0z\" fill=\"none\"/>\n",
              "    <path d=\"M18.56 5.44l.94 2.06.94-2.06 2.06-.94-2.06-.94-.94-2.06-.94 2.06-2.06.94zm-11 1L8.5 8.5l.94-2.06 2.06-.94-2.06-.94L8.5 2.5l-.94 2.06-2.06.94zm10 10l.94 2.06.94-2.06 2.06-.94-2.06-.94-.94-2.06-.94 2.06-2.06.94z\"/><path d=\"M17.41 7.96l-1.37-1.37c-.4-.4-.92-.59-1.43-.59-.52 0-1.04.2-1.43.59L10.3 9.45l-7.72 7.72c-.78.78-.78 2.05 0 2.83L4 21.41c.39.39.9.59 1.41.59.51 0 1.02-.2 1.41-.59l7.78-7.78 2.81-2.81c.8-.78.8-2.07 0-2.86zM5.41 20L4 18.59l7.72-7.72 1.47 1.35L5.41 20z\"/>\n",
              "  </svg>\n",
              "      </button>\n",
              "      \n",
              "  <style>\n",
              "    .colab-df-container {\n",
              "      display:flex;\n",
              "      flex-wrap:wrap;\n",
              "      gap: 12px;\n",
              "    }\n",
              "\n",
              "    .colab-df-convert {\n",
              "      background-color: #E8F0FE;\n",
              "      border: none;\n",
              "      border-radius: 50%;\n",
              "      cursor: pointer;\n",
              "      display: none;\n",
              "      fill: #1967D2;\n",
              "      height: 32px;\n",
              "      padding: 0 0 0 0;\n",
              "      width: 32px;\n",
              "    }\n",
              "\n",
              "    .colab-df-convert:hover {\n",
              "      background-color: #E2EBFA;\n",
              "      box-shadow: 0px 1px 2px rgba(60, 64, 67, 0.3), 0px 1px 3px 1px rgba(60, 64, 67, 0.15);\n",
              "      fill: #174EA6;\n",
              "    }\n",
              "\n",
              "    [theme=dark] .colab-df-convert {\n",
              "      background-color: #3B4455;\n",
              "      fill: #D2E3FC;\n",
              "    }\n",
              "\n",
              "    [theme=dark] .colab-df-convert:hover {\n",
              "      background-color: #434B5C;\n",
              "      box-shadow: 0px 1px 3px 1px rgba(0, 0, 0, 0.15);\n",
              "      filter: drop-shadow(0px 1px 2px rgba(0, 0, 0, 0.3));\n",
              "      fill: #FFFFFF;\n",
              "    }\n",
              "  </style>\n",
              "\n",
              "      <script>\n",
              "        const buttonEl =\n",
              "          document.querySelector('#df-12f32974-9673-4b73-a13f-e50d1aada624 button.colab-df-convert');\n",
              "        buttonEl.style.display =\n",
              "          google.colab.kernel.accessAllowed ? 'block' : 'none';\n",
              "\n",
              "        async function convertToInteractive(key) {\n",
              "          const element = document.querySelector('#df-12f32974-9673-4b73-a13f-e50d1aada624');\n",
              "          const dataTable =\n",
              "            await google.colab.kernel.invokeFunction('convertToInteractive',\n",
              "                                                     [key], {});\n",
              "          if (!dataTable) return;\n",
              "\n",
              "          const docLinkHtml = 'Like what you see? Visit the ' +\n",
              "            '<a target=\"_blank\" href=https://colab.research.google.com/notebooks/data_table.ipynb>data table notebook</a>'\n",
              "            + ' to learn more about interactive tables.';\n",
              "          element.innerHTML = '';\n",
              "          dataTable['output_type'] = 'display_data';\n",
              "          await google.colab.output.renderOutput(dataTable, element);\n",
              "          const docLink = document.createElement('div');\n",
              "          docLink.innerHTML = docLinkHtml;\n",
              "          element.appendChild(docLink);\n",
              "        }\n",
              "      </script>\n",
              "    </div>\n",
              "  </div>\n",
              "  "
            ]
          },
          "metadata": {},
          "execution_count": 6
        }
      ]
    },
    {
      "cell_type": "code",
      "source": [
        "import matplotlib.pyplot as plt\n",
        "\n",
        "plt.scatter(X[:,0],X[:,1], c=y, cmap=plt.cm.RdYlBu);"
      ],
      "metadata": {
        "id": "Q0WjSUawEwMm",
        "outputId": "7ffbb015-b729-4a1f-a19a-2430b580f5d5",
        "colab": {
          "base_uri": "https://localhost:8080/",
          "height": 430
        }
      },
      "execution_count": 7,
      "outputs": [
        {
          "output_type": "display_data",
          "data": {
            "text/plain": [
              "<Figure size 640x480 with 1 Axes>"
            ],
            "image/png": "[encoded data removed]"
          },
          "metadata": {}
        }
      ]
    },
    {
      "cell_type": "code",
      "source": [
        "X.shape, y.shape"
      ],
      "metadata": {
        "id": "Ujve2YPrFHpu",
        "colab": {
          "base_uri": "https://localhost:8080/"
        },
        "outputId": "4853fc2c-9313-4819-b513-b31b53d72a64"
      },
      "execution_count": 9,
      "outputs": [
        {
          "output_type": "execute_result",
          "data": {
            "text/plain": [
              "((1000, 2), (1000,))"
            ]
          },
          "metadata": {},
          "execution_count": 9
        }
      ]
    },
    {
      "cell_type": "code",
      "source": [
        "len(X), len(y)"
      ],
      "metadata": {
        "colab": {
          "base_uri": "https://localhost:8080/"
        },
        "id": "fFzFKlg3NwoM",
        "outputId": "690d8096-9379-45d2-c362-9fa7bdeb1d75"
      },
      "execution_count": 10,
      "outputs": [
        {
          "output_type": "execute_result",
          "data": {
            "text/plain": [
              "(1000, 1000)"
            ]
          },
          "metadata": {},
          "execution_count": 10
        }
      ]
    },
    {
      "cell_type": "code",
      "source": [
        "X[0],y[0]"
      ],
      "metadata": {
        "colab": {
          "base_uri": "https://localhost:8080/"
        },
        "id": "onHymDs2N1qN",
        "outputId": "fd5aa26b-9889-4906-98d5-50dccc02d1d9"
      },
      "execution_count": 11,
      "outputs": [
        {
          "output_type": "execute_result",
          "data": {
            "text/plain": [
              "(array([0.75424625, 0.23148074]), 1)"
            ]
          },
          "metadata": {},
          "execution_count": 11
        }
      ]
    },
    {
      "cell_type": "markdown",
      "source": [
        "## Steps in Modelling\n",
        "\n",
        "Steps in Modelling with tensorflow are :\n",
        "1. Create or import a model\n",
        "2. Compile the model\n",
        "3. Fit the model\n",
        "4. Evaluate the model.\n",
        "5. Tweak.\n",
        "6. Evaluate....."
      ],
      "metadata": {
        "id": "oRhsc-4rN3hb"
      }
    },
    {
      "cell_type": "code",
      "source": [
        "#Set Random Seed\n",
        "tf.random.set_seed(42)\n",
        "\n",
        "#1. Create the model using the sequential API\n",
        "model_1= tf.keras.Sequential([\n",
        "    tf.keras.layers.Dense(1)\n",
        "])\n",
        "\n",
        "# 2. Compile the model\n",
        "model_1.compile(loss=tf.keras.losses.BinaryCrossentropy(),\n",
        "                optimizer=tf.keras.optimizers.SGD(),\n",
        "                metrics=[\"accuracy\"])\n",
        "\n",
        "# 3. Fit the model\n",
        "model_1.fit(tf.expand_dims(X,axis=-1),y,epochs=5)\n"
      ],
      "metadata": {
        "colab": {
          "base_uri": "https://localhost:8080/"
        },
        "id": "dG3DzCDgOEBF",
        "outputId": "a1e745af-0388-4abf-84f5-3dffb62576fe"
      },
      "execution_count": 17,
      "outputs": [
        {
          "output_type": "stream",
          "name": "stdout",
          "text": [
            "Epoch 1/5\n",
            "32/32 [==============================] - 2s 5ms/step - loss: 6.5329 - accuracy: 0.4968\n",
            "Epoch 2/5\n",
            "32/32 [==============================] - 0s 8ms/step - loss: 7.6246 - accuracy: 0.5000\n",
            "Epoch 3/5\n",
            "32/32 [==============================] - 0s 13ms/step - loss: 7.6246 - accuracy: 0.5000\n",
            "Epoch 4/5\n",
            "32/32 [==============================] - 0s 12ms/step - loss: 7.6246 - accuracy: 0.5000\n",
            "Epoch 5/5\n",
            "32/32 [==============================] - 0s 7ms/step - loss: 7.6246 - accuracy: 0.5000\n"
          ]
        },
        {
          "output_type": "execute_result",
          "data": {
            "text/plain": [
              "<keras.callbacks.History at 0x7fabc810faf0>"
            ]
          },
          "metadata": {},
          "execution_count": 17
        }
      ]
    },
    {
      "cell_type": "code",
      "source": [
        "#Let's try improving our model for training a little longer\n",
        "model_1.fit(X,y,epochs=200)"
      ],
      "metadata": {
        "colab": {
          "base_uri": "https://localhost:8080/"
        },
        "id": "ppbYPD_bPiXP",
        "outputId": "1eb2a284-ce3b-460e-d0c9-8ac8ff7d32dd"
      },
      "execution_count": 18,
      "outputs": [
        {
          "output_type": "stream",
          "name": "stdout",
          "text": [
            "Epoch 1/200\n",
            "32/32 [==============================] - 1s 3ms/step - loss: 7.6246 - accuracy: 0.5000\n",
            "Epoch 2/200\n",
            "32/32 [==============================] - 0s 3ms/step - loss: 7.6246 - accuracy: 0.5000\n",
            "Epoch 3/200\n",
            "32/32 [==============================] - 0s 3ms/step - loss: 7.6246 - accuracy: 0.5000\n",
            "Epoch 4/200\n",
            "32/32 [==============================] - 0s 2ms/step - loss: 7.6246 - accuracy: 0.5000\n",
            "Epoch 5/200\n",
            "32/32 [==============================] - 0s 2ms/step - loss: 7.6246 - accuracy: 0.5000\n",
            "Epoch 6/200\n",
            "32/32 [==============================] - 0s 4ms/step - loss: 7.6246 - accuracy: 0.5000\n",
            "Epoch 7/200\n",
            "32/32 [==============================] - 0s 4ms/step - loss: 7.6246 - accuracy: 0.5000\n",
            "Epoch 8/200\n",
            "32/32 [==============================] - 0s 3ms/step - loss: 7.6246 - accuracy: 0.5000\n",
            "Epoch 9/200\n",
            "32/32 [==============================] - 0s 3ms/step - loss: 7.6246 - accuracy: 0.5000\n",
            "Epoch 10/200\n",
            "32/32 [==============================] - 0s 3ms/step - loss: 7.6246 - accuracy: 0.5000\n",
            "Epoch 11/200\n",
            "32/32 [==============================] - 0s 4ms/step - loss: 7.6246 - accuracy: 0.5000\n",
            "Epoch 12/200\n",
            "32/32 [==============================] - 0s 3ms/step - loss: 7.6246 - accuracy: 0.5000\n",
            "Epoch 13/200\n",
            "32/32 [==============================] - 0s 7ms/step - loss: 7.6246 - accuracy: 0.5000\n",
            "Epoch 14/200\n",
            "32/32 [==============================] - 0s 5ms/step - loss: 7.6246 - accuracy: 0.5000\n",
            "Epoch 15/200\n",
            "32/32 [==============================] - 0s 6ms/step - loss: 7.6246 - accuracy: 0.5000\n",
            "Epoch 16/200\n",
            "32/32 [==============================] - 0s 6ms/step - loss: 7.6246 - accuracy: 0.5000\n",
            "Epoch 17/200\n",
            "32/32 [==============================] - 0s 7ms/step - loss: 7.6246 - accuracy: 0.5000\n",
            "Epoch 18/200\n",
            "32/32 [==============================] - 0s 8ms/step - loss: 7.6246 - accuracy: 0.5000\n",
            "Epoch 19/200\n",
            "32/32 [==============================] - 0s 7ms/step - loss: 7.6246 - accuracy: 0.5000\n",
            "Epoch 20/200\n",
            "32/32 [==============================] - 0s 4ms/step - loss: 7.6246 - accuracy: 0.5000\n",
            "Epoch 21/200\n",
            "32/32 [==============================] - 0s 6ms/step - loss: 7.6246 - accuracy: 0.5000\n",
            "Epoch 22/200\n",
            "32/32 [==============================] - 0s 6ms/step - loss: 7.6246 - accuracy: 0.5000\n",
            "Epoch 23/200\n",
            "32/32 [==============================] - 0s 7ms/step - loss: 7.6246 - accuracy: 0.5000\n",
            "Epoch 24/200\n",
            "32/32 [==============================] - 0s 6ms/step - loss: 7.6246 - accuracy: 0.5000\n",
            "Epoch 25/200\n",
            "32/32 [==============================] - 0s 8ms/step - loss: 7.6246 - accuracy: 0.5000\n",
            "Epoch 26/200\n",
            "32/32 [==============================] - 0s 5ms/step - loss: 7.6246 - accuracy: 0.5000\n",
            "Epoch 27/200\n",
            "32/32 [==============================] - 0s 5ms/step - loss: 7.6246 - accuracy: 0.5000\n",
            "Epoch 28/200\n",
            "32/32 [==============================] - 0s 4ms/step - loss: 7.6246 - accuracy: 0.5000\n",
            "Epoch 29/200\n",
            "32/32 [==============================] - 0s 2ms/step - loss: 7.6246 - accuracy: 0.5000\n",
            "Epoch 30/200\n",
            "32/32 [==============================] - 0s 2ms/step - loss: 7.6246 - accuracy: 0.5000\n",
            "Epoch 31/200\n",
            "32/32 [==============================] - 0s 2ms/step - loss: 7.6246 - accuracy: 0.5000\n",
            "Epoch 32/200\n",
            "32/32 [==============================] - 0s 2ms/step - loss: 7.6246 - accuracy: 0.5000\n",
            "Epoch 33/200\n",
            "32/32 [==============================] - 0s 2ms/step - loss: 7.6246 - accuracy: 0.5000\n",
            "Epoch 34/200\n",
            "32/32 [==============================] - 0s 2ms/step - loss: 7.6246 - accuracy: 0.5000\n",
            "Epoch 35/200\n",
            "32/32 [==============================] - 0s 2ms/step - loss: 7.6246 - accuracy: 0.5000\n",
            "Epoch 36/200\n",
            "32/32 [==============================] - 0s 2ms/step - loss: 7.6246 - accuracy: 0.5000\n",
            "Epoch 37/200\n",
            "32/32 [==============================] - 0s 2ms/step - loss: 7.6246 - accuracy: 0.5000\n",
            "Epoch 38/200\n",
            "32/32 [==============================] - 0s 2ms/step - loss: 7.6246 - accuracy: 0.5000\n",
            "Epoch 39/200\n",
            "32/32 [==============================] - 0s 2ms/step - loss: 7.6246 - accuracy: 0.5000\n",
            "Epoch 40/200\n",
            "32/32 [==============================] - 0s 2ms/step - loss: 7.6246 - accuracy: 0.5000\n",
            "Epoch 41/200\n",
            "32/32 [==============================] - 0s 2ms/step - loss: 7.6246 - accuracy: 0.5000\n",
            "Epoch 42/200\n",
            "32/32 [==============================] - 0s 2ms/step - loss: 7.6246 - accuracy: 0.5000\n",
            "Epoch 43/200\n",
            "32/32 [==============================] - 0s 2ms/step - loss: 7.6246 - accuracy: 0.5000\n",
            "Epoch 44/200\n",
            "32/32 [==============================] - 0s 2ms/step - loss: 7.6246 - accuracy: 0.5000\n",
            "Epoch 45/200\n",
            "32/32 [==============================] - 0s 2ms/step - loss: 7.6246 - accuracy: 0.5000\n",
            "Epoch 46/200\n",
            "32/32 [==============================] - 0s 2ms/step - loss: 7.6246 - accuracy: 0.5000\n",
            "Epoch 47/200\n",
            "32/32 [==============================] - 0s 2ms/step - loss: 7.6246 - accuracy: 0.5000\n",
            "Epoch 48/200\n",
            "32/32 [==============================] - 0s 2ms/step - loss: 7.6246 - accuracy: 0.5000\n",
            "Epoch 49/200\n",
            "32/32 [==============================] - 0s 3ms/step - loss: 7.6246 - accuracy: 0.5000\n",
            "Epoch 50/200\n",
            "32/32 [==============================] - 0s 3ms/step - loss: 7.6246 - accuracy: 0.5000\n",
            "Epoch 51/200\n",
            "32/32 [==============================] - 0s 2ms/step - loss: 7.6246 - accuracy: 0.5000\n",
            "Epoch 52/200\n",
            "32/32 [==============================] - 0s 2ms/step - loss: 7.6246 - accuracy: 0.5000\n",
            "Epoch 53/200\n",
            "32/32 [==============================] - 0s 2ms/step - loss: 7.6246 - accuracy: 0.5000\n",
            "Epoch 54/200\n",
            "32/32 [==============================] - 0s 2ms/step - loss: 7.6246 - accuracy: 0.5000\n",
            "Epoch 55/200\n",
            "32/32 [==============================] - 0s 2ms/step - loss: 7.6246 - accuracy: 0.5000\n",
            "Epoch 56/200\n",
            "32/32 [==============================] - 0s 2ms/step - loss: 7.6246 - accuracy: 0.5000\n",
            "Epoch 57/200\n",
            "32/32 [==============================] - 0s 2ms/step - loss: 7.6246 - accuracy: 0.5000\n",
            "Epoch 58/200\n",
            "32/32 [==============================] - 0s 2ms/step - loss: 7.6246 - accuracy: 0.5000\n",
            "Epoch 59/200\n",
            "32/32 [==============================] - 0s 2ms/step - loss: 7.6246 - accuracy: 0.5000\n",
            "Epoch 60/200\n",
            "32/32 [==============================] - 0s 2ms/step - loss: 7.6246 - accuracy: 0.5000\n",
            "Epoch 61/200\n",
            "32/32 [==============================] - 0s 2ms/step - loss: 7.6246 - accuracy: 0.5000\n",
            "Epoch 62/200\n",
            "32/32 [==============================] - 0s 3ms/step - loss: 7.6246 - accuracy: 0.5000\n",
            "Epoch 63/200\n",
            "32/32 [==============================] - 0s 2ms/step - loss: 7.6246 - accuracy: 0.5000\n",
            "Epoch 64/200\n",
            "32/32 [==============================] - 0s 2ms/step - loss: 7.6246 - accuracy: 0.5000\n",
            "Epoch 65/200\n",
            "32/32 [==============================] - 0s 2ms/step - loss: 7.6246 - accuracy: 0.5000\n",
            "Epoch 66/200\n",
            "32/32 [==============================] - 0s 2ms/step - loss: 7.6246 - accuracy: 0.5000\n",
            "Epoch 67/200\n",
            "32/32 [==============================] - 0s 2ms/step - loss: 7.6246 - accuracy: 0.5000\n",
            "Epoch 68/200\n",
            "32/32 [==============================] - 0s 2ms/step - loss: 7.6246 - accuracy: 0.5000\n",
            "Epoch 69/200\n",
            "32/32 [==============================] - 0s 2ms/step - loss: 7.6246 - accuracy: 0.5000\n",
            "Epoch 70/200\n",
            "32/32 [==============================] - 0s 2ms/step - loss: 7.6246 - accuracy: 0.5000\n",
            "Epoch 71/200\n",
            "32/32 [==============================] - 0s 2ms/step - loss: 7.6246 - accuracy: 0.5000\n",
            "Epoch 72/200\n",
            "32/32 [==============================] - 0s 2ms/step - loss: 7.6246 - accuracy: 0.5000\n",
            "Epoch 73/200\n",
            "32/32 [==============================] - 0s 2ms/step - loss: 7.6246 - accuracy: 0.5000\n",
            "Epoch 74/200\n",
            "32/32 [==============================] - 0s 2ms/step - loss: 7.6246 - accuracy: 0.5000\n",
            "Epoch 75/200\n",
            "32/32 [==============================] - 0s 2ms/step - loss: 7.6246 - accuracy: 0.5000\n",
            "Epoch 76/200\n",
            "32/32 [==============================] - 0s 2ms/step - loss: 7.6246 - accuracy: 0.5000\n",
            "Epoch 77/200\n",
            "32/32 [==============================] - 0s 2ms/step - loss: 7.6246 - accuracy: 0.5000\n",
            "Epoch 78/200\n",
            "32/32 [==============================] - 0s 2ms/step - loss: 7.6246 - accuracy: 0.5000\n",
            "Epoch 79/200\n",
            "32/32 [==============================] - 0s 2ms/step - loss: 7.6246 - accuracy: 0.5000\n",
            "Epoch 80/200\n",
            "32/32 [==============================] - 0s 2ms/step - loss: 7.6246 - accuracy: 0.5000\n",
            "Epoch 81/200\n",
            "32/32 [==============================] - 0s 2ms/step - loss: 7.6246 - accuracy: 0.5000\n",
            "Epoch 82/200\n",
            "32/32 [==============================] - 0s 2ms/step - loss: 7.6246 - accuracy: 0.5000\n",
            "Epoch 83/200\n",
            "32/32 [==============================] - 0s 2ms/step - loss: 7.6246 - accuracy: 0.5000\n",
            "Epoch 84/200\n",
            "32/32 [==============================] - 0s 2ms/step - loss: 7.6246 - accuracy: 0.5000\n",
            "Epoch 85/200\n",
            "32/32 [==============================] - 0s 2ms/step - loss: 7.6246 - accuracy: 0.5000\n",
            "Epoch 86/200\n",
            "32/32 [==============================] - 0s 2ms/step - loss: 7.6246 - accuracy: 0.5000\n",
            "Epoch 87/200\n",
            "32/32 [==============================] - 0s 2ms/step - loss: 7.6246 - accuracy: 0.5000\n",
            "Epoch 88/200\n",
            "32/32 [==============================] - 0s 2ms/step - loss: 7.6246 - accuracy: 0.5000\n",
            "Epoch 89/200\n",
            "32/32 [==============================] - 0s 2ms/step - loss: 7.6246 - accuracy: 0.5000\n",
            "Epoch 90/200\n",
            "32/32 [==============================] - 0s 2ms/step - loss: 7.6246 - accuracy: 0.5000\n",
            "Epoch 91/200\n",
            "32/32 [==============================] - 0s 2ms/step - loss: 7.6246 - accuracy: 0.5000\n",
            "Epoch 92/200\n",
            "32/32 [==============================] - 0s 2ms/step - loss: 7.6246 - accuracy: 0.5000\n",
            "Epoch 93/200\n",
            "32/32 [==============================] - 0s 2ms/step - loss: 7.6246 - accuracy: 0.5000\n",
            "Epoch 94/200\n",
            "32/32 [==============================] - 0s 2ms/step - loss: 7.6246 - accuracy: 0.5000\n",
            "Epoch 95/200\n",
            "32/32 [==============================] - 0s 2ms/step - loss: 7.6246 - accuracy: 0.5000\n",
            "Epoch 96/200\n",
            "32/32 [==============================] - 0s 2ms/step - loss: 7.6246 - accuracy: 0.5000\n",
            "Epoch 97/200\n",
            "32/32 [==============================] - 0s 2ms/step - loss: 7.6246 - accuracy: 0.5000\n",
            "Epoch 98/200\n",
            "32/32 [==============================] - 0s 3ms/step - loss: 7.6246 - accuracy: 0.5000\n",
            "Epoch 99/200\n",
            "32/32 [==============================] - 0s 2ms/step - loss: 7.6246 - accuracy: 0.5000\n",
            "Epoch 100/200\n",
            "32/32 [==============================] - 0s 2ms/step - loss: 7.6246 - accuracy: 0.5000\n",
            "Epoch 101/200\n",
            "32/32 [==============================] - 0s 2ms/step - loss: 7.6246 - accuracy: 0.5000\n",
            "Epoch 102/200\n",
            "32/32 [==============================] - 0s 2ms/step - loss: 7.6246 - accuracy: 0.5000\n",
            "Epoch 103/200\n",
            "32/32 [==============================] - 0s 2ms/step - loss: 7.6246 - accuracy: 0.5000\n",
            "Epoch 104/200\n",
            "32/32 [==============================] - 0s 2ms/step - loss: 7.6246 - accuracy: 0.5000\n",
            "Epoch 105/200\n",
            "32/32 [==============================] - 0s 2ms/step - loss: 7.6246 - accuracy: 0.5000\n",
            "Epoch 106/200\n",
            "32/32 [==============================] - 0s 2ms/step - loss: 7.6246 - accuracy: 0.5000\n",
            "Epoch 107/200\n",
            "32/32 [==============================] - 0s 2ms/step - loss: 7.6246 - accuracy: 0.5000\n",
            "Epoch 108/200\n",
            "32/32 [==============================] - 0s 2ms/step - loss: 7.6246 - accuracy: 0.5000\n",
            "Epoch 109/200\n",
            "32/32 [==============================] - 0s 2ms/step - loss: 7.6246 - accuracy: 0.5000\n",
            "Epoch 110/200\n",
            "32/32 [==============================] - 0s 2ms/step - loss: 7.6246 - accuracy: 0.5000\n",
            "Epoch 111/200\n",
            "32/32 [==============================] - 0s 2ms/step - loss: 7.6246 - accuracy: 0.5000\n",
            "Epoch 112/200\n",
            "32/32 [==============================] - 0s 2ms/step - loss: 7.6246 - accuracy: 0.5000\n",
            "Epoch 113/200\n",
            "32/32 [==============================] - 0s 2ms/step - loss: 7.6246 - accuracy: 0.5000\n",
            "Epoch 114/200\n",
            "32/32 [==============================] - 0s 2ms/step - loss: 7.6246 - accuracy: 0.5000\n",
            "Epoch 115/200\n",
            "32/32 [==============================] - 0s 2ms/step - loss: 7.6246 - accuracy: 0.5000\n",
            "Epoch 116/200\n",
            "32/32 [==============================] - 0s 2ms/step - loss: 7.6246 - accuracy: 0.5000\n",
            "Epoch 117/200\n",
            "32/32 [==============================] - 0s 2ms/step - loss: 7.6246 - accuracy: 0.5000\n",
            "Epoch 118/200\n",
            "32/32 [==============================] - 0s 2ms/step - loss: 7.6246 - accuracy: 0.5000\n",
            "Epoch 119/200\n",
            "32/32 [==============================] - 0s 2ms/step - loss: 7.6246 - accuracy: 0.5000\n",
            "Epoch 120/200\n",
            "32/32 [==============================] - 0s 2ms/step - loss: 7.6246 - accuracy: 0.5000\n",
            "Epoch 121/200\n",
            "32/32 [==============================] - 0s 2ms/step - loss: 7.6246 - accuracy: 0.5000\n",
            "Epoch 122/200\n",
            "32/32 [==============================] - 0s 2ms/step - loss: 7.6246 - accuracy: 0.5000\n",
            "Epoch 123/200\n",
            "32/32 [==============================] - 0s 2ms/step - loss: 7.6246 - accuracy: 0.5000\n",
            "Epoch 124/200\n",
            "32/32 [==============================] - 0s 2ms/step - loss: 7.6246 - accuracy: 0.5000\n",
            "Epoch 125/200\n",
            "32/32 [==============================] - 0s 3ms/step - loss: 7.6246 - accuracy: 0.5000\n",
            "Epoch 126/200\n",
            "32/32 [==============================] - 0s 2ms/step - loss: 7.6246 - accuracy: 0.5000\n",
            "Epoch 127/200\n",
            "32/32 [==============================] - 0s 2ms/step - loss: 7.6246 - accuracy: 0.5000\n",
            "Epoch 128/200\n",
            "32/32 [==============================] - 0s 2ms/step - loss: 7.6246 - accuracy: 0.5000\n",
            "Epoch 129/200\n",
            "32/32 [==============================] - 0s 3ms/step - loss: 7.6246 - accuracy: 0.5000\n",
            "Epoch 130/200\n",
            "32/32 [==============================] - 0s 2ms/step - loss: 7.6246 - accuracy: 0.5000\n",
            "Epoch 131/200\n",
            "32/32 [==============================] - 0s 2ms/step - loss: 7.6246 - accuracy: 0.5000\n",
            "Epoch 132/200\n",
            "32/32 [==============================] - 0s 2ms/step - loss: 7.6246 - accuracy: 0.5000\n",
            "Epoch 133/200\n",
            "32/32 [==============================] - 0s 2ms/step - loss: 7.6246 - accuracy: 0.5000\n",
            "Epoch 134/200\n",
            "32/32 [==============================] - 0s 3ms/step - loss: 7.6246 - accuracy: 0.5000\n",
            "Epoch 135/200\n",
            "32/32 [==============================] - 0s 2ms/step - loss: 7.6246 - accuracy: 0.5000\n",
            "Epoch 136/200\n",
            "32/32 [==============================] - 0s 2ms/step - loss: 7.6246 - accuracy: 0.5000\n",
            "Epoch 137/200\n",
            "32/32 [==============================] - 0s 2ms/step - loss: 7.6246 - accuracy: 0.5000\n",
            "Epoch 138/200\n",
            "32/32 [==============================] - 0s 2ms/step - loss: 7.6246 - accuracy: 0.5000\n",
            "Epoch 139/200\n",
            "32/32 [==============================] - 0s 2ms/step - loss: 7.6246 - accuracy: 0.5000\n",
            "Epoch 140/200\n",
            "32/32 [==============================] - 0s 2ms/step - loss: 7.6246 - accuracy: 0.5000\n",
            "Epoch 141/200\n",
            "32/32 [==============================] - 0s 2ms/step - loss: 7.6246 - accuracy: 0.5000\n",
            "Epoch 142/200\n",
            "32/32 [==============================] - 0s 2ms/step - loss: 7.6246 - accuracy: 0.5000\n",
            "Epoch 143/200\n",
            "32/32 [==============================] - 0s 3ms/step - loss: 7.6246 - accuracy: 0.5000\n",
            "Epoch 144/200\n",
            "32/32 [==============================] - 0s 2ms/step - loss: 7.6246 - accuracy: 0.5000\n",
            "Epoch 145/200\n",
            "32/32 [==============================] - 0s 2ms/step - loss: 7.6246 - accuracy: 0.5000\n",
            "Epoch 146/200\n",
            "32/32 [==============================] - 0s 2ms/step - loss: 7.6246 - accuracy: 0.5000\n",
            "Epoch 147/200\n",
            "32/32 [==============================] - 0s 2ms/step - loss: 7.6246 - accuracy: 0.5000\n",
            "Epoch 148/200\n",
            "32/32 [==============================] - 0s 2ms/step - loss: 7.6246 - accuracy: 0.5000\n",
            "Epoch 149/200\n",
            "32/32 [==============================] - 0s 2ms/step - loss: 7.6246 - accuracy: 0.5000\n",
            "Epoch 150/200\n",
            "32/32 [==============================] - 0s 2ms/step - loss: 7.6246 - accuracy: 0.5000\n",
            "Epoch 151/200\n",
            "32/32 [==============================] - 0s 2ms/step - loss: 7.6246 - accuracy: 0.5000\n",
            "Epoch 152/200\n",
            "32/32 [==============================] - 0s 2ms/step - loss: 7.6246 - accuracy: 0.5000\n",
            "Epoch 153/200\n",
            "32/32 [==============================] - 0s 2ms/step - loss: 7.6246 - accuracy: 0.5000\n",
            "Epoch 154/200\n",
            "32/32 [==============================] - 0s 2ms/step - loss: 7.6246 - accuracy: 0.5000\n",
            "Epoch 155/200\n",
            "32/32 [==============================] - 0s 2ms/step - loss: 7.6246 - accuracy: 0.5000\n",
            "Epoch 156/200\n",
            "32/32 [==============================] - 0s 4ms/step - loss: 7.6246 - accuracy: 0.5000\n",
            "Epoch 157/200\n",
            "32/32 [==============================] - 0s 3ms/step - loss: 7.6246 - accuracy: 0.5000\n",
            "Epoch 158/200\n",
            "32/32 [==============================] - 0s 3ms/step - loss: 7.6246 - accuracy: 0.5000\n",
            "Epoch 159/200\n",
            "32/32 [==============================] - 0s 3ms/step - loss: 7.6246 - accuracy: 0.5000\n",
            "Epoch 160/200\n",
            "32/32 [==============================] - 0s 4ms/step - loss: 7.6246 - accuracy: 0.5000\n",
            "Epoch 161/200\n",
            "32/32 [==============================] - 0s 4ms/step - loss: 7.6246 - accuracy: 0.5000\n",
            "Epoch 162/200\n",
            "32/32 [==============================] - 0s 3ms/step - loss: 7.6246 - accuracy: 0.5000\n",
            "Epoch 163/200\n",
            "32/32 [==============================] - 0s 3ms/step - loss: 7.6246 - accuracy: 0.5000\n",
            "Epoch 164/200\n",
            "32/32 [==============================] - 0s 3ms/step - loss: 7.6246 - accuracy: 0.5000\n",
            "Epoch 165/200\n",
            "32/32 [==============================] - 0s 3ms/step - loss: 7.6246 - accuracy: 0.5000\n",
            "Epoch 166/200\n",
            "32/32 [==============================] - 0s 3ms/step - loss: 7.6246 - accuracy: 0.5000\n",
            "Epoch 167/200\n",
            "32/32 [==============================] - 0s 3ms/step - loss: 7.6246 - accuracy: 0.5000\n",
            "Epoch 168/200\n",
            "32/32 [==============================] - 0s 3ms/step - loss: 7.6246 - accuracy: 0.5000\n",
            "Epoch 169/200\n",
            "32/32 [==============================] - 0s 3ms/step - loss: 7.6246 - accuracy: 0.5000\n",
            "Epoch 170/200\n",
            "32/32 [==============================] - 0s 3ms/step - loss: 7.6246 - accuracy: 0.5000\n",
            "Epoch 171/200\n",
            "32/32 [==============================] - 0s 3ms/step - loss: 7.6246 - accuracy: 0.5000\n",
            "Epoch 172/200\n",
            "32/32 [==============================] - 0s 3ms/step - loss: 7.6246 - accuracy: 0.5000\n",
            "Epoch 173/200\n",
            "32/32 [==============================] - 0s 4ms/step - loss: 7.6246 - accuracy: 0.5000\n",
            "Epoch 174/200\n",
            "32/32 [==============================] - 0s 4ms/step - loss: 7.6246 - accuracy: 0.5000\n",
            "Epoch 175/200\n",
            "32/32 [==============================] - 0s 4ms/step - loss: 7.6246 - accuracy: 0.5000\n",
            "Epoch 176/200\n",
            "32/32 [==============================] - 0s 3ms/step - loss: 7.6246 - accuracy: 0.5000\n",
            "Epoch 177/200\n",
            "32/32 [==============================] - 0s 3ms/step - loss: 7.6246 - accuracy: 0.5000\n",
            "Epoch 178/200\n",
            "32/32 [==============================] - 0s 3ms/step - loss: 7.6246 - accuracy: 0.5000\n",
            "Epoch 179/200\n",
            "32/32 [==============================] - 0s 3ms/step - loss: 7.6246 - accuracy: 0.5000\n",
            "Epoch 180/200\n",
            "32/32 [==============================] - 0s 3ms/step - loss: 7.6246 - accuracy: 0.5000\n",
            "Epoch 181/200\n",
            "32/32 [==============================] - 0s 3ms/step - loss: 7.6246 - accuracy: 0.5000\n",
            "Epoch 182/200\n",
            "32/32 [==============================] - 0s 3ms/step - loss: 7.6246 - accuracy: 0.5000\n",
            "Epoch 183/200\n",
            "32/32 [==============================] - 0s 3ms/step - loss: 7.6246 - accuracy: 0.5000\n",
            "Epoch 184/200\n",
            "32/32 [==============================] - 0s 4ms/step - loss: 7.6246 - accuracy: 0.5000\n",
            "Epoch 185/200\n",
            "32/32 [==============================] - 0s 3ms/step - loss: 7.6246 - accuracy: 0.5000\n",
            "Epoch 186/200\n",
            "32/32 [==============================] - 0s 2ms/step - loss: 7.6246 - accuracy: 0.5000\n",
            "Epoch 187/200\n",
            "32/32 [==============================] - 0s 2ms/step - loss: 7.6246 - accuracy: 0.5000\n",
            "Epoch 188/200\n",
            "32/32 [==============================] - 0s 2ms/step - loss: 7.6246 - accuracy: 0.5000\n",
            "Epoch 189/200\n",
            "32/32 [==============================] - 0s 2ms/step - loss: 7.6246 - accuracy: 0.5000\n",
            "Epoch 190/200\n",
            "32/32 [==============================] - 0s 2ms/step - loss: 7.6246 - accuracy: 0.5000\n",
            "Epoch 191/200\n",
            "32/32 [==============================] - 0s 2ms/step - loss: 7.6246 - accuracy: 0.5000\n",
            "Epoch 192/200\n",
            "32/32 [==============================] - 0s 2ms/step - loss: 7.6246 - accuracy: 0.5000\n",
            "Epoch 193/200\n",
            "32/32 [==============================] - 0s 2ms/step - loss: 7.6246 - accuracy: 0.5000\n",
            "Epoch 194/200\n",
            "32/32 [==============================] - 0s 2ms/step - loss: 7.6246 - accuracy: 0.5000\n",
            "Epoch 195/200\n",
            "32/32 [==============================] - 0s 2ms/step - loss: 7.6246 - accuracy: 0.5000\n",
            "Epoch 196/200\n",
            "32/32 [==============================] - 0s 3ms/step - loss: 7.6246 - accuracy: 0.5000\n",
            "Epoch 197/200\n",
            "32/32 [==============================] - 0s 3ms/step - loss: 7.6246 - accuracy: 0.5000\n",
            "Epoch 198/200\n",
            "32/32 [==============================] - 0s 2ms/step - loss: 7.6246 - accuracy: 0.5000\n",
            "Epoch 199/200\n",
            "32/32 [==============================] - 0s 2ms/step - loss: 7.6246 - accuracy: 0.5000\n",
            "Epoch 200/200\n",
            "32/32 [==============================] - 0s 2ms/step - loss: 7.6246 - accuracy: 0.5000\n"
          ]
        },
        {
          "output_type": "execute_result",
          "data": {
            "text/plain": [
              "<keras.callbacks.History at 0x7fabc81765b0>"
            ]
          },
          "metadata": {},
          "execution_count": 18
        }
      ]
    },
    {
      "cell_type": "code",
      "source": [
        "model_1.evaluate(X,y)"
      ],
      "metadata": {
        "colab": {
          "base_uri": "https://localhost:8080/"
        },
        "id": "Nn5wHmpTSzjj",
        "outputId": "cc0ba86a-41f7-4fc9-b33f-a7aaf7b3ef0f"
      },
      "execution_count": 20,
      "outputs": [
        {
          "output_type": "stream",
          "name": "stdout",
          "text": [
            "32/32 [==============================] - 1s 4ms/step - loss: 7.6246 - accuracy: 0.5000\n"
          ]
        },
        {
          "output_type": "execute_result",
          "data": {
            "text/plain": [
              "[7.6246185302734375, 0.5]"
            ]
          },
          "metadata": {},
          "execution_count": 20
        }
      ]
    },
    {
      "cell_type": "markdown",
      "source": [
        "Since we are working on a binary classification Problem and we are getting 50% accuracy, it's performing like it's guessing, so adding more layers to "
      ],
      "metadata": {
        "id": "LahbOkNiTAF-"
      }
    },
    {
      "cell_type": "code",
      "source": [
        "#Set the random seed\n",
        "tf.random.set_seed(42)\n",
        "\n",
        "# 1. Create a model , this time with 2 layers\n",
        "model_2=tf.keras.Sequential([\n",
        "    tf.keras.layers.Dense(1),\n",
        "    tf.keras.layers.Dense(1)\n",
        "])\n",
        "\n",
        "# 2. Compile the model\n",
        "model_2.compile(loss=tf.keras.losses.BinaryCrossentropy(),\n",
        "                optimizer=tf.keras.optimizers.SGD(),\n",
        "                metrics=[\"accuracy\"])\n",
        "\n",
        "model_2.fit(X,y,epochs=100)"
      ],
      "metadata": {
        "colab": {
          "base_uri": "https://localhost:8080/"
        },
        "id": "ZBBS1tYLTZep",
        "outputId": "b4557f01-ea85-4b1b-c2ad-b7636bd1e996"
      },
      "execution_count": 22,
      "outputs": [
        {
          "output_type": "stream",
          "name": "stdout",
          "text": [
            "Epoch 1/100\n",
            "32/32 [==============================] - 1s 2ms/step - loss: 1.0349 - accuracy: 0.4750\n",
            "Epoch 2/100\n",
            "32/32 [==============================] - 0s 2ms/step - loss: 0.7069 - accuracy: 0.4970\n",
            "Epoch 3/100\n",
            "32/32 [==============================] - 0s 5ms/step - loss: 0.6996 - accuracy: 0.4810\n",
            "Epoch 4/100\n",
            "32/32 [==============================] - 0s 8ms/step - loss: 0.6959 - accuracy: 0.4980\n",
            "Epoch 5/100\n",
            "32/32 [==============================] - 0s 6ms/step - loss: 0.6949 - accuracy: 0.4770\n",
            "Epoch 6/100\n",
            "32/32 [==============================] - 0s 3ms/step - loss: 0.6935 - accuracy: 0.5020\n",
            "Epoch 7/100\n",
            "32/32 [==============================] - 0s 4ms/step - loss: 0.6950 - accuracy: 0.4930\n",
            "Epoch 8/100\n",
            "32/32 [==============================] - 0s 3ms/step - loss: 0.6946 - accuracy: 0.4600\n",
            "Epoch 9/100\n",
            "32/32 [==============================] - 0s 2ms/step - loss: 0.6945 - accuracy: 0.4870\n",
            "Epoch 10/100\n",
            "32/32 [==============================] - 0s 3ms/step - loss: 0.6938 - accuracy: 0.5030\n",
            "Epoch 11/100\n",
            "32/32 [==============================] - 0s 2ms/step - loss: 0.6950 - accuracy: 0.4830\n",
            "Epoch 12/100\n",
            "32/32 [==============================] - 0s 2ms/step - loss: 0.6952 - accuracy: 0.4900\n",
            "Epoch 13/100\n",
            "32/32 [==============================] - 0s 2ms/step - loss: 0.6948 - accuracy: 0.4930\n",
            "Epoch 14/100\n",
            "32/32 [==============================] - 0s 2ms/step - loss: 0.6951 - accuracy: 0.4820\n",
            "Epoch 15/100\n",
            "32/32 [==============================] - 0s 2ms/step - loss: 0.6942 - accuracy: 0.4810\n",
            "Epoch 16/100\n",
            "32/32 [==============================] - 0s 2ms/step - loss: 0.6951 - accuracy: 0.4840\n",
            "Epoch 17/100\n",
            "32/32 [==============================] - 0s 2ms/step - loss: 0.6943 - accuracy: 0.4820\n",
            "Epoch 18/100\n",
            "32/32 [==============================] - 0s 2ms/step - loss: 0.6944 - accuracy: 0.4860\n",
            "Epoch 19/100\n",
            "32/32 [==============================] - 0s 2ms/step - loss: 0.6943 - accuracy: 0.4880\n",
            "Epoch 20/100\n",
            "32/32 [==============================] - 0s 3ms/step - loss: 0.6945 - accuracy: 0.4590\n",
            "Epoch 21/100\n",
            "32/32 [==============================] - 0s 3ms/step - loss: 0.6938 - accuracy: 0.5090\n",
            "Epoch 22/100\n",
            "32/32 [==============================] - 0s 3ms/step - loss: 0.6947 - accuracy: 0.4740\n",
            "Epoch 23/100\n",
            "32/32 [==============================] - 0s 3ms/step - loss: 0.6943 - accuracy: 0.4900\n",
            "Epoch 24/100\n",
            "32/32 [==============================] - 0s 3ms/step - loss: 0.6948 - accuracy: 0.4820\n",
            "Epoch 25/100\n",
            "32/32 [==============================] - 0s 3ms/step - loss: 0.6940 - accuracy: 0.4920\n",
            "Epoch 26/100\n",
            "32/32 [==============================] - 0s 2ms/step - loss: 0.6947 - accuracy: 0.4650\n",
            "Epoch 27/100\n",
            "32/32 [==============================] - 0s 2ms/step - loss: 0.6934 - accuracy: 0.5050\n",
            "Epoch 28/100\n",
            "32/32 [==============================] - 0s 3ms/step - loss: 0.6952 - accuracy: 0.4660\n",
            "Epoch 29/100\n",
            "32/32 [==============================] - 0s 3ms/step - loss: 0.6946 - accuracy: 0.4670\n",
            "Epoch 30/100\n",
            "32/32 [==============================] - 0s 3ms/step - loss: 0.6943 - accuracy: 0.5070\n",
            "Epoch 31/100\n",
            "32/32 [==============================] - 0s 3ms/step - loss: 0.6945 - accuracy: 0.5040\n",
            "Epoch 32/100\n",
            "32/32 [==============================] - 0s 3ms/step - loss: 0.6944 - accuracy: 0.5090\n",
            "Epoch 33/100\n",
            "32/32 [==============================] - 0s 2ms/step - loss: 0.6945 - accuracy: 0.4740\n",
            "Epoch 34/100\n",
            "32/32 [==============================] - 0s 3ms/step - loss: 0.6952 - accuracy: 0.4760\n",
            "Epoch 35/100\n",
            "32/32 [==============================] - 0s 3ms/step - loss: 0.6944 - accuracy: 0.4990\n",
            "Epoch 36/100\n",
            "32/32 [==============================] - 0s 4ms/step - loss: 0.6950 - accuracy: 0.4710\n",
            "Epoch 37/100\n",
            "32/32 [==============================] - 0s 3ms/step - loss: 0.6942 - accuracy: 0.4940\n",
            "Epoch 38/100\n",
            "32/32 [==============================] - 0s 3ms/step - loss: 0.6944 - accuracy: 0.4810\n",
            "Epoch 39/100\n",
            "32/32 [==============================] - 0s 3ms/step - loss: 0.6943 - accuracy: 0.4640\n",
            "Epoch 40/100\n",
            "32/32 [==============================] - 0s 3ms/step - loss: 0.6959 - accuracy: 0.4650\n",
            "Epoch 41/100\n",
            "32/32 [==============================] - 0s 3ms/step - loss: 0.6943 - accuracy: 0.4840\n",
            "Epoch 42/100\n",
            "32/32 [==============================] - 0s 3ms/step - loss: 0.6945 - accuracy: 0.4740\n",
            "Epoch 43/100\n",
            "32/32 [==============================] - 0s 3ms/step - loss: 0.6946 - accuracy: 0.4940\n",
            "Epoch 44/100\n",
            "32/32 [==============================] - 0s 3ms/step - loss: 0.6931 - accuracy: 0.5100\n",
            "Epoch 45/100\n",
            "32/32 [==============================] - 0s 3ms/step - loss: 0.6954 - accuracy: 0.4770\n",
            "Epoch 46/100\n",
            "32/32 [==============================] - 0s 3ms/step - loss: 0.6946 - accuracy: 0.4620\n",
            "Epoch 47/100\n",
            "32/32 [==============================] - 0s 3ms/step - loss: 0.6937 - accuracy: 0.5020\n",
            "Epoch 48/100\n",
            "32/32 [==============================] - 0s 3ms/step - loss: 0.6942 - accuracy: 0.4930\n",
            "Epoch 49/100\n",
            "32/32 [==============================] - 0s 3ms/step - loss: 0.6945 - accuracy: 0.4950\n",
            "Epoch 50/100\n",
            "32/32 [==============================] - 0s 3ms/step - loss: 0.6945 - accuracy: 0.5020\n",
            "Epoch 51/100\n",
            "32/32 [==============================] - 0s 4ms/step - loss: 0.6945 - accuracy: 0.4900\n",
            "Epoch 52/100\n",
            "32/32 [==============================] - 0s 3ms/step - loss: 0.6944 - accuracy: 0.5000\n",
            "Epoch 53/100\n",
            "32/32 [==============================] - 0s 2ms/step - loss: 0.6943 - accuracy: 0.4760\n",
            "Epoch 54/100\n",
            "32/32 [==============================] - 0s 2ms/step - loss: 0.6948 - accuracy: 0.4790\n",
            "Epoch 55/100\n",
            "32/32 [==============================] - 0s 2ms/step - loss: 0.6945 - accuracy: 0.5050\n",
            "Epoch 56/100\n",
            "32/32 [==============================] - 0s 2ms/step - loss: 0.6943 - accuracy: 0.4750\n",
            "Epoch 57/100\n",
            "32/32 [==============================] - 0s 2ms/step - loss: 0.6948 - accuracy: 0.4860\n",
            "Epoch 58/100\n",
            "32/32 [==============================] - 0s 2ms/step - loss: 0.6946 - accuracy: 0.4770\n",
            "Epoch 59/100\n",
            "32/32 [==============================] - 0s 2ms/step - loss: 0.6936 - accuracy: 0.5210\n",
            "Epoch 60/100\n",
            "32/32 [==============================] - 0s 2ms/step - loss: 0.6945 - accuracy: 0.4910\n",
            "Epoch 61/100\n",
            "32/32 [==============================] - 0s 2ms/step - loss: 0.6951 - accuracy: 0.4840\n",
            "Epoch 62/100\n",
            "32/32 [==============================] - 0s 2ms/step - loss: 0.6942 - accuracy: 0.4920\n",
            "Epoch 63/100\n",
            "32/32 [==============================] - 0s 2ms/step - loss: 0.6945 - accuracy: 0.4710\n",
            "Epoch 64/100\n",
            "32/32 [==============================] - 0s 2ms/step - loss: 0.6947 - accuracy: 0.4790\n",
            "Epoch 65/100\n",
            "32/32 [==============================] - 0s 2ms/step - loss: 0.6947 - accuracy: 0.4960\n",
            "Epoch 66/100\n",
            "32/32 [==============================] - 0s 2ms/step - loss: 0.6943 - accuracy: 0.4970\n",
            "Epoch 67/100\n",
            "32/32 [==============================] - 0s 2ms/step - loss: 0.6954 - accuracy: 0.4790\n",
            "Epoch 68/100\n",
            "32/32 [==============================] - 0s 2ms/step - loss: 0.6941 - accuracy: 0.4720\n",
            "Epoch 69/100\n",
            "32/32 [==============================] - 0s 2ms/step - loss: 0.6949 - accuracy: 0.5010\n",
            "Epoch 70/100\n",
            "32/32 [==============================] - 0s 2ms/step - loss: 0.6948 - accuracy: 0.4710\n",
            "Epoch 71/100\n",
            "32/32 [==============================] - 0s 2ms/step - loss: 0.6941 - accuracy: 0.4970\n",
            "Epoch 72/100\n",
            "32/32 [==============================] - 0s 2ms/step - loss: 0.6947 - accuracy: 0.4970\n",
            "Epoch 73/100\n",
            "32/32 [==============================] - 0s 2ms/step - loss: 0.6944 - accuracy: 0.4830\n",
            "Epoch 74/100\n",
            "32/32 [==============================] - 0s 2ms/step - loss: 0.6943 - accuracy: 0.5010\n",
            "Epoch 75/100\n",
            "32/32 [==============================] - 0s 2ms/step - loss: 0.6943 - accuracy: 0.4980\n",
            "Epoch 76/100\n",
            "32/32 [==============================] - 0s 2ms/step - loss: 0.6942 - accuracy: 0.4990\n",
            "Epoch 77/100\n",
            "32/32 [==============================] - 0s 2ms/step - loss: 0.6947 - accuracy: 0.4920\n",
            "Epoch 78/100\n",
            "32/32 [==============================] - 0s 2ms/step - loss: 0.6944 - accuracy: 0.4850\n",
            "Epoch 79/100\n",
            "32/32 [==============================] - 0s 2ms/step - loss: 0.6942 - accuracy: 0.4980\n",
            "Epoch 80/100\n",
            "32/32 [==============================] - 0s 2ms/step - loss: 0.6948 - accuracy: 0.4940\n",
            "Epoch 81/100\n",
            "32/32 [==============================] - 0s 2ms/step - loss: 0.6948 - accuracy: 0.4950\n",
            "Epoch 82/100\n",
            "32/32 [==============================] - 0s 2ms/step - loss: 0.6943 - accuracy: 0.5050\n",
            "Epoch 83/100\n",
            "32/32 [==============================] - 0s 2ms/step - loss: 0.6942 - accuracy: 0.5090\n",
            "Epoch 84/100\n",
            "32/32 [==============================] - 0s 3ms/step - loss: 0.6950 - accuracy: 0.4960\n",
            "Epoch 85/100\n",
            "32/32 [==============================] - 0s 2ms/step - loss: 0.6941 - accuracy: 0.4740\n",
            "Epoch 86/100\n",
            "32/32 [==============================] - 0s 2ms/step - loss: 0.6941 - accuracy: 0.4940\n",
            "Epoch 87/100\n",
            "32/32 [==============================] - 0s 2ms/step - loss: 0.6948 - accuracy: 0.4860\n",
            "Epoch 88/100\n",
            "32/32 [==============================] - 0s 2ms/step - loss: 0.6950 - accuracy: 0.4770\n",
            "Epoch 89/100\n",
            "32/32 [==============================] - 0s 2ms/step - loss: 0.6951 - accuracy: 0.4880\n",
            "Epoch 90/100\n",
            "32/32 [==============================] - 0s 2ms/step - loss: 0.6943 - accuracy: 0.5070\n",
            "Epoch 91/100\n",
            "32/32 [==============================] - 0s 2ms/step - loss: 0.6951 - accuracy: 0.4940\n",
            "Epoch 92/100\n",
            "32/32 [==============================] - 0s 2ms/step - loss: 0.6944 - accuracy: 0.5010\n",
            "Epoch 93/100\n",
            "32/32 [==============================] - 0s 2ms/step - loss: 0.6942 - accuracy: 0.5040\n",
            "Epoch 94/100\n",
            "32/32 [==============================] - 0s 2ms/step - loss: 0.6955 - accuracy: 0.4840\n",
            "Epoch 95/100\n",
            "32/32 [==============================] - 0s 2ms/step - loss: 0.6941 - accuracy: 0.4770\n",
            "Epoch 96/100\n",
            "32/32 [==============================] - 0s 2ms/step - loss: 0.6951 - accuracy: 0.4770\n",
            "Epoch 97/100\n",
            "32/32 [==============================] - 0s 2ms/step - loss: 0.6945 - accuracy: 0.4940\n",
            "Epoch 98/100\n",
            "32/32 [==============================] - 0s 2ms/step - loss: 0.6945 - accuracy: 0.4900\n",
            "Epoch 99/100\n",
            "32/32 [==============================] - 0s 2ms/step - loss: 0.6951 - accuracy: 0.5040\n",
            "Epoch 100/100\n",
            "32/32 [==============================] - 0s 2ms/step - loss: 0.6948 - accuracy: 0.4690\n"
          ]
        },
        {
          "output_type": "execute_result",
          "data": {
            "text/plain": [
              "<keras.callbacks.History at 0x7fabc0fc9e20>"
            ]
          },
          "metadata": {},
          "execution_count": 22
        }
      ]
    },
    {
      "cell_type": "code",
      "source": [
        "model_2.evaluate(X,y)"
      ],
      "metadata": {
        "colab": {
          "base_uri": "https://localhost:8080/"
        },
        "id": "RA5AnSg2Uq2K",
        "outputId": "708821bf-3d20-46ba-d06d-2f245aed4ae7"
      },
      "execution_count": 23,
      "outputs": [
        {
          "output_type": "stream",
          "name": "stdout",
          "text": [
            "32/32 [==============================] - 0s 3ms/step - loss: 0.6937 - accuracy: 0.5000\n"
          ]
        },
        {
          "output_type": "execute_result",
          "data": {
            "text/plain": [
              "[0.6937403082847595, 0.5]"
            ]
          },
          "metadata": {},
          "execution_count": 23
        }
      ]
    },
    {
      "cell_type": "markdown",
      "source": [
        "## Improving our Model\n",
        "\n",
        "1. Create a model - We might want to add more layers or increase the number of hidden units within out layers\n",
        "2. Compile a model - here we can choose a different optimization function such as adam apart from SGD\n",
        "3. Fitting a model - we can fit our model for more epochs(leave it training for longer)\n"
      ],
      "metadata": {
        "id": "mbgdRskzU2ok"
      }
    },
    {
      "cell_type": "code",
      "source": [
        "circles[\"label\"].value_counts()"
      ],
      "metadata": {
        "colab": {
          "base_uri": "https://localhost:8080/"
        },
        "id": "RejgNauJVH4v",
        "outputId": "49aa061e-9ba6-4bcb-bee3-e620088f4294"
      },
      "execution_count": 24,
      "outputs": [
        {
          "output_type": "execute_result",
          "data": {
            "text/plain": [
              "1    500\n",
              "0    500\n",
              "Name: label, dtype: int64"
            ]
          },
          "metadata": {},
          "execution_count": 24
        }
      ]
    },
    {
      "cell_type": "code",
      "source": [
        "#Set the random seed\n",
        "tf.random.set_seed(42)\n",
        "\n",
        "#1. Create the model (This time with 3 layers)\n",
        "model_3=tf.keras.Sequential([\n",
        "    tf.keras.layers.Dense(100),\n",
        "    tf.keras.layers.Dense(10),\n",
        "    tf.keras.layers.Dense(1)\n",
        "])\n",
        "\n",
        "#2. Compile the model\n",
        "\n",
        "model_3.compile(loss=tf.keras.losses.BinaryCrossentropy(),\n",
        "                optimizer=tf.keras.optimizers.Adam(),\n",
        "                metrics=[\"accuracy\"])\n",
        "\n",
        "#3. Fit the model\n",
        "model_3.fit(X,y,epochs=100,verbose=False)"
      ],
      "metadata": {
        "colab": {
          "base_uri": "https://localhost:8080/"
        },
        "id": "XXAEJXXAZpSX",
        "outputId": "b9cf642b-21e9-4987-8b82-8991b5903037"
      },
      "execution_count": 25,
      "outputs": [
        {
          "output_type": "execute_result",
          "data": {
            "text/plain": [
              "<keras.callbacks.History at 0x7fabc8121490>"
            ]
          },
          "metadata": {},
          "execution_count": 25
        }
      ]
    },
    {
      "cell_type": "code",
      "source": [
        "#4. Evaluate the model\n",
        "model_3.evaluate(X,y)"
      ],
      "metadata": {
        "colab": {
          "base_uri": "https://localhost:8080/"
        },
        "id": "MGhCdou3bM53",
        "outputId": "8eac5e04-2c8f-48f3-e042-693396f539bf"
      },
      "execution_count": 26,
      "outputs": [
        {
          "output_type": "stream",
          "name": "stdout",
          "text": [
            "32/32 [==============================] - 0s 3ms/step - loss: 0.6987 - accuracy: 0.5040\n"
          ]
        },
        {
          "output_type": "execute_result",
          "data": {
            "text/plain": [
              "[0.6987013220787048, 0.5040000081062317]"
            ]
          },
          "metadata": {},
          "execution_count": 26
        }
      ]
    },
    {
      "cell_type": "markdown",
      "source": [
        "Visualize our model's predictions, let's create a function 'plot_decision_boundary'\n",
        "\n",
        "* Take in a trained model, features(X) and labels (y)\n",
        "* Create a meshgrid of the different X values\n",
        "* Make predictions across the MeshGrid\n",
        "*Plot the predictions as well as line between the zones(where each unique class falls)"
      ],
      "metadata": {
        "id": "5NV71qoibS_a"
      }
    },
    {
      "cell_type": "code",
      "source": [
        "import numpy as np\n",
        "def plot_decision_boundary(model,X,y):\n",
        "  \"\"\"\n",
        "  Plots the decision boundary created by a model predicting on X.\n",
        "  \"\"\"\n",
        "  #Define the axis boundaries of the plot and create a meshgrid\n",
        "  x_min, x_max = X[:,0].min() -0.1, X[:,0].max()+0.1\n",
        "  y_min, y_max = X[:,1].min() -0.1, X[:,1].max()+0.1\n",
        "  xx,yy=np.meshgrid(np.linspace(x_min,x_max,100),\n",
        "                    np.linspace(y_min,y_max,100))\n",
        "  \n",
        "  #Create X Values(We're going to make prediction on these)\n",
        "  x_in=np.c_[xx.ravel(),yy.ravel()] #Stack 2 D arrays together\n",
        "\n",
        "  y_pred=model.predict(x_in)\n",
        "\n",
        "  #Check for multiclass\n",
        "  if len(y_pred[0])>1:\n",
        "    print(\"we're doing multiclass classification\")\n",
        "    #We have to reshape our predictions to get them redy for plotting\n",
        "    y_pred=np.argmax(y_pred,axis=1).reshape(xx.shape)\n",
        "  else:\n",
        "    print(\"We're doing binary classification\")\n",
        "    y_pred=np.round(y_pred).reshape(xx.shape)\n",
        "\n",
        "  #Plot the decision boundary\n",
        "  plt.contourf(xx,yy,y_pred,cmap=plt.cm.RdYlBu,alpha=0.7)\n",
        "  plt.scatter(X[:,0],X[:,1],c=y,s=40,cmap=plt.cm.RdYlBu)\n",
        "  plt.xlim(xx.min(), xx.max())\n",
        "  plt.ylim(yy.min(),yy.max())"
      ],
      "metadata": {
        "id": "B-6ayNDkhY4o"
      },
      "execution_count": 37,
      "outputs": []
    },
    {
      "cell_type": "code",
      "source": [
        "#Checkout the predictions our model is making\n",
        "plot_decision_boundary(model_3,X,y)"
      ],
      "metadata": {
        "colab": {
          "base_uri": "https://localhost:8080/",
          "height": 465
        },
        "id": "FRuivVWljX6p",
        "outputId": "4dcc5422-a5e5-4318-b03d-dd08f29bde5c"
      },
      "execution_count": 38,
      "outputs": [
        {
          "output_type": "stream",
          "name": "stdout",
          "text": [
            "313/313 [==============================] - 0s 1ms/step\n",
            "We're doing binary classification\n"
          ]
        },
        {
          "output_type": "display_data",
          "data": {
            "text/plain": [
              "<Figure size 640x480 with 1 Axes>"
            ],
            "image/png": "[encoded data removed]"
          },
          "metadata": {}
        }
      ]
    },
    {
      "cell_type": "markdown",
      "source": [
        "## The missing piece : Non-linearity"
      ],
      "metadata": {
        "id": "8R-_6wXwjdSU"
      }
    },
    {
      "cell_type": "code",
      "source": [
        "#Set the random seed\n",
        "tf.random.set_seed(42)\n",
        "\n",
        "#1. Create the model\n",
        "model_4=tf.keras.Sequential([\n",
        "    tf.keras.layers.Dense(1, activation=tf.keras.activations.linear)\n",
        "])\n",
        "\n",
        "#2. Comiple the model\n",
        "model_4.compile(loss=tf.keras.losses.BinaryCrossentropy(),\n",
        "                optimizer=tf.keras.optimizers.Adam(learning_rate=0.01),\n",
        "                metrics=[\"accuracy\"])\n",
        "\n",
        "history=model_4.fit(X,y,epochs=100)"
      ],
      "metadata": {
        "id": "qV9OrHuvBLZj",
        "outputId": "f3363f8f-cf4b-4ef3-8378-5584015b4ee6",
        "colab": {
          "base_uri": "https://localhost:8080/"
        }
      },
      "execution_count": 40,
      "outputs": [
        {
          "output_type": "stream",
          "name": "stdout",
          "text": [
            "Epoch 1/100\n",
            "32/32 [==============================] - 1s 2ms/step - loss: 4.1459 - accuracy: 0.4760\n",
            "Epoch 2/100\n",
            "32/32 [==============================] - 0s 2ms/step - loss: 3.0907 - accuracy: 0.4740\n",
            "Epoch 3/100\n",
            "32/32 [==============================] - 0s 2ms/step - loss: 0.7629 - accuracy: 0.4840\n",
            "Epoch 4/100\n",
            "32/32 [==============================] - 0s 2ms/step - loss: 0.6968 - accuracy: 0.4970\n",
            "Epoch 5/100\n",
            "32/32 [==============================] - 0s 2ms/step - loss: 0.6941 - accuracy: 0.4940\n",
            "Epoch 6/100\n",
            "32/32 [==============================] - 0s 2ms/step - loss: 0.6941 - accuracy: 0.4730\n",
            "Epoch 7/100\n",
            "32/32 [==============================] - 0s 2ms/step - loss: 0.6938 - accuracy: 0.5040\n",
            "Epoch 8/100\n",
            "32/32 [==============================] - 0s 2ms/step - loss: 0.6945 - accuracy: 0.4930\n",
            "Epoch 9/100\n",
            "32/32 [==============================] - 0s 3ms/step - loss: 0.6940 - accuracy: 0.4890\n",
            "Epoch 10/100\n",
            "32/32 [==============================] - 0s 4ms/step - loss: 0.6942 - accuracy: 0.4820\n",
            "Epoch 11/100\n",
            "32/32 [==============================] - 0s 3ms/step - loss: 0.6944 - accuracy: 0.4460\n",
            "Epoch 12/100\n",
            "32/32 [==============================] - 0s 3ms/step - loss: 0.6944 - accuracy: 0.4840\n",
            "Epoch 13/100\n",
            "32/32 [==============================] - 0s 3ms/step - loss: 0.6944 - accuracy: 0.4590\n",
            "Epoch 14/100\n",
            "32/32 [==============================] - 0s 3ms/step - loss: 0.6944 - accuracy: 0.5060\n",
            "Epoch 15/100\n",
            "32/32 [==============================] - 0s 3ms/step - loss: 0.6943 - accuracy: 0.4660\n",
            "Epoch 16/100\n",
            "32/32 [==============================] - 0s 3ms/step - loss: 0.6940 - accuracy: 0.5000\n",
            "Epoch 17/100\n",
            "32/32 [==============================] - 0s 4ms/step - loss: 0.6952 - accuracy: 0.4870\n",
            "Epoch 18/100\n",
            "32/32 [==============================] - 0s 3ms/step - loss: 0.6943 - accuracy: 0.4850\n",
            "Epoch 19/100\n",
            "32/32 [==============================] - 0s 3ms/step - loss: 0.6949 - accuracy: 0.5000\n",
            "Epoch 20/100\n",
            "32/32 [==============================] - 0s 3ms/step - loss: 0.6946 - accuracy: 0.4520\n",
            "Epoch 21/100\n",
            "32/32 [==============================] - 0s 3ms/step - loss: 0.6949 - accuracy: 0.4750\n",
            "Epoch 22/100\n",
            "32/32 [==============================] - 0s 3ms/step - loss: 0.6944 - accuracy: 0.4940\n",
            "Epoch 23/100\n",
            "32/32 [==============================] - 0s 3ms/step - loss: 0.6941 - accuracy: 0.4920\n",
            "Epoch 24/100\n",
            "32/32 [==============================] - 0s 3ms/step - loss: 0.6956 - accuracy: 0.4460\n",
            "Epoch 25/100\n",
            "32/32 [==============================] - 0s 3ms/step - loss: 0.6959 - accuracy: 0.4950\n",
            "Epoch 26/100\n",
            "32/32 [==============================] - 0s 3ms/step - loss: 0.6947 - accuracy: 0.4920\n",
            "Epoch 27/100\n",
            "32/32 [==============================] - 0s 3ms/step - loss: 0.6957 - accuracy: 0.4960\n",
            "Epoch 28/100\n",
            "32/32 [==============================] - 0s 3ms/step - loss: 0.6938 - accuracy: 0.4990\n",
            "Epoch 29/100\n",
            "32/32 [==============================] - 0s 3ms/step - loss: 0.6957 - accuracy: 0.4620\n",
            "Epoch 30/100\n",
            "32/32 [==============================] - 0s 4ms/step - loss: 0.6962 - accuracy: 0.4910\n",
            "Epoch 31/100\n",
            "32/32 [==============================] - 0s 4ms/step - loss: 0.6952 - accuracy: 0.5240\n",
            "Epoch 32/100\n",
            "32/32 [==============================] - 0s 3ms/step - loss: 0.6957 - accuracy: 0.4560\n",
            "Epoch 33/100\n",
            "32/32 [==============================] - 0s 3ms/step - loss: 0.6949 - accuracy: 0.4650\n",
            "Epoch 34/100\n",
            "32/32 [==============================] - 0s 3ms/step - loss: 0.6960 - accuracy: 0.4470\n",
            "Epoch 35/100\n",
            "32/32 [==============================] - 0s 2ms/step - loss: 0.6952 - accuracy: 0.5180\n",
            "Epoch 36/100\n",
            "32/32 [==============================] - 0s 2ms/step - loss: 0.6940 - accuracy: 0.4930\n",
            "Epoch 37/100\n",
            "32/32 [==============================] - 0s 2ms/step - loss: 0.6943 - accuracy: 0.5080\n",
            "Epoch 38/100\n",
            "32/32 [==============================] - 0s 2ms/step - loss: 0.6959 - accuracy: 0.4520\n",
            "Epoch 39/100\n",
            "32/32 [==============================] - 0s 2ms/step - loss: 0.6938 - accuracy: 0.4690\n",
            "Epoch 40/100\n",
            "32/32 [==============================] - 0s 2ms/step - loss: 0.6954 - accuracy: 0.5000\n",
            "Epoch 41/100\n",
            "32/32 [==============================] - 0s 3ms/step - loss: 0.6965 - accuracy: 0.4870\n",
            "Epoch 42/100\n",
            "32/32 [==============================] - 0s 2ms/step - loss: 0.6959 - accuracy: 0.4580\n",
            "Epoch 43/100\n",
            "32/32 [==============================] - 0s 2ms/step - loss: 0.6947 - accuracy: 0.5100\n",
            "Epoch 44/100\n",
            "32/32 [==============================] - 0s 2ms/step - loss: 0.6959 - accuracy: 0.4910\n",
            "Epoch 45/100\n",
            "32/32 [==============================] - 0s 2ms/step - loss: 0.6954 - accuracy: 0.5150\n",
            "Epoch 46/100\n",
            "32/32 [==============================] - 0s 2ms/step - loss: 0.6943 - accuracy: 0.4840\n",
            "Epoch 47/100\n",
            "32/32 [==============================] - 0s 2ms/step - loss: 0.6960 - accuracy: 0.4880\n",
            "Epoch 48/100\n",
            "32/32 [==============================] - 0s 2ms/step - loss: 0.6958 - accuracy: 0.4730\n",
            "Epoch 49/100\n",
            "32/32 [==============================] - 0s 2ms/step - loss: 0.6952 - accuracy: 0.4580\n",
            "Epoch 50/100\n",
            "32/32 [==============================] - 0s 2ms/step - loss: 0.6945 - accuracy: 0.4670\n",
            "Epoch 51/100\n",
            "32/32 [==============================] - 0s 2ms/step - loss: 0.6961 - accuracy: 0.4850\n",
            "Epoch 52/100\n",
            "32/32 [==============================] - 0s 2ms/step - loss: 0.6953 - accuracy: 0.5110\n",
            "Epoch 53/100\n",
            "32/32 [==============================] - 0s 2ms/step - loss: 0.6965 - accuracy: 0.4590\n",
            "Epoch 54/100\n",
            "32/32 [==============================] - 0s 2ms/step - loss: 0.6950 - accuracy: 0.5220\n",
            "Epoch 55/100\n",
            "32/32 [==============================] - 0s 2ms/step - loss: 0.6959 - accuracy: 0.5110\n",
            "Epoch 56/100\n",
            "32/32 [==============================] - 0s 2ms/step - loss: 0.6955 - accuracy: 0.4640\n",
            "Epoch 57/100\n",
            "32/32 [==============================] - 0s 2ms/step - loss: 0.6953 - accuracy: 0.4920\n",
            "Epoch 58/100\n",
            "32/32 [==============================] - 0s 2ms/step - loss: 0.6963 - accuracy: 0.4900\n",
            "Epoch 59/100\n",
            "32/32 [==============================] - 0s 2ms/step - loss: 0.6977 - accuracy: 0.5010\n",
            "Epoch 60/100\n",
            "32/32 [==============================] - 0s 2ms/step - loss: 0.6959 - accuracy: 0.4870\n",
            "Epoch 61/100\n",
            "32/32 [==============================] - 0s 2ms/step - loss: 0.6971 - accuracy: 0.4610\n",
            "Epoch 62/100\n",
            "32/32 [==============================] - 0s 2ms/step - loss: 0.6949 - accuracy: 0.5190\n",
            "Epoch 63/100\n",
            "32/32 [==============================] - 0s 2ms/step - loss: 0.6943 - accuracy: 0.4660\n",
            "Epoch 64/100\n",
            "32/32 [==============================] - 0s 2ms/step - loss: 0.6956 - accuracy: 0.4910\n",
            "Epoch 65/100\n",
            "32/32 [==============================] - 0s 2ms/step - loss: 0.6957 - accuracy: 0.4590\n",
            "Epoch 66/100\n",
            "32/32 [==============================] - 0s 2ms/step - loss: 0.6947 - accuracy: 0.4910\n",
            "Epoch 67/100\n",
            "32/32 [==============================] - 0s 2ms/step - loss: 0.6956 - accuracy: 0.4820\n",
            "Epoch 68/100\n",
            "32/32 [==============================] - 0s 2ms/step - loss: 0.6949 - accuracy: 0.5050\n",
            "Epoch 69/100\n",
            "32/32 [==============================] - 0s 2ms/step - loss: 0.6944 - accuracy: 0.5380\n",
            "Epoch 70/100\n",
            "32/32 [==============================] - 0s 2ms/step - loss: 0.6953 - accuracy: 0.4770\n",
            "Epoch 71/100\n",
            "32/32 [==============================] - 0s 2ms/step - loss: 0.6942 - accuracy: 0.4720\n",
            "Epoch 72/100\n",
            "32/32 [==============================] - 0s 2ms/step - loss: 0.6953 - accuracy: 0.5060\n",
            "Epoch 73/100\n",
            "32/32 [==============================] - 0s 2ms/step - loss: 0.6955 - accuracy: 0.4790\n",
            "Epoch 74/100\n",
            "32/32 [==============================] - 0s 2ms/step - loss: 0.6950 - accuracy: 0.4990\n",
            "Epoch 75/100\n",
            "32/32 [==============================] - 0s 2ms/step - loss: 0.6957 - accuracy: 0.4880\n",
            "Epoch 76/100\n",
            "32/32 [==============================] - 0s 2ms/step - loss: 0.6953 - accuracy: 0.4970\n",
            "Epoch 77/100\n",
            "32/32 [==============================] - 0s 2ms/step - loss: 0.6960 - accuracy: 0.5050\n",
            "Epoch 78/100\n",
            "32/32 [==============================] - 0s 2ms/step - loss: 0.6956 - accuracy: 0.4800\n",
            "Epoch 79/100\n",
            "32/32 [==============================] - 0s 2ms/step - loss: 0.6975 - accuracy: 0.4660\n",
            "Epoch 80/100\n",
            "32/32 [==============================] - 0s 2ms/step - loss: 0.6949 - accuracy: 0.5110\n",
            "Epoch 81/100\n",
            "32/32 [==============================] - 0s 2ms/step - loss: 0.6963 - accuracy: 0.4950\n",
            "Epoch 82/100\n",
            "32/32 [==============================] - 0s 2ms/step - loss: 0.6962 - accuracy: 0.4760\n",
            "Epoch 83/100\n",
            "32/32 [==============================] - 0s 2ms/step - loss: 0.6950 - accuracy: 0.4900\n",
            "Epoch 84/100\n",
            "32/32 [==============================] - 0s 2ms/step - loss: 0.6947 - accuracy: 0.5120\n",
            "Epoch 85/100\n",
            "32/32 [==============================] - 0s 2ms/step - loss: 0.6946 - accuracy: 0.4630\n",
            "Epoch 86/100\n",
            "32/32 [==============================] - 0s 2ms/step - loss: 0.6961 - accuracy: 0.5030\n",
            "Epoch 87/100\n",
            "32/32 [==============================] - 0s 2ms/step - loss: 0.6950 - accuracy: 0.4320\n",
            "Epoch 88/100\n",
            "32/32 [==============================] - 0s 2ms/step - loss: 0.6951 - accuracy: 0.4650\n",
            "Epoch 89/100\n",
            "32/32 [==============================] - 0s 2ms/step - loss: 0.6954 - accuracy: 0.4760\n",
            "Epoch 90/100\n",
            "32/32 [==============================] - 0s 2ms/step - loss: 0.6966 - accuracy: 0.4850\n",
            "Epoch 91/100\n",
            "32/32 [==============================] - 0s 2ms/step - loss: 0.6954 - accuracy: 0.4930\n",
            "Epoch 92/100\n",
            "32/32 [==============================] - 0s 2ms/step - loss: 0.6953 - accuracy: 0.4940\n",
            "Epoch 93/100\n",
            "32/32 [==============================] - 0s 2ms/step - loss: 0.6973 - accuracy: 0.4560\n",
            "Epoch 94/100\n",
            "32/32 [==============================] - 0s 2ms/step - loss: 0.6956 - accuracy: 0.5090\n",
            "Epoch 95/100\n",
            "32/32 [==============================] - 0s 2ms/step - loss: 0.6956 - accuracy: 0.4660\n",
            "Epoch 96/100\n",
            "32/32 [==============================] - 0s 2ms/step - loss: 0.6957 - accuracy: 0.4820\n",
            "Epoch 97/100\n",
            "32/32 [==============================] - 0s 2ms/step - loss: 0.6952 - accuracy: 0.4780\n",
            "Epoch 98/100\n",
            "32/32 [==============================] - 0s 2ms/step - loss: 0.6956 - accuracy: 0.4800\n",
            "Epoch 99/100\n",
            "32/32 [==============================] - 0s 2ms/step - loss: 0.6964 - accuracy: 0.5050\n",
            "Epoch 100/100\n",
            "32/32 [==============================] - 0s 2ms/step - loss: 0.6962 - accuracy: 0.4660\n"
          ]
        }
      ]
    },
    {
      "cell_type": "code",
      "source": [
        "#Check the Decision \n",
        "plot_decision_boundary(model_4,X,y)"
      ],
      "metadata": {
        "id": "R2XqUog5B6zS",
        "outputId": "97015092-a92a-4a98-c3d9-959bf59eaa2a",
        "colab": {
          "base_uri": "https://localhost:8080/",
          "height": 465
        }
      },
      "execution_count": 42,
      "outputs": [
        {
          "output_type": "stream",
          "name": "stdout",
          "text": [
            "313/313 [==============================] - 1s 2ms/step\n",
            "We're doing binary classification\n"
          ]
        },
        {
          "output_type": "display_data",
          "data": {
            "text/plain": [
              "<Figure size 640x480 with 1 Axes>"
            ],
            "image/png": "[encoded data removed]"
          },
          "metadata": {}
        }
      ]
    },
    {
      "cell_type": "markdown",
      "source": [
        "Let's try building our first Neural network with a non-linear activation functionmm"
      ],
      "metadata": {
        "id": "tVTM0OAiEIRq"
      }
    },
    {
      "cell_type": "code",
      "source": [
        "tf.random.set_seed(42)\n",
        "\n",
        "#1. Create a model with a non-linear activation function\n",
        "model_5=tf.keras.Sequential([\n",
        "    tf.keras.layers.Dense(1,activation='relu')\n",
        "])\n",
        "\n",
        "model_5.compile(loss=tf.keras.losses.BinaryCrossentropy(),\n",
        "                optimizer=tf.keras.optimizers.Adam(learning_rate=0.001),\n",
        "                metrics=[\"accuracy\"])\n",
        "\n",
        "history=model_5.fit(X,y,epochs=100)"
      ],
      "metadata": {
        "id": "fWYDZ6eKH2zA",
        "outputId": "a15fca8c-0983-40ea-ba7c-aa670aa1530b",
        "colab": {
          "base_uri": "https://localhost:8080/"
        }
      },
      "execution_count": 44,
      "outputs": [
        {
          "output_type": "stream",
          "name": "stdout",
          "text": [
            "Epoch 1/100\n",
            "32/32 [==============================] - 1s 7ms/step - loss: 6.0435 - accuracy: 0.4890\n",
            "Epoch 2/100\n",
            "32/32 [==============================] - 0s 6ms/step - loss: 6.0185 - accuracy: 0.4880\n",
            "Epoch 3/100\n",
            "32/32 [==============================] - 0s 7ms/step - loss: 5.9671 - accuracy: 0.4890\n",
            "Epoch 4/100\n",
            "32/32 [==============================] - 0s 6ms/step - loss: 5.9523 - accuracy: 0.4880\n",
            "Epoch 5/100\n",
            "32/32 [==============================] - 0s 6ms/step - loss: 5.9490 - accuracy: 0.4880\n",
            "Epoch 6/100\n",
            "32/32 [==============================] - 0s 6ms/step - loss: 5.9469 - accuracy: 0.4880\n",
            "Epoch 7/100\n",
            "32/32 [==============================] - 0s 6ms/step - loss: 5.9455 - accuracy: 0.4880\n",
            "Epoch 8/100\n",
            "32/32 [==============================] - 0s 6ms/step - loss: 5.9437 - accuracy: 0.4880\n",
            "Epoch 9/100\n",
            "32/32 [==============================] - 0s 6ms/step - loss: 5.9422 - accuracy: 0.4880\n",
            "Epoch 10/100\n",
            "32/32 [==============================] - 0s 7ms/step - loss: 5.9408 - accuracy: 0.4880\n",
            "Epoch 11/100\n",
            "32/32 [==============================] - 0s 6ms/step - loss: 5.9309 - accuracy: 0.4880\n",
            "Epoch 12/100\n",
            "32/32 [==============================] - 0s 5ms/step - loss: 5.9271 - accuracy: 0.4880\n",
            "Epoch 13/100\n",
            "32/32 [==============================] - 0s 4ms/step - loss: 5.9257 - accuracy: 0.4880\n",
            "Epoch 14/100\n",
            "32/32 [==============================] - 0s 3ms/step - loss: 5.9245 - accuracy: 0.4880\n",
            "Epoch 15/100\n",
            "32/32 [==============================] - 0s 4ms/step - loss: 5.9234 - accuracy: 0.4880\n",
            "Epoch 16/100\n",
            "32/32 [==============================] - 0s 3ms/step - loss: 5.9221 - accuracy: 0.4880\n",
            "Epoch 17/100\n",
            "32/32 [==============================] - 0s 3ms/step - loss: 5.9210 - accuracy: 0.4880\n",
            "Epoch 18/100\n",
            "32/32 [==============================] - 0s 2ms/step - loss: 5.9117 - accuracy: 0.4880\n",
            "Epoch 19/100\n",
            "32/32 [==============================] - 0s 2ms/step - loss: 5.8904 - accuracy: 0.4890\n",
            "Epoch 20/100\n",
            "32/32 [==============================] - 0s 2ms/step - loss: 5.8736 - accuracy: 0.4890\n",
            "Epoch 21/100\n",
            "32/32 [==============================] - 0s 2ms/step - loss: 5.8517 - accuracy: 0.4890\n",
            "Epoch 22/100\n",
            "32/32 [==============================] - 0s 2ms/step - loss: 5.8479 - accuracy: 0.4890\n",
            "Epoch 23/100\n",
            "32/32 [==============================] - 0s 2ms/step - loss: 5.8456 - accuracy: 0.4890\n",
            "Epoch 24/100\n",
            "32/32 [==============================] - 0s 2ms/step - loss: 5.8436 - accuracy: 0.4890\n",
            "Epoch 25/100\n",
            "32/32 [==============================] - 0s 2ms/step - loss: 5.8423 - accuracy: 0.4890\n",
            "Epoch 26/100\n",
            "32/32 [==============================] - 0s 2ms/step - loss: 5.8405 - accuracy: 0.4890\n",
            "Epoch 27/100\n",
            "32/32 [==============================] - 0s 2ms/step - loss: 5.8322 - accuracy: 0.4890\n",
            "Epoch 28/100\n",
            "32/32 [==============================] - 0s 2ms/step - loss: 5.8271 - accuracy: 0.4890\n",
            "Epoch 29/100\n",
            "32/32 [==============================] - 0s 2ms/step - loss: 5.8267 - accuracy: 0.4900\n",
            "Epoch 30/100\n",
            "32/32 [==============================] - 0s 2ms/step - loss: 5.8131 - accuracy: 0.4880\n",
            "Epoch 31/100\n",
            "32/32 [==============================] - 0s 2ms/step - loss: 5.8108 - accuracy: 0.4880\n",
            "Epoch 32/100\n",
            "32/32 [==============================] - 0s 2ms/step - loss: 5.8090 - accuracy: 0.4880\n",
            "Epoch 33/100\n",
            "32/32 [==============================] - 0s 2ms/step - loss: 5.8076 - accuracy: 0.4880\n",
            "Epoch 34/100\n",
            "32/32 [==============================] - 0s 2ms/step - loss: 5.8065 - accuracy: 0.4880\n",
            "Epoch 35/100\n",
            "32/32 [==============================] - 0s 2ms/step - loss: 5.8055 - accuracy: 0.4880\n",
            "Epoch 36/100\n",
            "32/32 [==============================] - 0s 2ms/step - loss: 5.8044 - accuracy: 0.4880\n",
            "Epoch 37/100\n",
            "32/32 [==============================] - 0s 2ms/step - loss: 5.8035 - accuracy: 0.4880\n",
            "Epoch 38/100\n",
            "32/32 [==============================] - 0s 2ms/step - loss: 5.8025 - accuracy: 0.4880\n",
            "Epoch 39/100\n",
            "32/32 [==============================] - 0s 2ms/step - loss: 5.8017 - accuracy: 0.4890\n",
            "Epoch 40/100\n",
            "32/32 [==============================] - 0s 2ms/step - loss: 5.7820 - accuracy: 0.4910\n",
            "Epoch 41/100\n",
            "32/32 [==============================] - 0s 2ms/step - loss: 5.7143 - accuracy: 0.4870\n",
            "Epoch 42/100\n",
            "32/32 [==============================] - 0s 2ms/step - loss: 5.7119 - accuracy: 0.4870\n",
            "Epoch 43/100\n",
            "32/32 [==============================] - 0s 2ms/step - loss: 5.7098 - accuracy: 0.4860\n",
            "Epoch 44/100\n",
            "32/32 [==============================] - 0s 3ms/step - loss: 5.6989 - accuracy: 0.4860\n",
            "Epoch 45/100\n",
            "32/32 [==============================] - 0s 2ms/step - loss: 5.6769 - accuracy: 0.4860\n",
            "Epoch 46/100\n",
            "32/32 [==============================] - 0s 2ms/step - loss: 5.6724 - accuracy: 0.4860\n",
            "Epoch 47/100\n",
            "32/32 [==============================] - 0s 2ms/step - loss: 5.6708 - accuracy: 0.4860\n",
            "Epoch 48/100\n",
            "32/32 [==============================] - 0s 2ms/step - loss: 5.6690 - accuracy: 0.4860\n",
            "Epoch 49/100\n",
            "32/32 [==============================] - 0s 2ms/step - loss: 5.6674 - accuracy: 0.4860\n",
            "Epoch 50/100\n",
            "32/32 [==============================] - 0s 2ms/step - loss: 5.6662 - accuracy: 0.4860\n",
            "Epoch 51/100\n",
            "32/32 [==============================] - 0s 2ms/step - loss: 5.6647 - accuracy: 0.4860\n",
            "Epoch 52/100\n",
            "32/32 [==============================] - 0s 2ms/step - loss: 5.6551 - accuracy: 0.4860\n",
            "Epoch 53/100\n",
            "32/32 [==============================] - 0s 2ms/step - loss: 5.6308 - accuracy: 0.4840\n",
            "Epoch 54/100\n",
            "32/32 [==============================] - 0s 2ms/step - loss: 5.6190 - accuracy: 0.4840\n",
            "Epoch 55/100\n",
            "32/32 [==============================] - 0s 2ms/step - loss: 5.5896 - accuracy: 0.4810\n",
            "Epoch 56/100\n",
            "32/32 [==============================] - 0s 2ms/step - loss: 5.5410 - accuracy: 0.4810\n",
            "Epoch 57/100\n",
            "32/32 [==============================] - 0s 2ms/step - loss: 5.4445 - accuracy: 0.4760\n",
            "Epoch 58/100\n",
            "32/32 [==============================] - 0s 2ms/step - loss: 5.4261 - accuracy: 0.4750\n",
            "Epoch 59/100\n",
            "32/32 [==============================] - 0s 2ms/step - loss: 5.4211 - accuracy: 0.4760\n",
            "Epoch 60/100\n",
            "32/32 [==============================] - 0s 2ms/step - loss: 5.4100 - accuracy: 0.4760\n",
            "Epoch 61/100\n",
            "32/32 [==============================] - 0s 2ms/step - loss: 5.3924 - accuracy: 0.4750\n",
            "Epoch 62/100\n",
            "32/32 [==============================] - 0s 2ms/step - loss: 5.3791 - accuracy: 0.4750\n",
            "Epoch 63/100\n",
            "32/32 [==============================] - 0s 4ms/step - loss: 5.3669 - accuracy: 0.4760\n",
            "Epoch 64/100\n",
            "32/32 [==============================] - 0s 6ms/step - loss: 5.2738 - accuracy: 0.4750\n",
            "Epoch 65/100\n",
            "32/32 [==============================] - 0s 7ms/step - loss: 5.2463 - accuracy: 0.4730\n",
            "Epoch 66/100\n",
            "32/32 [==============================] - 0s 12ms/step - loss: 5.0620 - accuracy: 0.4760\n",
            "Epoch 67/100\n",
            "32/32 [==============================] - 0s 7ms/step - loss: 4.7970 - accuracy: 0.4780\n",
            "Epoch 68/100\n",
            "32/32 [==============================] - 0s 3ms/step - loss: 4.5398 - accuracy: 0.4750\n",
            "Epoch 69/100\n",
            "32/32 [==============================] - 0s 6ms/step - loss: 4.5380 - accuracy: 0.4720\n",
            "Epoch 70/100\n",
            "32/32 [==============================] - 0s 3ms/step - loss: 4.5376 - accuracy: 0.4720\n",
            "Epoch 71/100\n",
            "32/32 [==============================] - 0s 2ms/step - loss: 4.5374 - accuracy: 0.4720\n",
            "Epoch 72/100\n",
            "32/32 [==============================] - 0s 2ms/step - loss: 4.5373 - accuracy: 0.4720\n",
            "Epoch 73/100\n",
            "32/32 [==============================] - 0s 2ms/step - loss: 4.5372 - accuracy: 0.4720\n",
            "Epoch 74/100\n",
            "32/32 [==============================] - 0s 2ms/step - loss: 4.5370 - accuracy: 0.4720\n",
            "Epoch 75/100\n",
            "32/32 [==============================] - 0s 2ms/step - loss: 4.5369 - accuracy: 0.4720\n",
            "Epoch 76/100\n",
            "32/32 [==============================] - 0s 2ms/step - loss: 4.5368 - accuracy: 0.4720\n",
            "Epoch 77/100\n",
            "32/32 [==============================] - 0s 2ms/step - loss: 4.5366 - accuracy: 0.4720\n",
            "Epoch 78/100\n",
            "32/32 [==============================] - 0s 2ms/step - loss: 4.5365 - accuracy: 0.4720\n",
            "Epoch 79/100\n",
            "32/32 [==============================] - 0s 2ms/step - loss: 4.5364 - accuracy: 0.4720\n",
            "Epoch 80/100\n",
            "32/32 [==============================] - 0s 2ms/step - loss: 4.5362 - accuracy: 0.4720\n",
            "Epoch 81/100\n",
            "32/32 [==============================] - 0s 2ms/step - loss: 4.5361 - accuracy: 0.4720\n",
            "Epoch 82/100\n",
            "32/32 [==============================] - 0s 2ms/step - loss: 4.5360 - accuracy: 0.4720\n",
            "Epoch 83/100\n",
            "32/32 [==============================] - 0s 2ms/step - loss: 4.5358 - accuracy: 0.4720\n",
            "Epoch 84/100\n",
            "32/32 [==============================] - 0s 2ms/step - loss: 4.5357 - accuracy: 0.4720\n",
            "Epoch 85/100\n",
            "32/32 [==============================] - 0s 2ms/step - loss: 4.5355 - accuracy: 0.4720\n",
            "Epoch 86/100\n",
            "32/32 [==============================] - 0s 3ms/step - loss: 4.5354 - accuracy: 0.4720\n",
            "Epoch 87/100\n",
            "32/32 [==============================] - 0s 2ms/step - loss: 4.5352 - accuracy: 0.4720\n",
            "Epoch 88/100\n",
            "32/32 [==============================] - 0s 2ms/step - loss: 4.5351 - accuracy: 0.4720\n",
            "Epoch 89/100\n",
            "32/32 [==============================] - 0s 2ms/step - loss: 4.5349 - accuracy: 0.4720\n",
            "Epoch 90/100\n",
            "32/32 [==============================] - 0s 2ms/step - loss: 4.5347 - accuracy: 0.4720\n",
            "Epoch 91/100\n",
            "32/32 [==============================] - 0s 2ms/step - loss: 4.5346 - accuracy: 0.4720\n",
            "Epoch 92/100\n",
            "32/32 [==============================] - 0s 2ms/step - loss: 4.5344 - accuracy: 0.4720\n",
            "Epoch 93/100\n",
            "32/32 [==============================] - 0s 2ms/step - loss: 4.5343 - accuracy: 0.4720\n",
            "Epoch 94/100\n",
            "32/32 [==============================] - 0s 2ms/step - loss: 4.5341 - accuracy: 0.4720\n",
            "Epoch 95/100\n",
            "32/32 [==============================] - 0s 2ms/step - loss: 4.5339 - accuracy: 0.4720\n",
            "Epoch 96/100\n",
            "32/32 [==============================] - 0s 2ms/step - loss: 4.5338 - accuracy: 0.4720\n",
            "Epoch 97/100\n",
            "32/32 [==============================] - 0s 2ms/step - loss: 4.5336 - accuracy: 0.4720\n",
            "Epoch 98/100\n",
            "32/32 [==============================] - 0s 2ms/step - loss: 4.5334 - accuracy: 0.4720\n",
            "Epoch 99/100\n",
            "32/32 [==============================] - 0s 2ms/step - loss: 4.5333 - accuracy: 0.4720\n",
            "Epoch 100/100\n",
            "32/32 [==============================] - 0s 2ms/step - loss: 4.5331 - accuracy: 0.4720\n"
          ]
        }
      ]
    },
    {
      "cell_type": "code",
      "source": [],
      "metadata": {
        "id": "meQh18oWItw9"
      },
      "execution_count": null,
      "outputs": []
    }
  ]
}